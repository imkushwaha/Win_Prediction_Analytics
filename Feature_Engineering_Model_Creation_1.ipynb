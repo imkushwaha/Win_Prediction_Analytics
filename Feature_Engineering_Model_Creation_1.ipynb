{
 "cells": [
  {
   "cell_type": "markdown",
   "metadata": {},
   "source": [
    "## First Approach"
   ]
  },
  {
   "cell_type": "code",
   "execution_count": 1,
   "metadata": {},
   "outputs": [],
   "source": [
    "import pandas as pd\n",
    "import numpy as np\n",
    "import os as os"
   ]
  },
  {
   "cell_type": "code",
   "execution_count": 2,
   "metadata": {},
   "outputs": [
    {
     "data": {
      "text/plain": [
       "'G:\\\\PythonDir2\\\\Capstone Project-Group5'"
      ]
     },
     "execution_count": 2,
     "metadata": {},
     "output_type": "execute_result"
    }
   ],
   "source": [
    "os.getcwd()"
   ]
  },
  {
   "cell_type": "code",
   "execution_count": 3,
   "metadata": {},
   "outputs": [
    {
     "data": {
      "text/plain": [
       "['.ipynb_checkpoints',\n",
       " '.Rhistory',\n",
       " 'BankCreditPrediction.ipynb',\n",
       " 'checking_data.csv',\n",
       " 'DataDictionary-Win_Prediction.xlsx',\n",
       " 'Excel_Work',\n",
       " 'Win Prediction Analytics.pdf',\n",
       " 'Win_Prediction_Data.csv',\n",
       " 'Win_Prediction_Data.xlsx',\n",
       " 'Win_Prediction_EDA.ipynb',\n",
       " 'Win_Prediction_Feature_Engineering.ipynb',\n",
       " 'Win_Prediction_Feature_Engineering2.ipynb']"
      ]
     },
     "execution_count": 3,
     "metadata": {},
     "output_type": "execute_result"
    }
   ],
   "source": [
    "os.listdir()"
   ]
  },
  {
   "cell_type": "code",
   "execution_count": 4,
   "metadata": {},
   "outputs": [],
   "source": [
    "data = pd.read_csv(\"checking_data.csv\")"
   ]
  },
  {
   "cell_type": "code",
   "execution_count": 5,
   "metadata": {},
   "outputs": [
    {
     "data": {
      "text/html": [
       "<div>\n",
       "<style scoped>\n",
       "    .dataframe tbody tr th:only-of-type {\n",
       "        vertical-align: middle;\n",
       "    }\n",
       "\n",
       "    .dataframe tbody tr th {\n",
       "        vertical-align: top;\n",
       "    }\n",
       "\n",
       "    .dataframe thead th {\n",
       "        text-align: right;\n",
       "    }\n",
       "</style>\n",
       "<table border=\"1\" class=\"dataframe\">\n",
       "  <thead>\n",
       "    <tr style=\"text-align: right;\">\n",
       "      <th></th>\n",
       "      <th>Client Category</th>\n",
       "      <th>Solution Type</th>\n",
       "      <th>Sector</th>\n",
       "      <th>Location</th>\n",
       "      <th>VP Name</th>\n",
       "      <th>Manager Name</th>\n",
       "      <th>Deal_Cost</th>\n",
       "      <th>Deal_Status</th>\n",
       "      <th>Deal Year</th>\n",
       "    </tr>\n",
       "  </thead>\n",
       "  <tbody>\n",
       "    <tr>\n",
       "      <th>0</th>\n",
       "      <td>Telecom</td>\n",
       "      <td>Solution 7</td>\n",
       "      <td>Sector 24</td>\n",
       "      <td>L5</td>\n",
       "      <td>Ekta Zutshi</td>\n",
       "      <td>Gopa Trilochana</td>\n",
       "      <td>150000.00</td>\n",
       "      <td>1</td>\n",
       "      <td>2012</td>\n",
       "    </tr>\n",
       "    <tr>\n",
       "      <th>1</th>\n",
       "      <td>Telecom</td>\n",
       "      <td>Solution 7</td>\n",
       "      <td>Sector 24</td>\n",
       "      <td>L5</td>\n",
       "      <td>Ekta Zutshi</td>\n",
       "      <td>Gopa Trilochana</td>\n",
       "      <td>744705.88</td>\n",
       "      <td>1</td>\n",
       "      <td>2012</td>\n",
       "    </tr>\n",
       "    <tr>\n",
       "      <th>2</th>\n",
       "      <td>Internal</td>\n",
       "      <td>Solution 59</td>\n",
       "      <td>Sector 20</td>\n",
       "      <td>Others</td>\n",
       "      <td>Ekta Zutshi</td>\n",
       "      <td>Russell Dahlen</td>\n",
       "      <td>60000.00</td>\n",
       "      <td>0</td>\n",
       "      <td>2011</td>\n",
       "    </tr>\n",
       "    <tr>\n",
       "      <th>3</th>\n",
       "      <td>Internal</td>\n",
       "      <td>Solution 59</td>\n",
       "      <td>Sector 20</td>\n",
       "      <td>Others</td>\n",
       "      <td>Ekta Zutshi</td>\n",
       "      <td>Russell Dahlen</td>\n",
       "      <td>60000.00</td>\n",
       "      <td>0</td>\n",
       "      <td>2011</td>\n",
       "    </tr>\n",
       "    <tr>\n",
       "      <th>4</th>\n",
       "      <td>Internal</td>\n",
       "      <td>Solution 32</td>\n",
       "      <td>Sector 20</td>\n",
       "      <td>Others</td>\n",
       "      <td>Ekta Zutshi</td>\n",
       "      <td>Russell Dahlen</td>\n",
       "      <td>80882.35</td>\n",
       "      <td>0</td>\n",
       "      <td>2011</td>\n",
       "    </tr>\n",
       "  </tbody>\n",
       "</table>\n",
       "</div>"
      ],
      "text/plain": [
       "  Client Category Solution Type     Sector Location      VP Name  \\\n",
       "0         Telecom    Solution 7  Sector 24       L5  Ekta Zutshi   \n",
       "1         Telecom    Solution 7  Sector 24       L5  Ekta Zutshi   \n",
       "2        Internal   Solution 59  Sector 20   Others  Ekta Zutshi   \n",
       "3        Internal   Solution 59  Sector 20   Others  Ekta Zutshi   \n",
       "4        Internal   Solution 32  Sector 20   Others  Ekta Zutshi   \n",
       "\n",
       "      Manager Name  Deal_Cost  Deal_Status  Deal Year  \n",
       "0  Gopa Trilochana  150000.00            1       2012  \n",
       "1  Gopa Trilochana  744705.88            1       2012  \n",
       "2   Russell Dahlen   60000.00            0       2011  \n",
       "3   Russell Dahlen   60000.00            0       2011  \n",
       "4   Russell Dahlen   80882.35            0       2011  "
      ]
     },
     "execution_count": 5,
     "metadata": {},
     "output_type": "execute_result"
    }
   ],
   "source": [
    "data.head()"
   ]
  },
  {
   "cell_type": "code",
   "execution_count": 6,
   "metadata": {},
   "outputs": [],
   "source": [
    "data.drop(\"Deal Year\", axis = 1, inplace = True)"
   ]
  },
  {
   "cell_type": "code",
   "execution_count": 7,
   "metadata": {},
   "outputs": [],
   "source": [
    "x = data.drop(\"Deal_Status\", axis = 1) #Input features"
   ]
  },
  {
   "cell_type": "code",
   "execution_count": 8,
   "metadata": {},
   "outputs": [],
   "source": [
    "y = data[\"Deal_Status\"] #Output features"
   ]
  },
  {
   "cell_type": "code",
   "execution_count": 9,
   "metadata": {},
   "outputs": [],
   "source": [
    "x_dummy = pd.get_dummies(x, drop_first = True)"
   ]
  },
  {
   "cell_type": "code",
   "execution_count": 10,
   "metadata": {},
   "outputs": [
    {
     "data": {
      "text/html": [
       "<div>\n",
       "<style scoped>\n",
       "    .dataframe tbody tr th:only-of-type {\n",
       "        vertical-align: middle;\n",
       "    }\n",
       "\n",
       "    .dataframe tbody tr th {\n",
       "        vertical-align: top;\n",
       "    }\n",
       "\n",
       "    .dataframe thead th {\n",
       "        text-align: right;\n",
       "    }\n",
       "</style>\n",
       "<table border=\"1\" class=\"dataframe\">\n",
       "  <thead>\n",
       "    <tr style=\"text-align: right;\">\n",
       "      <th></th>\n",
       "      <th>Deal_Cost</th>\n",
       "      <th>Client Category_Automobiles</th>\n",
       "      <th>Client Category_Consulting</th>\n",
       "      <th>Client Category_Consumer Good</th>\n",
       "      <th>Client Category_Domestic Bank</th>\n",
       "      <th>Client Category_Domestic Private Bank</th>\n",
       "      <th>Client Category_Domestic Public Bank</th>\n",
       "      <th>Client Category_Electronics</th>\n",
       "      <th>Client Category_Energy</th>\n",
       "      <th>Client Category_Energy</th>\n",
       "      <th>...</th>\n",
       "      <th>Manager Name_shafibul</th>\n",
       "      <th>Manager Name_sharat chandran</th>\n",
       "      <th>Manager Name_sheak shakir</th>\n",
       "      <th>Manager Name_shiv kumar</th>\n",
       "      <th>Manager Name_shiv shakti singh</th>\n",
       "      <th>Manager Name_shyam kumar</th>\n",
       "      <th>Manager Name_som dutt</th>\n",
       "      <th>Manager Name_sunder paal</th>\n",
       "      <th>Manager Name_vansu dev</th>\n",
       "      <th>Manager Name_vinit katariya</th>\n",
       "    </tr>\n",
       "  </thead>\n",
       "  <tbody>\n",
       "    <tr>\n",
       "      <th>0</th>\n",
       "      <td>150000.00</td>\n",
       "      <td>0</td>\n",
       "      <td>0</td>\n",
       "      <td>0</td>\n",
       "      <td>0</td>\n",
       "      <td>0</td>\n",
       "      <td>0</td>\n",
       "      <td>0</td>\n",
       "      <td>0</td>\n",
       "      <td>0</td>\n",
       "      <td>...</td>\n",
       "      <td>0</td>\n",
       "      <td>0</td>\n",
       "      <td>0</td>\n",
       "      <td>0</td>\n",
       "      <td>0</td>\n",
       "      <td>0</td>\n",
       "      <td>0</td>\n",
       "      <td>0</td>\n",
       "      <td>0</td>\n",
       "      <td>0</td>\n",
       "    </tr>\n",
       "    <tr>\n",
       "      <th>1</th>\n",
       "      <td>744705.88</td>\n",
       "      <td>0</td>\n",
       "      <td>0</td>\n",
       "      <td>0</td>\n",
       "      <td>0</td>\n",
       "      <td>0</td>\n",
       "      <td>0</td>\n",
       "      <td>0</td>\n",
       "      <td>0</td>\n",
       "      <td>0</td>\n",
       "      <td>...</td>\n",
       "      <td>0</td>\n",
       "      <td>0</td>\n",
       "      <td>0</td>\n",
       "      <td>0</td>\n",
       "      <td>0</td>\n",
       "      <td>0</td>\n",
       "      <td>0</td>\n",
       "      <td>0</td>\n",
       "      <td>0</td>\n",
       "      <td>0</td>\n",
       "    </tr>\n",
       "    <tr>\n",
       "      <th>2</th>\n",
       "      <td>60000.00</td>\n",
       "      <td>0</td>\n",
       "      <td>0</td>\n",
       "      <td>0</td>\n",
       "      <td>0</td>\n",
       "      <td>0</td>\n",
       "      <td>0</td>\n",
       "      <td>0</td>\n",
       "      <td>0</td>\n",
       "      <td>0</td>\n",
       "      <td>...</td>\n",
       "      <td>0</td>\n",
       "      <td>0</td>\n",
       "      <td>0</td>\n",
       "      <td>0</td>\n",
       "      <td>0</td>\n",
       "      <td>0</td>\n",
       "      <td>0</td>\n",
       "      <td>0</td>\n",
       "      <td>0</td>\n",
       "      <td>0</td>\n",
       "    </tr>\n",
       "    <tr>\n",
       "      <th>3</th>\n",
       "      <td>60000.00</td>\n",
       "      <td>0</td>\n",
       "      <td>0</td>\n",
       "      <td>0</td>\n",
       "      <td>0</td>\n",
       "      <td>0</td>\n",
       "      <td>0</td>\n",
       "      <td>0</td>\n",
       "      <td>0</td>\n",
       "      <td>0</td>\n",
       "      <td>...</td>\n",
       "      <td>0</td>\n",
       "      <td>0</td>\n",
       "      <td>0</td>\n",
       "      <td>0</td>\n",
       "      <td>0</td>\n",
       "      <td>0</td>\n",
       "      <td>0</td>\n",
       "      <td>0</td>\n",
       "      <td>0</td>\n",
       "      <td>0</td>\n",
       "    </tr>\n",
       "    <tr>\n",
       "      <th>4</th>\n",
       "      <td>80882.35</td>\n",
       "      <td>0</td>\n",
       "      <td>0</td>\n",
       "      <td>0</td>\n",
       "      <td>0</td>\n",
       "      <td>0</td>\n",
       "      <td>0</td>\n",
       "      <td>0</td>\n",
       "      <td>0</td>\n",
       "      <td>0</td>\n",
       "      <td>...</td>\n",
       "      <td>0</td>\n",
       "      <td>0</td>\n",
       "      <td>0</td>\n",
       "      <td>0</td>\n",
       "      <td>0</td>\n",
       "      <td>0</td>\n",
       "      <td>0</td>\n",
       "      <td>0</td>\n",
       "      <td>0</td>\n",
       "      <td>0</td>\n",
       "    </tr>\n",
       "    <tr>\n",
       "      <th>...</th>\n",
       "      <td>...</td>\n",
       "      <td>...</td>\n",
       "      <td>...</td>\n",
       "      <td>...</td>\n",
       "      <td>...</td>\n",
       "      <td>...</td>\n",
       "      <td>...</td>\n",
       "      <td>...</td>\n",
       "      <td>...</td>\n",
       "      <td>...</td>\n",
       "      <td>...</td>\n",
       "      <td>...</td>\n",
       "      <td>...</td>\n",
       "      <td>...</td>\n",
       "      <td>...</td>\n",
       "      <td>...</td>\n",
       "      <td>...</td>\n",
       "      <td>...</td>\n",
       "      <td>...</td>\n",
       "      <td>...</td>\n",
       "      <td>...</td>\n",
       "    </tr>\n",
       "    <tr>\n",
       "      <th>10056</th>\n",
       "      <td>588235.29</td>\n",
       "      <td>0</td>\n",
       "      <td>0</td>\n",
       "      <td>0</td>\n",
       "      <td>0</td>\n",
       "      <td>0</td>\n",
       "      <td>0</td>\n",
       "      <td>0</td>\n",
       "      <td>0</td>\n",
       "      <td>0</td>\n",
       "      <td>...</td>\n",
       "      <td>0</td>\n",
       "      <td>0</td>\n",
       "      <td>0</td>\n",
       "      <td>0</td>\n",
       "      <td>0</td>\n",
       "      <td>0</td>\n",
       "      <td>0</td>\n",
       "      <td>0</td>\n",
       "      <td>0</td>\n",
       "      <td>0</td>\n",
       "    </tr>\n",
       "    <tr>\n",
       "      <th>10057</th>\n",
       "      <td>777058.82</td>\n",
       "      <td>0</td>\n",
       "      <td>0</td>\n",
       "      <td>0</td>\n",
       "      <td>0</td>\n",
       "      <td>0</td>\n",
       "      <td>0</td>\n",
       "      <td>0</td>\n",
       "      <td>0</td>\n",
       "      <td>0</td>\n",
       "      <td>...</td>\n",
       "      <td>0</td>\n",
       "      <td>0</td>\n",
       "      <td>0</td>\n",
       "      <td>0</td>\n",
       "      <td>0</td>\n",
       "      <td>0</td>\n",
       "      <td>0</td>\n",
       "      <td>0</td>\n",
       "      <td>0</td>\n",
       "      <td>0</td>\n",
       "    </tr>\n",
       "    <tr>\n",
       "      <th>10058</th>\n",
       "      <td>588235.29</td>\n",
       "      <td>0</td>\n",
       "      <td>0</td>\n",
       "      <td>0</td>\n",
       "      <td>0</td>\n",
       "      <td>0</td>\n",
       "      <td>0</td>\n",
       "      <td>0</td>\n",
       "      <td>0</td>\n",
       "      <td>0</td>\n",
       "      <td>...</td>\n",
       "      <td>0</td>\n",
       "      <td>0</td>\n",
       "      <td>0</td>\n",
       "      <td>0</td>\n",
       "      <td>0</td>\n",
       "      <td>0</td>\n",
       "      <td>0</td>\n",
       "      <td>0</td>\n",
       "      <td>0</td>\n",
       "      <td>0</td>\n",
       "    </tr>\n",
       "    <tr>\n",
       "      <th>10059</th>\n",
       "      <td>3042058.82</td>\n",
       "      <td>0</td>\n",
       "      <td>0</td>\n",
       "      <td>0</td>\n",
       "      <td>0</td>\n",
       "      <td>0</td>\n",
       "      <td>0</td>\n",
       "      <td>0</td>\n",
       "      <td>0</td>\n",
       "      <td>0</td>\n",
       "      <td>...</td>\n",
       "      <td>0</td>\n",
       "      <td>0</td>\n",
       "      <td>0</td>\n",
       "      <td>0</td>\n",
       "      <td>0</td>\n",
       "      <td>0</td>\n",
       "      <td>0</td>\n",
       "      <td>0</td>\n",
       "      <td>0</td>\n",
       "      <td>0</td>\n",
       "    </tr>\n",
       "    <tr>\n",
       "      <th>10060</th>\n",
       "      <td>147058.82</td>\n",
       "      <td>0</td>\n",
       "      <td>0</td>\n",
       "      <td>0</td>\n",
       "      <td>0</td>\n",
       "      <td>0</td>\n",
       "      <td>0</td>\n",
       "      <td>0</td>\n",
       "      <td>0</td>\n",
       "      <td>0</td>\n",
       "      <td>...</td>\n",
       "      <td>0</td>\n",
       "      <td>0</td>\n",
       "      <td>0</td>\n",
       "      <td>0</td>\n",
       "      <td>0</td>\n",
       "      <td>0</td>\n",
       "      <td>0</td>\n",
       "      <td>0</td>\n",
       "      <td>0</td>\n",
       "      <td>0</td>\n",
       "    </tr>\n",
       "  </tbody>\n",
       "</table>\n",
       "<p>10061 rows × 462 columns</p>\n",
       "</div>"
      ],
      "text/plain": [
       "        Deal_Cost  Client Category_Automobiles  Client Category_Consulting  \\\n",
       "0       150000.00                            0                           0   \n",
       "1       744705.88                            0                           0   \n",
       "2        60000.00                            0                           0   \n",
       "3        60000.00                            0                           0   \n",
       "4        80882.35                            0                           0   \n",
       "...           ...                          ...                         ...   \n",
       "10056   588235.29                            0                           0   \n",
       "10057   777058.82                            0                           0   \n",
       "10058   588235.29                            0                           0   \n",
       "10059  3042058.82                            0                           0   \n",
       "10060   147058.82                            0                           0   \n",
       "\n",
       "       Client Category_Consumer Good  Client Category_Domestic Bank  \\\n",
       "0                                  0                              0   \n",
       "1                                  0                              0   \n",
       "2                                  0                              0   \n",
       "3                                  0                              0   \n",
       "4                                  0                              0   \n",
       "...                              ...                            ...   \n",
       "10056                              0                              0   \n",
       "10057                              0                              0   \n",
       "10058                              0                              0   \n",
       "10059                              0                              0   \n",
       "10060                              0                              0   \n",
       "\n",
       "       Client Category_Domestic Private Bank  \\\n",
       "0                                          0   \n",
       "1                                          0   \n",
       "2                                          0   \n",
       "3                                          0   \n",
       "4                                          0   \n",
       "...                                      ...   \n",
       "10056                                      0   \n",
       "10057                                      0   \n",
       "10058                                      0   \n",
       "10059                                      0   \n",
       "10060                                      0   \n",
       "\n",
       "       Client Category_Domestic Public Bank  Client Category_Electronics  \\\n",
       "0                                         0                            0   \n",
       "1                                         0                            0   \n",
       "2                                         0                            0   \n",
       "3                                         0                            0   \n",
       "4                                         0                            0   \n",
       "...                                     ...                          ...   \n",
       "10056                                     0                            0   \n",
       "10057                                     0                            0   \n",
       "10058                                     0                            0   \n",
       "10059                                     0                            0   \n",
       "10060                                     0                            0   \n",
       "\n",
       "       Client Category_Energy  Client Category_Energy   ...  \\\n",
       "0                           0                        0  ...   \n",
       "1                           0                        0  ...   \n",
       "2                           0                        0  ...   \n",
       "3                           0                        0  ...   \n",
       "4                           0                        0  ...   \n",
       "...                       ...                      ...  ...   \n",
       "10056                       0                        0  ...   \n",
       "10057                       0                        0  ...   \n",
       "10058                       0                        0  ...   \n",
       "10059                       0                        0  ...   \n",
       "10060                       0                        0  ...   \n",
       "\n",
       "       Manager Name_shafibul  Manager Name_sharat chandran  \\\n",
       "0                          0                             0   \n",
       "1                          0                             0   \n",
       "2                          0                             0   \n",
       "3                          0                             0   \n",
       "4                          0                             0   \n",
       "...                      ...                           ...   \n",
       "10056                      0                             0   \n",
       "10057                      0                             0   \n",
       "10058                      0                             0   \n",
       "10059                      0                             0   \n",
       "10060                      0                             0   \n",
       "\n",
       "       Manager Name_sheak shakir  Manager Name_shiv kumar  \\\n",
       "0                              0                        0   \n",
       "1                              0                        0   \n",
       "2                              0                        0   \n",
       "3                              0                        0   \n",
       "4                              0                        0   \n",
       "...                          ...                      ...   \n",
       "10056                          0                        0   \n",
       "10057                          0                        0   \n",
       "10058                          0                        0   \n",
       "10059                          0                        0   \n",
       "10060                          0                        0   \n",
       "\n",
       "       Manager Name_shiv shakti singh  Manager Name_shyam kumar  \\\n",
       "0                                   0                         0   \n",
       "1                                   0                         0   \n",
       "2                                   0                         0   \n",
       "3                                   0                         0   \n",
       "4                                   0                         0   \n",
       "...                               ...                       ...   \n",
       "10056                               0                         0   \n",
       "10057                               0                         0   \n",
       "10058                               0                         0   \n",
       "10059                               0                         0   \n",
       "10060                               0                         0   \n",
       "\n",
       "       Manager Name_som dutt  Manager Name_sunder paal  \\\n",
       "0                          0                         0   \n",
       "1                          0                         0   \n",
       "2                          0                         0   \n",
       "3                          0                         0   \n",
       "4                          0                         0   \n",
       "...                      ...                       ...   \n",
       "10056                      0                         0   \n",
       "10057                      0                         0   \n",
       "10058                      0                         0   \n",
       "10059                      0                         0   \n",
       "10060                      0                         0   \n",
       "\n",
       "       Manager Name_vansu dev  Manager Name_vinit katariya  \n",
       "0                           0                            0  \n",
       "1                           0                            0  \n",
       "2                           0                            0  \n",
       "3                           0                            0  \n",
       "4                           0                            0  \n",
       "...                       ...                          ...  \n",
       "10056                       0                            0  \n",
       "10057                       0                            0  \n",
       "10058                       0                            0  \n",
       "10059                       0                            0  \n",
       "10060                       0                            0  \n",
       "\n",
       "[10061 rows x 462 columns]"
      ]
     },
     "execution_count": 10,
     "metadata": {},
     "output_type": "execute_result"
    }
   ],
   "source": [
    "x_dummy"
   ]
  },
  {
   "cell_type": "code",
   "execution_count": 11,
   "metadata": {},
   "outputs": [],
   "source": [
    "corr = x_dummy.corr()"
   ]
  },
  {
   "cell_type": "code",
   "execution_count": 12,
   "metadata": {},
   "outputs": [
    {
     "data": {
      "text/html": [
       "<div>\n",
       "<style scoped>\n",
       "    .dataframe tbody tr th:only-of-type {\n",
       "        vertical-align: middle;\n",
       "    }\n",
       "\n",
       "    .dataframe tbody tr th {\n",
       "        vertical-align: top;\n",
       "    }\n",
       "\n",
       "    .dataframe thead th {\n",
       "        text-align: right;\n",
       "    }\n",
       "</style>\n",
       "<table border=\"1\" class=\"dataframe\">\n",
       "  <thead>\n",
       "    <tr style=\"text-align: right;\">\n",
       "      <th></th>\n",
       "      <th>Deal_Cost</th>\n",
       "      <th>Client Category_Automobiles</th>\n",
       "      <th>Client Category_Consulting</th>\n",
       "      <th>Client Category_Consumer Good</th>\n",
       "      <th>Client Category_Domestic Bank</th>\n",
       "      <th>Client Category_Domestic Private Bank</th>\n",
       "      <th>Client Category_Domestic Public Bank</th>\n",
       "      <th>Client Category_Electronics</th>\n",
       "      <th>Client Category_Energy</th>\n",
       "      <th>Client Category_Energy</th>\n",
       "      <th>...</th>\n",
       "      <th>Manager Name_shafibul</th>\n",
       "      <th>Manager Name_sharat chandran</th>\n",
       "      <th>Manager Name_sheak shakir</th>\n",
       "      <th>Manager Name_shiv kumar</th>\n",
       "      <th>Manager Name_shiv shakti singh</th>\n",
       "      <th>Manager Name_shyam kumar</th>\n",
       "      <th>Manager Name_som dutt</th>\n",
       "      <th>Manager Name_sunder paal</th>\n",
       "      <th>Manager Name_vansu dev</th>\n",
       "      <th>Manager Name_vinit katariya</th>\n",
       "    </tr>\n",
       "  </thead>\n",
       "  <tbody>\n",
       "    <tr>\n",
       "      <th>Deal_Cost</th>\n",
       "      <td>1.000000</td>\n",
       "      <td>-0.010617</td>\n",
       "      <td>0.033411</td>\n",
       "      <td>-0.002544</td>\n",
       "      <td>0.065430</td>\n",
       "      <td>0.005262</td>\n",
       "      <td>0.025631</td>\n",
       "      <td>-0.011560</td>\n",
       "      <td>0.018454</td>\n",
       "      <td>-0.000917</td>\n",
       "      <td>...</td>\n",
       "      <td>0.045977</td>\n",
       "      <td>-0.000743</td>\n",
       "      <td>-0.005162</td>\n",
       "      <td>-0.006631</td>\n",
       "      <td>0.006062</td>\n",
       "      <td>-0.006880</td>\n",
       "      <td>-0.006163</td>\n",
       "      <td>-0.004816</td>\n",
       "      <td>0.022083</td>\n",
       "      <td>0.016677</td>\n",
       "    </tr>\n",
       "    <tr>\n",
       "      <th>Client Category_Automobiles</th>\n",
       "      <td>-0.010617</td>\n",
       "      <td>1.000000</td>\n",
       "      <td>-0.025553</td>\n",
       "      <td>-0.018368</td>\n",
       "      <td>-0.015592</td>\n",
       "      <td>-0.021944</td>\n",
       "      <td>-0.027976</td>\n",
       "      <td>-0.012090</td>\n",
       "      <td>-0.010130</td>\n",
       "      <td>-0.008154</td>\n",
       "      <td>...</td>\n",
       "      <td>-0.004638</td>\n",
       "      <td>-0.002676</td>\n",
       "      <td>-0.005356</td>\n",
       "      <td>-0.003278</td>\n",
       "      <td>-0.001892</td>\n",
       "      <td>-0.009673</td>\n",
       "      <td>-0.002318</td>\n",
       "      <td>-0.003786</td>\n",
       "      <td>0.004404</td>\n",
       "      <td>-0.005356</td>\n",
       "    </tr>\n",
       "    <tr>\n",
       "      <th>Client Category_Consulting</th>\n",
       "      <td>0.033411</td>\n",
       "      <td>-0.025553</td>\n",
       "      <td>1.000000</td>\n",
       "      <td>-0.026060</td>\n",
       "      <td>-0.022122</td>\n",
       "      <td>-0.031135</td>\n",
       "      <td>-0.039692</td>\n",
       "      <td>-0.017154</td>\n",
       "      <td>-0.014373</td>\n",
       "      <td>-0.011568</td>\n",
       "      <td>...</td>\n",
       "      <td>-0.006580</td>\n",
       "      <td>0.050471</td>\n",
       "      <td>-0.007599</td>\n",
       "      <td>-0.004651</td>\n",
       "      <td>-0.002685</td>\n",
       "      <td>0.046625</td>\n",
       "      <td>-0.003288</td>\n",
       "      <td>-0.005371</td>\n",
       "      <td>-0.002939</td>\n",
       "      <td>-0.007599</td>\n",
       "    </tr>\n",
       "    <tr>\n",
       "      <th>Client Category_Consumer Good</th>\n",
       "      <td>-0.002544</td>\n",
       "      <td>-0.018368</td>\n",
       "      <td>-0.026060</td>\n",
       "      <td>1.000000</td>\n",
       "      <td>-0.015902</td>\n",
       "      <td>-0.022380</td>\n",
       "      <td>-0.028531</td>\n",
       "      <td>-0.012330</td>\n",
       "      <td>-0.010331</td>\n",
       "      <td>-0.008315</td>\n",
       "      <td>...</td>\n",
       "      <td>-0.004730</td>\n",
       "      <td>-0.002730</td>\n",
       "      <td>-0.005462</td>\n",
       "      <td>-0.003343</td>\n",
       "      <td>-0.001930</td>\n",
       "      <td>-0.009865</td>\n",
       "      <td>-0.002364</td>\n",
       "      <td>-0.003861</td>\n",
       "      <td>-0.015781</td>\n",
       "      <td>-0.005462</td>\n",
       "    </tr>\n",
       "    <tr>\n",
       "      <th>Client Category_Domestic Bank</th>\n",
       "      <td>0.065430</td>\n",
       "      <td>-0.015592</td>\n",
       "      <td>-0.022122</td>\n",
       "      <td>-0.015902</td>\n",
       "      <td>1.000000</td>\n",
       "      <td>-0.018998</td>\n",
       "      <td>-0.024220</td>\n",
       "      <td>-0.010467</td>\n",
       "      <td>-0.008770</td>\n",
       "      <td>-0.007059</td>\n",
       "      <td>...</td>\n",
       "      <td>-0.004015</td>\n",
       "      <td>-0.002317</td>\n",
       "      <td>-0.004637</td>\n",
       "      <td>-0.002838</td>\n",
       "      <td>-0.001638</td>\n",
       "      <td>-0.008374</td>\n",
       "      <td>-0.002007</td>\n",
       "      <td>-0.003277</td>\n",
       "      <td>-0.013396</td>\n",
       "      <td>-0.004637</td>\n",
       "    </tr>\n",
       "    <tr>\n",
       "      <th>...</th>\n",
       "      <td>...</td>\n",
       "      <td>...</td>\n",
       "      <td>...</td>\n",
       "      <td>...</td>\n",
       "      <td>...</td>\n",
       "      <td>...</td>\n",
       "      <td>...</td>\n",
       "      <td>...</td>\n",
       "      <td>...</td>\n",
       "      <td>...</td>\n",
       "      <td>...</td>\n",
       "      <td>...</td>\n",
       "      <td>...</td>\n",
       "      <td>...</td>\n",
       "      <td>...</td>\n",
       "      <td>...</td>\n",
       "      <td>...</td>\n",
       "      <td>...</td>\n",
       "      <td>...</td>\n",
       "      <td>...</td>\n",
       "      <td>...</td>\n",
       "    </tr>\n",
       "    <tr>\n",
       "      <th>Manager Name_shyam kumar</th>\n",
       "      <td>-0.006880</td>\n",
       "      <td>-0.009673</td>\n",
       "      <td>0.046625</td>\n",
       "      <td>-0.009865</td>\n",
       "      <td>-0.008374</td>\n",
       "      <td>0.005621</td>\n",
       "      <td>-0.015026</td>\n",
       "      <td>-0.006494</td>\n",
       "      <td>-0.005441</td>\n",
       "      <td>-0.004379</td>\n",
       "      <td>...</td>\n",
       "      <td>-0.002491</td>\n",
       "      <td>-0.001437</td>\n",
       "      <td>-0.002877</td>\n",
       "      <td>-0.001761</td>\n",
       "      <td>-0.001016</td>\n",
       "      <td>1.000000</td>\n",
       "      <td>-0.001245</td>\n",
       "      <td>-0.002033</td>\n",
       "      <td>-0.008311</td>\n",
       "      <td>-0.002877</td>\n",
       "    </tr>\n",
       "    <tr>\n",
       "      <th>Manager Name_som dutt</th>\n",
       "      <td>-0.006163</td>\n",
       "      <td>-0.002318</td>\n",
       "      <td>-0.003288</td>\n",
       "      <td>-0.002364</td>\n",
       "      <td>-0.002007</td>\n",
       "      <td>-0.002824</td>\n",
       "      <td>-0.003600</td>\n",
       "      <td>-0.001556</td>\n",
       "      <td>0.075397</td>\n",
       "      <td>-0.001049</td>\n",
       "      <td>...</td>\n",
       "      <td>-0.000597</td>\n",
       "      <td>-0.000344</td>\n",
       "      <td>-0.000689</td>\n",
       "      <td>-0.000422</td>\n",
       "      <td>-0.000244</td>\n",
       "      <td>-0.001245</td>\n",
       "      <td>1.000000</td>\n",
       "      <td>-0.000487</td>\n",
       "      <td>-0.001991</td>\n",
       "      <td>-0.000689</td>\n",
       "    </tr>\n",
       "    <tr>\n",
       "      <th>Manager Name_sunder paal</th>\n",
       "      <td>-0.004816</td>\n",
       "      <td>-0.003786</td>\n",
       "      <td>-0.005371</td>\n",
       "      <td>-0.003861</td>\n",
       "      <td>-0.003277</td>\n",
       "      <td>-0.004613</td>\n",
       "      <td>-0.005881</td>\n",
       "      <td>-0.002541</td>\n",
       "      <td>-0.002129</td>\n",
       "      <td>-0.001714</td>\n",
       "      <td>...</td>\n",
       "      <td>-0.000975</td>\n",
       "      <td>-0.000563</td>\n",
       "      <td>-0.001126</td>\n",
       "      <td>-0.000689</td>\n",
       "      <td>-0.000398</td>\n",
       "      <td>-0.002033</td>\n",
       "      <td>-0.000487</td>\n",
       "      <td>1.000000</td>\n",
       "      <td>-0.003253</td>\n",
       "      <td>-0.001126</td>\n",
       "    </tr>\n",
       "    <tr>\n",
       "      <th>Manager Name_vansu dev</th>\n",
       "      <td>0.022083</td>\n",
       "      <td>0.004404</td>\n",
       "      <td>-0.002939</td>\n",
       "      <td>-0.015781</td>\n",
       "      <td>-0.013396</td>\n",
       "      <td>-0.018854</td>\n",
       "      <td>-0.015291</td>\n",
       "      <td>0.009161</td>\n",
       "      <td>-0.008703</td>\n",
       "      <td>-0.007005</td>\n",
       "      <td>...</td>\n",
       "      <td>-0.003984</td>\n",
       "      <td>-0.002299</td>\n",
       "      <td>-0.004602</td>\n",
       "      <td>-0.002817</td>\n",
       "      <td>-0.001626</td>\n",
       "      <td>-0.008311</td>\n",
       "      <td>-0.001991</td>\n",
       "      <td>-0.003253</td>\n",
       "      <td>1.000000</td>\n",
       "      <td>-0.004602</td>\n",
       "    </tr>\n",
       "    <tr>\n",
       "      <th>Manager Name_vinit katariya</th>\n",
       "      <td>0.016677</td>\n",
       "      <td>-0.005356</td>\n",
       "      <td>-0.007599</td>\n",
       "      <td>-0.005462</td>\n",
       "      <td>-0.004637</td>\n",
       "      <td>-0.006526</td>\n",
       "      <td>-0.008320</td>\n",
       "      <td>-0.003596</td>\n",
       "      <td>-0.003013</td>\n",
       "      <td>-0.002425</td>\n",
       "      <td>...</td>\n",
       "      <td>-0.001379</td>\n",
       "      <td>-0.000796</td>\n",
       "      <td>-0.001593</td>\n",
       "      <td>-0.000975</td>\n",
       "      <td>-0.000563</td>\n",
       "      <td>-0.002877</td>\n",
       "      <td>-0.000689</td>\n",
       "      <td>-0.001126</td>\n",
       "      <td>-0.004602</td>\n",
       "      <td>1.000000</td>\n",
       "    </tr>\n",
       "  </tbody>\n",
       "</table>\n",
       "<p>462 rows × 462 columns</p>\n",
       "</div>"
      ],
      "text/plain": [
       "                               Deal_Cost  Client Category_Automobiles  \\\n",
       "Deal_Cost                       1.000000                    -0.010617   \n",
       "Client Category_Automobiles    -0.010617                     1.000000   \n",
       "Client Category_Consulting      0.033411                    -0.025553   \n",
       "Client Category_Consumer Good  -0.002544                    -0.018368   \n",
       "Client Category_Domestic Bank   0.065430                    -0.015592   \n",
       "...                                  ...                          ...   \n",
       "Manager Name_shyam kumar       -0.006880                    -0.009673   \n",
       "Manager Name_som dutt          -0.006163                    -0.002318   \n",
       "Manager Name_sunder paal       -0.004816                    -0.003786   \n",
       "Manager Name_vansu dev          0.022083                     0.004404   \n",
       "Manager Name_vinit katariya     0.016677                    -0.005356   \n",
       "\n",
       "                               Client Category_Consulting  \\\n",
       "Deal_Cost                                        0.033411   \n",
       "Client Category_Automobiles                     -0.025553   \n",
       "Client Category_Consulting                       1.000000   \n",
       "Client Category_Consumer Good                   -0.026060   \n",
       "Client Category_Domestic Bank                   -0.022122   \n",
       "...                                                   ...   \n",
       "Manager Name_shyam kumar                         0.046625   \n",
       "Manager Name_som dutt                           -0.003288   \n",
       "Manager Name_sunder paal                        -0.005371   \n",
       "Manager Name_vansu dev                          -0.002939   \n",
       "Manager Name_vinit katariya                     -0.007599   \n",
       "\n",
       "                               Client Category_Consumer Good  \\\n",
       "Deal_Cost                                          -0.002544   \n",
       "Client Category_Automobiles                        -0.018368   \n",
       "Client Category_Consulting                         -0.026060   \n",
       "Client Category_Consumer Good                       1.000000   \n",
       "Client Category_Domestic Bank                      -0.015902   \n",
       "...                                                      ...   \n",
       "Manager Name_shyam kumar                           -0.009865   \n",
       "Manager Name_som dutt                              -0.002364   \n",
       "Manager Name_sunder paal                           -0.003861   \n",
       "Manager Name_vansu dev                             -0.015781   \n",
       "Manager Name_vinit katariya                        -0.005462   \n",
       "\n",
       "                               Client Category_Domestic Bank  \\\n",
       "Deal_Cost                                           0.065430   \n",
       "Client Category_Automobiles                        -0.015592   \n",
       "Client Category_Consulting                         -0.022122   \n",
       "Client Category_Consumer Good                      -0.015902   \n",
       "Client Category_Domestic Bank                       1.000000   \n",
       "...                                                      ...   \n",
       "Manager Name_shyam kumar                           -0.008374   \n",
       "Manager Name_som dutt                              -0.002007   \n",
       "Manager Name_sunder paal                           -0.003277   \n",
       "Manager Name_vansu dev                             -0.013396   \n",
       "Manager Name_vinit katariya                        -0.004637   \n",
       "\n",
       "                               Client Category_Domestic Private Bank  \\\n",
       "Deal_Cost                                                   0.005262   \n",
       "Client Category_Automobiles                                -0.021944   \n",
       "Client Category_Consulting                                 -0.031135   \n",
       "Client Category_Consumer Good                              -0.022380   \n",
       "Client Category_Domestic Bank                              -0.018998   \n",
       "...                                                              ...   \n",
       "Manager Name_shyam kumar                                    0.005621   \n",
       "Manager Name_som dutt                                      -0.002824   \n",
       "Manager Name_sunder paal                                   -0.004613   \n",
       "Manager Name_vansu dev                                     -0.018854   \n",
       "Manager Name_vinit katariya                                -0.006526   \n",
       "\n",
       "                               Client Category_Domestic Public Bank  \\\n",
       "Deal_Cost                                                  0.025631   \n",
       "Client Category_Automobiles                               -0.027976   \n",
       "Client Category_Consulting                                -0.039692   \n",
       "Client Category_Consumer Good                             -0.028531   \n",
       "Client Category_Domestic Bank                             -0.024220   \n",
       "...                                                             ...   \n",
       "Manager Name_shyam kumar                                  -0.015026   \n",
       "Manager Name_som dutt                                     -0.003600   \n",
       "Manager Name_sunder paal                                  -0.005881   \n",
       "Manager Name_vansu dev                                    -0.015291   \n",
       "Manager Name_vinit katariya                               -0.008320   \n",
       "\n",
       "                               Client Category_Electronics  \\\n",
       "Deal_Cost                                        -0.011560   \n",
       "Client Category_Automobiles                      -0.012090   \n",
       "Client Category_Consulting                       -0.017154   \n",
       "Client Category_Consumer Good                    -0.012330   \n",
       "Client Category_Domestic Bank                    -0.010467   \n",
       "...                                                    ...   \n",
       "Manager Name_shyam kumar                         -0.006494   \n",
       "Manager Name_som dutt                            -0.001556   \n",
       "Manager Name_sunder paal                         -0.002541   \n",
       "Manager Name_vansu dev                            0.009161   \n",
       "Manager Name_vinit katariya                      -0.003596   \n",
       "\n",
       "                               Client Category_Energy  \\\n",
       "Deal_Cost                                    0.018454   \n",
       "Client Category_Automobiles                 -0.010130   \n",
       "Client Category_Consulting                  -0.014373   \n",
       "Client Category_Consumer Good               -0.010331   \n",
       "Client Category_Domestic Bank               -0.008770   \n",
       "...                                               ...   \n",
       "Manager Name_shyam kumar                    -0.005441   \n",
       "Manager Name_som dutt                        0.075397   \n",
       "Manager Name_sunder paal                    -0.002129   \n",
       "Manager Name_vansu dev                      -0.008703   \n",
       "Manager Name_vinit katariya                 -0.003013   \n",
       "\n",
       "                               Client Category_Energy   ...  \\\n",
       "Deal_Cost                                    -0.000917  ...   \n",
       "Client Category_Automobiles                  -0.008154  ...   \n",
       "Client Category_Consulting                   -0.011568  ...   \n",
       "Client Category_Consumer Good                -0.008315  ...   \n",
       "Client Category_Domestic Bank                -0.007059  ...   \n",
       "...                                                ...  ...   \n",
       "Manager Name_shyam kumar                     -0.004379  ...   \n",
       "Manager Name_som dutt                        -0.001049  ...   \n",
       "Manager Name_sunder paal                     -0.001714  ...   \n",
       "Manager Name_vansu dev                       -0.007005  ...   \n",
       "Manager Name_vinit katariya                  -0.002425  ...   \n",
       "\n",
       "                               Manager Name_shafibul  \\\n",
       "Deal_Cost                                   0.045977   \n",
       "Client Category_Automobiles                -0.004638   \n",
       "Client Category_Consulting                 -0.006580   \n",
       "Client Category_Consumer Good              -0.004730   \n",
       "Client Category_Domestic Bank              -0.004015   \n",
       "...                                              ...   \n",
       "Manager Name_shyam kumar                   -0.002491   \n",
       "Manager Name_som dutt                      -0.000597   \n",
       "Manager Name_sunder paal                   -0.000975   \n",
       "Manager Name_vansu dev                     -0.003984   \n",
       "Manager Name_vinit katariya                -0.001379   \n",
       "\n",
       "                               Manager Name_sharat chandran  \\\n",
       "Deal_Cost                                         -0.000743   \n",
       "Client Category_Automobiles                       -0.002676   \n",
       "Client Category_Consulting                         0.050471   \n",
       "Client Category_Consumer Good                     -0.002730   \n",
       "Client Category_Domestic Bank                     -0.002317   \n",
       "...                                                     ...   \n",
       "Manager Name_shyam kumar                          -0.001437   \n",
       "Manager Name_som dutt                             -0.000344   \n",
       "Manager Name_sunder paal                          -0.000563   \n",
       "Manager Name_vansu dev                            -0.002299   \n",
       "Manager Name_vinit katariya                       -0.000796   \n",
       "\n",
       "                               Manager Name_sheak shakir  \\\n",
       "Deal_Cost                                      -0.005162   \n",
       "Client Category_Automobiles                    -0.005356   \n",
       "Client Category_Consulting                     -0.007599   \n",
       "Client Category_Consumer Good                  -0.005462   \n",
       "Client Category_Domestic Bank                  -0.004637   \n",
       "...                                                  ...   \n",
       "Manager Name_shyam kumar                       -0.002877   \n",
       "Manager Name_som dutt                          -0.000689   \n",
       "Manager Name_sunder paal                       -0.001126   \n",
       "Manager Name_vansu dev                         -0.004602   \n",
       "Manager Name_vinit katariya                    -0.001593   \n",
       "\n",
       "                               Manager Name_shiv kumar  \\\n",
       "Deal_Cost                                    -0.006631   \n",
       "Client Category_Automobiles                  -0.003278   \n",
       "Client Category_Consulting                   -0.004651   \n",
       "Client Category_Consumer Good                -0.003343   \n",
       "Client Category_Domestic Bank                -0.002838   \n",
       "...                                                ...   \n",
       "Manager Name_shyam kumar                     -0.001761   \n",
       "Manager Name_som dutt                        -0.000422   \n",
       "Manager Name_sunder paal                     -0.000689   \n",
       "Manager Name_vansu dev                       -0.002817   \n",
       "Manager Name_vinit katariya                  -0.000975   \n",
       "\n",
       "                               Manager Name_shiv shakti singh  \\\n",
       "Deal_Cost                                            0.006062   \n",
       "Client Category_Automobiles                         -0.001892   \n",
       "Client Category_Consulting                          -0.002685   \n",
       "Client Category_Consumer Good                       -0.001930   \n",
       "Client Category_Domestic Bank                       -0.001638   \n",
       "...                                                       ...   \n",
       "Manager Name_shyam kumar                            -0.001016   \n",
       "Manager Name_som dutt                               -0.000244   \n",
       "Manager Name_sunder paal                            -0.000398   \n",
       "Manager Name_vansu dev                              -0.001626   \n",
       "Manager Name_vinit katariya                         -0.000563   \n",
       "\n",
       "                               Manager Name_shyam kumar  \\\n",
       "Deal_Cost                                     -0.006880   \n",
       "Client Category_Automobiles                   -0.009673   \n",
       "Client Category_Consulting                     0.046625   \n",
       "Client Category_Consumer Good                 -0.009865   \n",
       "Client Category_Domestic Bank                 -0.008374   \n",
       "...                                                 ...   \n",
       "Manager Name_shyam kumar                       1.000000   \n",
       "Manager Name_som dutt                         -0.001245   \n",
       "Manager Name_sunder paal                      -0.002033   \n",
       "Manager Name_vansu dev                        -0.008311   \n",
       "Manager Name_vinit katariya                   -0.002877   \n",
       "\n",
       "                               Manager Name_som dutt  \\\n",
       "Deal_Cost                                  -0.006163   \n",
       "Client Category_Automobiles                -0.002318   \n",
       "Client Category_Consulting                 -0.003288   \n",
       "Client Category_Consumer Good              -0.002364   \n",
       "Client Category_Domestic Bank              -0.002007   \n",
       "...                                              ...   \n",
       "Manager Name_shyam kumar                   -0.001245   \n",
       "Manager Name_som dutt                       1.000000   \n",
       "Manager Name_sunder paal                   -0.000487   \n",
       "Manager Name_vansu dev                     -0.001991   \n",
       "Manager Name_vinit katariya                -0.000689   \n",
       "\n",
       "                               Manager Name_sunder paal  \\\n",
       "Deal_Cost                                     -0.004816   \n",
       "Client Category_Automobiles                   -0.003786   \n",
       "Client Category_Consulting                    -0.005371   \n",
       "Client Category_Consumer Good                 -0.003861   \n",
       "Client Category_Domestic Bank                 -0.003277   \n",
       "...                                                 ...   \n",
       "Manager Name_shyam kumar                      -0.002033   \n",
       "Manager Name_som dutt                         -0.000487   \n",
       "Manager Name_sunder paal                       1.000000   \n",
       "Manager Name_vansu dev                        -0.003253   \n",
       "Manager Name_vinit katariya                   -0.001126   \n",
       "\n",
       "                               Manager Name_vansu dev  \\\n",
       "Deal_Cost                                    0.022083   \n",
       "Client Category_Automobiles                  0.004404   \n",
       "Client Category_Consulting                  -0.002939   \n",
       "Client Category_Consumer Good               -0.015781   \n",
       "Client Category_Domestic Bank               -0.013396   \n",
       "...                                               ...   \n",
       "Manager Name_shyam kumar                    -0.008311   \n",
       "Manager Name_som dutt                       -0.001991   \n",
       "Manager Name_sunder paal                    -0.003253   \n",
       "Manager Name_vansu dev                       1.000000   \n",
       "Manager Name_vinit katariya                 -0.004602   \n",
       "\n",
       "                               Manager Name_vinit katariya  \n",
       "Deal_Cost                                         0.016677  \n",
       "Client Category_Automobiles                      -0.005356  \n",
       "Client Category_Consulting                       -0.007599  \n",
       "Client Category_Consumer Good                    -0.005462  \n",
       "Client Category_Domestic Bank                    -0.004637  \n",
       "...                                                    ...  \n",
       "Manager Name_shyam kumar                         -0.002877  \n",
       "Manager Name_som dutt                            -0.000689  \n",
       "Manager Name_sunder paal                         -0.001126  \n",
       "Manager Name_vansu dev                           -0.004602  \n",
       "Manager Name_vinit katariya                       1.000000  \n",
       "\n",
       "[462 rows x 462 columns]"
      ]
     },
     "execution_count": 12,
     "metadata": {},
     "output_type": "execute_result"
    }
   ],
   "source": [
    "corr"
   ]
  },
  {
   "cell_type": "markdown",
   "metadata": {},
   "source": [
    "# Feature Selection "
   ]
  },
  {
   "cell_type": "markdown",
   "metadata": {},
   "source": [
    "## Feature selection using SelectFromModel\n",
    "\n",
    "### L1-based feature selection\n",
    "\n",
    "SelectFromModel to select the non-zero coefficients. In particular, sparse estimators useful for this purpose are the Lasso for regression, and of LogisticRegression and LinearSVC for classification"
   ]
  },
  {
   "cell_type": "code",
   "execution_count": 55,
   "metadata": {},
   "outputs": [],
   "source": [
    "from sklearn.svm import LinearSVC\n",
    "from sklearn.linear_model import Lasso\n",
    "from sklearn.feature_selection import SelectFromModel"
   ]
  },
  {
   "cell_type": "code",
   "execution_count": 42,
   "metadata": {},
   "outputs": [],
   "source": [
    "### Apply Feature Selection\n",
    "# first, I specify the LinearSVC model, and I\n",
    "# With SVMs and logistic-regression, the parameter C controls the sparsity: the smaller C the fewer features selected\n",
    "\n",
    "# Then I use the selectFromModel object from sklearn, which\n",
    "# will select the features which coefficients are non-zero"
   ]
  },
  {
   "cell_type": "code",
   "execution_count": 57,
   "metadata": {},
   "outputs": [
    {
     "data": {
      "text/plain": [
       "SelectFromModel(estimator=LinearSVC(C=0.01, dual=False, penalty='l1'))"
      ]
     },
     "execution_count": 57,
     "metadata": {},
     "output_type": "execute_result"
    }
   ],
   "source": [
    "feature_sel_model = SelectFromModel(LinearSVC(C=0.01, penalty=\"l1\", dual=False).fit(x_dummy, y)) # remember to set the seed, the random state in this function\n",
    "feature_sel_model.fit(x_dummy,y)"
   ]
  },
  {
   "cell_type": "code",
   "execution_count": 52,
   "metadata": {},
   "outputs": [
    {
     "data": {
      "text/plain": [
       "array([False, False, False,  True, False, False,  True, False, False,\n",
       "       False, False, False, False, False, False, False, False, False,\n",
       "       False,  True, False, False, False, False, False, False, False,\n",
       "       False,  True, False, False, False, False, False, False,  True,\n",
       "       False, False,  True, False, False, False, False,  True, False,\n",
       "       False, False, False, False, False, False, False, False, False,\n",
       "       False, False, False, False, False, False, False, False, False,\n",
       "        True, False,  True, False, False, False, False, False, False,\n",
       "        True,  True, False, False, False, False, False, False, False,\n",
       "       False, False, False, False, False, False, False, False, False,\n",
       "       False, False, False, False, False, False, False, False, False,\n",
       "       False, False, False, False,  True, False,  True,  True, False,\n",
       "       False, False,  True, False, False, False,  True, False, False,\n",
       "       False,  True, False, False,  True, False, False, False, False,\n",
       "       False, False, False, False,  True,  True, False,  True, False,\n",
       "       False, False,  True, False, False, False,  True, False,  True,\n",
       "       False, False, False, False,  True, False, False, False, False,\n",
       "       False, False, False, False, False,  True,  True, False, False,\n",
       "       False, False, False, False, False, False, False, False,  True,\n",
       "       False, False, False, False, False, False, False, False, False,\n",
       "       False, False, False, False, False, False, False, False, False,\n",
       "       False, False, False, False, False, False, False, False, False,\n",
       "       False, False, False, False, False, False, False, False, False,\n",
       "       False, False, False, False, False, False, False, False, False,\n",
       "       False, False, False, False, False, False, False, False, False,\n",
       "       False, False, False, False, False, False, False, False, False,\n",
       "       False, False, False, False, False, False, False, False, False,\n",
       "       False, False, False, False, False, False, False, False, False,\n",
       "       False, False, False, False, False, False, False, False, False,\n",
       "       False, False, False, False, False, False, False, False, False,\n",
       "       False, False, False, False, False, False, False, False, False,\n",
       "       False, False, False, False, False, False, False, False, False,\n",
       "       False, False, False, False, False, False, False, False, False,\n",
       "       False, False, False, False, False, False, False, False, False,\n",
       "       False, False, False, False, False, False, False, False, False,\n",
       "       False, False, False, False, False, False, False, False, False,\n",
       "       False, False,  True, False, False, False, False, False, False,\n",
       "       False, False, False, False, False, False, False, False, False,\n",
       "       False, False, False, False, False, False, False, False, False,\n",
       "       False, False, False, False, False, False, False, False, False,\n",
       "       False, False, False, False, False, False, False, False, False,\n",
       "       False, False, False, False, False, False, False, False, False,\n",
       "       False, False, False, False, False, False, False, False, False,\n",
       "       False, False, False, False, False, False, False, False, False,\n",
       "       False, False, False, False, False, False, False, False, False,\n",
       "       False, False, False, False, False, False, False, False, False,\n",
       "       False, False, False, False, False, False, False, False, False,\n",
       "       False, False, False, False, False, False, False, False, False,\n",
       "       False, False, False, False, False, False, False, False, False,\n",
       "       False, False, False, False, False, False, False, False, False,\n",
       "       False, False, False, False, False, False, False, False, False,\n",
       "       False, False, False])"
      ]
     },
     "execution_count": 52,
     "metadata": {},
     "output_type": "execute_result"
    }
   ],
   "source": [
    "feature_sel_model.get_support()"
   ]
  },
  {
   "cell_type": "code",
   "execution_count": 53,
   "metadata": {},
   "outputs": [
    {
     "name": "stdout",
     "output_type": "stream",
     "text": [
      "total features: 462\n",
      "selected features: 29\n",
      "features with coefficients shrank to zero: 432\n"
     ]
    }
   ],
   "source": [
    "# let's print the number of total and selected features\n",
    "\n",
    "# this is how we can make a list of the selected features\n",
    "selected_feat = x_dummy.columns[(feature_sel_model.get_support())]\n",
    "\n",
    "# let's print some stats\n",
    "print('total features: {}'.format((x_dummy.shape[1])))\n",
    "print('selected features: {}'.format(len(selected_feat)))\n",
    "print('features with coefficients shrank to zero: {}'.format(np.sum(feature_sel_model.estimator_.coef_ == 0)))"
   ]
  },
  {
   "cell_type": "code",
   "execution_count": 54,
   "metadata": {},
   "outputs": [
    {
     "data": {
      "text/plain": [
       "Index(['Client Category_Consumer Good', 'Client Category_Domestic Public Bank',\n",
       "       'Client Category_Internal', 'Client Category_Others',\n",
       "       'Client Category_Services_based', 'Client Category_Tech',\n",
       "       'Solution Type_Solution 12', 'Solution Type_Solution 30',\n",
       "       'Solution Type_Solution 32', 'Solution Type_Solution 39',\n",
       "       'Solution Type_Solution 4', 'Solution Type_Solution 67',\n",
       "       'Solution Type_Solution 8', 'Solution Type_Solution 9',\n",
       "       'Sector_Sector 13', 'Sector_Sector 17', 'Sector_Sector 20',\n",
       "       'Sector_Sector 23', 'Sector_Sector 9', 'Location_L10', 'Location_L12',\n",
       "       'Location_L5', 'Location_L9', 'VP Name_Ankita Aggarwal',\n",
       "       'VP Name_Ekta Zutshi', 'VP Name_Long Bergstrom',\n",
       "       'VP Name_Mangesh K. Singh', 'VP Name_Rosanna Maynez',\n",
       "       'Manager Name_Molly Eakes'],\n",
       "      dtype='object')"
      ]
     },
     "execution_count": 54,
     "metadata": {},
     "output_type": "execute_result"
    }
   ],
   "source": [
    "selected_feat"
   ]
  },
  {
   "cell_type": "code",
   "execution_count": 113,
   "metadata": {},
   "outputs": [
    {
     "data": {
      "text/html": [
       "<div>\n",
       "<style scoped>\n",
       "    .dataframe tbody tr th:only-of-type {\n",
       "        vertical-align: middle;\n",
       "    }\n",
       "\n",
       "    .dataframe tbody tr th {\n",
       "        vertical-align: top;\n",
       "    }\n",
       "\n",
       "    .dataframe thead th {\n",
       "        text-align: right;\n",
       "    }\n",
       "</style>\n",
       "<table border=\"1\" class=\"dataframe\">\n",
       "  <thead>\n",
       "    <tr style=\"text-align: right;\">\n",
       "      <th></th>\n",
       "      <th>Client Category_Consumer Good</th>\n",
       "      <th>Client Category_Domestic Public Bank</th>\n",
       "      <th>Client Category_Internal</th>\n",
       "      <th>Client Category_Others</th>\n",
       "      <th>Client Category_Services_based</th>\n",
       "      <th>Client Category_Tech</th>\n",
       "      <th>Solution Type_Solution 12</th>\n",
       "      <th>Solution Type_Solution 30</th>\n",
       "      <th>Solution Type_Solution 32</th>\n",
       "      <th>Solution Type_Solution 39</th>\n",
       "      <th>...</th>\n",
       "      <th>Location_L10</th>\n",
       "      <th>Location_L12</th>\n",
       "      <th>Location_L5</th>\n",
       "      <th>Location_L9</th>\n",
       "      <th>VP Name_Ankita Aggarwal</th>\n",
       "      <th>VP Name_Ekta Zutshi</th>\n",
       "      <th>VP Name_Long Bergstrom</th>\n",
       "      <th>VP Name_Mangesh K. Singh</th>\n",
       "      <th>VP Name_Rosanna Maynez</th>\n",
       "      <th>Manager Name_Molly Eakes</th>\n",
       "    </tr>\n",
       "  </thead>\n",
       "  <tbody>\n",
       "    <tr>\n",
       "      <th>0</th>\n",
       "      <td>0</td>\n",
       "      <td>0</td>\n",
       "      <td>0</td>\n",
       "      <td>0</td>\n",
       "      <td>0</td>\n",
       "      <td>0</td>\n",
       "      <td>0</td>\n",
       "      <td>0</td>\n",
       "      <td>0</td>\n",
       "      <td>0</td>\n",
       "      <td>...</td>\n",
       "      <td>0</td>\n",
       "      <td>0</td>\n",
       "      <td>1</td>\n",
       "      <td>0</td>\n",
       "      <td>0</td>\n",
       "      <td>1</td>\n",
       "      <td>0</td>\n",
       "      <td>0</td>\n",
       "      <td>0</td>\n",
       "      <td>0</td>\n",
       "    </tr>\n",
       "    <tr>\n",
       "      <th>1</th>\n",
       "      <td>0</td>\n",
       "      <td>0</td>\n",
       "      <td>0</td>\n",
       "      <td>0</td>\n",
       "      <td>0</td>\n",
       "      <td>0</td>\n",
       "      <td>0</td>\n",
       "      <td>0</td>\n",
       "      <td>0</td>\n",
       "      <td>0</td>\n",
       "      <td>...</td>\n",
       "      <td>0</td>\n",
       "      <td>0</td>\n",
       "      <td>1</td>\n",
       "      <td>0</td>\n",
       "      <td>0</td>\n",
       "      <td>1</td>\n",
       "      <td>0</td>\n",
       "      <td>0</td>\n",
       "      <td>0</td>\n",
       "      <td>0</td>\n",
       "    </tr>\n",
       "    <tr>\n",
       "      <th>2</th>\n",
       "      <td>0</td>\n",
       "      <td>0</td>\n",
       "      <td>1</td>\n",
       "      <td>0</td>\n",
       "      <td>0</td>\n",
       "      <td>0</td>\n",
       "      <td>0</td>\n",
       "      <td>0</td>\n",
       "      <td>0</td>\n",
       "      <td>0</td>\n",
       "      <td>...</td>\n",
       "      <td>0</td>\n",
       "      <td>0</td>\n",
       "      <td>0</td>\n",
       "      <td>0</td>\n",
       "      <td>0</td>\n",
       "      <td>1</td>\n",
       "      <td>0</td>\n",
       "      <td>0</td>\n",
       "      <td>0</td>\n",
       "      <td>0</td>\n",
       "    </tr>\n",
       "    <tr>\n",
       "      <th>3</th>\n",
       "      <td>0</td>\n",
       "      <td>0</td>\n",
       "      <td>1</td>\n",
       "      <td>0</td>\n",
       "      <td>0</td>\n",
       "      <td>0</td>\n",
       "      <td>0</td>\n",
       "      <td>0</td>\n",
       "      <td>0</td>\n",
       "      <td>0</td>\n",
       "      <td>...</td>\n",
       "      <td>0</td>\n",
       "      <td>0</td>\n",
       "      <td>0</td>\n",
       "      <td>0</td>\n",
       "      <td>0</td>\n",
       "      <td>1</td>\n",
       "      <td>0</td>\n",
       "      <td>0</td>\n",
       "      <td>0</td>\n",
       "      <td>0</td>\n",
       "    </tr>\n",
       "    <tr>\n",
       "      <th>4</th>\n",
       "      <td>0</td>\n",
       "      <td>0</td>\n",
       "      <td>1</td>\n",
       "      <td>0</td>\n",
       "      <td>0</td>\n",
       "      <td>0</td>\n",
       "      <td>0</td>\n",
       "      <td>0</td>\n",
       "      <td>1</td>\n",
       "      <td>0</td>\n",
       "      <td>...</td>\n",
       "      <td>0</td>\n",
       "      <td>0</td>\n",
       "      <td>0</td>\n",
       "      <td>0</td>\n",
       "      <td>0</td>\n",
       "      <td>1</td>\n",
       "      <td>0</td>\n",
       "      <td>0</td>\n",
       "      <td>0</td>\n",
       "      <td>0</td>\n",
       "    </tr>\n",
       "    <tr>\n",
       "      <th>...</th>\n",
       "      <td>...</td>\n",
       "      <td>...</td>\n",
       "      <td>...</td>\n",
       "      <td>...</td>\n",
       "      <td>...</td>\n",
       "      <td>...</td>\n",
       "      <td>...</td>\n",
       "      <td>...</td>\n",
       "      <td>...</td>\n",
       "      <td>...</td>\n",
       "      <td>...</td>\n",
       "      <td>...</td>\n",
       "      <td>...</td>\n",
       "      <td>...</td>\n",
       "      <td>...</td>\n",
       "      <td>...</td>\n",
       "      <td>...</td>\n",
       "      <td>...</td>\n",
       "      <td>...</td>\n",
       "      <td>...</td>\n",
       "      <td>...</td>\n",
       "    </tr>\n",
       "    <tr>\n",
       "      <th>10056</th>\n",
       "      <td>0</td>\n",
       "      <td>0</td>\n",
       "      <td>0</td>\n",
       "      <td>0</td>\n",
       "      <td>0</td>\n",
       "      <td>0</td>\n",
       "      <td>0</td>\n",
       "      <td>0</td>\n",
       "      <td>0</td>\n",
       "      <td>0</td>\n",
       "      <td>...</td>\n",
       "      <td>0</td>\n",
       "      <td>0</td>\n",
       "      <td>1</td>\n",
       "      <td>0</td>\n",
       "      <td>0</td>\n",
       "      <td>0</td>\n",
       "      <td>0</td>\n",
       "      <td>0</td>\n",
       "      <td>0</td>\n",
       "      <td>0</td>\n",
       "    </tr>\n",
       "    <tr>\n",
       "      <th>10057</th>\n",
       "      <td>0</td>\n",
       "      <td>0</td>\n",
       "      <td>1</td>\n",
       "      <td>0</td>\n",
       "      <td>0</td>\n",
       "      <td>0</td>\n",
       "      <td>0</td>\n",
       "      <td>0</td>\n",
       "      <td>0</td>\n",
       "      <td>0</td>\n",
       "      <td>...</td>\n",
       "      <td>0</td>\n",
       "      <td>0</td>\n",
       "      <td>0</td>\n",
       "      <td>0</td>\n",
       "      <td>0</td>\n",
       "      <td>0</td>\n",
       "      <td>0</td>\n",
       "      <td>0</td>\n",
       "      <td>0</td>\n",
       "      <td>0</td>\n",
       "    </tr>\n",
       "    <tr>\n",
       "      <th>10058</th>\n",
       "      <td>0</td>\n",
       "      <td>0</td>\n",
       "      <td>0</td>\n",
       "      <td>0</td>\n",
       "      <td>0</td>\n",
       "      <td>0</td>\n",
       "      <td>0</td>\n",
       "      <td>0</td>\n",
       "      <td>0</td>\n",
       "      <td>0</td>\n",
       "      <td>...</td>\n",
       "      <td>0</td>\n",
       "      <td>0</td>\n",
       "      <td>1</td>\n",
       "      <td>0</td>\n",
       "      <td>0</td>\n",
       "      <td>0</td>\n",
       "      <td>0</td>\n",
       "      <td>0</td>\n",
       "      <td>0</td>\n",
       "      <td>0</td>\n",
       "    </tr>\n",
       "    <tr>\n",
       "      <th>10059</th>\n",
       "      <td>0</td>\n",
       "      <td>0</td>\n",
       "      <td>0</td>\n",
       "      <td>0</td>\n",
       "      <td>0</td>\n",
       "      <td>0</td>\n",
       "      <td>0</td>\n",
       "      <td>0</td>\n",
       "      <td>0</td>\n",
       "      <td>0</td>\n",
       "      <td>...</td>\n",
       "      <td>0</td>\n",
       "      <td>0</td>\n",
       "      <td>1</td>\n",
       "      <td>0</td>\n",
       "      <td>0</td>\n",
       "      <td>0</td>\n",
       "      <td>0</td>\n",
       "      <td>0</td>\n",
       "      <td>0</td>\n",
       "      <td>0</td>\n",
       "    </tr>\n",
       "    <tr>\n",
       "      <th>10060</th>\n",
       "      <td>0</td>\n",
       "      <td>0</td>\n",
       "      <td>0</td>\n",
       "      <td>1</td>\n",
       "      <td>0</td>\n",
       "      <td>0</td>\n",
       "      <td>0</td>\n",
       "      <td>0</td>\n",
       "      <td>0</td>\n",
       "      <td>0</td>\n",
       "      <td>...</td>\n",
       "      <td>1</td>\n",
       "      <td>0</td>\n",
       "      <td>0</td>\n",
       "      <td>0</td>\n",
       "      <td>0</td>\n",
       "      <td>0</td>\n",
       "      <td>0</td>\n",
       "      <td>0</td>\n",
       "      <td>0</td>\n",
       "      <td>0</td>\n",
       "    </tr>\n",
       "  </tbody>\n",
       "</table>\n",
       "<p>10061 rows × 29 columns</p>\n",
       "</div>"
      ],
      "text/plain": [
       "       Client Category_Consumer Good  Client Category_Domestic Public Bank  \\\n",
       "0                                  0                                     0   \n",
       "1                                  0                                     0   \n",
       "2                                  0                                     0   \n",
       "3                                  0                                     0   \n",
       "4                                  0                                     0   \n",
       "...                              ...                                   ...   \n",
       "10056                              0                                     0   \n",
       "10057                              0                                     0   \n",
       "10058                              0                                     0   \n",
       "10059                              0                                     0   \n",
       "10060                              0                                     0   \n",
       "\n",
       "       Client Category_Internal  Client Category_Others  \\\n",
       "0                             0                       0   \n",
       "1                             0                       0   \n",
       "2                             1                       0   \n",
       "3                             1                       0   \n",
       "4                             1                       0   \n",
       "...                         ...                     ...   \n",
       "10056                         0                       0   \n",
       "10057                         1                       0   \n",
       "10058                         0                       0   \n",
       "10059                         0                       0   \n",
       "10060                         0                       1   \n",
       "\n",
       "       Client Category_Services_based  Client Category_Tech  \\\n",
       "0                                   0                     0   \n",
       "1                                   0                     0   \n",
       "2                                   0                     0   \n",
       "3                                   0                     0   \n",
       "4                                   0                     0   \n",
       "...                               ...                   ...   \n",
       "10056                               0                     0   \n",
       "10057                               0                     0   \n",
       "10058                               0                     0   \n",
       "10059                               0                     0   \n",
       "10060                               0                     0   \n",
       "\n",
       "       Solution Type_Solution 12  Solution Type_Solution 30  \\\n",
       "0                              0                          0   \n",
       "1                              0                          0   \n",
       "2                              0                          0   \n",
       "3                              0                          0   \n",
       "4                              0                          0   \n",
       "...                          ...                        ...   \n",
       "10056                          0                          0   \n",
       "10057                          0                          0   \n",
       "10058                          0                          0   \n",
       "10059                          0                          0   \n",
       "10060                          0                          0   \n",
       "\n",
       "       Solution Type_Solution 32  Solution Type_Solution 39  ...  \\\n",
       "0                              0                          0  ...   \n",
       "1                              0                          0  ...   \n",
       "2                              0                          0  ...   \n",
       "3                              0                          0  ...   \n",
       "4                              1                          0  ...   \n",
       "...                          ...                        ...  ...   \n",
       "10056                          0                          0  ...   \n",
       "10057                          0                          0  ...   \n",
       "10058                          0                          0  ...   \n",
       "10059                          0                          0  ...   \n",
       "10060                          0                          0  ...   \n",
       "\n",
       "       Location_L10  Location_L12  Location_L5  Location_L9  \\\n",
       "0                 0             0            1            0   \n",
       "1                 0             0            1            0   \n",
       "2                 0             0            0            0   \n",
       "3                 0             0            0            0   \n",
       "4                 0             0            0            0   \n",
       "...             ...           ...          ...          ...   \n",
       "10056             0             0            1            0   \n",
       "10057             0             0            0            0   \n",
       "10058             0             0            1            0   \n",
       "10059             0             0            1            0   \n",
       "10060             1             0            0            0   \n",
       "\n",
       "       VP Name_Ankita Aggarwal  VP Name_Ekta Zutshi  VP Name_Long Bergstrom  \\\n",
       "0                            0                    1                       0   \n",
       "1                            0                    1                       0   \n",
       "2                            0                    1                       0   \n",
       "3                            0                    1                       0   \n",
       "4                            0                    1                       0   \n",
       "...                        ...                  ...                     ...   \n",
       "10056                        0                    0                       0   \n",
       "10057                        0                    0                       0   \n",
       "10058                        0                    0                       0   \n",
       "10059                        0                    0                       0   \n",
       "10060                        0                    0                       0   \n",
       "\n",
       "       VP Name_Mangesh K. Singh  VP Name_Rosanna Maynez  \\\n",
       "0                             0                       0   \n",
       "1                             0                       0   \n",
       "2                             0                       0   \n",
       "3                             0                       0   \n",
       "4                             0                       0   \n",
       "...                         ...                     ...   \n",
       "10056                         0                       0   \n",
       "10057                         0                       0   \n",
       "10058                         0                       0   \n",
       "10059                         0                       0   \n",
       "10060                         0                       0   \n",
       "\n",
       "       Manager Name_Molly Eakes  \n",
       "0                             0  \n",
       "1                             0  \n",
       "2                             0  \n",
       "3                             0  \n",
       "4                             0  \n",
       "...                         ...  \n",
       "10056                         0  \n",
       "10057                         0  \n",
       "10058                         0  \n",
       "10059                         0  \n",
       "10060                         0  \n",
       "\n",
       "[10061 rows x 29 columns]"
      ]
     },
     "execution_count": 113,
     "metadata": {},
     "output_type": "execute_result"
    }
   ],
   "source": [
    "x_dummy1 = x_dummy[selected_feat];x_dummy1"
   ]
  },
  {
   "cell_type": "markdown",
   "metadata": {},
   "source": [
    "## Tree-based feature selection"
   ]
  },
  {
   "cell_type": "markdown",
   "metadata": {},
   "source": [
    "Tree-based estimators can be used to compute impurity-based feature importances, which in turn can be used to discard irrelevant features (when coupled with the SelectFromModel meta-transformer)."
   ]
  },
  {
   "cell_type": "code",
   "execution_count": 71,
   "metadata": {},
   "outputs": [],
   "source": [
    "from sklearn.ensemble import ExtraTreesClassifier\n",
    "clf = ExtraTreesClassifier(n_estimators=100)"
   ]
  },
  {
   "cell_type": "code",
   "execution_count": 72,
   "metadata": {},
   "outputs": [],
   "source": [
    "clf = clf.fit(x_dummy, y)"
   ]
  },
  {
   "cell_type": "code",
   "execution_count": 73,
   "metadata": {},
   "outputs": [
    {
     "data": {
      "text/plain": [
       "array([2.10803847e-01, 3.41561081e-03, 5.54011653e-03, 3.66228988e-03,\n",
       "       2.10552809e-03, 3.37253406e-03, 2.88257076e-03, 2.31361519e-03,\n",
       "       1.31442099e-03, 7.60361198e-04, 4.89011948e-03, 1.48916819e-03,\n",
       "       9.03046758e-04, 2.32180682e-03, 9.66752989e-04, 1.67823414e-03,\n",
       "       1.39627656e-03, 3.76944496e-03, 2.87656073e-03, 1.55169205e-02,\n",
       "       6.05765581e-03, 4.76961510e-04, 1.33571493e-03, 7.68056565e-04,\n",
       "       1.27269366e-03, 2.18821080e-03, 1.53438989e-03, 5.44922247e-05,\n",
       "       1.64636860e-02, 8.94648564e-04, 1.46776635e-03, 3.80559297e-03,\n",
       "       5.08107969e-04, 1.49855713e-03, 2.16478076e-03, 1.14583895e-02,\n",
       "       7.74746188e-04, 1.23525607e-04, 1.06195296e-02, 3.68151784e-03,\n",
       "       8.15280455e-04, 9.63905349e-03, 3.31721703e-03, 5.28654815e-03,\n",
       "       5.50438258e-03, 2.28529973e-03, 4.15291290e-04, 8.22137064e-04,\n",
       "       1.80954689e-04, 4.28200715e-05, 5.44977383e-05, 1.02006786e-03,\n",
       "       1.71490732e-03, 2.62999701e-05, 3.31524627e-05, 7.95112279e-05,\n",
       "       7.38480651e-04, 2.85482382e-04, 6.82930229e-04, 4.05349955e-05,\n",
       "       2.04635730e-03, 4.76667596e-03, 1.54831718e-04, 4.50695866e-03,\n",
       "       5.59582210e-03, 1.66492476e-02, 1.15251988e-03, 5.10320999e-04,\n",
       "       1.12283514e-03, 1.46754779e-03, 8.64591097e-03, 3.98169436e-03,\n",
       "       8.28600991e-03, 3.12119388e-03, 1.74105736e-03, 3.74718207e-04,\n",
       "       6.92387170e-04, 8.10239187e-05, 2.26123356e-04, 9.18379570e-06,\n",
       "       3.90423795e-04, 8.29089162e-04, 1.03667128e-03, 8.81851674e-04,\n",
       "       7.55531268e-05, 9.40195446e-05, 4.88628096e-05, 1.43263973e-03,\n",
       "       1.57698785e-05, 6.53289790e-05, 8.54913980e-04, 6.93936484e-05,\n",
       "       1.51488488e-04, 1.55736957e-03, 8.20658752e-03, 5.90093358e-03,\n",
       "       9.30936869e-05, 7.59615956e-04, 1.63745117e-04, 2.12132927e-05,\n",
       "       6.69970306e-05, 9.05128810e-04, 9.91329684e-05, 4.28561028e-03,\n",
       "       3.69997305e-03, 5.31639780e-03, 1.18874196e-02, 3.99007286e-05,\n",
       "       2.66863219e-03, 6.54578659e-03, 2.88471752e-03, 2.58533175e-03,\n",
       "       5.23556543e-03, 5.34202931e-03, 6.13898030e-03, 3.63045375e-03,\n",
       "       3.17322880e-03, 1.03144725e-02, 7.19159911e-03, 9.28301762e-04,\n",
       "       2.82612287e-03, 1.29048405e-02, 6.97547975e-03, 3.91861876e-03,\n",
       "       3.20548182e-03, 1.83907235e-03, 1.18192207e-03, 2.54473405e-03,\n",
       "       7.30159801e-04, 8.15482614e-04, 4.66152933e-03, 1.25898860e-02,\n",
       "       3.93021909e-03, 3.56555663e-03, 2.42738392e-04, 6.18826353e-03,\n",
       "       2.68792122e-03, 1.12319318e-02, 1.72637692e-03, 3.29769237e-03,\n",
       "       4.15679069e-04, 3.12630246e-03, 5.41164634e-03, 7.78326468e-03,\n",
       "       2.46692044e-03, 2.84745026e-03, 3.67559170e-04, 1.43670513e-03,\n",
       "       1.03938564e-02, 2.43310885e-03, 1.30755528e-03, 2.42805983e-03,\n",
       "       4.03608352e-03, 1.88562843e-03, 8.29325208e-04, 3.38975851e-04,\n",
       "       3.63948466e-06, 4.52544020e-04, 7.85286303e-03, 7.27602242e-03,\n",
       "       9.84006901e-04, 5.40473183e-04, 8.54653673e-04, 9.88541787e-04,\n",
       "       5.92655534e-03, 2.67231918e-03, 3.83075318e-05, 6.64086199e-04,\n",
       "       4.46478558e-03, 9.02708151e-04, 4.89162640e-03, 2.68313062e-03,\n",
       "       2.43214579e-03, 6.79441426e-03, 2.61694722e-05, 2.52708968e-03,\n",
       "       3.19299507e-03, 2.49342947e-03, 1.90375384e-03, 6.95554952e-04,\n",
       "       1.16583572e-04, 4.15333244e-05, 3.46043160e-06, 4.22241305e-03,\n",
       "       3.10434362e-03, 1.26777125e-03, 1.65491265e-03, 1.39194043e-03,\n",
       "       1.23725220e-03, 1.38191836e-03, 4.54846349e-04, 2.81884697e-05,\n",
       "       6.67927410e-04, 1.52808144e-04, 1.66246033e-04, 7.93830927e-05,\n",
       "       1.04964550e-03, 4.52252871e-04, 2.74810792e-05, 7.97112375e-04,\n",
       "       1.95138498e-03, 2.36440480e-03, 8.39322137e-04, 1.25029186e-03,\n",
       "       1.45107153e-04, 2.30518414e-04, 3.60345811e-04, 2.17888443e-04,\n",
       "       7.89085689e-04, 4.33989664e-05, 1.14594395e-03, 9.36823994e-04,\n",
       "       1.82619931e-04, 1.47061607e-04, 1.48652014e-06, 2.96062926e-04,\n",
       "       1.04578374e-03, 2.62885353e-04, 1.74591522e-03, 3.24127903e-04,\n",
       "       3.85480907e-04, 2.46188540e-05, 5.36943978e-05, 2.84106688e-03,\n",
       "       9.00529869e-04, 2.24314603e-03, 1.61708778e-04, 4.55246854e-04,\n",
       "       5.21132245e-05, 8.50060839e-06, 4.21530522e-04, 2.21770968e-04,\n",
       "       1.25680572e-03, 1.04387990e-03, 4.54313578e-05, 3.18439696e-03,\n",
       "       1.06219825e-04, 1.67495316e-03, 3.68408120e-04, 2.28105991e-03,\n",
       "       1.01463651e-03, 1.99233650e-03, 3.41719055e-04, 4.92808593e-04,\n",
       "       3.91711608e-03, 2.62620095e-03, 2.97502761e-04, 4.39217896e-04,\n",
       "       1.34513127e-03, 2.51370593e-03, 4.48897843e-04, 1.78646004e-03,\n",
       "       8.88485719e-04, 5.93903371e-04, 1.43334218e-03, 2.81863424e-04,\n",
       "       1.61324440e-03, 8.27865277e-04, 3.98261563e-06, 1.19904495e-03,\n",
       "       2.47718766e-03, 1.48448238e-03, 1.82529146e-03, 3.31752471e-03,\n",
       "       2.13307910e-04, 3.41028796e-04, 1.71787786e-03, 6.92611970e-04,\n",
       "       2.89507375e-03, 2.07812959e-05, 1.90948359e-03, 3.06592565e-04,\n",
       "       4.98624002e-06, 6.07676794e-04, 1.31972691e-05, 2.03717488e-04,\n",
       "       1.13793896e-05, 7.56101354e-05, 1.09766950e-03, 3.22168952e-04,\n",
       "       1.67997286e-04, 8.56668248e-04, 1.13233152e-04, 2.45577157e-03,\n",
       "       2.47667515e-03, 1.77888974e-03, 3.43256288e-04, 1.00392790e-04,\n",
       "       3.82349360e-04, 4.49227496e-04, 5.70553958e-04, 1.27380874e-04,\n",
       "       1.07335560e-03, 6.26017701e-06, 1.39864070e-03, 2.04635044e-04,\n",
       "       2.45877928e-03, 8.87760673e-04, 1.86516667e-03, 5.36183632e-05,\n",
       "       3.22644312e-04, 2.91710661e-04, 1.02132395e-04, 9.62717631e-04,\n",
       "       1.10747994e-03, 1.52435876e-03, 1.89890141e-04, 8.92221659e-04,\n",
       "       2.07292600e-03, 3.46128309e-05, 1.47271403e-03, 5.94019056e-04,\n",
       "       2.11704429e-03, 7.25427329e-04, 1.55886630e-04, 1.29577857e-03,\n",
       "       3.81006239e-03, 2.57242547e-03, 1.43877766e-03, 1.76507113e-03,\n",
       "       1.33961655e-04, 3.91607945e-04, 2.51629259e-03, 1.27815817e-03,\n",
       "       1.21635302e-04, 1.16714689e-06, 4.81510492e-03, 3.11236395e-04,\n",
       "       2.01875288e-04, 1.06713391e-04, 6.19972548e-04, 3.74310942e-04,\n",
       "       1.20314438e-03, 1.12276532e-04, 1.47227983e-04, 1.04912474e-04,\n",
       "       4.98531687e-04, 6.70381540e-04, 2.27703517e-04, 2.24757651e-03,\n",
       "       1.24598940e-03, 1.87016161e-04, 1.12403869e-04, 1.90250760e-04,\n",
       "       9.82599556e-04, 2.92692508e-03, 2.97675999e-04, 9.40292217e-04,\n",
       "       4.94912343e-05, 2.86011289e-03, 1.45584672e-03, 7.69710022e-04,\n",
       "       5.01872607e-04, 1.76858185e-04, 4.37597620e-04, 7.32069359e-04,\n",
       "       3.41082992e-03, 1.27335239e-04, 2.64203609e-04, 1.07214439e-03,\n",
       "       3.33291079e-03, 6.77586597e-04, 9.81202358e-04, 3.16752051e-03,\n",
       "       1.46438023e-04, 5.12256776e-04, 3.31960616e-03, 4.17208296e-03,\n",
       "       2.66653093e-04, 3.61816301e-04, 2.03813906e-03, 2.03150747e-03,\n",
       "       7.16839845e-05, 1.22144933e-03, 9.78043786e-04, 1.38604796e-06,\n",
       "       2.64081000e-05, 4.60181950e-04, 6.75972991e-04, 2.24341850e-03,\n",
       "       3.42151495e-05, 1.94432350e-03, 5.15158724e-04, 5.83816552e-04,\n",
       "       2.54737994e-03, 1.82368352e-03, 1.62934756e-05, 4.58643139e-04,\n",
       "       1.23113450e-03, 6.96145255e-05, 6.86181252e-04, 1.03097605e-03,\n",
       "       1.84387901e-04, 1.65069954e-04, 8.53151233e-05, 4.01071931e-05,\n",
       "       8.18163046e-04, 2.32760560e-03, 1.04798187e-04, 5.74328092e-05,\n",
       "       1.49750412e-03, 1.89856160e-04, 2.18721176e-04, 4.49359125e-05,\n",
       "       2.37089391e-05, 1.50690622e-04, 2.51521033e-04, 2.95468965e-04,\n",
       "       1.38350091e-04, 9.01940875e-04, 1.55851622e-05, 2.14662141e-05,\n",
       "       2.35806329e-03, 1.55632583e-05, 1.21548750e-04, 3.11149466e-04,\n",
       "       3.71759802e-03, 4.05047452e-04, 1.52707682e-03, 1.23755738e-03,\n",
       "       2.00815082e-04, 2.35307848e-05, 2.09754331e-03, 3.38440814e-04,\n",
       "       4.88877538e-04, 1.32395482e-03, 7.06461562e-05, 2.52785661e-04,\n",
       "       1.71827511e-03, 2.98654556e-04, 1.87433495e-03, 3.30689688e-05,\n",
       "       8.42770095e-04, 8.61497128e-05, 1.50236974e-03, 2.77227209e-04,\n",
       "       1.07743341e-04, 1.24792945e-03, 2.28161182e-03, 2.43450072e-03,\n",
       "       2.42419964e-03, 1.99029184e-03, 4.20784592e-05, 6.04155299e-05,\n",
       "       1.76987398e-04, 1.02087090e-03, 1.42539388e-03, 2.35444862e-03,\n",
       "       2.16302443e-04, 1.31084157e-05, 3.60099143e-04, 1.13621143e-03,\n",
       "       5.17744115e-04, 1.07939915e-04, 1.12959140e-03, 3.52115742e-05,\n",
       "       6.81691921e-05, 1.05520129e-03, 8.87098032e-05, 5.67072652e-04,\n",
       "       3.85137610e-03, 3.88030998e-04])"
      ]
     },
     "execution_count": 73,
     "metadata": {},
     "output_type": "execute_result"
    }
   ],
   "source": [
    "clf.feature_importances_  "
   ]
  },
  {
   "cell_type": "code",
   "execution_count": 74,
   "metadata": {},
   "outputs": [
    {
     "data": {
      "text/plain": [
       "SelectFromModel(estimator=ExtraTreesClassifier())"
      ]
     },
     "execution_count": 74,
     "metadata": {},
     "output_type": "execute_result"
    }
   ],
   "source": [
    "model = SelectFromModel(clf)\n",
    "model.fit(x_dummy,y)"
   ]
  },
  {
   "cell_type": "code",
   "execution_count": 75,
   "metadata": {},
   "outputs": [
    {
     "data": {
      "text/plain": [
       "array([ True,  True,  True,  True, False,  True,  True,  True, False,\n",
       "       False,  True, False, False,  True, False, False, False,  True,\n",
       "        True,  True,  True, False, False, False, False,  True, False,\n",
       "       False,  True, False, False,  True, False, False,  True,  True,\n",
       "       False, False,  True,  True, False,  True,  True,  True,  True,\n",
       "        True, False, False, False, False, False, False, False, False,\n",
       "       False, False, False, False, False, False,  True,  True, False,\n",
       "        True,  True,  True, False, False, False, False,  True,  True,\n",
       "        True,  True, False, False, False, False, False, False, False,\n",
       "       False, False, False, False, False, False, False, False, False,\n",
       "       False, False, False, False,  True,  True, False, False, False,\n",
       "       False, False, False, False,  True,  True,  True,  True, False,\n",
       "        True,  True,  True,  True,  True,  True,  True,  True,  True,\n",
       "        True,  True, False,  True,  True,  True,  True,  True, False,\n",
       "       False,  True, False, False,  True,  True,  True,  True, False,\n",
       "        True,  True,  True, False,  True, False,  True,  True,  True,\n",
       "        True,  True, False, False,  True,  True, False,  True,  True,\n",
       "       False, False, False, False, False,  True,  True, False, False,\n",
       "       False, False,  True,  True, False, False,  True, False,  True,\n",
       "        True,  True,  True, False,  True,  True,  True, False, False,\n",
       "       False, False, False,  True,  True, False, False, False, False,\n",
       "       False, False, False, False, False, False, False, False, False,\n",
       "       False, False, False,  True, False, False, False, False, False,\n",
       "       False, False, False, False, False, False, False, False, False,\n",
       "       False, False, False, False, False, False, False,  True, False,\n",
       "        True, False, False, False, False, False, False, False, False,\n",
       "       False,  True, False, False, False,  True, False, False, False,\n",
       "       False,  True,  True, False, False, False,  True, False, False,\n",
       "       False, False, False, False, False, False, False, False,  True,\n",
       "       False, False,  True, False, False, False, False,  True, False,\n",
       "       False, False, False, False, False, False, False, False, False,\n",
       "       False, False, False, False,  True,  True, False, False, False,\n",
       "       False, False, False, False, False, False, False, False,  True,\n",
       "       False, False, False, False, False, False, False, False, False,\n",
       "       False, False, False, False, False, False, False, False, False,\n",
       "       False,  True,  True, False, False, False, False,  True, False,\n",
       "       False, False,  True, False, False, False, False, False, False,\n",
       "       False, False, False, False, False, False,  True, False, False,\n",
       "       False, False, False,  True, False, False, False,  True, False,\n",
       "       False, False, False, False, False,  True, False, False, False,\n",
       "        True, False, False,  True, False, False,  True,  True, False,\n",
       "       False, False, False, False, False, False, False, False, False,\n",
       "       False,  True, False, False, False, False,  True, False, False,\n",
       "       False, False, False, False, False, False, False, False, False,\n",
       "       False,  True, False, False, False, False, False, False, False,\n",
       "       False, False, False, False, False, False, False,  True, False,\n",
       "       False, False,  True, False, False, False, False, False, False,\n",
       "       False, False, False, False, False, False, False, False, False,\n",
       "       False, False, False, False, False, False,  True,  True,  True,\n",
       "       False, False, False, False, False, False,  True, False, False,\n",
       "       False, False, False, False, False, False, False, False, False,\n",
       "       False,  True, False])"
      ]
     },
     "execution_count": 75,
     "metadata": {},
     "output_type": "execute_result"
    }
   ],
   "source": [
    "model.get_support()"
   ]
  },
  {
   "cell_type": "code",
   "execution_count": 76,
   "metadata": {},
   "outputs": [
    {
     "name": "stdout",
     "output_type": "stream",
     "text": [
      "total features: 462\n",
      "selected features: 124\n",
      "features with coefficients shrank to zero: 432\n"
     ]
    }
   ],
   "source": [
    "# let's print the number of total and selected features\n",
    "\n",
    "# this is how we can make a list of the selected features\n",
    "selected_feat1 = x_dummy.columns[(model.get_support())]\n",
    "\n",
    "# let's print some stats\n",
    "print('total features: {}'.format((x_dummy.shape[1])))\n",
    "print('selected features: {}'.format(len(selected_feat1)))\n",
    "print('features with coefficients shrank to zero: {}'.format(np.sum(feature_sel_model.estimator_.coef_ == 0)))"
   ]
  },
  {
   "cell_type": "code",
   "execution_count": 77,
   "metadata": {},
   "outputs": [
    {
     "data": {
      "text/plain": [
       "Index(['Deal_Cost', 'Client Category_Automobiles',\n",
       "       'Client Category_Consulting', 'Client Category_Consumer Good',\n",
       "       'Client Category_Domestic Private Bank',\n",
       "       'Client Category_Domestic Public Bank', 'Client Category_Electronics',\n",
       "       'Client Category_Finance', 'Client Category_Healthcare',\n",
       "       'Client Category_Infrastructure',\n",
       "       ...\n",
       "       'Manager Name_Saurabh Singh', 'Manager Name_Shobhit Gupta',\n",
       "       'Manager Name_Tanuj Bindra', 'Manager Name_Vidur Hukle',\n",
       "       'Manager Name_Vinay Kumar', 'Manager Name_mohd khairul',\n",
       "       'Manager Name_mohd shakib', 'Manager Name_nahar singh',\n",
       "       'Manager Name_ram kumar', 'Manager Name_vansu dev'],\n",
       "      dtype='object', length=124)"
      ]
     },
     "execution_count": 77,
     "metadata": {},
     "output_type": "execute_result"
    }
   ],
   "source": [
    "selected_feat1"
   ]
  },
  {
   "cell_type": "code",
   "execution_count": 114,
   "metadata": {},
   "outputs": [
    {
     "data": {
      "text/html": [
       "<div>\n",
       "<style scoped>\n",
       "    .dataframe tbody tr th:only-of-type {\n",
       "        vertical-align: middle;\n",
       "    }\n",
       "\n",
       "    .dataframe tbody tr th {\n",
       "        vertical-align: top;\n",
       "    }\n",
       "\n",
       "    .dataframe thead th {\n",
       "        text-align: right;\n",
       "    }\n",
       "</style>\n",
       "<table border=\"1\" class=\"dataframe\">\n",
       "  <thead>\n",
       "    <tr style=\"text-align: right;\">\n",
       "      <th></th>\n",
       "      <th>Deal_Cost</th>\n",
       "      <th>Client Category_Automobiles</th>\n",
       "      <th>Client Category_Consulting</th>\n",
       "      <th>Client Category_Consumer Good</th>\n",
       "      <th>Client Category_Domestic Private Bank</th>\n",
       "      <th>Client Category_Domestic Public Bank</th>\n",
       "      <th>Client Category_Electronics</th>\n",
       "      <th>Client Category_Finance</th>\n",
       "      <th>Client Category_Healthcare</th>\n",
       "      <th>Client Category_Infrastructure</th>\n",
       "      <th>...</th>\n",
       "      <th>Manager Name_Saurabh Singh</th>\n",
       "      <th>Manager Name_Shobhit Gupta</th>\n",
       "      <th>Manager Name_Tanuj Bindra</th>\n",
       "      <th>Manager Name_Vidur Hukle</th>\n",
       "      <th>Manager Name_Vinay Kumar</th>\n",
       "      <th>Manager Name_mohd khairul</th>\n",
       "      <th>Manager Name_mohd shakib</th>\n",
       "      <th>Manager Name_nahar singh</th>\n",
       "      <th>Manager Name_ram kumar</th>\n",
       "      <th>Manager Name_vansu dev</th>\n",
       "    </tr>\n",
       "  </thead>\n",
       "  <tbody>\n",
       "    <tr>\n",
       "      <th>0</th>\n",
       "      <td>150000.00</td>\n",
       "      <td>0</td>\n",
       "      <td>0</td>\n",
       "      <td>0</td>\n",
       "      <td>0</td>\n",
       "      <td>0</td>\n",
       "      <td>0</td>\n",
       "      <td>0</td>\n",
       "      <td>0</td>\n",
       "      <td>0</td>\n",
       "      <td>...</td>\n",
       "      <td>0</td>\n",
       "      <td>0</td>\n",
       "      <td>0</td>\n",
       "      <td>0</td>\n",
       "      <td>0</td>\n",
       "      <td>0</td>\n",
       "      <td>0</td>\n",
       "      <td>0</td>\n",
       "      <td>0</td>\n",
       "      <td>0</td>\n",
       "    </tr>\n",
       "    <tr>\n",
       "      <th>1</th>\n",
       "      <td>744705.88</td>\n",
       "      <td>0</td>\n",
       "      <td>0</td>\n",
       "      <td>0</td>\n",
       "      <td>0</td>\n",
       "      <td>0</td>\n",
       "      <td>0</td>\n",
       "      <td>0</td>\n",
       "      <td>0</td>\n",
       "      <td>0</td>\n",
       "      <td>...</td>\n",
       "      <td>0</td>\n",
       "      <td>0</td>\n",
       "      <td>0</td>\n",
       "      <td>0</td>\n",
       "      <td>0</td>\n",
       "      <td>0</td>\n",
       "      <td>0</td>\n",
       "      <td>0</td>\n",
       "      <td>0</td>\n",
       "      <td>0</td>\n",
       "    </tr>\n",
       "    <tr>\n",
       "      <th>2</th>\n",
       "      <td>60000.00</td>\n",
       "      <td>0</td>\n",
       "      <td>0</td>\n",
       "      <td>0</td>\n",
       "      <td>0</td>\n",
       "      <td>0</td>\n",
       "      <td>0</td>\n",
       "      <td>0</td>\n",
       "      <td>0</td>\n",
       "      <td>0</td>\n",
       "      <td>...</td>\n",
       "      <td>0</td>\n",
       "      <td>0</td>\n",
       "      <td>0</td>\n",
       "      <td>0</td>\n",
       "      <td>0</td>\n",
       "      <td>0</td>\n",
       "      <td>0</td>\n",
       "      <td>0</td>\n",
       "      <td>0</td>\n",
       "      <td>0</td>\n",
       "    </tr>\n",
       "    <tr>\n",
       "      <th>3</th>\n",
       "      <td>60000.00</td>\n",
       "      <td>0</td>\n",
       "      <td>0</td>\n",
       "      <td>0</td>\n",
       "      <td>0</td>\n",
       "      <td>0</td>\n",
       "      <td>0</td>\n",
       "      <td>0</td>\n",
       "      <td>0</td>\n",
       "      <td>0</td>\n",
       "      <td>...</td>\n",
       "      <td>0</td>\n",
       "      <td>0</td>\n",
       "      <td>0</td>\n",
       "      <td>0</td>\n",
       "      <td>0</td>\n",
       "      <td>0</td>\n",
       "      <td>0</td>\n",
       "      <td>0</td>\n",
       "      <td>0</td>\n",
       "      <td>0</td>\n",
       "    </tr>\n",
       "    <tr>\n",
       "      <th>4</th>\n",
       "      <td>80882.35</td>\n",
       "      <td>0</td>\n",
       "      <td>0</td>\n",
       "      <td>0</td>\n",
       "      <td>0</td>\n",
       "      <td>0</td>\n",
       "      <td>0</td>\n",
       "      <td>0</td>\n",
       "      <td>0</td>\n",
       "      <td>0</td>\n",
       "      <td>...</td>\n",
       "      <td>0</td>\n",
       "      <td>0</td>\n",
       "      <td>0</td>\n",
       "      <td>0</td>\n",
       "      <td>0</td>\n",
       "      <td>0</td>\n",
       "      <td>0</td>\n",
       "      <td>0</td>\n",
       "      <td>0</td>\n",
       "      <td>0</td>\n",
       "    </tr>\n",
       "    <tr>\n",
       "      <th>...</th>\n",
       "      <td>...</td>\n",
       "      <td>...</td>\n",
       "      <td>...</td>\n",
       "      <td>...</td>\n",
       "      <td>...</td>\n",
       "      <td>...</td>\n",
       "      <td>...</td>\n",
       "      <td>...</td>\n",
       "      <td>...</td>\n",
       "      <td>...</td>\n",
       "      <td>...</td>\n",
       "      <td>...</td>\n",
       "      <td>...</td>\n",
       "      <td>...</td>\n",
       "      <td>...</td>\n",
       "      <td>...</td>\n",
       "      <td>...</td>\n",
       "      <td>...</td>\n",
       "      <td>...</td>\n",
       "      <td>...</td>\n",
       "      <td>...</td>\n",
       "    </tr>\n",
       "    <tr>\n",
       "      <th>10056</th>\n",
       "      <td>588235.29</td>\n",
       "      <td>0</td>\n",
       "      <td>0</td>\n",
       "      <td>0</td>\n",
       "      <td>0</td>\n",
       "      <td>0</td>\n",
       "      <td>0</td>\n",
       "      <td>0</td>\n",
       "      <td>0</td>\n",
       "      <td>0</td>\n",
       "      <td>...</td>\n",
       "      <td>0</td>\n",
       "      <td>0</td>\n",
       "      <td>0</td>\n",
       "      <td>0</td>\n",
       "      <td>0</td>\n",
       "      <td>0</td>\n",
       "      <td>0</td>\n",
       "      <td>0</td>\n",
       "      <td>0</td>\n",
       "      <td>0</td>\n",
       "    </tr>\n",
       "    <tr>\n",
       "      <th>10057</th>\n",
       "      <td>777058.82</td>\n",
       "      <td>0</td>\n",
       "      <td>0</td>\n",
       "      <td>0</td>\n",
       "      <td>0</td>\n",
       "      <td>0</td>\n",
       "      <td>0</td>\n",
       "      <td>0</td>\n",
       "      <td>0</td>\n",
       "      <td>0</td>\n",
       "      <td>...</td>\n",
       "      <td>0</td>\n",
       "      <td>0</td>\n",
       "      <td>0</td>\n",
       "      <td>0</td>\n",
       "      <td>0</td>\n",
       "      <td>0</td>\n",
       "      <td>0</td>\n",
       "      <td>0</td>\n",
       "      <td>0</td>\n",
       "      <td>0</td>\n",
       "    </tr>\n",
       "    <tr>\n",
       "      <th>10058</th>\n",
       "      <td>588235.29</td>\n",
       "      <td>0</td>\n",
       "      <td>0</td>\n",
       "      <td>0</td>\n",
       "      <td>0</td>\n",
       "      <td>0</td>\n",
       "      <td>0</td>\n",
       "      <td>0</td>\n",
       "      <td>0</td>\n",
       "      <td>0</td>\n",
       "      <td>...</td>\n",
       "      <td>0</td>\n",
       "      <td>0</td>\n",
       "      <td>0</td>\n",
       "      <td>0</td>\n",
       "      <td>0</td>\n",
       "      <td>0</td>\n",
       "      <td>0</td>\n",
       "      <td>0</td>\n",
       "      <td>0</td>\n",
       "      <td>0</td>\n",
       "    </tr>\n",
       "    <tr>\n",
       "      <th>10059</th>\n",
       "      <td>3042058.82</td>\n",
       "      <td>0</td>\n",
       "      <td>0</td>\n",
       "      <td>0</td>\n",
       "      <td>0</td>\n",
       "      <td>0</td>\n",
       "      <td>0</td>\n",
       "      <td>0</td>\n",
       "      <td>0</td>\n",
       "      <td>0</td>\n",
       "      <td>...</td>\n",
       "      <td>0</td>\n",
       "      <td>0</td>\n",
       "      <td>0</td>\n",
       "      <td>0</td>\n",
       "      <td>0</td>\n",
       "      <td>0</td>\n",
       "      <td>0</td>\n",
       "      <td>0</td>\n",
       "      <td>0</td>\n",
       "      <td>0</td>\n",
       "    </tr>\n",
       "    <tr>\n",
       "      <th>10060</th>\n",
       "      <td>147058.82</td>\n",
       "      <td>0</td>\n",
       "      <td>0</td>\n",
       "      <td>0</td>\n",
       "      <td>0</td>\n",
       "      <td>0</td>\n",
       "      <td>0</td>\n",
       "      <td>0</td>\n",
       "      <td>0</td>\n",
       "      <td>0</td>\n",
       "      <td>...</td>\n",
       "      <td>0</td>\n",
       "      <td>0</td>\n",
       "      <td>0</td>\n",
       "      <td>0</td>\n",
       "      <td>0</td>\n",
       "      <td>0</td>\n",
       "      <td>0</td>\n",
       "      <td>0</td>\n",
       "      <td>0</td>\n",
       "      <td>0</td>\n",
       "    </tr>\n",
       "  </tbody>\n",
       "</table>\n",
       "<p>10061 rows × 124 columns</p>\n",
       "</div>"
      ],
      "text/plain": [
       "        Deal_Cost  Client Category_Automobiles  Client Category_Consulting  \\\n",
       "0       150000.00                            0                           0   \n",
       "1       744705.88                            0                           0   \n",
       "2        60000.00                            0                           0   \n",
       "3        60000.00                            0                           0   \n",
       "4        80882.35                            0                           0   \n",
       "...           ...                          ...                         ...   \n",
       "10056   588235.29                            0                           0   \n",
       "10057   777058.82                            0                           0   \n",
       "10058   588235.29                            0                           0   \n",
       "10059  3042058.82                            0                           0   \n",
       "10060   147058.82                            0                           0   \n",
       "\n",
       "       Client Category_Consumer Good  Client Category_Domestic Private Bank  \\\n",
       "0                                  0                                      0   \n",
       "1                                  0                                      0   \n",
       "2                                  0                                      0   \n",
       "3                                  0                                      0   \n",
       "4                                  0                                      0   \n",
       "...                              ...                                    ...   \n",
       "10056                              0                                      0   \n",
       "10057                              0                                      0   \n",
       "10058                              0                                      0   \n",
       "10059                              0                                      0   \n",
       "10060                              0                                      0   \n",
       "\n",
       "       Client Category_Domestic Public Bank  Client Category_Electronics  \\\n",
       "0                                         0                            0   \n",
       "1                                         0                            0   \n",
       "2                                         0                            0   \n",
       "3                                         0                            0   \n",
       "4                                         0                            0   \n",
       "...                                     ...                          ...   \n",
       "10056                                     0                            0   \n",
       "10057                                     0                            0   \n",
       "10058                                     0                            0   \n",
       "10059                                     0                            0   \n",
       "10060                                     0                            0   \n",
       "\n",
       "       Client Category_Finance  Client Category_Healthcare  \\\n",
       "0                            0                           0   \n",
       "1                            0                           0   \n",
       "2                            0                           0   \n",
       "3                            0                           0   \n",
       "4                            0                           0   \n",
       "...                        ...                         ...   \n",
       "10056                        0                           0   \n",
       "10057                        0                           0   \n",
       "10058                        0                           0   \n",
       "10059                        0                           0   \n",
       "10060                        0                           0   \n",
       "\n",
       "       Client Category_Infrastructure  ...  Manager Name_Saurabh Singh  \\\n",
       "0                                   0  ...                           0   \n",
       "1                                   0  ...                           0   \n",
       "2                                   0  ...                           0   \n",
       "3                                   0  ...                           0   \n",
       "4                                   0  ...                           0   \n",
       "...                               ...  ...                         ...   \n",
       "10056                               0  ...                           0   \n",
       "10057                               0  ...                           0   \n",
       "10058                               0  ...                           0   \n",
       "10059                               0  ...                           0   \n",
       "10060                               0  ...                           0   \n",
       "\n",
       "       Manager Name_Shobhit Gupta  Manager Name_Tanuj Bindra  \\\n",
       "0                               0                          0   \n",
       "1                               0                          0   \n",
       "2                               0                          0   \n",
       "3                               0                          0   \n",
       "4                               0                          0   \n",
       "...                           ...                        ...   \n",
       "10056                           0                          0   \n",
       "10057                           0                          0   \n",
       "10058                           0                          0   \n",
       "10059                           0                          0   \n",
       "10060                           0                          0   \n",
       "\n",
       "       Manager Name_Vidur Hukle  Manager Name_Vinay Kumar  \\\n",
       "0                             0                         0   \n",
       "1                             0                         0   \n",
       "2                             0                         0   \n",
       "3                             0                         0   \n",
       "4                             0                         0   \n",
       "...                         ...                       ...   \n",
       "10056                         0                         0   \n",
       "10057                         0                         0   \n",
       "10058                         0                         0   \n",
       "10059                         0                         0   \n",
       "10060                         0                         0   \n",
       "\n",
       "       Manager Name_mohd khairul  Manager Name_mohd shakib  \\\n",
       "0                              0                         0   \n",
       "1                              0                         0   \n",
       "2                              0                         0   \n",
       "3                              0                         0   \n",
       "4                              0                         0   \n",
       "...                          ...                       ...   \n",
       "10056                          0                         0   \n",
       "10057                          0                         0   \n",
       "10058                          0                         0   \n",
       "10059                          0                         0   \n",
       "10060                          0                         0   \n",
       "\n",
       "       Manager Name_nahar singh  Manager Name_ram kumar  \\\n",
       "0                             0                       0   \n",
       "1                             0                       0   \n",
       "2                             0                       0   \n",
       "3                             0                       0   \n",
       "4                             0                       0   \n",
       "...                         ...                     ...   \n",
       "10056                         0                       0   \n",
       "10057                         0                       0   \n",
       "10058                         0                       0   \n",
       "10059                         0                       0   \n",
       "10060                         0                       0   \n",
       "\n",
       "       Manager Name_vansu dev  \n",
       "0                           0  \n",
       "1                           0  \n",
       "2                           0  \n",
       "3                           0  \n",
       "4                           0  \n",
       "...                       ...  \n",
       "10056                       0  \n",
       "10057                       0  \n",
       "10058                       0  \n",
       "10059                       0  \n",
       "10060                       0  \n",
       "\n",
       "[10061 rows x 124 columns]"
      ]
     },
     "execution_count": 114,
     "metadata": {},
     "output_type": "execute_result"
    }
   ],
   "source": [
    "x_dummy2 = x_dummy[selected_feat1]; x_dummy2"
   ]
  },
  {
   "cell_type": "markdown",
   "metadata": {},
   "source": [
    "# Feature Importance"
   ]
  },
  {
   "cell_type": "markdown",
   "metadata": {},
   "source": [
    "### sklearn.inspection.permutation_importance"
   ]
  },
  {
   "cell_type": "code",
   "execution_count": 80,
   "metadata": {},
   "outputs": [
    {
     "data": {
      "text/html": [
       "<div>\n",
       "<style scoped>\n",
       "    .dataframe tbody tr th:only-of-type {\n",
       "        vertical-align: middle;\n",
       "    }\n",
       "\n",
       "    .dataframe tbody tr th {\n",
       "        vertical-align: top;\n",
       "    }\n",
       "\n",
       "    .dataframe thead th {\n",
       "        text-align: right;\n",
       "    }\n",
       "</style>\n",
       "<table border=\"1\" class=\"dataframe\">\n",
       "  <thead>\n",
       "    <tr style=\"text-align: right;\">\n",
       "      <th></th>\n",
       "      <th>Client Category</th>\n",
       "      <th>Solution Type</th>\n",
       "      <th>Sector</th>\n",
       "      <th>Location</th>\n",
       "      <th>VP Name</th>\n",
       "      <th>Manager Name</th>\n",
       "      <th>Deal_Cost</th>\n",
       "      <th>Deal_Status</th>\n",
       "    </tr>\n",
       "  </thead>\n",
       "  <tbody>\n",
       "    <tr>\n",
       "      <th>0</th>\n",
       "      <td>Telecom</td>\n",
       "      <td>Solution 7</td>\n",
       "      <td>Sector 24</td>\n",
       "      <td>L5</td>\n",
       "      <td>Ekta Zutshi</td>\n",
       "      <td>Gopa Trilochana</td>\n",
       "      <td>150000.00</td>\n",
       "      <td>1</td>\n",
       "    </tr>\n",
       "    <tr>\n",
       "      <th>1</th>\n",
       "      <td>Telecom</td>\n",
       "      <td>Solution 7</td>\n",
       "      <td>Sector 24</td>\n",
       "      <td>L5</td>\n",
       "      <td>Ekta Zutshi</td>\n",
       "      <td>Gopa Trilochana</td>\n",
       "      <td>744705.88</td>\n",
       "      <td>1</td>\n",
       "    </tr>\n",
       "    <tr>\n",
       "      <th>2</th>\n",
       "      <td>Internal</td>\n",
       "      <td>Solution 59</td>\n",
       "      <td>Sector 20</td>\n",
       "      <td>Others</td>\n",
       "      <td>Ekta Zutshi</td>\n",
       "      <td>Russell Dahlen</td>\n",
       "      <td>60000.00</td>\n",
       "      <td>0</td>\n",
       "    </tr>\n",
       "    <tr>\n",
       "      <th>3</th>\n",
       "      <td>Internal</td>\n",
       "      <td>Solution 59</td>\n",
       "      <td>Sector 20</td>\n",
       "      <td>Others</td>\n",
       "      <td>Ekta Zutshi</td>\n",
       "      <td>Russell Dahlen</td>\n",
       "      <td>60000.00</td>\n",
       "      <td>0</td>\n",
       "    </tr>\n",
       "    <tr>\n",
       "      <th>4</th>\n",
       "      <td>Internal</td>\n",
       "      <td>Solution 32</td>\n",
       "      <td>Sector 20</td>\n",
       "      <td>Others</td>\n",
       "      <td>Ekta Zutshi</td>\n",
       "      <td>Russell Dahlen</td>\n",
       "      <td>80882.35</td>\n",
       "      <td>0</td>\n",
       "    </tr>\n",
       "  </tbody>\n",
       "</table>\n",
       "</div>"
      ],
      "text/plain": [
       "  Client Category Solution Type     Sector Location      VP Name  \\\n",
       "0         Telecom    Solution 7  Sector 24       L5  Ekta Zutshi   \n",
       "1         Telecom    Solution 7  Sector 24       L5  Ekta Zutshi   \n",
       "2        Internal   Solution 59  Sector 20   Others  Ekta Zutshi   \n",
       "3        Internal   Solution 59  Sector 20   Others  Ekta Zutshi   \n",
       "4        Internal   Solution 32  Sector 20   Others  Ekta Zutshi   \n",
       "\n",
       "      Manager Name  Deal_Cost  Deal_Status  \n",
       "0  Gopa Trilochana  150000.00            1  \n",
       "1  Gopa Trilochana  744705.88            1  \n",
       "2   Russell Dahlen   60000.00            0  \n",
       "3   Russell Dahlen   60000.00            0  \n",
       "4   Russell Dahlen   80882.35            0  "
      ]
     },
     "execution_count": 80,
     "metadata": {},
     "output_type": "execute_result"
    }
   ],
   "source": [
    "data.head()"
   ]
  },
  {
   "cell_type": "code",
   "execution_count": 99,
   "metadata": {},
   "outputs": [],
   "source": [
    "from sklearn.linear_model import LogisticRegression\n",
    "from sklearn.inspection import permutation_importance"
   ]
  },
  {
   "cell_type": "code",
   "execution_count": 102,
   "metadata": {},
   "outputs": [],
   "source": [
    "clf = LogisticRegression().fit(x_dummy, y)\n",
    "result = permutation_importance(clf, x_dummy, y, n_repeats=10, random_state=0)"
   ]
  },
  {
   "cell_type": "code",
   "execution_count": 103,
   "metadata": {},
   "outputs": [
    {
     "data": {
      "text/plain": [
       "array([0., 0., 0., 0., 0., 0., 0., 0., 0., 0., 0., 0., 0., 0., 0., 0., 0.,\n",
       "       0., 0., 0., 0., 0., 0., 0., 0., 0., 0., 0., 0., 0., 0., 0., 0., 0.,\n",
       "       0., 0., 0., 0., 0., 0., 0., 0., 0., 0., 0., 0., 0., 0., 0., 0., 0.,\n",
       "       0., 0., 0., 0., 0., 0., 0., 0., 0., 0., 0., 0., 0., 0., 0., 0., 0.,\n",
       "       0., 0., 0., 0., 0., 0., 0., 0., 0., 0., 0., 0., 0., 0., 0., 0., 0.,\n",
       "       0., 0., 0., 0., 0., 0., 0., 0., 0., 0., 0., 0., 0., 0., 0., 0., 0.,\n",
       "       0., 0., 0., 0., 0., 0., 0., 0., 0., 0., 0., 0., 0., 0., 0., 0., 0.,\n",
       "       0., 0., 0., 0., 0., 0., 0., 0., 0., 0., 0., 0., 0., 0., 0., 0., 0.,\n",
       "       0., 0., 0., 0., 0., 0., 0., 0., 0., 0., 0., 0., 0., 0., 0., 0., 0.,\n",
       "       0., 0., 0., 0., 0., 0., 0., 0., 0., 0., 0., 0., 0., 0., 0., 0., 0.,\n",
       "       0., 0., 0., 0., 0., 0., 0., 0., 0., 0., 0., 0., 0., 0., 0., 0., 0.,\n",
       "       0., 0., 0., 0., 0., 0., 0., 0., 0., 0., 0., 0., 0., 0., 0., 0., 0.,\n",
       "       0., 0., 0., 0., 0., 0., 0., 0., 0., 0., 0., 0., 0., 0., 0., 0., 0.,\n",
       "       0., 0., 0., 0., 0., 0., 0., 0., 0., 0., 0., 0., 0., 0., 0., 0., 0.,\n",
       "       0., 0., 0., 0., 0., 0., 0., 0., 0., 0., 0., 0., 0., 0., 0., 0., 0.,\n",
       "       0., 0., 0., 0., 0., 0., 0., 0., 0., 0., 0., 0., 0., 0., 0., 0., 0.,\n",
       "       0., 0., 0., 0., 0., 0., 0., 0., 0., 0., 0., 0., 0., 0., 0., 0., 0.,\n",
       "       0., 0., 0., 0., 0., 0., 0., 0., 0., 0., 0., 0., 0., 0., 0., 0., 0.,\n",
       "       0., 0., 0., 0., 0., 0., 0., 0., 0., 0., 0., 0., 0., 0., 0., 0., 0.,\n",
       "       0., 0., 0., 0., 0., 0., 0., 0., 0., 0., 0., 0., 0., 0., 0., 0., 0.,\n",
       "       0., 0., 0., 0., 0., 0., 0., 0., 0., 0., 0., 0., 0., 0., 0., 0., 0.,\n",
       "       0., 0., 0., 0., 0., 0., 0., 0., 0., 0., 0., 0., 0., 0., 0., 0., 0.,\n",
       "       0., 0., 0., 0., 0., 0., 0., 0., 0., 0., 0., 0., 0., 0., 0., 0., 0.,\n",
       "       0., 0., 0., 0., 0., 0., 0., 0., 0., 0., 0., 0., 0., 0., 0., 0., 0.,\n",
       "       0., 0., 0., 0., 0., 0., 0., 0., 0., 0., 0., 0., 0., 0., 0., 0., 0.,\n",
       "       0., 0., 0., 0., 0., 0., 0., 0., 0., 0., 0., 0., 0., 0., 0., 0., 0.,\n",
       "       0., 0., 0., 0., 0., 0., 0., 0., 0., 0., 0., 0., 0., 0., 0., 0., 0.,\n",
       "       0., 0., 0.])"
      ]
     },
     "execution_count": 103,
     "metadata": {},
     "output_type": "execute_result"
    }
   ],
   "source": [
    "result.importances_mean"
   ]
  },
  {
   "cell_type": "code",
   "execution_count": 104,
   "metadata": {},
   "outputs": [
    {
     "data": {
      "text/plain": [
       "array([[0., 0., 0., ..., 0., 0., 0.],\n",
       "       [0., 0., 0., ..., 0., 0., 0.],\n",
       "       [0., 0., 0., ..., 0., 0., 0.],\n",
       "       ...,\n",
       "       [0., 0., 0., ..., 0., 0., 0.],\n",
       "       [0., 0., 0., ..., 0., 0., 0.],\n",
       "       [0., 0., 0., ..., 0., 0., 0.]])"
      ]
     },
     "execution_count": 104,
     "metadata": {},
     "output_type": "execute_result"
    }
   ],
   "source": [
    "result.importances"
   ]
  },
  {
   "cell_type": "code",
   "execution_count": 105,
   "metadata": {},
   "outputs": [
    {
     "data": {
      "text/plain": [
       "array([0., 0., 0., 0., 0., 0., 0., 0., 0., 0., 0., 0., 0., 0., 0., 0., 0.,\n",
       "       0., 0., 0., 0., 0., 0., 0., 0., 0., 0., 0., 0., 0., 0., 0., 0., 0.,\n",
       "       0., 0., 0., 0., 0., 0., 0., 0., 0., 0., 0., 0., 0., 0., 0., 0., 0.,\n",
       "       0., 0., 0., 0., 0., 0., 0., 0., 0., 0., 0., 0., 0., 0., 0., 0., 0.,\n",
       "       0., 0., 0., 0., 0., 0., 0., 0., 0., 0., 0., 0., 0., 0., 0., 0., 0.,\n",
       "       0., 0., 0., 0., 0., 0., 0., 0., 0., 0., 0., 0., 0., 0., 0., 0., 0.,\n",
       "       0., 0., 0., 0., 0., 0., 0., 0., 0., 0., 0., 0., 0., 0., 0., 0., 0.,\n",
       "       0., 0., 0., 0., 0., 0., 0., 0., 0., 0., 0., 0., 0., 0., 0., 0., 0.,\n",
       "       0., 0., 0., 0., 0., 0., 0., 0., 0., 0., 0., 0., 0., 0., 0., 0., 0.,\n",
       "       0., 0., 0., 0., 0., 0., 0., 0., 0., 0., 0., 0., 0., 0., 0., 0., 0.,\n",
       "       0., 0., 0., 0., 0., 0., 0., 0., 0., 0., 0., 0., 0., 0., 0., 0., 0.,\n",
       "       0., 0., 0., 0., 0., 0., 0., 0., 0., 0., 0., 0., 0., 0., 0., 0., 0.,\n",
       "       0., 0., 0., 0., 0., 0., 0., 0., 0., 0., 0., 0., 0., 0., 0., 0., 0.,\n",
       "       0., 0., 0., 0., 0., 0., 0., 0., 0., 0., 0., 0., 0., 0., 0., 0., 0.,\n",
       "       0., 0., 0., 0., 0., 0., 0., 0., 0., 0., 0., 0., 0., 0., 0., 0., 0.,\n",
       "       0., 0., 0., 0., 0., 0., 0., 0., 0., 0., 0., 0., 0., 0., 0., 0., 0.,\n",
       "       0., 0., 0., 0., 0., 0., 0., 0., 0., 0., 0., 0., 0., 0., 0., 0., 0.,\n",
       "       0., 0., 0., 0., 0., 0., 0., 0., 0., 0., 0., 0., 0., 0., 0., 0., 0.,\n",
       "       0., 0., 0., 0., 0., 0., 0., 0., 0., 0., 0., 0., 0., 0., 0., 0., 0.,\n",
       "       0., 0., 0., 0., 0., 0., 0., 0., 0., 0., 0., 0., 0., 0., 0., 0., 0.,\n",
       "       0., 0., 0., 0., 0., 0., 0., 0., 0., 0., 0., 0., 0., 0., 0., 0., 0.,\n",
       "       0., 0., 0., 0., 0., 0., 0., 0., 0., 0., 0., 0., 0., 0., 0., 0., 0.,\n",
       "       0., 0., 0., 0., 0., 0., 0., 0., 0., 0., 0., 0., 0., 0., 0., 0., 0.,\n",
       "       0., 0., 0., 0., 0., 0., 0., 0., 0., 0., 0., 0., 0., 0., 0., 0., 0.,\n",
       "       0., 0., 0., 0., 0., 0., 0., 0., 0., 0., 0., 0., 0., 0., 0., 0., 0.,\n",
       "       0., 0., 0., 0., 0., 0., 0., 0., 0., 0., 0., 0., 0., 0., 0., 0., 0.,\n",
       "       0., 0., 0., 0., 0., 0., 0., 0., 0., 0., 0., 0., 0., 0., 0., 0., 0.,\n",
       "       0., 0., 0.])"
      ]
     },
     "execution_count": 105,
     "metadata": {},
     "output_type": "execute_result"
    }
   ],
   "source": [
    "result.importances_std"
   ]
  },
  {
   "cell_type": "markdown",
   "metadata": {},
   "source": [
    "### Feature importances with forests of trees"
   ]
  },
  {
   "cell_type": "code",
   "execution_count": 106,
   "metadata": {},
   "outputs": [],
   "source": [
    "import numpy as np\n",
    "import matplotlib.pyplot as plt\n",
    "\n",
    "from sklearn.datasets import make_classification\n",
    "from sklearn.ensemble import ExtraTreesClassifier"
   ]
  },
  {
   "cell_type": "code",
   "execution_count": 107,
   "metadata": {},
   "outputs": [],
   "source": [
    "# Build a forest and compute the impurity-based feature importances\n",
    "forest = ExtraTreesClassifier(n_estimators=250,\n",
    "                              random_state=0)"
   ]
  },
  {
   "cell_type": "code",
   "execution_count": 108,
   "metadata": {},
   "outputs": [
    {
     "data": {
      "text/plain": [
       "ExtraTreesClassifier(n_estimators=250, random_state=0)"
      ]
     },
     "execution_count": 108,
     "metadata": {},
     "output_type": "execute_result"
    }
   ],
   "source": [
    "forest.fit(x_dummy, y)"
   ]
  },
  {
   "cell_type": "code",
   "execution_count": 109,
   "metadata": {},
   "outputs": [],
   "source": [
    "importances = forest.feature_importances_"
   ]
  },
  {
   "cell_type": "code",
   "execution_count": 110,
   "metadata": {},
   "outputs": [
    {
     "data": {
      "text/plain": [
       "array([2.09794023e-01, 3.49821380e-03, 5.64416455e-03, 3.81358029e-03,\n",
       "       2.11200854e-03, 3.06995913e-03, 2.98765135e-03, 2.24281937e-03,\n",
       "       1.35752486e-03, 7.76368027e-04, 4.94166748e-03, 1.51232251e-03,\n",
       "       8.49458198e-04, 2.26114421e-03, 9.30270864e-04, 1.69101426e-03,\n",
       "       1.29925978e-03, 3.93503716e-03, 2.93495592e-03, 1.58160059e-02,\n",
       "       6.13364836e-03, 4.73666538e-04, 1.37750617e-03, 7.13236343e-04,\n",
       "       1.26169080e-03, 2.34430853e-03, 1.55776480e-03, 7.37794389e-05,\n",
       "       1.65192291e-02, 9.06525943e-04, 1.52444845e-03, 3.82544680e-03,\n",
       "       4.74075590e-04, 1.60651947e-03, 2.20858315e-03, 1.13786464e-02,\n",
       "       8.11076280e-04, 1.04683000e-04, 1.03650053e-02, 3.67886528e-03,\n",
       "       8.81729077e-04, 9.56708220e-03, 3.37660481e-03, 5.02826383e-03,\n",
       "       5.83852068e-03, 2.42275562e-03, 3.67532012e-04, 8.23557108e-04,\n",
       "       1.80463414e-04, 4.28638919e-05, 4.42606136e-05, 1.00548752e-03,\n",
       "       1.84483890e-03, 2.78527048e-05, 2.41592531e-05, 8.71631925e-05,\n",
       "       7.49318356e-04, 2.67386625e-04, 7.01576482e-04, 3.94365008e-05,\n",
       "       2.04071063e-03, 4.83067603e-03, 1.46999970e-04, 4.07986767e-03,\n",
       "       5.43835353e-03, 1.62642238e-02, 1.16164463e-03, 4.90733871e-04,\n",
       "       1.07522982e-03, 1.47241414e-03, 8.62930145e-03, 3.90219043e-03,\n",
       "       8.22749497e-03, 3.22678462e-03, 1.78176849e-03, 3.76998363e-04,\n",
       "       6.75199741e-04, 7.37708619e-05, 2.51922179e-04, 1.06790086e-05,\n",
       "       3.93708684e-04, 8.67356212e-04, 1.06558323e-03, 9.44655139e-04,\n",
       "       9.99478278e-05, 9.25338271e-05, 3.83310779e-05, 1.43999593e-03,\n",
       "       1.34424326e-05, 6.14836816e-05, 7.98085595e-04, 6.59524130e-05,\n",
       "       1.30548521e-04, 1.56192266e-03, 8.28568467e-03, 5.70794897e-03,\n",
       "       1.09290512e-04, 7.67571660e-04, 1.64585951e-04, 1.39522096e-05,\n",
       "       8.50786360e-05, 8.68628610e-04, 9.06153438e-05, 4.49353438e-03,\n",
       "       3.67705683e-03, 5.39840626e-03, 1.17740106e-02, 4.69261923e-05,\n",
       "       2.76092663e-03, 6.56695159e-03, 2.87804130e-03, 2.51702286e-03,\n",
       "       5.29800674e-03, 5.67622475e-03, 6.28269049e-03, 3.57057703e-03,\n",
       "       3.03488609e-03, 1.05688257e-02, 6.91953157e-03, 9.31576610e-04,\n",
       "       2.85465847e-03, 1.26578047e-02, 6.84098920e-03, 4.15743846e-03,\n",
       "       3.16378585e-03, 1.82954962e-03, 1.21579583e-03, 2.41129507e-03,\n",
       "       7.11476666e-04, 7.52347084e-04, 4.74147056e-03, 1.25063171e-02,\n",
       "       3.88436271e-03, 3.53554168e-03, 2.49069517e-04, 6.23652461e-03,\n",
       "       2.58452737e-03, 1.03512832e-02, 1.64577884e-03, 3.23758298e-03,\n",
       "       3.68584024e-04, 3.19617385e-03, 5.24684298e-03, 8.01963985e-03,\n",
       "       2.55435277e-03, 2.80109572e-03, 3.42393289e-04, 1.40720424e-03,\n",
       "       1.14513222e-02, 2.55777400e-03, 1.33363091e-03, 2.39058358e-03,\n",
       "       3.95563415e-03, 1.77421119e-03, 7.93247826e-04, 3.10732755e-04,\n",
       "       8.83714103e-06, 4.97492582e-04, 7.73614593e-03, 7.35839749e-03,\n",
       "       9.82127085e-04, 4.99528784e-04, 8.61084224e-04, 1.00083383e-03,\n",
       "       6.08484431e-03, 2.60169981e-03, 2.35724484e-05, 6.08702049e-04,\n",
       "       4.39466379e-03, 9.34764655e-04, 5.26928545e-03, 2.51209777e-03,\n",
       "       2.39863220e-03, 6.91957682e-03, 2.70098423e-05, 2.58249605e-03,\n",
       "       3.32100981e-03, 2.53954884e-03, 1.92958272e-03, 6.74832579e-04,\n",
       "       1.12887398e-04, 3.88694716e-05, 3.59082509e-06, 4.25627403e-03,\n",
       "       3.14648468e-03, 1.29574859e-03, 1.70650389e-03, 1.30813978e-03,\n",
       "       1.23267681e-03, 1.37388156e-03, 4.35834150e-04, 2.28766257e-05,\n",
       "       5.85641040e-04, 1.52460416e-04, 1.58528584e-04, 1.03707349e-04,\n",
       "       1.01493796e-03, 4.06751673e-04, 3.13817157e-05, 8.01921254e-04,\n",
       "       1.97954547e-03, 2.32391414e-03, 8.51179423e-04, 1.24270441e-03,\n",
       "       1.53120328e-04, 2.25977772e-04, 3.86920609e-04, 2.33261475e-04,\n",
       "       8.58439795e-04, 2.61727438e-05, 1.26664647e-03, 9.03389300e-04,\n",
       "       2.03902742e-04, 1.31504327e-04, 2.13915643e-06, 2.88872078e-04,\n",
       "       9.97257515e-04, 3.10942467e-04, 1.65519984e-03, 2.79203663e-04,\n",
       "       3.95190493e-04, 1.48828373e-05, 5.51179612e-05, 2.79244195e-03,\n",
       "       9.63003479e-04, 2.13108154e-03, 1.76775423e-04, 4.57672844e-04,\n",
       "       6.26896691e-05, 1.90455952e-05, 4.03165660e-04, 1.99019439e-04,\n",
       "       1.29253423e-03, 1.05948327e-03, 4.60730869e-05, 3.11415991e-03,\n",
       "       9.20726310e-05, 1.74021206e-03, 2.99467405e-04, 2.31976779e-03,\n",
       "       9.98161382e-04, 2.10225156e-03, 3.61116512e-04, 4.89266873e-04,\n",
       "       4.06966743e-03, 2.61891660e-03, 3.11590061e-04, 4.00735546e-04,\n",
       "       1.34605089e-03, 2.53105985e-03, 4.64876369e-04, 1.89163777e-03,\n",
       "       7.54264403e-04, 5.70759991e-04, 1.46522736e-03, 2.67982963e-04,\n",
       "       1.47920466e-03, 8.51139134e-04, 1.29863665e-05, 1.27331266e-03,\n",
       "       2.48782812e-03, 1.50254773e-03, 1.81082818e-03, 3.36556098e-03,\n",
       "       2.25900898e-04, 3.69740261e-04, 1.76298936e-03, 6.50393116e-04,\n",
       "       2.87085956e-03, 3.84015131e-05, 1.86996529e-03, 3.05353921e-04,\n",
       "       6.07247892e-06, 5.45386788e-04, 2.25227927e-05, 2.60033173e-04,\n",
       "       1.40188448e-05, 9.13669125e-05, 1.16126147e-03, 3.77376121e-04,\n",
       "       2.02649062e-04, 8.20994833e-04, 1.18094207e-04, 2.47205709e-03,\n",
       "       2.53620515e-03, 1.69780172e-03, 3.97884385e-04, 9.50194613e-05,\n",
       "       3.70582466e-04, 3.86768013e-04, 5.48511508e-04, 1.06903526e-04,\n",
       "       1.18473155e-03, 4.52653478e-06, 1.36894559e-03, 2.32855296e-04,\n",
       "       2.60954653e-03, 9.35010134e-04, 1.85719450e-03, 4.47300021e-05,\n",
       "       3.36880931e-04, 2.95746323e-04, 1.02145934e-04, 9.88998553e-04,\n",
       "       1.06829946e-03, 1.59344942e-03, 1.73917729e-04, 8.81629077e-04,\n",
       "       2.08490668e-03, 2.39311798e-05, 1.39886156e-03, 5.83864889e-04,\n",
       "       2.11326503e-03, 8.16547491e-04, 1.37705783e-04, 1.25819356e-03,\n",
       "       3.64823223e-03, 2.42056326e-03, 1.42663430e-03, 1.72099586e-03,\n",
       "       1.32853005e-04, 3.61539019e-04, 2.30119133e-03, 1.32139570e-03,\n",
       "       1.34411034e-04, 8.56119106e-06, 4.75643675e-03, 3.11994024e-04,\n",
       "       2.03385435e-04, 8.25930290e-05, 5.75045747e-04, 3.89935286e-04,\n",
       "       1.22780232e-03, 1.14424266e-04, 1.41608696e-04, 8.32015576e-05,\n",
       "       5.40202038e-04, 6.91293031e-04, 2.34477666e-04, 2.45066889e-03,\n",
       "       1.29834682e-03, 1.78012129e-04, 1.15245287e-04, 1.98943941e-04,\n",
       "       1.02831176e-03, 2.84967948e-03, 2.52458458e-04, 9.52523651e-04,\n",
       "       4.96697781e-05, 2.82556938e-03, 1.34473899e-03, 8.11876931e-04,\n",
       "       4.60792193e-04, 1.83236256e-04, 5.12329337e-04, 7.33064554e-04,\n",
       "       3.19027601e-03, 1.16631293e-04, 2.61884093e-04, 1.16885751e-03,\n",
       "       3.35294733e-03, 6.11041779e-04, 1.10794868e-03, 3.07081043e-03,\n",
       "       1.47989278e-04, 4.97257010e-04, 3.31895183e-03, 4.33686939e-03,\n",
       "       2.46214677e-04, 3.75318567e-04, 2.08622500e-03, 2.06117453e-03,\n",
       "       6.06563211e-05, 1.28114820e-03, 9.58971239e-04, 3.54935882e-06,\n",
       "       3.47455674e-05, 4.51600899e-04, 6.84719415e-04, 2.42112788e-03,\n",
       "       3.65994643e-05, 2.10241080e-03, 5.32594720e-04, 6.07117380e-04,\n",
       "       2.42061827e-03, 1.77379547e-03, 1.77372429e-05, 4.61744264e-04,\n",
       "       1.23035430e-03, 7.19709263e-05, 5.89098989e-04, 1.10033282e-03,\n",
       "       1.71094536e-04, 1.49421036e-04, 7.66197251e-05, 4.46427697e-05,\n",
       "       8.58747994e-04, 2.43628118e-03, 1.01513995e-04, 5.81691698e-05,\n",
       "       1.52749631e-03, 2.43479706e-04, 2.44408825e-04, 3.93485308e-05,\n",
       "       3.07741697e-05, 1.92635534e-04, 2.42342746e-04, 2.58194997e-04,\n",
       "       1.15627816e-04, 8.67677999e-04, 1.40451586e-05, 2.28132211e-05,\n",
       "       2.34762596e-03, 4.42416502e-05, 1.11979814e-04, 2.92723057e-04,\n",
       "       3.89304349e-03, 3.99756809e-04, 1.49035578e-03, 1.22081277e-03,\n",
       "       2.10008625e-04, 3.38074168e-05, 1.97933238e-03, 3.60463879e-04,\n",
       "       5.16609287e-04, 1.38961383e-03, 6.93050940e-05, 2.34833242e-04,\n",
       "       1.62558310e-03, 2.98241609e-04, 1.97757604e-03, 2.01049023e-05,\n",
       "       8.21075775e-04, 7.22517137e-05, 1.57182434e-03, 2.73486882e-04,\n",
       "       1.11970318e-04, 1.19075139e-03, 2.24559235e-03, 2.54145915e-03,\n",
       "       2.42606654e-03, 1.87229026e-03, 3.75322767e-05, 8.20432691e-05,\n",
       "       1.74858955e-04, 9.85404753e-04, 1.53341592e-03, 2.29526363e-03,\n",
       "       2.22559544e-04, 1.73138560e-05, 3.63480468e-04, 1.10257011e-03,\n",
       "       5.53529445e-04, 9.98502522e-05, 1.13385467e-03, 3.08867859e-05,\n",
       "       8.20926500e-05, 1.02170860e-03, 7.91356678e-05, 5.08169961e-04,\n",
       "       3.88490575e-03, 4.12684329e-04])"
      ]
     },
     "execution_count": 110,
     "metadata": {},
     "output_type": "execute_result"
    }
   ],
   "source": [
    "importances"
   ]
  },
  {
   "cell_type": "code",
   "execution_count": 111,
   "metadata": {},
   "outputs": [
    {
     "name": "stdout",
     "output_type": "stream",
     "text": [
      "Feature ranking:\n",
      "1. feature 0 (0.209794)\n",
      "2. feature 28 (0.016519)\n",
      "3. feature 65 (0.016264)\n",
      "4. feature 19 (0.015816)\n",
      "5. feature 121 (0.012658)\n",
      "6. feature 131 (0.012506)\n",
      "7. feature 106 (0.011774)\n",
      "8. feature 148 (0.011451)\n",
      "9. feature 35 (0.011379)\n",
      "10. feature 117 (0.010569)\n"
     ]
    },
    {
     "data": {
      "image/png": "[encoded data removed]",
      "text/plain": [
       "<Figure size 432x288 with 1 Axes>"
      ]
     },
     "metadata": {
      "needs_background": "light"
     },
     "output_type": "display_data"
    }
   ],
   "source": [
    "std = np.std([tree.feature_importances_ for tree in forest.estimators_],\n",
    "             axis=0)\n",
    "indices = np.argsort(importances)[::-1]\n",
    "\n",
    "# Print the feature ranking\n",
    "print(\"Feature ranking:\")\n",
    "\n",
    "for f in range(X.shape[1]):\n",
    "    print(\"%d. feature %d (%f)\" % (f + 1, indices[f], importances[indices[f]]))\n",
    "\n",
    "# Plot the impurity-based feature importances of the forest\n",
    "plt.figure()\n",
    "plt.title(\"Feature importances\")\n",
    "plt.bar(range(x_dummy.shape[1]), importances[indices],\n",
    "        color=\"r\", yerr=std[indices], align=\"center\")\n",
    "plt.xticks(range(x_dummy.shape[1]), indices)\n",
    "plt.xlim([-1, x_dummy.shape[1]])\n",
    "plt.show()"
   ]
  },
  {
   "cell_type": "markdown",
   "metadata": {},
   "source": [
    "## PCA "
   ]
  },
  {
   "cell_type": "markdown",
   "metadata": {},
   "source": [
    "### Standardizing input variables"
   ]
  },
  {
   "cell_type": "code",
   "execution_count": 13,
   "metadata": {},
   "outputs": [],
   "source": [
    "from sklearn.preprocessing import StandardScaler\n",
    "import numpy as np\n",
    "\n",
    "#Standardized the dataset\n",
    "\n",
    "sc_x= StandardScaler()\n",
    "x_std = sc_x.fit_transform(x_dummy)"
   ]
  },
  {
   "cell_type": "markdown",
   "metadata": {},
   "source": [
    "### 1. Computing the mean vector"
   ]
  },
  {
   "cell_type": "code",
   "execution_count": 14,
   "metadata": {},
   "outputs": [],
   "source": [
    "import numpy as np\n",
    "\n",
    "mean_vec = np.mean(x_std, axis = 0)"
   ]
  },
  {
   "cell_type": "markdown",
   "metadata": {},
   "source": [
    "### 2. Computing the Covariance Matrix"
   ]
  },
  {
   "cell_type": "code",
   "execution_count": 15,
   "metadata": {},
   "outputs": [],
   "source": [
    "cov_mat = (x_std - mean_vec).T.dot((x_std - mean_vec))/ (x_std.shape[0]-1)"
   ]
  },
  {
   "cell_type": "code",
   "execution_count": 16,
   "metadata": {},
   "outputs": [
    {
     "name": "stdout",
     "output_type": "stream",
     "text": [
      "[[ 1.0000994  -0.01061823  0.03341413 ... -0.00481598  0.02208495\n",
      "   0.01667836]\n",
      " [-0.01061823  1.0000994  -0.025556   ... -0.00378622  0.00440434\n",
      "  -0.00535666]\n",
      " [ 0.03341413 -0.025556    1.0000994  ... -0.00537186 -0.00293924\n",
      "  -0.00759998]\n",
      " ...\n",
      " [-0.00481598 -0.00378622 -0.00537186 ...  1.0000994  -0.00325293\n",
      "  -0.00112597]\n",
      " [ 0.02208495  0.00440434 -0.00293924 ... -0.00325293  1.0000994\n",
      "  -0.00460217]\n",
      " [ 0.01667836 -0.00535666 -0.00759998 ... -0.00112597 -0.00460217\n",
      "   1.0000994 ]]\n"
     ]
    }
   ],
   "source": [
    "print(cov_mat)"
   ]
  },
  {
   "cell_type": "markdown",
   "metadata": {},
   "source": [
    "### 3. Computing eigenvectors and corresponding eigenvalues"
   ]
  },
  {
   "cell_type": "code",
   "execution_count": 17,
   "metadata": {},
   "outputs": [],
   "source": [
    "eig_vals, eig_vecs = np.linalg.eig(cov_mat)"
   ]
  },
  {
   "cell_type": "code",
   "execution_count": 18,
   "metadata": {},
   "outputs": [
    {
     "name": "stdout",
     "output_type": "stream",
     "text": [
      "[[-1.96271097e-02  5.40044463e-02 -3.83733504e-02 ...  1.28257603e-05\n",
      "   2.90076660e-05 -6.77124680e-06]\n",
      " [ 4.16323478e-03  2.51522080e-02 -2.22973030e-02 ... -8.00657907e-04\n",
      "  -2.44616481e-04 -8.61290368e-06]\n",
      " [ 9.22597753e-02 -1.44261907e-01  6.18979306e-03 ...  5.48887652e-05\n",
      "   3.36274159e-04 -5.35155090e-04]\n",
      " ...\n",
      " [ 5.48206124e-03  1.17646999e-02  1.68615829e-03 ... -3.26929558e-02\n",
      "  -1.74793923e-02 -3.57887980e-02]\n",
      " [ 8.02170735e-03  1.41096388e-02 -5.89984431e-02 ...  6.97427147e-05\n",
      "  -4.22591115e-04 -2.73299994e-04]\n",
      " [-2.38043359e-02 -9.46119912e-03  1.91917842e-03 ... -2.46667297e-02\n",
      "   2.88557692e-02 -1.17320074e-02]]\n"
     ]
    }
   ],
   "source": [
    "print(eig_vecs)"
   ]
  },
  {
   "cell_type": "code",
   "execution_count": 19,
   "metadata": {},
   "outputs": [
    {
     "name": "stdout",
     "output_type": "stream",
     "text": [
      "[ 3.73115733e+00  3.52334639e+00  3.27769975e+00  3.01463188e+00\n",
      "  3.01167809e+00  2.92226004e+00  2.68225723e+00  2.64939513e+00\n",
      "  2.57941069e+00  2.40702119e+00  2.39722433e+00  2.33302765e+00\n",
      "  2.26535392e+00  2.24159615e+00  2.18117549e+00  2.16315880e+00\n",
      "  2.13261724e+00  2.11613181e+00  2.09679085e+00  2.05202437e+00\n",
      "  2.03349768e+00  1.99477996e+00  1.98107585e+00  1.95579629e+00\n",
      "  1.91304144e+00  1.90614808e+00  1.88865071e+00  1.86809427e+00\n",
      "  1.86102216e+00  1.83078109e+00  1.79785741e+00  1.77721435e+00\n",
      "  1.75821446e+00  6.29650578e-02  6.77947401e-02  8.65218957e-02\n",
      "  1.15348153e-01  1.26894089e-01  1.22118608e-02  6.24201287e-03\n",
      "  2.38137672e-03  5.14578198e-04  9.20660154e-05  1.60546153e-01\n",
      "  1.74646855e+00  1.73014198e+00  1.70330305e+00  1.69313163e+00\n",
      "  1.67126710e+00  1.65556067e+00  1.64994199e+00  1.64548686e+00\n",
      "  1.63160843e+00  1.62043176e+00  1.60724789e+00  1.59563578e+00\n",
      "  1.58481042e+00  1.57974593e+00  1.57669467e+00  1.76116111e-01\n",
      "  1.86116687e-01  1.91991755e-01  2.07580295e-01  2.11891148e-01\n",
      "  2.27597173e-01  2.35972897e-01  2.40801681e-01  2.44428429e-01\n",
      "  2.44791769e-01  2.55446464e-01  2.60037684e-01  2.65585086e-01\n",
      "  2.69613354e-01  2.84421541e-01  2.97905417e-01  3.00699811e-01\n",
      "  5.57433604e-16  1.03745104e-15  7.24609719e-16  1.55719624e+00\n",
      "  1.54787598e+00  1.54402573e+00  1.52631152e+00  1.51965260e+00\n",
      "  1.50400139e+00  1.49668656e+00  1.50826056e+00  1.48083169e+00\n",
      "  3.07277253e-01  3.15257634e-01  3.20772159e-01  3.24853354e-01\n",
      "  3.32842291e-01  3.38422797e-01  3.43846005e-01  3.55286244e-01\n",
      "  3.57648166e-01  3.59822583e-01  3.67014926e-01  3.71357732e-01\n",
      "  3.82510125e-01  3.76556997e-01  3.78799611e-01 -4.24237644e-16\n",
      " -1.07818700e-15 -1.26925947e-15  1.47156766e+00  1.46198309e+00\n",
      "  1.45842615e+00  1.45409240e+00  1.44754625e+00  1.43808531e+00\n",
      "  1.42982664e+00  1.41387072e+00  1.41799823e+00  1.40173247e+00\n",
      "  1.39845807e+00  3.86142794e-01  3.93762377e-01  3.96285183e-01\n",
      "  4.02322807e-01  4.09246420e-01  4.97024517e-01  4.18100189e-01\n",
      "  4.21646381e-01  4.25421644e-01  4.27364693e-01  4.85006433e-01\n",
      "  4.34461488e-01  4.37841436e-01  4.40867224e-01  4.47103850e-01\n",
      "  4.79557834e-01  4.76374278e-01  4.58794451e-01  4.61633111e-01\n",
      "  4.63717573e-01  4.69281803e-01  4.70600408e-01  1.39107714e+00\n",
      "  1.38001142e+00  1.37581817e+00  5.12169124e-01  5.05701978e-01\n",
      "  5.01048172e-01  1.36873579e+00  1.36442862e+00  1.36132892e+00\n",
      "  1.35528685e+00  5.38848341e-01  5.32416508e-01  5.27955853e-01\n",
      "  5.15620570e-01  5.22373777e-01  5.19619351e-01  1.34150140e+00\n",
      "  1.33326056e+00  1.33172401e+00  1.32541829e+00  1.32016295e+00\n",
      "  1.31757698e+00  1.31282375e+00  5.47409732e-01  5.73764970e-01\n",
      "  5.57776010e-01  5.62456694e-01  5.60565117e-01  1.30362401e+00\n",
      "  1.29365682e+00  1.28813817e+00  1.28612068e+00  1.27797564e+00\n",
      "  1.27889173e+00  1.27166374e+00  5.75409485e-01  5.82953171e-01\n",
      "  5.84165890e-01  5.67635825e-01  5.92720283e-01  5.95924592e-01\n",
      "  6.01496313e-01  6.12102624e-01  6.19032700e-01  6.23753410e-01\n",
      "  6.21525819e-01  6.33903941e-01  6.43489394e-01  6.40142450e-01\n",
      "  1.26618976e+00  1.26305202e+00  1.25474629e+00  1.25002585e+00\n",
      "  1.24328086e+00  1.23997418e+00  1.23140299e+00  1.22423637e+00\n",
      "  1.22129625e+00  6.44854993e-01  6.51711341e-01  6.53872352e-01\n",
      "  6.57034277e-01  6.63665874e-01  6.65148951e-01  6.70113678e-01\n",
      "  6.68561854e-01  7.24097958e-01  7.25893681e-01  6.78438170e-01\n",
      "  6.82696335e-01  6.86751386e-01  7.17233685e-01  7.12745860e-01\n",
      "  7.09429173e-01  6.94844112e-01  6.97999581e-01  7.03755685e-01\n",
      "  7.02875179e-01  1.21498433e+00  7.33912729e-01  1.21328672e+00\n",
      "  1.20510587e+00  1.20378571e+00  1.19674181e+00  7.52282988e-01\n",
      "  7.46011626e-01  7.41269851e-01  7.38124275e-01  1.19005212e+00\n",
      "  1.18683327e+00  1.18528624e+00  1.17928907e+00  1.17184541e+00\n",
      "  1.17072204e+00  7.61013363e-01  7.56231059e-01  7.65052394e-01\n",
      "  7.67787123e-01  7.75496877e-01  7.86806604e-01  7.79634795e-01\n",
      "  7.82451253e-01  1.17572279e+00  1.16749849e+00  1.16313982e+00\n",
      "  1.15962794e+00  1.15533942e+00  1.14989014e+00  1.14647973e+00\n",
      "  1.14030189e+00  1.14210722e+00  7.72794725e-01  7.91018761e-01\n",
      "  7.97799834e-01  8.03678465e-01  8.06799484e-01  8.10396174e-01\n",
      "  8.38533841e-01  8.35502498e-01  8.29816160e-01  8.21314410e-01\n",
      "  8.24914086e-01  8.17858452e-01  8.13982595e-01  1.13169869e+00\n",
      "  1.09794530e+00  1.10262352e+00  1.12671418e+00  1.11058669e+00\n",
      "  1.12420542e+00  1.11345728e+00  1.11670127e+00  1.12240990e+00\n",
      "  1.11952289e+00  8.43664999e-01  8.46626124e-01  8.94525826e-01\n",
      "  8.89457753e-01  8.88407622e-01  8.51388167e-01  8.79098676e-01\n",
      "  8.77883269e-01  8.72269397e-01  8.55669763e-01  8.54373768e-01\n",
      "  8.62544009e-01  8.65742386e-01  8.66703514e-01  1.10082226e+00\n",
      "  1.09486591e+00  1.09208844e+00  9.01795067e-01  9.02934083e-01\n",
      "  1.08719194e+00  1.08625996e+00  1.08264035e+00  1.07947774e+00\n",
      "  1.07672232e+00  1.07401264e+00  1.07111463e+00  1.06751840e+00\n",
      "  1.06362579e+00  9.12596591e-01  9.14897994e-01  9.17425830e-01\n",
      "  9.22698621e-01  9.27320416e-01  9.28214939e-01  9.31345858e-01\n",
      "  9.33802089e-01  9.40870459e-01  9.41656144e-01  9.45209280e-01\n",
      "  9.48083040e-01  9.49288555e-01  9.51933454e-01  9.53730139e-01\n",
      "  1.05944701e+00  9.56792658e-01  1.05570348e+00  1.05362065e+00\n",
      "  1.05261642e+00  1.05112619e+00  1.04912736e+00  1.04641971e+00\n",
      "  1.04444133e+00  1.04295605e+00  9.62403695e-01  9.64357204e-01\n",
      "  9.66529359e-01  9.69018383e-01  9.71505698e-01  1.03917689e+00\n",
      "  1.03670540e+00  1.03509651e+00  1.03224384e+00  1.03148233e+00\n",
      "  1.02920965e+00  1.02774860e+00  9.82156705e-01  1.02666305e+00\n",
      "  1.02640378e+00  1.02446864e+00  1.02272238e+00  1.02169683e+00\n",
      "  1.02102983e+00  1.01965609e+00  1.01878004e+00  1.01751810e+00\n",
      "  1.01727702e+00  1.01562984e+00  1.01394439e+00  1.01375679e+00\n",
      "  1.01306871e+00  1.01263803e+00  1.01185789e+00  1.01076710e+00\n",
      "  1.01020553e+00  1.00983548e+00  1.00940523e+00  1.00834843e+00\n",
      "  1.00778615e+00  1.00731664e+00  9.98190608e-01  1.00691505e+00\n",
      "  1.00666948e+00  1.00623110e+00  1.00614105e+00  1.00606678e+00\n",
      "  1.00562667e+00  1.00536060e+00  1.00517659e+00  1.00495154e+00\n",
      "  1.00487748e+00  1.00457882e+00  1.00454360e+00  1.00448496e+00\n",
      "  1.00419322e+00  1.00398601e+00  1.00379544e+00  1.00393066e+00\n",
      "  1.00389643e+00  1.00355848e+00  1.00348005e+00  1.00338708e+00\n",
      "  1.00328509e+00  1.00324561e+00  1.00310794e+00  1.00299572e+00\n",
      "  1.00285338e+00  1.00273870e+00  1.00266926e+00  1.00252993e+00\n",
      "  1.00246189e+00  1.00242421e+00  1.00237951e+00  1.00219487e+00\n",
      "  1.00214485e+00  1.00211861e+00  1.00209033e+00  1.00199936e+00\n",
      "  1.00195610e+00  1.00189502e+00  1.00179936e+00  1.00182474e+00\n",
      "  1.00170601e+00  1.00022045e+00  1.00022722e+00  1.00023709e+00\n",
      "  1.00024546e+00  1.00025409e+00  1.00027365e+00  1.00029276e+00\n",
      "  1.00031448e+00  1.00031094e+00  1.00157616e+00  1.00154297e+00\n",
      "  1.00149938e+00  1.00159478e+00  1.00143109e+00  1.00138607e+00\n",
      "  1.00133020e+00  1.00136036e+00  1.00120884e+00  1.00124266e+00\n",
      "  1.00117665e+00  1.00111598e+00  1.00114273e+00  1.00131647e+00\n",
      "  1.00106726e+00  1.00101957e+00  1.00098979e+00  1.00095449e+00\n",
      "  1.00092200e+00  1.00089553e+00  1.00034827e+00  1.00085972e+00\n",
      "  1.00083517e+00  1.00035747e+00  1.00037733e+00  1.00081723e+00\n",
      "  1.00039231e+00  1.00039883e+00  1.00041215e+00  1.00043045e+00\n",
      "  1.00043729e+00  1.00077974e+00  1.00075478e+00  1.00076870e+00\n",
      "  1.00046601e+00  1.00049442e+00  1.00050101e+00  1.00052072e+00\n",
      "  1.00052758e+00  1.00058867e+00  1.00056552e+00  1.00060548e+00\n",
      "  1.00061796e+00  1.00070669e+00  1.00067840e+00  1.00069644e+00\n",
      "  1.00066741e+00  1.00064994e+00]\n"
     ]
    }
   ],
   "source": [
    "print(eig_vals)"
   ]
  },
  {
   "cell_type": "markdown",
   "metadata": {},
   "source": [
    "If eigen value is high for eigen vector that means vector has a lot of variance."
   ]
  },
  {
   "cell_type": "markdown",
   "metadata": {},
   "source": [
    "### 4.Sorting the eigenvectors by decreasing eigenvalues"
   ]
  },
  {
   "cell_type": "code",
   "execution_count": 20,
   "metadata": {},
   "outputs": [
    {
     "name": "stdout",
     "output_type": "stream",
     "text": [
      "Eigenvalues in descending order:\n",
      "3.7311573348245135\n",
      "3.5233463949484585\n",
      "3.2776997544639386\n",
      "3.014631875219128\n",
      "3.0116780949136683\n",
      "2.9222600355590407\n",
      "2.6822572280700756\n",
      "2.6493951314653286\n",
      "2.5794106947910995\n",
      "2.407021190186595\n",
      "2.3972243300579112\n",
      "2.333027652613962\n",
      "2.2653539161294565\n",
      "2.2415961451825637\n",
      "2.181175493281969\n",
      "2.1631588001572113\n",
      "2.1326172378689883\n",
      "2.116131808428123\n",
      "2.0967908542118248\n",
      "2.052024372825011\n",
      "2.0334976837699297\n",
      "1.9947799624529592\n",
      "1.9810758462353684\n",
      "1.95579628805063\n",
      "1.9130414421770667\n",
      "1.9061480845510592\n",
      "1.8886507105912518\n",
      "1.868094268188614\n",
      "1.8610221629387533\n",
      "1.830781085436548\n",
      "1.7978574117376416\n",
      "1.7772143523316448\n",
      "1.7582144598125182\n",
      "1.746468553885224\n",
      "1.7301419831909985\n",
      "1.7033030526607584\n",
      "1.6931316336034221\n",
      "1.6712671029970598\n",
      "1.655560668241881\n",
      "1.6499419908279964\n",
      "1.6454868637248947\n",
      "1.631608425969936\n",
      "1.6204317592403186\n",
      "1.6072478937151562\n",
      "1.5956357758625754\n",
      "1.5848104237922167\n",
      "1.5797459251406525\n",
      "1.5766946680471263\n",
      "1.5571962419309795\n",
      "1.5478759825442627\n",
      "1.5440257275919587\n",
      "1.526311518898715\n",
      "1.5196526025597235\n",
      "1.5082605630001344\n",
      "1.5040013904450014\n",
      "1.4966865589355272\n",
      "1.480831691484246\n",
      "1.4715676584436497\n",
      "1.4619830851071867\n",
      "1.4584261500386897\n",
      "1.4540924012337582\n",
      "1.447546248100757\n",
      "1.4380853061921057\n",
      "1.4298266434449187\n",
      "1.417998225229622\n",
      "1.413870717333135\n",
      "1.4017324681837842\n",
      "1.398458066256414\n",
      "1.3910771393400005\n",
      "1.3800114194770867\n",
      "1.37581817345585\n",
      "1.3687357909727198\n",
      "1.364428615029419\n",
      "1.3613289163526436\n",
      "1.3552868506391886\n",
      "1.341501395036458\n",
      "1.333260559125742\n",
      "1.3317240134383805\n",
      "1.325418286062892\n",
      "1.3201629450661916\n",
      "1.3175769799014874\n",
      "1.312823747565453\n",
      "1.3036240133364998\n",
      "1.2936568193211728\n",
      "1.2881381723482492\n",
      "1.2861206813088606\n",
      "1.2788917270652007\n",
      "1.277975637477651\n",
      "1.2716637402652917\n",
      "1.2661897616269666\n",
      "1.2630520201585225\n",
      "1.2547462853858857\n",
      "1.2500258531616613\n",
      "1.2432808585226864\n",
      "1.2399741765333196\n",
      "1.231402989607102\n",
      "1.2242363670125476\n",
      "1.2212962505412617\n",
      "1.2149843333396986\n",
      "1.2132867190397987\n",
      "1.2051058704491715\n",
      "1.2037857138721895\n",
      "1.1967418082137538\n",
      "1.1900521159698014\n",
      "1.1868332693322639\n",
      "1.1852862440532503\n",
      "1.1792890691990392\n",
      "1.175722786812484\n",
      "1.1718454145449337\n",
      "1.170722043148948\n",
      "1.1674984868478862\n",
      "1.163139817756542\n",
      "1.1596279357401513\n",
      "1.1553394249582674\n",
      "1.1498901363211307\n",
      "1.1464797306027381\n",
      "1.1421072171595192\n",
      "1.1403018937301048\n",
      "1.1316986879798623\n",
      "1.1267141753721734\n",
      "1.1242054242899602\n",
      "1.1224099029726429\n",
      "1.119522885126785\n",
      "1.1167012748549405\n",
      "1.113457280666368\n",
      "1.1105866940490503\n",
      "1.1026235159579973\n",
      "1.1008222606490385\n",
      "1.0979453045019631\n",
      "1.0948659148857685\n",
      "1.0920884409096516\n",
      "1.0871919416162574\n",
      "1.086259956858074\n",
      "1.0826403500960762\n",
      "1.079477743108495\n",
      "1.0767223192075048\n",
      "1.074012642379305\n",
      "1.071114628045684\n",
      "1.0675184004790583\n",
      "1.063625789228575\n",
      "1.059447009665499\n",
      "1.055703483205471\n",
      "1.0536206479429189\n",
      "1.0526164178713469\n",
      "1.0511261918099308\n",
      "1.049127357064384\n",
      "1.046419712430931\n",
      "1.0444413309337082\n",
      "1.0429560512749265\n",
      "1.0391768880695653\n",
      "1.0367053997605686\n",
      "1.0350965086302912\n",
      "1.0322438390806439\n",
      "1.0314823287745511\n",
      "1.0292096536347\n",
      "1.0277486008506278\n",
      "1.0266630480024421\n",
      "1.0264037809693323\n",
      "1.024468637165268\n",
      "1.022722379934264\n",
      "1.021696833704382\n",
      "1.021029828143839\n",
      "1.019656085792575\n",
      "1.0187800372944402\n",
      "1.017518095150334\n",
      "1.0172770210675577\n",
      "1.0156298433171274\n",
      "1.0139443880864216\n",
      "1.0137567909888074\n",
      "1.013068712410298\n",
      "1.012638034789506\n",
      "1.0118578917530145\n",
      "1.0107670973405285\n",
      "1.0102055253647944\n",
      "1.009835482931931\n",
      "1.0094052300071756\n",
      "1.00834842710712\n",
      "1.0077861458793793\n",
      "1.007316640473264\n",
      "1.006915053116815\n",
      "1.006669481131354\n",
      "1.006231100622564\n",
      "1.006141045830086\n",
      "1.0060667815630286\n",
      "1.005626672175556\n",
      "1.0053605978656526\n",
      "1.0051765909763943\n",
      "1.004951537672821\n",
      "1.0048774773628382\n",
      "1.0045788234725568\n",
      "1.0045435985617623\n",
      "1.0044849595319945\n",
      "1.0041932241895581\n",
      "1.0039860127236553\n",
      "1.003930663977702\n",
      "1.0038964310436924\n",
      "1.0037954392096342\n",
      "1.0035584774152417\n",
      "1.0034800547459277\n",
      "1.0033870845529984\n",
      "1.0032850935119149\n",
      "1.0032456080036871\n",
      "1.0031079388876574\n",
      "1.0029957239789051\n",
      "1.002853381681766\n",
      "1.002738698178475\n",
      "1.0026692555795704\n",
      "1.00252993204993\n",
      "1.0024618949316932\n",
      "1.0024242086417352\n",
      "1.0023795079179632\n",
      "1.0021948693150877\n",
      "1.0021448505181663\n",
      "1.0021186107020144\n",
      "1.002090329606372\n",
      "1.0019993586334646\n",
      "1.0019561035599631\n",
      "1.0018950209070636\n",
      "1.0018247420192348\n",
      "1.0017993597698593\n",
      "1.0017060115955456\n",
      "1.0015947825267293\n",
      "1.0015761582342273\n",
      "1.0015429730679242\n",
      "1.001499377592988\n",
      "1.0014310923217997\n",
      "1.0013860666160634\n",
      "1.0013603601871053\n",
      "1.001330198397499\n",
      "1.0013164684763094\n",
      "1.0012426649605366\n",
      "1.0012088365867762\n",
      "1.0011766473740737\n",
      "1.0011427272076077\n",
      "1.0011159783413177\n",
      "1.0010672644338972\n",
      "1.0010195725910997\n",
      "1.0009897893517425\n",
      "1.0009544947302291\n",
      "1.000921997391892\n",
      "1.0008955271718087\n",
      "1.0008597249591307\n",
      "1.0008351678418637\n",
      "1.0008172346863213\n",
      "1.0007797436304955\n",
      "1.0007687018035387\n",
      "1.0007547779240717\n",
      "1.00070669013254\n",
      "1.0006964377649608\n",
      "1.0006783971349669\n",
      "1.0006674093248416\n",
      "1.0006499355365595\n",
      "1.000617959307236\n",
      "1.0006054779865206\n",
      "1.0005886720059047\n",
      "1.0005655151075494\n",
      "1.0005275807153085\n",
      "1.000520721687189\n",
      "1.0005010061105128\n",
      "1.0004944210516284\n",
      "1.00046600741367\n",
      "1.000437289893857\n",
      "1.0004304509786333\n",
      "1.0004121467359361\n",
      "1.000398826338321\n",
      "1.0003923108163615\n",
      "1.0003773331036874\n",
      "1.0003574653400917\n",
      "1.0003482698258779\n",
      "1.0003144816455183\n",
      "1.000310941141838\n",
      "1.0002927580750722\n",
      "1.0002736485392232\n",
      "1.0002540938043387\n",
      "1.0002454609102427\n",
      "1.0002370911351477\n",
      "1.0002272217545691\n",
      "1.0002204546424767\n",
      "0.998190607897107\n",
      "0.9821567046848789\n",
      "0.9715056981104826\n",
      "0.9690183825104933\n",
      "0.9665293588580182\n",
      "0.96435720353173\n",
      "0.9624036951979477\n",
      "0.9567926583598034\n",
      "0.9537301388738013\n",
      "0.951933453623667\n",
      "0.9492885551573298\n",
      "0.9480830397531201\n",
      "0.9452092804660335\n",
      "0.9416561439527793\n",
      "0.9408704593014138\n",
      "0.93380208914446\n",
      "0.9313458581648593\n",
      "0.928214938835939\n",
      "0.9273204159743893\n",
      "0.9226986213290241\n",
      "0.9174258304699782\n",
      "0.9148979937056324\n",
      "0.9125965910715249\n",
      "0.9029340825349916\n",
      "0.9017950672043528\n",
      "0.8945258260532827\n",
      "0.889457752897168\n",
      "0.8884076218784326\n",
      "0.8790986763831038\n",
      "0.8778832693791934\n",
      "0.8722693974457075\n",
      "0.8667035144391577\n",
      "0.8657423864378714\n",
      "0.8625440093982549\n",
      "0.855669762971855\n",
      "0.8543737682688193\n",
      "0.851388167280491\n",
      "0.8466261243267341\n",
      "0.8436649994645823\n",
      "0.8385338407872647\n",
      "0.8355024983156749\n",
      "0.8298161601230114\n",
      "0.8249140861567423\n",
      "0.8213144097863161\n",
      "0.8178584516781081\n",
      "0.8139825947009759\n",
      "0.8103961742872113\n",
      "0.8067994843155977\n",
      "0.8036784653319697\n",
      "0.7977998339185207\n",
      "0.7910187607678758\n",
      "0.7868066035903404\n",
      "0.7824512525136638\n",
      "0.7796347947558404\n",
      "0.7754968774835405\n",
      "0.7727947252908302\n",
      "0.767787122936832\n",
      "0.7650523944054236\n",
      "0.7610133632565274\n",
      "0.7562310585489981\n",
      "0.7522829877276966\n",
      "0.7460116262009048\n",
      "0.741269850612631\n",
      "0.7381242746556061\n",
      "0.7339127288863142\n",
      "0.7258936809366693\n",
      "0.7240979579640738\n",
      "0.717233685204306\n",
      "0.712745860443263\n",
      "0.70942917341406\n",
      "0.7037556848902007\n",
      "0.7028751785989465\n",
      "0.6979995814395211\n",
      "0.6948441117559784\n",
      "0.6867513856505105\n",
      "0.6826963349119298\n",
      "0.6784381697461765\n",
      "0.6701136784918568\n",
      "0.6685618537985719\n",
      "0.6651489508630212\n",
      "0.663665874306415\n",
      "0.6570342766231763\n",
      "0.6538723518546059\n",
      "0.6517113413371157\n",
      "0.6448549927710581\n",
      "0.643489393682985\n",
      "0.6401424504119897\n",
      "0.6339039408704766\n",
      "0.6237534099990272\n",
      "0.6215258188156843\n",
      "0.619032699716161\n",
      "0.6121026236464056\n",
      "0.6014963132473699\n",
      "0.5959245915312684\n",
      "0.5927202832344325\n",
      "0.5841658898460108\n",
      "0.5829531710931691\n",
      "0.5754094854744564\n",
      "0.5737649695005326\n",
      "0.5676358251280351\n",
      "0.5624566938253568\n",
      "0.5605651171911771\n",
      "0.5577760104270276\n",
      "0.5474097315025821\n",
      "0.538848340997095\n",
      "0.5324165081484487\n",
      "0.5279558533883466\n",
      "0.5223737768450882\n",
      "0.5196193509266153\n",
      "0.5156205697472868\n",
      "0.5121691235095822\n",
      "0.5057019778092329\n",
      "0.5010481718102318\n",
      "0.49702451736031283\n",
      "0.48500643318899106\n",
      "0.4795578337370521\n",
      "0.47637427774577285\n",
      "0.47060040819451676\n",
      "0.46928180323488794\n",
      "0.46371757309785966\n",
      "0.46163311089860876\n",
      "0.4587944506221313\n",
      "0.4471038499758808\n",
      "0.440867224012586\n",
      "0.4378414357092077\n",
      "0.4344614878231151\n",
      "0.42736469279447437\n",
      "0.42542164424945195\n",
      "0.4216463805707249\n",
      "0.41810018941430804\n",
      "0.4092464202665469\n",
      "0.40232280733859394\n",
      "0.3962851828129166\n",
      "0.39376237691588045\n",
      "0.38614279354504427\n",
      "0.3825101251361777\n",
      "0.3787996106345556\n",
      "0.3765569965827229\n",
      "0.37135773235578373\n",
      "0.36701492556483056\n",
      "0.3598225829231173\n",
      "0.3576481660817027\n",
      "0.35528624429837513\n",
      "0.3438460047416155\n",
      "0.3384227971277544\n",
      "0.33284229131857423\n",
      "0.3248533537892042\n",
      "0.32077215865811615\n",
      "0.3152576339825889\n",
      "0.3072772528296636\n",
      "0.30069981124609363\n",
      "0.2979054174626664\n",
      "0.28442154116352447\n",
      "0.26961335428126126\n",
      "0.2655850864241574\n",
      "0.2600376844754931\n",
      "0.25544646446656716\n",
      "0.24479176908735403\n",
      "0.24442842946957122\n",
      "0.24080168050701845\n",
      "0.23597289667703755\n",
      "0.2275971732943075\n",
      "0.21189114803822984\n",
      "0.2075802949661456\n",
      "0.19199175545890085\n",
      "0.1861166874042761\n",
      "0.17611611051814594\n",
      "0.1605461534982881\n",
      "0.12689408906333022\n",
      "0.11534815283316925\n",
      "0.0865218957143227\n",
      "0.06779474008642365\n",
      "0.06296505776544581\n",
      "0.012211860783656122\n",
      "0.006242012868254978\n",
      "0.002381376715741882\n",
      "0.0005145781977827648\n",
      "9.206601537963119e-05\n",
      "1.2692594689365387e-15\n",
      "1.0781869964969801e-15\n",
      "1.0374510406277447e-15\n",
      "7.246097186105014e-16\n",
      "5.574336040126311e-16\n",
      "4.2423764387169683e-16\n"
     ]
    }
   ],
   "source": [
    "# Make a list of (eigenvalue, eigenvectors) tuples\n",
    "eig_pairs = [[np.abs(eig_vals[i]), eig_vecs[:,i]] for i in range(len(eig_vals))]\n",
    "\n",
    "# Sort the (eigenvalue, eigenvector) tuples from high to low\n",
    "eig_pairs.sort(key=lambda x: x[0], reverse=True)\n",
    "\n",
    "# Visually confirm that the list is correctly sorted by decreasing eigenvalues\n",
    "print(\"Eigenvalues in descending order:\")\n",
    "for i in eig_pairs:\n",
    "    print(i[0])"
   ]
  },
  {
   "cell_type": "markdown",
   "metadata": {},
   "source": [
    "### 5. Select components based on eigen values"
   ]
  },
  {
   "cell_type": "markdown",
   "metadata": {},
   "source": [
    "we have 462 components from which we have to select components based on eigen value which has high value.\n",
    "\n",
    "Here, filter out eigen values which has above 1.5"
   ]
  },
  {
   "cell_type": "code",
   "execution_count": 45,
   "metadata": {},
   "outputs": [
    {
     "name": "stdout",
     "output_type": "stream",
     "text": [
      "Number of components:391\n"
     ]
    },
    {
     "name": "stderr",
     "output_type": "stream",
     "text": [
      "C:\\Users\\USER\\Anaconda3\\envs\\DeepLearning\\lib\\site-packages\\ipykernel_launcher.py:1: VisibleDeprecationWarning: Creating an ndarray from ragged nested sequences (which is a list-or-tuple of lists-or-tuples-or ndarrays with different lengths or shapes) is deprecated. If you meant to do this, you must specify 'dtype=object' when creating the ndarray\n",
      "  \"\"\"Entry point for launching an IPython kernel.\n"
     ]
    }
   ],
   "source": [
    "pairs = np.array(eig_pairs)\n",
    "count = 0\n",
    "components = []\n",
    "\n",
    "for i in range(len(eig_pairs)):\n",
    "    if eig_pairs[i][0]>0.5:\n",
    "        count += 1\n",
    "        components.append(pairs[i])\n",
    "        \n",
    "print(\"Number of components:\" + str(count))   "
   ]
  },
  {
   "cell_type": "markdown",
   "metadata": {},
   "source": [
    "###  Let's check how much information the selected components contains."
   ]
  },
  {
   "cell_type": "code",
   "execution_count": 46,
   "metadata": {},
   "outputs": [],
   "source": [
    "#Calculate Explained Variance\n",
    "total = 0\n",
    "ein = []\n",
    "for i in range(len(components)):\n",
    "    total += components[i][0]\n",
    "    ein.append(components[i][0])\n",
    "    \n",
    "#divide eigen value by total eigen value and then multiple with 100 for the selected components     \n",
    "var_exp = [(i/ sum(eig_vals))*100 for i in sorted(ein, reverse=True)]\n",
    "cum_var_exp = np.cumsum(var_exp)"
   ]
  },
  {
   "cell_type": "code",
   "execution_count": 47,
   "metadata": {},
   "outputs": [
    {
     "data": {
      "text/plain": [
       "array([ 0.80752954,  1.57008283,  2.27947114,  2.931924  ,  3.58373758,\n",
       "        4.21619853,  4.79671599,  5.37012114,  5.92837965,  6.44932812,\n",
       "        6.96815627,  7.47309042,  7.96337803,  8.44852377,  8.92059276,\n",
       "        9.38876241,  9.85032199, 10.30831365, 10.76211938, 11.20623635,\n",
       "       11.64634362, 12.07807126, 12.50683293, 12.93012338, 13.34416046,\n",
       "       13.75670562, 14.16546384, 14.56977306, 14.97255167, 15.36878525,\n",
       "       15.7578932 , 16.14253339, 16.52306147, 16.90104739, 17.27549978,\n",
       "       17.64414345, 18.01058573, 18.3722959 , 18.73060675, 19.08770155,\n",
       "       19.44383214, 19.79695903, 20.14766698, 20.49552155, 20.84086293,\n",
       "       21.1838614 , 21.52576376, 21.86700574, 22.2040277 , 22.53903249,\n",
       "       22.87320398, 23.2035416 , 23.53243804, 23.85886892, 24.18437799,\n",
       "       24.50830392, 24.8287984 , 25.14728788, 25.46370298, 25.77934826,\n",
       "       26.09405559, 26.40734615, 26.71858909, 27.02804461, 27.33494013,\n",
       "       27.64094233, 27.94431747, 28.24698394, 28.54805296, 28.84672704,\n",
       "       29.14449358, 29.44072729, 29.73602881, 30.03065946, 30.32398244,\n",
       "       30.61432184, 30.9028777 , 31.191101  , 31.47795956, 31.76368071,\n",
       "       32.04884219, 32.33297493, 32.61511658, 32.89510105, 33.17389112,\n",
       "       33.45224455, 33.72903343, 34.00562404, 34.28084857, 34.55488838,\n",
       "       34.82824909, 35.0998122 , 35.37035367, 35.63943534, 35.90780134,\n",
       "       36.17431229, 36.43927218, 36.70359574, 36.96655323, 37.2291433 ,\n",
       "       37.4899628 , 37.75049658, 38.00950585, 38.26706729, 38.52393207,\n",
       "       38.78046204, 39.03569404, 39.2901542 , 39.54377518, 39.79715303,\n",
       "       40.04983322, 40.30157006, 40.55254683, 40.80259544, 41.05146467,\n",
       "       41.29959579, 41.54678058, 41.79357464, 42.03850671, 42.28236   ,\n",
       "       42.52567032, 42.76859204, 43.01088893, 43.25257514, 43.49355925,\n",
       "       43.73392209, 43.97256147, 44.210811  , 44.44843788, 44.68539829,\n",
       "       44.92175757, 45.15705711, 45.39215495, 45.62646939, 45.86009936,\n",
       "       46.09313297, 46.32558014, 46.55740009, 46.78844171, 47.01864086,\n",
       "       47.2479356 , 47.47642014, 47.70445389, 47.93227029, 48.15976417,\n",
       "       48.38682544, 48.6133007 , 48.83934779, 49.06507341, 49.28998112,\n",
       "       49.51435392, 49.73837852, 49.96178571, 50.18502809, 50.4077786 ,\n",
       "       50.6302129 , 50.85241225, 51.07455549, 51.29627991, 51.51762639,\n",
       "       51.73875091, 51.95973107, 52.18041391, 52.40090715, 52.62112727,\n",
       "       52.84129522, 53.06110667, 53.28055334, 53.4999594 , 53.71921655,\n",
       "       53.93838049, 54.15737558, 54.37613459, 54.59477206, 54.81332944,\n",
       "       55.03179371, 55.25002925, 55.4681431 , 55.68615533, 55.90408065,\n",
       "       56.12195282, 56.33973011, 56.55748791, 56.77522964, 56.99287612,\n",
       "       57.21046501, 57.42801407, 57.64551443, 57.86299876, 58.08041845,\n",
       "       58.29783052, 58.5152299 , 58.73256613, 58.94985752, 59.16713693,\n",
       "       59.38440894, 59.60165908, 59.81885794, 60.03603983, 60.25320159,\n",
       "       60.47034128, 60.68747243, 60.90457378, 61.12165084, 61.3386971 ,\n",
       "       61.55571853, 61.77272494, 61.98970119, 62.20666272, 62.42361609,\n",
       "       62.64055979, 62.85746352, 63.07435643, 63.29124366, 63.50812477,\n",
       "       63.72498619, 63.94183825, 64.15867709, 64.37550072, 64.59231886,\n",
       "       64.80911679, 65.02589065, 65.24266048, 65.45942313, 65.67617634,\n",
       "       65.89291477, 66.10964346, 66.32636658, 66.54308318, 66.7597968 ,\n",
       "       66.97649445, 67.19318478, 67.40986814, 67.62654416, 67.8432144 ,\n",
       "       68.05987409, 68.27652345, 68.49316638, 68.70980166, 68.92642991,\n",
       "       69.14305243, 69.3596672 , 69.57627666, 69.79288223, 70.00947969,\n",
       "       70.22607477, 70.44266682, 70.65924847, 70.87582791, 71.09240343,\n",
       "       71.30897658, 71.52554595, 71.7421084 , 71.95866814, 72.17522425,\n",
       "       72.39177535, 72.60831823, 72.82485963, 73.04139677, 73.25793248,\n",
       "       73.47446204, 73.69098538, 73.90750725, 74.12402515, 74.34054017,\n",
       "       74.55705378, 74.77356415, 74.99007022, 75.2065743 , 75.42307106,\n",
       "       75.63956706, 75.85605913, 76.07254705, 76.28903075, 76.50551258,\n",
       "       76.72199259, 76.93847047, 77.15494689, 77.37098399, 77.58355089,\n",
       "       77.79381261, 78.003536  , 78.21272069, 78.42143527, 78.62972705,\n",
       "       78.83680445, 79.04321902, 79.24924475, 79.45469804, 79.65989042,\n",
       "       79.86446084, 80.06826226, 80.27189363, 80.4739952 , 80.67556518,\n",
       "       80.87645753, 81.07715629, 81.27685475, 81.47541204, 81.67342222,\n",
       "       81.87093432, 82.06635517, 82.26152951, 82.45513057, 82.64763476,\n",
       "       82.83991167, 83.03017385, 83.22017299, 83.40895712, 83.59653664,\n",
       "       83.78390814, 83.97058742, 84.15577892, 84.34068993, 84.52495476,\n",
       "       84.70818896, 84.89078228, 85.07226507, 85.25309179, 85.43268783,\n",
       "       85.61122291, 85.78897892, 85.96598697, 86.14215617, 86.31754916,\n",
       "       86.49216372, 86.66610281, 86.83876959, 87.00996876, 87.18025629,\n",
       "       87.3496012 , 87.51833655, 87.68617633, 87.85343129, 88.01960246,\n",
       "       88.18518176, 88.34988689, 88.513557  , 88.67637263, 88.83783096,\n",
       "       88.99826303, 89.15801431, 89.31685409, 89.47395832, 89.6306739 ,\n",
       "       89.78590386, 89.94016252, 90.09370335, 90.24601628, 90.39813865,\n",
       "       90.54920579, 90.69959   , 90.84822271, 90.99597779, 91.14281129,\n",
       "       91.28784312, 91.4325391 , 91.57649642, 91.72013276, 91.86233384,\n",
       "       92.00385059, 92.14489963, 92.28446475, 92.42373433, 92.56227953,\n",
       "       92.69947454, 92.83447268, 92.9689887 , 93.10296515, 93.23544173,\n",
       "       93.36562279, 93.49459798, 93.62287966, 93.74930993, 93.87547772,\n",
       "       94.00001285, 94.12419206, 94.24704475, 94.36877652, 94.4900989 ,\n",
       "       94.61081764, 94.72929282, 94.84591506, 94.96114528, 95.07541008,\n",
       "       95.18846676, 95.3009273 , 95.41252239, 95.52337049, 95.63281891,\n",
       "       95.74126012])"
      ]
     },
     "execution_count": 47,
     "metadata": {},
     "output_type": "execute_result"
    }
   ],
   "source": [
    "cum_var_exp"
   ]
  },
  {
   "cell_type": "markdown",
   "metadata": {},
   "source": [
    "When we take threshold 1.5 we get 55 components and information traced equal to 25% only, and when we take 1 as threshold we get 278 components and information traced equal to 77% and when take 0.9 we get 303 components and 82% information traced.\n",
    "\n",
    "Finally with threshold 0.5 we get 391 components with 95.7% information traced."
   ]
  },
  {
   "cell_type": "markdown",
   "metadata": {},
   "source": [
    "### 6. Select components based on scree plot"
   ]
  },
  {
   "cell_type": "code",
   "execution_count": 49,
   "metadata": {},
   "outputs": [
    {
     "data": {
      "image/png": "[encoded data removed]",
      "text/plain": [
       "<Figure size 576x360 with 1 Axes>"
      ]
     },
     "metadata": {
      "needs_background": "light"
     },
     "output_type": "display_data"
    }
   ],
   "source": [
    "#import numpy as np\n",
    "import matplotlib\n",
    "import matplotlib.pyplot as plt\n",
    "\n",
    "#Make a random array and then make it positive-definite\n",
    "num_vars = len(eig_vals)\n",
    "num_obs = 9\n",
    "\n",
    "fig = plt.figure(figsize=(8,5))\n",
    "sing_vals = np.arange(num_vars) + 1 \n",
    "plt.plot(sing_vals, eig_vals, \"ro-\", linewidth=1)\n",
    "\n",
    "plt.title(\"Scree Plot\")\n",
    "plt.xlabel(\"Principal Components\")\n",
    "plt.ylabel(\"Eigenvalue\")\n",
    "plt.xlim(0,350)\n",
    "plt.show()"
   ]
  },
  {
   "cell_type": "code",
   "execution_count": 50,
   "metadata": {},
   "outputs": [],
   "source": [
    "#Calculate Explained Variance\n",
    "total = sum(eig_vals)\n",
    "\n",
    "#Divide eigen value by total eigen value and then multiple with 100 for the selected components\n",
    "var_exp = [(i / total)*100 for i in sorted(eig_vals, reverse = True)]\n",
    "cum_var_exp = np.cumsum(var_exp)"
   ]
  },
  {
   "cell_type": "code",
   "execution_count": 52,
   "metadata": {},
   "outputs": [
    {
     "data": {
      "image/png": "[encoded data removed]",
      "text/plain": [
       "<Figure size 432x288 with 1 Axes>"
      ]
     },
     "metadata": {
      "needs_background": "light"
     },
     "output_type": "display_data"
    }
   ],
   "source": [
    "plt.figure()\n",
    "plt.scatter([391], [cum_var_exp[391]], color='g')\n",
    "plt.plot(cum_var_exp)\n",
    "plt.xlabel(\"Principal Components\")\n",
    "plt.ylabel(\"Variance (%)\") #for each components\n",
    "plt.title(\"Dataset Explained Variance\")\n",
    "plt.show()"
   ]
  },
  {
   "cell_type": "code",
   "execution_count": 53,
   "metadata": {},
   "outputs": [
    {
     "data": {
      "text/plain": [
       "95.8488304894472"
      ]
     },
     "execution_count": 53,
     "metadata": {},
     "output_type": "execute_result"
    }
   ],
   "source": [
    "cum_var_exp[391]"
   ]
  },
  {
   "cell_type": "markdown",
   "metadata": {},
   "source": [
    "### 7. Deriving the new Data Set"
   ]
  },
  {
   "cell_type": "code",
   "execution_count": 55,
   "metadata": {},
   "outputs": [],
   "source": [
    "N = 462\n",
    "M = 391\n",
    "\n",
    "a = np.ndarray(shape = (N, 0))\n",
    "for i in range(M):\n",
    "    b = eig_pairs[i][1].reshape(N,1)\n",
    "    a = np.hstack((a,b))"
   ]
  },
  {
   "cell_type": "markdown",
   "metadata": {},
   "source": [
    "### Perform matrix calculation of original dataset with eigen vector of the selected components."
   ]
  },
  {
   "cell_type": "code",
   "execution_count": 56,
   "metadata": {},
   "outputs": [
    {
     "data": {
      "text/plain": [
       "array([[-0.01962711,  0.05400445, -0.03837335, ...,  0.0415191 ,\n",
       "        -0.07020617,  0.04413705],\n",
       "       [ 0.00416323,  0.02515221, -0.0222973 , ...,  0.00611038,\n",
       "         0.00333214,  0.11501473],\n",
       "       [ 0.09225978, -0.14426191,  0.00618979, ..., -0.01865306,\n",
       "        -0.00235159, -0.041701  ],\n",
       "       ...,\n",
       "       [ 0.00548206,  0.0117647 ,  0.00168616, ...,  0.00678731,\n",
       "         0.00364798,  0.00951781],\n",
       "       [ 0.00802171,  0.01410964, -0.05899844, ...,  0.02360486,\n",
       "        -0.03578142,  0.02261087],\n",
       "       [-0.02380434, -0.0094612 ,  0.00191918, ...,  0.04258336,\n",
       "         0.00399201,  0.03180504]])"
      ]
     },
     "execution_count": 56,
     "metadata": {},
     "output_type": "execute_result"
    }
   ],
   "source": [
    "a"
   ]
  },
  {
   "cell_type": "code",
   "execution_count": 60,
   "metadata": {},
   "outputs": [],
   "source": [
    "# Projection onto the new feature space\n",
    "final_x = x_std.dot(a)"
   ]
  },
  {
   "cell_type": "code",
   "execution_count": 61,
   "metadata": {},
   "outputs": [
    {
     "data": {
      "text/plain": [
       "array([[ 1.68708878,  2.24733823,  1.29931786, ..., -0.38402133,\n",
       "        -0.85311254,  0.5166397 ],\n",
       "       [ 1.67986865,  2.26720457,  1.28520165, ..., -0.36874791,\n",
       "        -0.87893893,  0.53287617],\n",
       "       [ 0.21130613, -0.40268351, -3.51723728, ...,  0.52424043,\n",
       "        -0.74219409,  0.06542107],\n",
       "       ...,\n",
       "       [ 1.8103428 ,  3.50253715,  1.30180163, ...,  1.884014  ,\n",
       "         0.78733139,  0.89316799],\n",
       "       [ 2.12778769,  5.12739201,  1.019449  , ...,  3.0772438 ,\n",
       "        -0.23347052,  0.95122469],\n",
       "       [-1.35985181,  0.67632406,  0.92400302, ...,  0.73367328,\n",
       "        -1.0468884 ,  0.86577555]])"
      ]
     },
     "execution_count": 61,
     "metadata": {},
     "output_type": "execute_result"
    }
   ],
   "source": [
    "final_x"
   ]
  },
  {
   "cell_type": "code",
   "execution_count": 62,
   "metadata": {},
   "outputs": [
    {
     "data": {
      "text/plain": [
       "(10061, 391)"
      ]
     },
     "execution_count": 62,
     "metadata": {},
     "output_type": "execute_result"
    }
   ],
   "source": [
    "final_x.shape"
   ]
  },
  {
   "cell_type": "code",
   "execution_count": 64,
   "metadata": {},
   "outputs": [
    {
     "data": {
      "text/html": [
       "<div>\n",
       "<style scoped>\n",
       "    .dataframe tbody tr th:only-of-type {\n",
       "        vertical-align: middle;\n",
       "    }\n",
       "\n",
       "    .dataframe tbody tr th {\n",
       "        vertical-align: top;\n",
       "    }\n",
       "\n",
       "    .dataframe thead th {\n",
       "        text-align: right;\n",
       "    }\n",
       "</style>\n",
       "<table border=\"1\" class=\"dataframe\">\n",
       "  <thead>\n",
       "    <tr style=\"text-align: right;\">\n",
       "      <th></th>\n",
       "      <th>0</th>\n",
       "      <th>1</th>\n",
       "      <th>2</th>\n",
       "      <th>3</th>\n",
       "      <th>4</th>\n",
       "      <th>5</th>\n",
       "      <th>6</th>\n",
       "      <th>7</th>\n",
       "      <th>8</th>\n",
       "      <th>9</th>\n",
       "      <th>...</th>\n",
       "      <th>381</th>\n",
       "      <th>382</th>\n",
       "      <th>383</th>\n",
       "      <th>384</th>\n",
       "      <th>385</th>\n",
       "      <th>386</th>\n",
       "      <th>387</th>\n",
       "      <th>388</th>\n",
       "      <th>389</th>\n",
       "      <th>390</th>\n",
       "    </tr>\n",
       "  </thead>\n",
       "  <tbody>\n",
       "    <tr>\n",
       "      <th>0</th>\n",
       "      <td>1.687089</td>\n",
       "      <td>2.247338</td>\n",
       "      <td>1.299318</td>\n",
       "      <td>-0.036585</td>\n",
       "      <td>0.059672</td>\n",
       "      <td>1.254685</td>\n",
       "      <td>-1.168007</td>\n",
       "      <td>2.250989</td>\n",
       "      <td>-1.464677</td>\n",
       "      <td>-4.324567</td>\n",
       "      <td>...</td>\n",
       "      <td>-1.543364</td>\n",
       "      <td>-1.456497</td>\n",
       "      <td>-0.488093</td>\n",
       "      <td>0.256100</td>\n",
       "      <td>-1.365456</td>\n",
       "      <td>-0.668653</td>\n",
       "      <td>-0.104318</td>\n",
       "      <td>-0.384021</td>\n",
       "      <td>-0.853113</td>\n",
       "      <td>0.516640</td>\n",
       "    </tr>\n",
       "    <tr>\n",
       "      <th>1</th>\n",
       "      <td>1.679869</td>\n",
       "      <td>2.267205</td>\n",
       "      <td>1.285202</td>\n",
       "      <td>-0.038432</td>\n",
       "      <td>0.062171</td>\n",
       "      <td>1.256601</td>\n",
       "      <td>-1.171327</td>\n",
       "      <td>2.255324</td>\n",
       "      <td>-1.467969</td>\n",
       "      <td>-4.311662</td>\n",
       "      <td>...</td>\n",
       "      <td>-1.535977</td>\n",
       "      <td>-1.480732</td>\n",
       "      <td>-0.475927</td>\n",
       "      <td>0.316438</td>\n",
       "      <td>-1.386247</td>\n",
       "      <td>-0.680038</td>\n",
       "      <td>-0.091472</td>\n",
       "      <td>-0.368748</td>\n",
       "      <td>-0.878939</td>\n",
       "      <td>0.532876</td>\n",
       "    </tr>\n",
       "    <tr>\n",
       "      <th>2</th>\n",
       "      <td>0.211306</td>\n",
       "      <td>-0.402684</td>\n",
       "      <td>-3.517237</td>\n",
       "      <td>-0.084374</td>\n",
       "      <td>0.415279</td>\n",
       "      <td>-0.118233</td>\n",
       "      <td>-0.714142</td>\n",
       "      <td>-0.780145</td>\n",
       "      <td>-0.729210</td>\n",
       "      <td>-0.288997</td>\n",
       "      <td>...</td>\n",
       "      <td>0.102625</td>\n",
       "      <td>-0.762491</td>\n",
       "      <td>1.105879</td>\n",
       "      <td>-0.384692</td>\n",
       "      <td>-0.046511</td>\n",
       "      <td>-0.943268</td>\n",
       "      <td>-0.603343</td>\n",
       "      <td>0.524240</td>\n",
       "      <td>-0.742194</td>\n",
       "      <td>0.065421</td>\n",
       "    </tr>\n",
       "    <tr>\n",
       "      <th>3</th>\n",
       "      <td>0.211306</td>\n",
       "      <td>-0.402684</td>\n",
       "      <td>-3.517237</td>\n",
       "      <td>-0.084374</td>\n",
       "      <td>0.415279</td>\n",
       "      <td>-0.118233</td>\n",
       "      <td>-0.714142</td>\n",
       "      <td>-0.780145</td>\n",
       "      <td>-0.729210</td>\n",
       "      <td>-0.288997</td>\n",
       "      <td>...</td>\n",
       "      <td>0.102625</td>\n",
       "      <td>-0.762491</td>\n",
       "      <td>1.105879</td>\n",
       "      <td>-0.384692</td>\n",
       "      <td>-0.046511</td>\n",
       "      <td>-0.943268</td>\n",
       "      <td>-0.603343</td>\n",
       "      <td>0.524240</td>\n",
       "      <td>-0.742194</td>\n",
       "      <td>0.065421</td>\n",
       "    </tr>\n",
       "    <tr>\n",
       "      <th>4</th>\n",
       "      <td>0.778747</td>\n",
       "      <td>-1.557125</td>\n",
       "      <td>-3.586789</td>\n",
       "      <td>-0.114227</td>\n",
       "      <td>0.360124</td>\n",
       "      <td>-0.131775</td>\n",
       "      <td>-0.896834</td>\n",
       "      <td>-1.114824</td>\n",
       "      <td>-0.813577</td>\n",
       "      <td>-0.376610</td>\n",
       "      <td>...</td>\n",
       "      <td>-0.754452</td>\n",
       "      <td>-0.498476</td>\n",
       "      <td>0.356912</td>\n",
       "      <td>-0.349724</td>\n",
       "      <td>-0.010455</td>\n",
       "      <td>0.261595</td>\n",
       "      <td>-0.354640</td>\n",
       "      <td>0.354001</td>\n",
       "      <td>-0.316646</td>\n",
       "      <td>0.159674</td>\n",
       "    </tr>\n",
       "    <tr>\n",
       "      <th>...</th>\n",
       "      <td>...</td>\n",
       "      <td>...</td>\n",
       "      <td>...</td>\n",
       "      <td>...</td>\n",
       "      <td>...</td>\n",
       "      <td>...</td>\n",
       "      <td>...</td>\n",
       "      <td>...</td>\n",
       "      <td>...</td>\n",
       "      <td>...</td>\n",
       "      <td>...</td>\n",
       "      <td>...</td>\n",
       "      <td>...</td>\n",
       "      <td>...</td>\n",
       "      <td>...</td>\n",
       "      <td>...</td>\n",
       "      <td>...</td>\n",
       "      <td>...</td>\n",
       "      <td>...</td>\n",
       "      <td>...</td>\n",
       "      <td>...</td>\n",
       "    </tr>\n",
       "    <tr>\n",
       "      <th>10056</th>\n",
       "      <td>1.810343</td>\n",
       "      <td>3.502537</td>\n",
       "      <td>1.301802</td>\n",
       "      <td>0.093503</td>\n",
       "      <td>0.021461</td>\n",
       "      <td>0.444243</td>\n",
       "      <td>-0.384066</td>\n",
       "      <td>-1.175942</td>\n",
       "      <td>-0.785973</td>\n",
       "      <td>2.409960</td>\n",
       "      <td>...</td>\n",
       "      <td>-0.378771</td>\n",
       "      <td>0.736929</td>\n",
       "      <td>0.439983</td>\n",
       "      <td>0.168269</td>\n",
       "      <td>0.019633</td>\n",
       "      <td>0.541695</td>\n",
       "      <td>0.194545</td>\n",
       "      <td>1.884014</td>\n",
       "      <td>0.787331</td>\n",
       "      <td>0.893168</td>\n",
       "    </tr>\n",
       "    <tr>\n",
       "      <th>10057</th>\n",
       "      <td>0.879189</td>\n",
       "      <td>2.268695</td>\n",
       "      <td>-3.327282</td>\n",
       "      <td>0.062343</td>\n",
       "      <td>0.502959</td>\n",
       "      <td>-1.252951</td>\n",
       "      <td>-2.497164</td>\n",
       "      <td>-2.462516</td>\n",
       "      <td>1.042505</td>\n",
       "      <td>0.023578</td>\n",
       "      <td>...</td>\n",
       "      <td>0.538322</td>\n",
       "      <td>0.932152</td>\n",
       "      <td>-0.719353</td>\n",
       "      <td>-0.120171</td>\n",
       "      <td>0.246032</td>\n",
       "      <td>-1.471465</td>\n",
       "      <td>0.672987</td>\n",
       "      <td>0.805888</td>\n",
       "      <td>0.169929</td>\n",
       "      <td>0.308929</td>\n",
       "    </tr>\n",
       "    <tr>\n",
       "      <th>10058</th>\n",
       "      <td>1.810343</td>\n",
       "      <td>3.502537</td>\n",
       "      <td>1.301802</td>\n",
       "      <td>0.093503</td>\n",
       "      <td>0.021461</td>\n",
       "      <td>0.444243</td>\n",
       "      <td>-0.384066</td>\n",
       "      <td>-1.175942</td>\n",
       "      <td>-0.785973</td>\n",
       "      <td>2.409960</td>\n",
       "      <td>...</td>\n",
       "      <td>-0.378771</td>\n",
       "      <td>0.736929</td>\n",
       "      <td>0.439983</td>\n",
       "      <td>0.168269</td>\n",
       "      <td>0.019633</td>\n",
       "      <td>0.541695</td>\n",
       "      <td>0.194545</td>\n",
       "      <td>1.884014</td>\n",
       "      <td>0.787331</td>\n",
       "      <td>0.893168</td>\n",
       "    </tr>\n",
       "    <tr>\n",
       "      <th>10059</th>\n",
       "      <td>2.127788</td>\n",
       "      <td>5.127392</td>\n",
       "      <td>1.019449</td>\n",
       "      <td>0.069084</td>\n",
       "      <td>-0.035733</td>\n",
       "      <td>2.425219</td>\n",
       "      <td>4.922735</td>\n",
       "      <td>-2.312433</td>\n",
       "      <td>-7.997684</td>\n",
       "      <td>16.187629</td>\n",
       "      <td>...</td>\n",
       "      <td>1.361665</td>\n",
       "      <td>4.558378</td>\n",
       "      <td>4.407825</td>\n",
       "      <td>1.579845</td>\n",
       "      <td>-1.358254</td>\n",
       "      <td>2.704818</td>\n",
       "      <td>-2.796555</td>\n",
       "      <td>3.077244</td>\n",
       "      <td>-0.233471</td>\n",
       "      <td>0.951225</td>\n",
       "    </tr>\n",
       "    <tr>\n",
       "      <th>10060</th>\n",
       "      <td>-1.359852</td>\n",
       "      <td>0.676324</td>\n",
       "      <td>0.924003</td>\n",
       "      <td>-0.008364</td>\n",
       "      <td>-0.017286</td>\n",
       "      <td>-0.111725</td>\n",
       "      <td>0.239012</td>\n",
       "      <td>0.109825</td>\n",
       "      <td>0.654367</td>\n",
       "      <td>-0.380790</td>\n",
       "      <td>...</td>\n",
       "      <td>-1.000788</td>\n",
       "      <td>0.551175</td>\n",
       "      <td>-0.092412</td>\n",
       "      <td>-1.227309</td>\n",
       "      <td>0.572139</td>\n",
       "      <td>0.430026</td>\n",
       "      <td>-0.553664</td>\n",
       "      <td>0.733673</td>\n",
       "      <td>-1.046888</td>\n",
       "      <td>0.865776</td>\n",
       "    </tr>\n",
       "  </tbody>\n",
       "</table>\n",
       "<p>10061 rows × 391 columns</p>\n",
       "</div>"
      ],
      "text/plain": [
       "            0         1         2         3         4         5         6    \\\n",
       "0      1.687089  2.247338  1.299318 -0.036585  0.059672  1.254685 -1.168007   \n",
       "1      1.679869  2.267205  1.285202 -0.038432  0.062171  1.256601 -1.171327   \n",
       "2      0.211306 -0.402684 -3.517237 -0.084374  0.415279 -0.118233 -0.714142   \n",
       "3      0.211306 -0.402684 -3.517237 -0.084374  0.415279 -0.118233 -0.714142   \n",
       "4      0.778747 -1.557125 -3.586789 -0.114227  0.360124 -0.131775 -0.896834   \n",
       "...         ...       ...       ...       ...       ...       ...       ...   \n",
       "10056  1.810343  3.502537  1.301802  0.093503  0.021461  0.444243 -0.384066   \n",
       "10057  0.879189  2.268695 -3.327282  0.062343  0.502959 -1.252951 -2.497164   \n",
       "10058  1.810343  3.502537  1.301802  0.093503  0.021461  0.444243 -0.384066   \n",
       "10059  2.127788  5.127392  1.019449  0.069084 -0.035733  2.425219  4.922735   \n",
       "10060 -1.359852  0.676324  0.924003 -0.008364 -0.017286 -0.111725  0.239012   \n",
       "\n",
       "            7         8          9    ...       381       382       383  \\\n",
       "0      2.250989 -1.464677  -4.324567  ... -1.543364 -1.456497 -0.488093   \n",
       "1      2.255324 -1.467969  -4.311662  ... -1.535977 -1.480732 -0.475927   \n",
       "2     -0.780145 -0.729210  -0.288997  ...  0.102625 -0.762491  1.105879   \n",
       "3     -0.780145 -0.729210  -0.288997  ...  0.102625 -0.762491  1.105879   \n",
       "4     -1.114824 -0.813577  -0.376610  ... -0.754452 -0.498476  0.356912   \n",
       "...         ...       ...        ...  ...       ...       ...       ...   \n",
       "10056 -1.175942 -0.785973   2.409960  ... -0.378771  0.736929  0.439983   \n",
       "10057 -2.462516  1.042505   0.023578  ...  0.538322  0.932152 -0.719353   \n",
       "10058 -1.175942 -0.785973   2.409960  ... -0.378771  0.736929  0.439983   \n",
       "10059 -2.312433 -7.997684  16.187629  ...  1.361665  4.558378  4.407825   \n",
       "10060  0.109825  0.654367  -0.380790  ... -1.000788  0.551175 -0.092412   \n",
       "\n",
       "            384       385       386       387       388       389       390  \n",
       "0      0.256100 -1.365456 -0.668653 -0.104318 -0.384021 -0.853113  0.516640  \n",
       "1      0.316438 -1.386247 -0.680038 -0.091472 -0.368748 -0.878939  0.532876  \n",
       "2     -0.384692 -0.046511 -0.943268 -0.603343  0.524240 -0.742194  0.065421  \n",
       "3     -0.384692 -0.046511 -0.943268 -0.603343  0.524240 -0.742194  0.065421  \n",
       "4     -0.349724 -0.010455  0.261595 -0.354640  0.354001 -0.316646  0.159674  \n",
       "...         ...       ...       ...       ...       ...       ...       ...  \n",
       "10056  0.168269  0.019633  0.541695  0.194545  1.884014  0.787331  0.893168  \n",
       "10057 -0.120171  0.246032 -1.471465  0.672987  0.805888  0.169929  0.308929  \n",
       "10058  0.168269  0.019633  0.541695  0.194545  1.884014  0.787331  0.893168  \n",
       "10059  1.579845 -1.358254  2.704818 -2.796555  3.077244 -0.233471  0.951225  \n",
       "10060 -1.227309  0.572139  0.430026 -0.553664  0.733673 -1.046888  0.865776  \n",
       "\n",
       "[10061 rows x 391 columns]"
      ]
     },
     "execution_count": 64,
     "metadata": {},
     "output_type": "execute_result"
    }
   ],
   "source": [
    "final_data = pd.DataFrame(final_x);final_data"
   ]
  },
  {
   "cell_type": "code",
   "execution_count": 65,
   "metadata": {},
   "outputs": [
    {
     "data": {
      "text/plain": [
       "0        1\n",
       "1        1\n",
       "2        0\n",
       "3        0\n",
       "4        0\n",
       "        ..\n",
       "10056    0\n",
       "10057    1\n",
       "10058    0\n",
       "10059    1\n",
       "10060    0\n",
       "Name: Deal_Status, Length: 10061, dtype: int64"
      ]
     },
     "execution_count": 65,
     "metadata": {},
     "output_type": "execute_result"
    }
   ],
   "source": [
    "y"
   ]
  },
  {
   "cell_type": "markdown",
   "metadata": {},
   "source": [
    "### Splitting Dataset"
   ]
  },
  {
   "cell_type": "code",
   "execution_count": 24,
   "metadata": {},
   "outputs": [],
   "source": [
    "from sklearn.model_selection import train_test_split"
   ]
  },
  {
   "cell_type": "code",
   "execution_count": null,
   "metadata": {},
   "outputs": [],
   "source": [
    "X_train, X_test, y_train, y_test = train_test_split(final_data, y, test_size=0.33, random_state=42)"
   ]
  },
  {
   "cell_type": "markdown",
   "metadata": {},
   "source": [
    "# Model Creation"
   ]
  },
  {
   "cell_type": "markdown",
   "metadata": {},
   "source": [
    "## Logistic Regression"
   ]
  },
  {
   "cell_type": "code",
   "execution_count": 72,
   "metadata": {},
   "outputs": [],
   "source": [
    "from sklearn.linear_model import LogisticRegression"
   ]
  },
  {
   "cell_type": "code",
   "execution_count": 73,
   "metadata": {},
   "outputs": [
    {
     "name": "stderr",
     "output_type": "stream",
     "text": [
      "C:\\Users\\USER\\Anaconda3\\envs\\DeepLearning\\lib\\site-packages\\sklearn\\linear_model\\_logistic.py:764: ConvergenceWarning: lbfgs failed to converge (status=1):\n",
      "STOP: TOTAL NO. of ITERATIONS REACHED LIMIT.\n",
      "\n",
      "Increase the number of iterations (max_iter) or scale the data as shown in:\n",
      "    https://scikit-learn.org/stable/modules/preprocessing.html\n",
      "Please also refer to the documentation for alternative solver options:\n",
      "    https://scikit-learn.org/stable/modules/linear_model.html#logistic-regression\n",
      "  extra_warning_msg=_LOGISTIC_SOLVER_CONVERGENCE_MSG)\n"
     ]
    },
    {
     "data": {
      "text/plain": [
       "LogisticRegression()"
      ]
     },
     "execution_count": 73,
     "metadata": {},
     "output_type": "execute_result"
    }
   ],
   "source": [
    "#intializing LogisticRegression to object logmodel\n",
    "\n",
    "logmodel = LogisticRegression()\n",
    "logmodel.fit(X_train,y_train)"
   ]
  },
  {
   "cell_type": "code",
   "execution_count": 74,
   "metadata": {},
   "outputs": [],
   "source": [
    "#making prediction using validation data set\n",
    "predictions = logmodel.predict(X_test)"
   ]
  },
  {
   "cell_type": "markdown",
   "metadata": {},
   "source": [
    "### Evaluation Metrics"
   ]
  },
  {
   "cell_type": "code",
   "execution_count": 75,
   "metadata": {},
   "outputs": [],
   "source": [
    "from sklearn.metrics import confusion_matrix\n",
    "from sklearn.metrics import accuracy_score\n",
    "from sklearn.metrics import classification_report"
   ]
  },
  {
   "cell_type": "code",
   "execution_count": 76,
   "metadata": {},
   "outputs": [
    {
     "name": "stdout",
     "output_type": "stream",
     "text": [
      "[[1550  615]\n",
      " [ 331  523]]\n",
      "0.6866512090096059\n",
      "              precision    recall  f1-score   support\n",
      "\n",
      "           0       0.82      0.72      0.77      2165\n",
      "           1       0.46      0.61      0.53       854\n",
      "\n",
      "    accuracy                           0.69      3019\n",
      "   macro avg       0.64      0.66      0.65      3019\n",
      "weighted avg       0.72      0.69      0.70      3019\n",
      "\n"
     ]
    }
   ],
   "source": [
    "print(confusion_matrix(predictions,y_test))\n",
    "print(accuracy_score(predictions,y_test))\n",
    "print(classification_report(predictions,y_test))"
   ]
  },
  {
   "cell_type": "markdown",
   "metadata": {},
   "source": [
    "## Random Forest"
   ]
  },
  {
   "cell_type": "code",
   "execution_count": 77,
   "metadata": {},
   "outputs": [],
   "source": [
    "from sklearn.ensemble import RandomForestClassifier\n",
    "from sklearn.model_selection import RandomizedSearchCV\n",
    "rf=RandomForestClassifier()"
   ]
  },
  {
   "cell_type": "markdown",
   "metadata": {},
   "source": [
    "### Hyperparameter optimization using RandomizedSearchCV"
   ]
  },
  {
   "cell_type": "code",
   "execution_count": 78,
   "metadata": {},
   "outputs": [
    {
     "name": "stdout",
     "output_type": "stream",
     "text": [
      "{'n_estimators': [200, 400, 600, 800, 1000, 1200, 1400, 1600, 1800, 2000], 'max_features': ['auto', 'sqrt', 'log2'], 'max_depth': [10, 120, 230, 340, 450, 560, 670, 780, 890, 1000], 'min_samples_split': [1, 2, 3, 4, 5, 7, 9], 'min_samples_leaf': [1, 2, 4, 6, 8], 'criterion': ['entropy', 'gini']}\n"
     ]
    }
   ],
   "source": [
    "# Number of trees in random forest\n",
    "n_estimators = [int(x) for x in np.linspace(start = 200, stop = 2000, num = 10)]\n",
    "\n",
    "# Number of features to consider at every split\n",
    "max_features = ['auto', 'sqrt','log2']\n",
    "\n",
    "# Maximum number of levels in tree\n",
    "max_depth = [int(x) for x in np.linspace(10, 1000,10)]\n",
    "\n",
    "# Minimum number of samples required to split a node\n",
    "min_samples_split = [1, 2, 3, 4, 5, 7, 9]\n",
    "\n",
    "# Minimum number of samples required at each leaf node\n",
    "min_samples_leaf = [1, 2, 4, 6, 8]\n",
    "\n",
    "# Create the random grid\n",
    "random_grid = {'n_estimators': n_estimators,\n",
    "               'max_features': max_features,\n",
    "               'max_depth': max_depth,\n",
    "               'min_samples_split': min_samples_split,\n",
    "               'min_samples_leaf': min_samples_leaf,\n",
    "              'criterion':['entropy','gini']}\n",
    "\n",
    "print(random_grid)"
   ]
  },
  {
   "cell_type": "code",
   "execution_count": 79,
   "metadata": {},
   "outputs": [],
   "source": [
    "rf_randomcv=RandomizedSearchCV(estimator=rf,param_distributions=random_grid,n_iter=100,cv=3,verbose=2,\n",
    "                               random_state=100,n_jobs=-1)"
   ]
  },
  {
   "cell_type": "code",
   "execution_count": 80,
   "metadata": {},
   "outputs": [
    {
     "name": "stdout",
     "output_type": "stream",
     "text": [
      "Fitting 3 folds for each of 100 candidates, totalling 300 fits\n"
     ]
    },
    {
     "name": "stderr",
     "output_type": "stream",
     "text": [
      "[Parallel(n_jobs=-1)]: Using backend LokyBackend with 4 concurrent workers.\n",
      "[Parallel(n_jobs=-1)]: Done  33 tasks      | elapsed: 15.6min\n",
      "[Parallel(n_jobs=-1)]: Done 154 tasks      | elapsed: 134.3min\n",
      "[Parallel(n_jobs=-1)]: Done 300 out of 300 | elapsed: 261.8min finished\n"
     ]
    },
    {
     "data": {
      "text/plain": [
       "RandomizedSearchCV(cv=3, estimator=RandomForestClassifier(), n_iter=100,\n",
       "                   n_jobs=-1,\n",
       "                   param_distributions={'criterion': ['entropy', 'gini'],\n",
       "                                        'max_depth': [10, 120, 230, 340, 450,\n",
       "                                                      560, 670, 780, 890,\n",
       "                                                      1000],\n",
       "                                        'max_features': ['auto', 'sqrt',\n",
       "                                                         'log2'],\n",
       "                                        'min_samples_leaf': [1, 2, 4, 6, 8],\n",
       "                                        'min_samples_split': [1, 2, 3, 4, 5, 7,\n",
       "                                                              9],\n",
       "                                        'n_estimators': [200, 400, 600, 800,\n",
       "                                                         1000, 1200, 1400, 1600,\n",
       "                                                         1800, 2000]},\n",
       "                   random_state=100, verbose=2)"
      ]
     },
     "execution_count": 80,
     "metadata": {},
     "output_type": "execute_result"
    }
   ],
   "source": [
    "### fit the randomized model\n",
    "rf_randomcv.fit(X_train,y_train)"
   ]
  },
  {
   "cell_type": "code",
   "execution_count": 81,
   "metadata": {},
   "outputs": [
    {
     "data": {
      "text/plain": [
       "{'n_estimators': 1600,\n",
       " 'min_samples_split': 4,\n",
       " 'min_samples_leaf': 1,\n",
       " 'max_features': 'log2',\n",
       " 'max_depth': 890,\n",
       " 'criterion': 'gini'}"
      ]
     },
     "execution_count": 81,
     "metadata": {},
     "output_type": "execute_result"
    }
   ],
   "source": [
    "#best parameter\n",
    "rf_randomcv.best_params_"
   ]
  },
  {
   "cell_type": "code",
   "execution_count": 82,
   "metadata": {},
   "outputs": [
    {
     "data": {
      "text/plain": [
       "RandomForestClassifier(max_depth=890, max_features='log2', min_samples_split=4,\n",
       "                       n_estimators=1600)"
      ]
     },
     "execution_count": 82,
     "metadata": {},
     "output_type": "execute_result"
    }
   ],
   "source": [
    "#best estimator\n",
    "rf_randomcv.best_estimator_"
   ]
  },
  {
   "cell_type": "code",
   "execution_count": 83,
   "metadata": {},
   "outputs": [],
   "source": [
    "#best model from random search cv\n",
    "rf_model = rf_randomcv.best_estimator_"
   ]
  },
  {
   "cell_type": "code",
   "execution_count": 86,
   "metadata": {},
   "outputs": [],
   "source": [
    "#making prediction using validation data set\n",
    "rf_predictions = rf_model.predict(X_test)"
   ]
  },
  {
   "cell_type": "markdown",
   "metadata": {},
   "source": [
    "### Evaluation Metrics"
   ]
  },
  {
   "cell_type": "code",
   "execution_count": 87,
   "metadata": {},
   "outputs": [
    {
     "name": "stdout",
     "output_type": "stream",
     "text": [
      "[[1764  535]\n",
      " [ 117  603]]\n",
      "0.7840344484928784\n",
      "              precision    recall  f1-score   support\n",
      "\n",
      "           0       0.94      0.77      0.84      2299\n",
      "           1       0.53      0.84      0.65       720\n",
      "\n",
      "    accuracy                           0.78      3019\n",
      "   macro avg       0.73      0.80      0.75      3019\n",
      "weighted avg       0.84      0.78      0.80      3019\n",
      "\n"
     ]
    }
   ],
   "source": [
    "print(confusion_matrix(rf_predictions,y_test))\n",
    "print(accuracy_score(rf_predictions,y_test))\n",
    "print(classification_report(rf_predictions,y_test))"
   ]
  },
  {
   "cell_type": "markdown",
   "metadata": {},
   "source": [
    "## Xgboost Classifier"
   ]
  },
  {
   "cell_type": "code",
   "execution_count": 88,
   "metadata": {},
   "outputs": [],
   "source": [
    "import xgboost\n",
    "classifier=xgboost.XGBClassifier()"
   ]
  },
  {
   "cell_type": "markdown",
   "metadata": {},
   "source": [
    "### Hyperparameter optimization using RandomizedSearchCV"
   ]
  },
  {
   "cell_type": "code",
   "execution_count": 89,
   "metadata": {},
   "outputs": [],
   "source": [
    "params={\n",
    " \"learning_rate\"    : [0.05, 0.10, 0.15, 0.20, 0.25, 0.30 ] ,\n",
    " \"max_depth\"        : [ 3, 4, 5, 6, 8, 10, 12, 15],\n",
    " \"min_child_weight\" : [ 1, 3, 5, 7 ],\n",
    " \"gamma\"            : [ 0.0, 0.1, 0.2 , 0.3, 0.4 ],\n",
    " \"colsample_bytree\" : [ 0.3, 0.4, 0.5 , 0.7 ]\n",
    "    \n",
    "}"
   ]
  },
  {
   "cell_type": "code",
   "execution_count": 90,
   "metadata": {},
   "outputs": [],
   "source": [
    "xg_randomcv = RandomizedSearchCV(classifier,param_distributions=params,n_iter=5,scoring='roc_auc',n_jobs=-1,cv=5,verbose=3)"
   ]
  },
  {
   "cell_type": "code",
   "execution_count": 91,
   "metadata": {},
   "outputs": [
    {
     "name": "stdout",
     "output_type": "stream",
     "text": [
      "Fitting 5 folds for each of 5 candidates, totalling 25 fits\n"
     ]
    },
    {
     "name": "stderr",
     "output_type": "stream",
     "text": [
      "[Parallel(n_jobs=-1)]: Using backend LokyBackend with 4 concurrent workers.\n",
      "[Parallel(n_jobs=-1)]: Done  25 out of  25 | elapsed:  9.0min finished\n",
      "C:\\Users\\USER\\Anaconda3\\envs\\DeepLearning\\lib\\site-packages\\xgboost\\sklearn.py:892: UserWarning: The use of label encoder in XGBClassifier is deprecated and will be removed in a future release. To remove this warning, do the following: 1) Pass option use_label_encoder=False when constructing XGBClassifier object; and 2) Encode your labels (y) as integers starting with 0, i.e. 0, 1, 2, ..., [num_class - 1].\n",
      "  warnings.warn(label_encoder_deprecation_msg, UserWarning)\n"
     ]
    },
    {
     "name": "stdout",
     "output_type": "stream",
     "text": [
      "[19:04:18] WARNING: C:/Users/Administrator/workspace/xgboost-win64_release_1.3.0/src/learner.cc:1061: Starting in XGBoost 1.3.0, the default evaluation metric used with the objective 'binary:logistic' was changed from 'error' to 'logloss'. Explicitly set eval_metric if you'd like to restore the old behavior.\n"
     ]
    },
    {
     "data": {
      "text/plain": [
       "RandomizedSearchCV(cv=5,\n",
       "                   estimator=XGBClassifier(base_score=None, booster=None,\n",
       "                                           colsample_bylevel=None,\n",
       "                                           colsample_bynode=None,\n",
       "                                           colsample_bytree=None, gamma=None,\n",
       "                                           gpu_id=None, importance_type='gain',\n",
       "                                           interaction_constraints=None,\n",
       "                                           learning_rate=None,\n",
       "                                           max_delta_step=None, max_depth=None,\n",
       "                                           min_child_weight=None, missing=nan,\n",
       "                                           monotone_constraints=None,\n",
       "                                           n_estimators=100,...\n",
       "                                           reg_lambda=None,\n",
       "                                           scale_pos_weight=None,\n",
       "                                           subsample=None, tree_method=None,\n",
       "                                           validate_parameters=None,\n",
       "                                           verbosity=None),\n",
       "                   n_iter=5, n_jobs=-1,\n",
       "                   param_distributions={'colsample_bytree': [0.3, 0.4, 0.5,\n",
       "                                                             0.7],\n",
       "                                        'gamma': [0.0, 0.1, 0.2, 0.3, 0.4],\n",
       "                                        'learning_rate': [0.05, 0.1, 0.15, 0.2,\n",
       "                                                          0.25, 0.3],\n",
       "                                        'max_depth': [3, 4, 5, 6, 8, 10, 12,\n",
       "                                                      15],\n",
       "                                        'min_child_weight': [1, 3, 5, 7]},\n",
       "                   scoring='roc_auc', verbose=3)"
      ]
     },
     "execution_count": 91,
     "metadata": {},
     "output_type": "execute_result"
    }
   ],
   "source": [
    "xg_randomcv.fit(X_train,y_train)"
   ]
  },
  {
   "cell_type": "code",
   "execution_count": 92,
   "metadata": {},
   "outputs": [
    {
     "data": {
      "text/plain": [
       "{'min_child_weight': 5,\n",
       " 'max_depth': 10,\n",
       " 'learning_rate': 0.3,\n",
       " 'gamma': 0.1,\n",
       " 'colsample_bytree': 0.7}"
      ]
     },
     "execution_count": 92,
     "metadata": {},
     "output_type": "execute_result"
    }
   ],
   "source": [
    "#best parameters\n",
    "xg_randomcv.best_params_"
   ]
  },
  {
   "cell_type": "code",
   "execution_count": 93,
   "metadata": {},
   "outputs": [
    {
     "data": {
      "text/plain": [
       "XGBClassifier(base_score=0.5, booster='gbtree', colsample_bylevel=1,\n",
       "              colsample_bynode=1, colsample_bytree=0.7, gamma=0.1, gpu_id=-1,\n",
       "              importance_type='gain', interaction_constraints='',\n",
       "              learning_rate=0.3, max_delta_step=0, max_depth=10,\n",
       "              min_child_weight=5, missing=nan, monotone_constraints='()',\n",
       "              n_estimators=100, n_jobs=4, num_parallel_tree=1, random_state=0,\n",
       "              reg_alpha=0, reg_lambda=1, scale_pos_weight=1, subsample=1,\n",
       "              tree_method='exact', validate_parameters=1, verbosity=None)"
      ]
     },
     "execution_count": 93,
     "metadata": {},
     "output_type": "execute_result"
    }
   ],
   "source": [
    "#best estimator\n",
    "xg_randomcv.best_estimator_"
   ]
  },
  {
   "cell_type": "code",
   "execution_count": 94,
   "metadata": {},
   "outputs": [],
   "source": [
    "#best model from random search cv\n",
    "xg_model = xg_randomcv.best_estimator_"
   ]
  },
  {
   "cell_type": "code",
   "execution_count": 97,
   "metadata": {},
   "outputs": [],
   "source": [
    "#making prediction\n",
    "xg_predictions = xg_model.predict(X_test)"
   ]
  },
  {
   "cell_type": "markdown",
   "metadata": {},
   "source": [
    "### Evaluation Metrics"
   ]
  },
  {
   "cell_type": "code",
   "execution_count": 98,
   "metadata": {},
   "outputs": [
    {
     "name": "stdout",
     "output_type": "stream",
     "text": [
      "[[1710  467]\n",
      " [ 171  671]]\n",
      "0.7886717456111295\n",
      "              precision    recall  f1-score   support\n",
      "\n",
      "           0       0.91      0.79      0.84      2177\n",
      "           1       0.59      0.80      0.68       842\n",
      "\n",
      "    accuracy                           0.79      3019\n",
      "   macro avg       0.75      0.79      0.76      3019\n",
      "weighted avg       0.82      0.79      0.80      3019\n",
      "\n"
     ]
    }
   ],
   "source": [
    "print(confusion_matrix(xg_predictions,y_test))\n",
    "print(accuracy_score(xg_predictions,y_test))\n",
    "print(classification_report(xg_predictions,y_test))"
   ]
  },
  {
   "cell_type": "code",
   "execution_count": null,
   "metadata": {},
   "outputs": [],
   "source": []
  },
  {
   "cell_type": "markdown",
   "metadata": {},
   "source": [
    "## Second Approach"
   ]
  },
  {
   "cell_type": "code",
   "execution_count": 7,
   "metadata": {},
   "outputs": [
    {
     "data": {
      "text/html": [
       "<div>\n",
       "<style scoped>\n",
       "    .dataframe tbody tr th:only-of-type {\n",
       "        vertical-align: middle;\n",
       "    }\n",
       "\n",
       "    .dataframe tbody tr th {\n",
       "        vertical-align: top;\n",
       "    }\n",
       "\n",
       "    .dataframe thead th {\n",
       "        text-align: right;\n",
       "    }\n",
       "</style>\n",
       "<table border=\"1\" class=\"dataframe\">\n",
       "  <thead>\n",
       "    <tr style=\"text-align: right;\">\n",
       "      <th></th>\n",
       "      <th>Client Category</th>\n",
       "      <th>Solution Type</th>\n",
       "      <th>Sector</th>\n",
       "      <th>Location</th>\n",
       "      <th>VP Name</th>\n",
       "      <th>Manager Name</th>\n",
       "      <th>Deal_Cost</th>\n",
       "      <th>Deal_Status</th>\n",
       "    </tr>\n",
       "  </thead>\n",
       "  <tbody>\n",
       "    <tr>\n",
       "      <th>0</th>\n",
       "      <td>Telecom</td>\n",
       "      <td>Solution 7</td>\n",
       "      <td>Sector 24</td>\n",
       "      <td>L5</td>\n",
       "      <td>Ekta Zutshi</td>\n",
       "      <td>Gopa Trilochana</td>\n",
       "      <td>150000.00</td>\n",
       "      <td>1</td>\n",
       "    </tr>\n",
       "    <tr>\n",
       "      <th>1</th>\n",
       "      <td>Telecom</td>\n",
       "      <td>Solution 7</td>\n",
       "      <td>Sector 24</td>\n",
       "      <td>L5</td>\n",
       "      <td>Ekta Zutshi</td>\n",
       "      <td>Gopa Trilochana</td>\n",
       "      <td>744705.88</td>\n",
       "      <td>1</td>\n",
       "    </tr>\n",
       "    <tr>\n",
       "      <th>2</th>\n",
       "      <td>Internal</td>\n",
       "      <td>Solution 59</td>\n",
       "      <td>Sector 20</td>\n",
       "      <td>Others</td>\n",
       "      <td>Ekta Zutshi</td>\n",
       "      <td>Russell Dahlen</td>\n",
       "      <td>60000.00</td>\n",
       "      <td>0</td>\n",
       "    </tr>\n",
       "    <tr>\n",
       "      <th>3</th>\n",
       "      <td>Internal</td>\n",
       "      <td>Solution 59</td>\n",
       "      <td>Sector 20</td>\n",
       "      <td>Others</td>\n",
       "      <td>Ekta Zutshi</td>\n",
       "      <td>Russell Dahlen</td>\n",
       "      <td>60000.00</td>\n",
       "      <td>0</td>\n",
       "    </tr>\n",
       "    <tr>\n",
       "      <th>4</th>\n",
       "      <td>Internal</td>\n",
       "      <td>Solution 32</td>\n",
       "      <td>Sector 20</td>\n",
       "      <td>Others</td>\n",
       "      <td>Ekta Zutshi</td>\n",
       "      <td>Russell Dahlen</td>\n",
       "      <td>80882.35</td>\n",
       "      <td>0</td>\n",
       "    </tr>\n",
       "  </tbody>\n",
       "</table>\n",
       "</div>"
      ],
      "text/plain": [
       "  Client Category Solution Type     Sector Location      VP Name  \\\n",
       "0         Telecom    Solution 7  Sector 24       L5  Ekta Zutshi   \n",
       "1         Telecom    Solution 7  Sector 24       L5  Ekta Zutshi   \n",
       "2        Internal   Solution 59  Sector 20   Others  Ekta Zutshi   \n",
       "3        Internal   Solution 59  Sector 20   Others  Ekta Zutshi   \n",
       "4        Internal   Solution 32  Sector 20   Others  Ekta Zutshi   \n",
       "\n",
       "      Manager Name  Deal_Cost  Deal_Status  \n",
       "0  Gopa Trilochana  150000.00            1  \n",
       "1  Gopa Trilochana  744705.88            1  \n",
       "2   Russell Dahlen   60000.00            0  \n",
       "3   Russell Dahlen   60000.00            0  \n",
       "4   Russell Dahlen   80882.35            0  "
      ]
     },
     "execution_count": 7,
     "metadata": {},
     "output_type": "execute_result"
    }
   ],
   "source": [
    "data.head()"
   ]
  },
  {
   "cell_type": "code",
   "execution_count": 8,
   "metadata": {},
   "outputs": [],
   "source": [
    "df = data.copy()"
   ]
  },
  {
   "cell_type": "code",
   "execution_count": 9,
   "metadata": {},
   "outputs": [
    {
     "name": "stdout",
     "output_type": "stream",
     "text": [
      "Client Category : 41 labels\n",
      "Solution Type : 67 labels\n",
      "Sector : 25 labels\n",
      "Location : 13 labels\n",
      "VP Name : 43 labels\n",
      "Manager Name : 278 labels\n",
      "Deal_Cost : 1469 labels\n",
      "Deal_Status : 2 labels\n"
     ]
    }
   ],
   "source": [
    "for feature in df.columns[:]:\n",
    "    print(feature,\":\",len(df[feature].unique()),'labels')"
   ]
  },
  {
   "cell_type": "markdown",
   "metadata": {},
   "source": [
    "## Performing Count Encoding on Manager and VP Name"
   ]
  },
  {
   "cell_type": "code",
   "execution_count": 10,
   "metadata": {},
   "outputs": [
    {
     "data": {
      "text/plain": [
       "Molly Eakes        323\n",
       "Rudraksh Sharma    270\n",
       "Desmond Krout      230\n",
       "Gayle Molter       186\n",
       "Manpreet Singh     181\n",
       "                  ... \n",
       "Uzaar Ali            1\n",
       "Preston Dumire       1\n",
       "Sumit Arora          1\n",
       "Rishab Bhatt         1\n",
       "pooran chand         1\n",
       "Name: Manager Name, Length: 278, dtype: int64"
      ]
     },
     "execution_count": 10,
     "metadata": {},
     "output_type": "execute_result"
    }
   ],
   "source": [
    "df[\"Manager Name\"].value_counts()"
   ]
  },
  {
   "cell_type": "code",
   "execution_count": 11,
   "metadata": {},
   "outputs": [],
   "source": [
    "Manager_map=df[\"Manager Name\"].value_counts().to_dict()"
   ]
  },
  {
   "cell_type": "code",
   "execution_count": 12,
   "metadata": {},
   "outputs": [
    {
     "data": {
      "text/html": [
       "<div>\n",
       "<style scoped>\n",
       "    .dataframe tbody tr th:only-of-type {\n",
       "        vertical-align: middle;\n",
       "    }\n",
       "\n",
       "    .dataframe tbody tr th {\n",
       "        vertical-align: top;\n",
       "    }\n",
       "\n",
       "    .dataframe thead th {\n",
       "        text-align: right;\n",
       "    }\n",
       "</style>\n",
       "<table border=\"1\" class=\"dataframe\">\n",
       "  <thead>\n",
       "    <tr style=\"text-align: right;\">\n",
       "      <th></th>\n",
       "      <th>Client Category</th>\n",
       "      <th>Solution Type</th>\n",
       "      <th>Sector</th>\n",
       "      <th>Location</th>\n",
       "      <th>VP Name</th>\n",
       "      <th>Manager Name</th>\n",
       "      <th>Deal_Cost</th>\n",
       "      <th>Deal_Status</th>\n",
       "    </tr>\n",
       "  </thead>\n",
       "  <tbody>\n",
       "    <tr>\n",
       "      <th>0</th>\n",
       "      <td>Telecom</td>\n",
       "      <td>Solution 7</td>\n",
       "      <td>Sector 24</td>\n",
       "      <td>L5</td>\n",
       "      <td>Ekta Zutshi</td>\n",
       "      <td>86</td>\n",
       "      <td>150000.00</td>\n",
       "      <td>1</td>\n",
       "    </tr>\n",
       "    <tr>\n",
       "      <th>1</th>\n",
       "      <td>Telecom</td>\n",
       "      <td>Solution 7</td>\n",
       "      <td>Sector 24</td>\n",
       "      <td>L5</td>\n",
       "      <td>Ekta Zutshi</td>\n",
       "      <td>86</td>\n",
       "      <td>744705.88</td>\n",
       "      <td>1</td>\n",
       "    </tr>\n",
       "    <tr>\n",
       "      <th>2</th>\n",
       "      <td>Internal</td>\n",
       "      <td>Solution 59</td>\n",
       "      <td>Sector 20</td>\n",
       "      <td>Others</td>\n",
       "      <td>Ekta Zutshi</td>\n",
       "      <td>143</td>\n",
       "      <td>60000.00</td>\n",
       "      <td>0</td>\n",
       "    </tr>\n",
       "    <tr>\n",
       "      <th>3</th>\n",
       "      <td>Internal</td>\n",
       "      <td>Solution 59</td>\n",
       "      <td>Sector 20</td>\n",
       "      <td>Others</td>\n",
       "      <td>Ekta Zutshi</td>\n",
       "      <td>143</td>\n",
       "      <td>60000.00</td>\n",
       "      <td>0</td>\n",
       "    </tr>\n",
       "    <tr>\n",
       "      <th>4</th>\n",
       "      <td>Internal</td>\n",
       "      <td>Solution 32</td>\n",
       "      <td>Sector 20</td>\n",
       "      <td>Others</td>\n",
       "      <td>Ekta Zutshi</td>\n",
       "      <td>143</td>\n",
       "      <td>80882.35</td>\n",
       "      <td>0</td>\n",
       "    </tr>\n",
       "    <tr>\n",
       "      <th>5</th>\n",
       "      <td>Internal</td>\n",
       "      <td>Solution 32</td>\n",
       "      <td>Sector 20</td>\n",
       "      <td>Others</td>\n",
       "      <td>Ekta Zutshi</td>\n",
       "      <td>143</td>\n",
       "      <td>80882.35</td>\n",
       "      <td>0</td>\n",
       "    </tr>\n",
       "    <tr>\n",
       "      <th>6</th>\n",
       "      <td>Internal</td>\n",
       "      <td>Solution 59</td>\n",
       "      <td>Sector 2</td>\n",
       "      <td>L10</td>\n",
       "      <td>Mervin Harwood</td>\n",
       "      <td>6</td>\n",
       "      <td>526176.47</td>\n",
       "      <td>1</td>\n",
       "    </tr>\n",
       "    <tr>\n",
       "      <th>7</th>\n",
       "      <td>Govt</td>\n",
       "      <td>Solution 7</td>\n",
       "      <td>Sector 13</td>\n",
       "      <td>L5</td>\n",
       "      <td>Sargar Deep Rao</td>\n",
       "      <td>107</td>\n",
       "      <td>409705.88</td>\n",
       "      <td>0</td>\n",
       "    </tr>\n",
       "    <tr>\n",
       "      <th>8</th>\n",
       "      <td>Consumer Good</td>\n",
       "      <td>Solution 42</td>\n",
       "      <td>Sector 12</td>\n",
       "      <td>L10</td>\n",
       "      <td>Lilli Storrs</td>\n",
       "      <td>25</td>\n",
       "      <td>1032352.94</td>\n",
       "      <td>1</td>\n",
       "    </tr>\n",
       "    <tr>\n",
       "      <th>9</th>\n",
       "      <td>Internal</td>\n",
       "      <td>Solution 59</td>\n",
       "      <td>Sector 20</td>\n",
       "      <td>Others</td>\n",
       "      <td>Sargar Deep Rao</td>\n",
       "      <td>151</td>\n",
       "      <td>558823.53</td>\n",
       "      <td>0</td>\n",
       "    </tr>\n",
       "  </tbody>\n",
       "</table>\n",
       "</div>"
      ],
      "text/plain": [
       "  Client Category Solution Type     Sector Location          VP Name  \\\n",
       "0         Telecom    Solution 7  Sector 24       L5      Ekta Zutshi   \n",
       "1         Telecom    Solution 7  Sector 24       L5      Ekta Zutshi   \n",
       "2        Internal   Solution 59  Sector 20   Others      Ekta Zutshi   \n",
       "3        Internal   Solution 59  Sector 20   Others      Ekta Zutshi   \n",
       "4        Internal   Solution 32  Sector 20   Others      Ekta Zutshi   \n",
       "5        Internal   Solution 32  Sector 20   Others      Ekta Zutshi   \n",
       "6        Internal   Solution 59   Sector 2      L10   Mervin Harwood   \n",
       "7            Govt    Solution 7  Sector 13       L5  Sargar Deep Rao   \n",
       "8   Consumer Good   Solution 42  Sector 12      L10     Lilli Storrs   \n",
       "9        Internal   Solution 59  Sector 20   Others  Sargar Deep Rao   \n",
       "\n",
       "   Manager Name   Deal_Cost  Deal_Status  \n",
       "0            86   150000.00            1  \n",
       "1            86   744705.88            1  \n",
       "2           143    60000.00            0  \n",
       "3           143    60000.00            0  \n",
       "4           143    80882.35            0  \n",
       "5           143    80882.35            0  \n",
       "6             6   526176.47            1  \n",
       "7           107   409705.88            0  \n",
       "8            25  1032352.94            1  \n",
       "9           151   558823.53            0  "
      ]
     },
     "execution_count": 12,
     "metadata": {},
     "output_type": "execute_result"
    }
   ],
   "source": [
    "df['Manager Name']=df['Manager Name'].map(Manager_map)\n",
    "df.head(10)"
   ]
  },
  {
   "cell_type": "code",
   "execution_count": 13,
   "metadata": {},
   "outputs": [
    {
     "data": {
      "text/plain": [
       "Mervin Harwood         1166\n",
       "Ankita Aggarwal        1143\n",
       "Sargar Deep Rao         956\n",
       "Long Bergstrom          921\n",
       "Mangesh K. Singh        812\n",
       "Rosanna Maynez          662\n",
       "Ekta Zutshi             550\n",
       "Rahul Bajpai            523\n",
       "neeraj kumar            471\n",
       "Son Mcconnaughy         232\n",
       "som dutt                220\n",
       "Hardeep Suksma          208\n",
       "Brendon Wycoff          189\n",
       "Clinton Mani            184\n",
       "Saurabh Singh           176\n",
       "Jewell Tunstall         156\n",
       "Rudraksh Sharma         147\n",
       "Gopa Trilochana         136\n",
       "Russell Dahlen          133\n",
       "Molly Eakes             126\n",
       "Alam Syed               126\n",
       "Gaurav Sameria          114\n",
       "Gayle Molter            104\n",
       "Varsha Arora            104\n",
       "Vidur Hukle             100\n",
       "Earline Langton          82\n",
       "Manpreet Singh           46\n",
       "Mayank Mewar             41\n",
       "Marcella Mo              32\n",
       "Rahul Kocher             32\n",
       "Man Suddeth              29\n",
       "Jitendra Choudhary       28\n",
       "Prashant Rawat           27\n",
       "Lilli Storrs             26\n",
       "Vikram Rawat             17\n",
       "Kamelesh Srinivasan      15\n",
       "Dennis Faux              13\n",
       "Visvajeet Das             3\n",
       "Waylon Mulder             3\n",
       "md. afsar                 2\n",
       "Kirk Hofmeister           2\n",
       "Sarthak Batra             2\n",
       "P. Somya                  2\n",
       "Name: VP Name, dtype: int64"
      ]
     },
     "execution_count": 13,
     "metadata": {},
     "output_type": "execute_result"
    }
   ],
   "source": [
    "df[\"VP Name\"].value_counts()"
   ]
  },
  {
   "cell_type": "code",
   "execution_count": 14,
   "metadata": {},
   "outputs": [],
   "source": [
    "VP_map=df[\"VP Name\"].value_counts().to_dict()"
   ]
  },
  {
   "cell_type": "code",
   "execution_count": 15,
   "metadata": {},
   "outputs": [
    {
     "data": {
      "text/html": [
       "<div>\n",
       "<style scoped>\n",
       "    .dataframe tbody tr th:only-of-type {\n",
       "        vertical-align: middle;\n",
       "    }\n",
       "\n",
       "    .dataframe tbody tr th {\n",
       "        vertical-align: top;\n",
       "    }\n",
       "\n",
       "    .dataframe thead th {\n",
       "        text-align: right;\n",
       "    }\n",
       "</style>\n",
       "<table border=\"1\" class=\"dataframe\">\n",
       "  <thead>\n",
       "    <tr style=\"text-align: right;\">\n",
       "      <th></th>\n",
       "      <th>Client Category</th>\n",
       "      <th>Solution Type</th>\n",
       "      <th>Sector</th>\n",
       "      <th>Location</th>\n",
       "      <th>VP Name</th>\n",
       "      <th>Manager Name</th>\n",
       "      <th>Deal_Cost</th>\n",
       "      <th>Deal_Status</th>\n",
       "    </tr>\n",
       "  </thead>\n",
       "  <tbody>\n",
       "    <tr>\n",
       "      <th>0</th>\n",
       "      <td>Telecom</td>\n",
       "      <td>Solution 7</td>\n",
       "      <td>Sector 24</td>\n",
       "      <td>L5</td>\n",
       "      <td>550</td>\n",
       "      <td>86</td>\n",
       "      <td>150000.00</td>\n",
       "      <td>1</td>\n",
       "    </tr>\n",
       "    <tr>\n",
       "      <th>1</th>\n",
       "      <td>Telecom</td>\n",
       "      <td>Solution 7</td>\n",
       "      <td>Sector 24</td>\n",
       "      <td>L5</td>\n",
       "      <td>550</td>\n",
       "      <td>86</td>\n",
       "      <td>744705.88</td>\n",
       "      <td>1</td>\n",
       "    </tr>\n",
       "    <tr>\n",
       "      <th>2</th>\n",
       "      <td>Internal</td>\n",
       "      <td>Solution 59</td>\n",
       "      <td>Sector 20</td>\n",
       "      <td>Others</td>\n",
       "      <td>550</td>\n",
       "      <td>143</td>\n",
       "      <td>60000.00</td>\n",
       "      <td>0</td>\n",
       "    </tr>\n",
       "    <tr>\n",
       "      <th>3</th>\n",
       "      <td>Internal</td>\n",
       "      <td>Solution 59</td>\n",
       "      <td>Sector 20</td>\n",
       "      <td>Others</td>\n",
       "      <td>550</td>\n",
       "      <td>143</td>\n",
       "      <td>60000.00</td>\n",
       "      <td>0</td>\n",
       "    </tr>\n",
       "    <tr>\n",
       "      <th>4</th>\n",
       "      <td>Internal</td>\n",
       "      <td>Solution 32</td>\n",
       "      <td>Sector 20</td>\n",
       "      <td>Others</td>\n",
       "      <td>550</td>\n",
       "      <td>143</td>\n",
       "      <td>80882.35</td>\n",
       "      <td>0</td>\n",
       "    </tr>\n",
       "    <tr>\n",
       "      <th>5</th>\n",
       "      <td>Internal</td>\n",
       "      <td>Solution 32</td>\n",
       "      <td>Sector 20</td>\n",
       "      <td>Others</td>\n",
       "      <td>550</td>\n",
       "      <td>143</td>\n",
       "      <td>80882.35</td>\n",
       "      <td>0</td>\n",
       "    </tr>\n",
       "    <tr>\n",
       "      <th>6</th>\n",
       "      <td>Internal</td>\n",
       "      <td>Solution 59</td>\n",
       "      <td>Sector 2</td>\n",
       "      <td>L10</td>\n",
       "      <td>1166</td>\n",
       "      <td>6</td>\n",
       "      <td>526176.47</td>\n",
       "      <td>1</td>\n",
       "    </tr>\n",
       "    <tr>\n",
       "      <th>7</th>\n",
       "      <td>Govt</td>\n",
       "      <td>Solution 7</td>\n",
       "      <td>Sector 13</td>\n",
       "      <td>L5</td>\n",
       "      <td>956</td>\n",
       "      <td>107</td>\n",
       "      <td>409705.88</td>\n",
       "      <td>0</td>\n",
       "    </tr>\n",
       "    <tr>\n",
       "      <th>8</th>\n",
       "      <td>Consumer Good</td>\n",
       "      <td>Solution 42</td>\n",
       "      <td>Sector 12</td>\n",
       "      <td>L10</td>\n",
       "      <td>26</td>\n",
       "      <td>25</td>\n",
       "      <td>1032352.94</td>\n",
       "      <td>1</td>\n",
       "    </tr>\n",
       "    <tr>\n",
       "      <th>9</th>\n",
       "      <td>Internal</td>\n",
       "      <td>Solution 59</td>\n",
       "      <td>Sector 20</td>\n",
       "      <td>Others</td>\n",
       "      <td>956</td>\n",
       "      <td>151</td>\n",
       "      <td>558823.53</td>\n",
       "      <td>0</td>\n",
       "    </tr>\n",
       "  </tbody>\n",
       "</table>\n",
       "</div>"
      ],
      "text/plain": [
       "  Client Category Solution Type     Sector Location  VP Name  Manager Name  \\\n",
       "0         Telecom    Solution 7  Sector 24       L5      550            86   \n",
       "1         Telecom    Solution 7  Sector 24       L5      550            86   \n",
       "2        Internal   Solution 59  Sector 20   Others      550           143   \n",
       "3        Internal   Solution 59  Sector 20   Others      550           143   \n",
       "4        Internal   Solution 32  Sector 20   Others      550           143   \n",
       "5        Internal   Solution 32  Sector 20   Others      550           143   \n",
       "6        Internal   Solution 59   Sector 2      L10     1166             6   \n",
       "7            Govt    Solution 7  Sector 13       L5      956           107   \n",
       "8   Consumer Good   Solution 42  Sector 12      L10       26            25   \n",
       "9        Internal   Solution 59  Sector 20   Others      956           151   \n",
       "\n",
       "    Deal_Cost  Deal_Status  \n",
       "0   150000.00            1  \n",
       "1   744705.88            1  \n",
       "2    60000.00            0  \n",
       "3    60000.00            0  \n",
       "4    80882.35            0  \n",
       "5    80882.35            0  \n",
       "6   526176.47            1  \n",
       "7   409705.88            0  \n",
       "8  1032352.94            1  \n",
       "9   558823.53            0  "
      ]
     },
     "execution_count": 15,
     "metadata": {},
     "output_type": "execute_result"
    }
   ],
   "source": [
    "df['VP Name']=df['VP Name'].map(VP_map)\n",
    "df.head(10)"
   ]
  },
  {
   "cell_type": "code",
   "execution_count": 16,
   "metadata": {},
   "outputs": [
    {
     "data": {
      "text/plain": [
       "Index(['Client Category', 'Solution Type', 'Sector', 'Location', 'VP Name',\n",
       "       'Manager Name', 'Deal_Cost', 'Deal_Status'],\n",
       "      dtype='object')"
      ]
     },
     "execution_count": 16,
     "metadata": {},
     "output_type": "execute_result"
    }
   ],
   "source": [
    "df.columns"
   ]
  },
  {
   "cell_type": "markdown",
   "metadata": {},
   "source": [
    "## Performing Target Guided Ordinal Encoding on Other Categorical Features"
   ]
  },
  {
   "cell_type": "code",
   "execution_count": 17,
   "metadata": {},
   "outputs": [
    {
     "data": {
      "text/plain": [
       "array(['Telecom', 'Internal', 'Govt', 'Consumer Good',\n",
       "       'International Bank', 'Domestic Public Bank', 'Finance',\n",
       "       'Manufacturing', 'Services_based', 'Research Development',\n",
       "       'Others', 'Hospitality', 'Consulting', 'Retail_market', 'Energy ',\n",
       "       'Domestic Private Bank', 'Industries', 'Tech', 'Healthcare',\n",
       "       'Electronics', 'Domestic Bank', 'Automobiles', 'Medical ',\n",
       "       'Infrastructure', 'Pharma', 'Power ind', 'Holding', 'Logistics',\n",
       "       'Insurance', 'Payment', 'Energy', 'Govt Bank Special',\n",
       "       'Management', 'Media_Journal', 'International Org', 'Real Estate',\n",
       "       'Tax_audit', 'Share_market', 'Knowledge', 'Airpline', 'e-commerce'],\n",
       "      dtype=object)"
      ]
     },
     "execution_count": 17,
     "metadata": {},
     "output_type": "execute_result"
    }
   ],
   "source": [
    "df[\"Client Category\"].unique()"
   ]
  },
  {
   "cell_type": "code",
   "execution_count": 18,
   "metadata": {},
   "outputs": [
    {
     "data": {
      "text/plain": [
       "Client Category\n",
       "Airpline                 0.185185\n",
       "Automobiles              0.370787\n",
       "Consulting               0.482955\n",
       "Consumer Good            0.470270\n",
       "Domestic Bank            0.417910\n",
       "Domestic Private Bank    0.328244\n",
       "Domestic Public Bank     0.226730\n",
       "Electronics              0.333333\n",
       "Energy                   0.438596\n",
       "Energy                   0.243243\n",
       "Finance                  0.321534\n",
       "Govt                     0.289256\n",
       "Govt Bank Special        0.219512\n",
       "Healthcare               0.313131\n",
       "Holding                  0.440000\n",
       "Hospitality              0.210084\n",
       "Industries               0.303030\n",
       "Infrastructure           0.421053\n",
       "Insurance                0.279352\n",
       "Internal                 0.522696\n",
       "International Bank       0.425532\n",
       "International Org        0.120000\n",
       "Knowledge                0.280000\n",
       "Logistics                0.200000\n",
       "Management               0.488372\n",
       "Manufacturing            0.316239\n",
       "Media_Journal            0.408451\n",
       "Medical                  0.200000\n",
       "Others                   0.353963\n",
       "Payment                  0.250000\n",
       "Pharma                   0.290909\n",
       "Power ind                0.424242\n",
       "Real Estate              0.263158\n",
       "Research Development     0.269841\n",
       "Retail_market            0.158730\n",
       "Services_based           0.339434\n",
       "Share_market             0.714286\n",
       "Tax_audit                0.142857\n",
       "Tech                     0.342826\n",
       "Telecom                  0.412844\n",
       "e-commerce               0.375000\n",
       "Name: Deal_Status, dtype: float64"
      ]
     },
     "execution_count": 18,
     "metadata": {},
     "output_type": "execute_result"
    }
   ],
   "source": [
    "df.groupby(['Client Category'])['Deal_Status'].mean()"
   ]
  },
  {
   "cell_type": "code",
   "execution_count": 19,
   "metadata": {},
   "outputs": [
    {
     "data": {
      "text/plain": [
       "Client Category\n",
       "International Org        0.120000\n",
       "Tax_audit                0.142857\n",
       "Retail_market            0.158730\n",
       "Airpline                 0.185185\n",
       "Logistics                0.200000\n",
       "Medical                  0.200000\n",
       "Hospitality              0.210084\n",
       "Govt Bank Special        0.219512\n",
       "Domestic Public Bank     0.226730\n",
       "Energy                   0.243243\n",
       "Payment                  0.250000\n",
       "Real Estate              0.263158\n",
       "Research Development     0.269841\n",
       "Insurance                0.279352\n",
       "Knowledge                0.280000\n",
       "Govt                     0.289256\n",
       "Pharma                   0.290909\n",
       "Industries               0.303030\n",
       "Healthcare               0.313131\n",
       "Manufacturing            0.316239\n",
       "Finance                  0.321534\n",
       "Domestic Private Bank    0.328244\n",
       "Electronics              0.333333\n",
       "Services_based           0.339434\n",
       "Tech                     0.342826\n",
       "Others                   0.353963\n",
       "Automobiles              0.370787\n",
       "e-commerce               0.375000\n",
       "Media_Journal            0.408451\n",
       "Telecom                  0.412844\n",
       "Domestic Bank            0.417910\n",
       "Infrastructure           0.421053\n",
       "Power ind                0.424242\n",
       "International Bank       0.425532\n",
       "Energy                   0.438596\n",
       "Holding                  0.440000\n",
       "Consumer Good            0.470270\n",
       "Consulting               0.482955\n",
       "Management               0.488372\n",
       "Internal                 0.522696\n",
       "Share_market             0.714286\n",
       "Name: Deal_Status, dtype: float64"
      ]
     },
     "execution_count": 19,
     "metadata": {},
     "output_type": "execute_result"
    }
   ],
   "source": [
    "df.groupby(['Client Category'])['Deal_Status'].mean().sort_values()"
   ]
  },
  {
   "cell_type": "code",
   "execution_count": 20,
   "metadata": {},
   "outputs": [],
   "source": [
    "ordinal_labels = df.groupby(['Client Category'])['Deal_Status'].mean().sort_values().index"
   ]
  },
  {
   "cell_type": "code",
   "execution_count": 21,
   "metadata": {},
   "outputs": [
    {
     "data": {
      "text/plain": [
       "{'International Org': 0,\n",
       " 'Tax_audit': 1,\n",
       " 'Retail_market': 2,\n",
       " 'Airpline': 3,\n",
       " 'Logistics': 4,\n",
       " 'Medical ': 5,\n",
       " 'Hospitality': 6,\n",
       " 'Govt Bank Special': 7,\n",
       " 'Domestic Public Bank': 8,\n",
       " 'Energy ': 9,\n",
       " 'Payment': 10,\n",
       " 'Real Estate': 11,\n",
       " 'Research Development': 12,\n",
       " 'Insurance': 13,\n",
       " 'Knowledge': 14,\n",
       " 'Govt': 15,\n",
       " 'Pharma': 16,\n",
       " 'Industries': 17,\n",
       " 'Healthcare': 18,\n",
       " 'Manufacturing': 19,\n",
       " 'Finance': 20,\n",
       " 'Domestic Private Bank': 21,\n",
       " 'Electronics': 22,\n",
       " 'Services_based': 23,\n",
       " 'Tech': 24,\n",
       " 'Others': 25,\n",
       " 'Automobiles': 26,\n",
       " 'e-commerce': 27,\n",
       " 'Media_Journal': 28,\n",
       " 'Telecom': 29,\n",
       " 'Domestic Bank': 30,\n",
       " 'Infrastructure': 31,\n",
       " 'Power ind': 32,\n",
       " 'International Bank': 33,\n",
       " 'Energy': 34,\n",
       " 'Holding': 35,\n",
       " 'Consumer Good': 36,\n",
       " 'Consulting': 37,\n",
       " 'Management': 38,\n",
       " 'Internal': 39,\n",
       " 'Share_market': 40}"
      ]
     },
     "execution_count": 21,
     "metadata": {},
     "output_type": "execute_result"
    }
   ],
   "source": [
    "ordinal_labels1={k:i for i,k in enumerate(ordinal_labels,0)}\n",
    "ordinal_labels1"
   ]
  },
  {
   "cell_type": "code",
   "execution_count": 22,
   "metadata": {},
   "outputs": [
    {
     "data": {
      "text/html": [
       "<div>\n",
       "<style scoped>\n",
       "    .dataframe tbody tr th:only-of-type {\n",
       "        vertical-align: middle;\n",
       "    }\n",
       "\n",
       "    .dataframe tbody tr th {\n",
       "        vertical-align: top;\n",
       "    }\n",
       "\n",
       "    .dataframe thead th {\n",
       "        text-align: right;\n",
       "    }\n",
       "</style>\n",
       "<table border=\"1\" class=\"dataframe\">\n",
       "  <thead>\n",
       "    <tr style=\"text-align: right;\">\n",
       "      <th></th>\n",
       "      <th>Client Category</th>\n",
       "      <th>Solution Type</th>\n",
       "      <th>Sector</th>\n",
       "      <th>Location</th>\n",
       "      <th>VP Name</th>\n",
       "      <th>Manager Name</th>\n",
       "      <th>Deal_Cost</th>\n",
       "      <th>Deal_Status</th>\n",
       "    </tr>\n",
       "  </thead>\n",
       "  <tbody>\n",
       "    <tr>\n",
       "      <th>0</th>\n",
       "      <td>29</td>\n",
       "      <td>Solution 7</td>\n",
       "      <td>Sector 24</td>\n",
       "      <td>L5</td>\n",
       "      <td>550</td>\n",
       "      <td>86</td>\n",
       "      <td>150000.00</td>\n",
       "      <td>1</td>\n",
       "    </tr>\n",
       "    <tr>\n",
       "      <th>1</th>\n",
       "      <td>29</td>\n",
       "      <td>Solution 7</td>\n",
       "      <td>Sector 24</td>\n",
       "      <td>L5</td>\n",
       "      <td>550</td>\n",
       "      <td>86</td>\n",
       "      <td>744705.88</td>\n",
       "      <td>1</td>\n",
       "    </tr>\n",
       "    <tr>\n",
       "      <th>2</th>\n",
       "      <td>39</td>\n",
       "      <td>Solution 59</td>\n",
       "      <td>Sector 20</td>\n",
       "      <td>Others</td>\n",
       "      <td>550</td>\n",
       "      <td>143</td>\n",
       "      <td>60000.00</td>\n",
       "      <td>0</td>\n",
       "    </tr>\n",
       "    <tr>\n",
       "      <th>3</th>\n",
       "      <td>39</td>\n",
       "      <td>Solution 59</td>\n",
       "      <td>Sector 20</td>\n",
       "      <td>Others</td>\n",
       "      <td>550</td>\n",
       "      <td>143</td>\n",
       "      <td>60000.00</td>\n",
       "      <td>0</td>\n",
       "    </tr>\n",
       "    <tr>\n",
       "      <th>4</th>\n",
       "      <td>39</td>\n",
       "      <td>Solution 32</td>\n",
       "      <td>Sector 20</td>\n",
       "      <td>Others</td>\n",
       "      <td>550</td>\n",
       "      <td>143</td>\n",
       "      <td>80882.35</td>\n",
       "      <td>0</td>\n",
       "    </tr>\n",
       "  </tbody>\n",
       "</table>\n",
       "</div>"
      ],
      "text/plain": [
       "   Client Category Solution Type     Sector Location  VP Name  Manager Name  \\\n",
       "0               29    Solution 7  Sector 24       L5      550            86   \n",
       "1               29    Solution 7  Sector 24       L5      550            86   \n",
       "2               39   Solution 59  Sector 20   Others      550           143   \n",
       "3               39   Solution 59  Sector 20   Others      550           143   \n",
       "4               39   Solution 32  Sector 20   Others      550           143   \n",
       "\n",
       "   Deal_Cost  Deal_Status  \n",
       "0  150000.00            1  \n",
       "1  744705.88            1  \n",
       "2   60000.00            0  \n",
       "3   60000.00            0  \n",
       "4   80882.35            0  "
      ]
     },
     "execution_count": 22,
     "metadata": {},
     "output_type": "execute_result"
    }
   ],
   "source": [
    "df['Client Category']=df['Client Category'].map(ordinal_labels1)\n",
    "df.head()"
   ]
  },
  {
   "cell_type": "code",
   "execution_count": 23,
   "metadata": {},
   "outputs": [
    {
     "data": {
      "text/plain": [
       "array(['Solution 7', 'Solution 59', 'Solution 32', 'Solution 42',\n",
       "       'Solution 6', 'Solution 20', 'Solution 37', 'Solution 31',\n",
       "       'Solution 39', 'Solution 3', 'Solution 30', 'Solution 33',\n",
       "       'Solution 29', 'Solution 40', 'Solution 14', 'Solution 67',\n",
       "       'Solution 10', 'Solution 28', 'Solution 47', 'Solution 36',\n",
       "       'Solution 44', 'Solution 38', 'Solution 55', 'Solution 35',\n",
       "       'Solution 2', 'Solution 34', 'Solution 48', 'Solution 52',\n",
       "       'Solution 61', 'Solution 11', 'Solution 12', 'Solution 15',\n",
       "       'Solution 4', 'Solution 46', 'Solution 63', 'Solution 60',\n",
       "       'Solution 65', 'Solution 24', 'Solution 41', 'Solution 13',\n",
       "       'Solution 50', 'Solution 66', 'Solution 25', 'Solution 8',\n",
       "       'Solution 16', 'Solution 51', 'Solution 58', 'Solution 26',\n",
       "       'Solution 17', 'Solution 49', 'Solution 27', 'Solution 53',\n",
       "       'Solution 1', 'Solution 45', 'Solution 9', 'Solution 64',\n",
       "       'Solution 5', 'Solution 62', 'Solution 57', 'Solution 43',\n",
       "       'Solution 23', 'Solution 22', 'Solution 54', 'Solution 56',\n",
       "       'Solution 18', 'Solution 19', 'Solution 21'], dtype=object)"
      ]
     },
     "execution_count": 23,
     "metadata": {},
     "output_type": "execute_result"
    }
   ],
   "source": [
    "df[\"Solution Type\"].unique()"
   ]
  },
  {
   "cell_type": "code",
   "execution_count": 24,
   "metadata": {},
   "outputs": [
    {
     "data": {
      "text/plain": [
       "Solution Type\n",
       "Solution 1     0.600000\n",
       "Solution 10    0.320866\n",
       "Solution 11    0.371429\n",
       "Solution 12    0.222727\n",
       "Solution 13    0.314103\n",
       "                 ...   \n",
       "Solution 66    1.000000\n",
       "Solution 67    0.301370\n",
       "Solution 7     0.348315\n",
       "Solution 8     0.491979\n",
       "Solution 9     0.282087\n",
       "Name: Deal_Status, Length: 67, dtype: float64"
      ]
     },
     "execution_count": 24,
     "metadata": {},
     "output_type": "execute_result"
    }
   ],
   "source": [
    "df.groupby(['Solution Type'])['Deal_Status'].mean()"
   ]
  },
  {
   "cell_type": "code",
   "execution_count": 25,
   "metadata": {},
   "outputs": [
    {
     "data": {
      "text/plain": [
       "Solution Type\n",
       "Solution 53    0.0\n",
       "Solution 23    0.0\n",
       "Solution 21    0.0\n",
       "Solution 63    0.0\n",
       "Solution 45    0.0\n",
       "              ... \n",
       "Solution 64    1.0\n",
       "Solution 66    1.0\n",
       "Solution 19    1.0\n",
       "Solution 18    1.0\n",
       "Solution 57    1.0\n",
       "Name: Deal_Status, Length: 67, dtype: float64"
      ]
     },
     "execution_count": 25,
     "metadata": {},
     "output_type": "execute_result"
    }
   ],
   "source": [
    "df.groupby(['Solution Type'])['Deal_Status'].mean().sort_values()"
   ]
  },
  {
   "cell_type": "code",
   "execution_count": 26,
   "metadata": {},
   "outputs": [],
   "source": [
    "ordinal_labels2 = df.groupby(['Solution Type'])['Deal_Status'].mean().sort_values().index"
   ]
  },
  {
   "cell_type": "code",
   "execution_count": 27,
   "metadata": {},
   "outputs": [
    {
     "data": {
      "text/plain": [
       "{'Solution 53': 0,\n",
       " 'Solution 23': 1,\n",
       " 'Solution 21': 2,\n",
       " 'Solution 63': 3,\n",
       " 'Solution 45': 4,\n",
       " 'Solution 44': 5,\n",
       " 'Solution 5': 6,\n",
       " 'Solution 51': 7,\n",
       " 'Solution 54': 8,\n",
       " 'Solution 27': 9,\n",
       " 'Solution 41': 10,\n",
       " 'Solution 52': 11,\n",
       " 'Solution 43': 12,\n",
       " 'Solution 34': 13,\n",
       " 'Solution 12': 14,\n",
       " 'Solution 36': 15,\n",
       " 'Solution 15': 16,\n",
       " 'Solution 16': 17,\n",
       " 'Solution 17': 18,\n",
       " 'Solution 40': 19,\n",
       " 'Solution 31': 20,\n",
       " 'Solution 28': 21,\n",
       " 'Solution 47': 22,\n",
       " 'Solution 9': 23,\n",
       " 'Solution 29': 24,\n",
       " 'Solution 55': 25,\n",
       " 'Solution 67': 26,\n",
       " 'Solution 6': 27,\n",
       " 'Solution 13': 28,\n",
       " 'Solution 35': 29,\n",
       " 'Solution 10': 30,\n",
       " 'Solution 59': 31,\n",
       " 'Solution 22': 32,\n",
       " 'Solution 50': 33,\n",
       " 'Solution 3': 34,\n",
       " 'Solution 7': 35,\n",
       " 'Solution 38': 36,\n",
       " 'Solution 37': 37,\n",
       " 'Solution 11': 38,\n",
       " 'Solution 49': 39,\n",
       " 'Solution 14': 40,\n",
       " 'Solution 42': 41,\n",
       " 'Solution 26': 42,\n",
       " 'Solution 39': 43,\n",
       " 'Solution 58': 44,\n",
       " 'Solution 8': 45,\n",
       " 'Solution 62': 46,\n",
       " 'Solution 61': 47,\n",
       " 'Solution 46': 48,\n",
       " 'Solution 4': 49,\n",
       " 'Solution 48': 50,\n",
       " 'Solution 33': 51,\n",
       " 'Solution 20': 52,\n",
       " 'Solution 32': 53,\n",
       " 'Solution 2': 54,\n",
       " 'Solution 25': 55,\n",
       " 'Solution 1': 56,\n",
       " 'Solution 65': 57,\n",
       " 'Solution 30': 58,\n",
       " 'Solution 60': 59,\n",
       " 'Solution 24': 60,\n",
       " 'Solution 56': 61,\n",
       " 'Solution 64': 62,\n",
       " 'Solution 66': 63,\n",
       " 'Solution 19': 64,\n",
       " 'Solution 18': 65,\n",
       " 'Solution 57': 66}"
      ]
     },
     "execution_count": 27,
     "metadata": {},
     "output_type": "execute_result"
    }
   ],
   "source": [
    "ordinal_labels3={k:i for i,k in enumerate(ordinal_labels2,0)}\n",
    "ordinal_labels3"
   ]
  },
  {
   "cell_type": "code",
   "execution_count": 28,
   "metadata": {},
   "outputs": [
    {
     "data": {
      "text/html": [
       "<div>\n",
       "<style scoped>\n",
       "    .dataframe tbody tr th:only-of-type {\n",
       "        vertical-align: middle;\n",
       "    }\n",
       "\n",
       "    .dataframe tbody tr th {\n",
       "        vertical-align: top;\n",
       "    }\n",
       "\n",
       "    .dataframe thead th {\n",
       "        text-align: right;\n",
       "    }\n",
       "</style>\n",
       "<table border=\"1\" class=\"dataframe\">\n",
       "  <thead>\n",
       "    <tr style=\"text-align: right;\">\n",
       "      <th></th>\n",
       "      <th>Client Category</th>\n",
       "      <th>Solution Type</th>\n",
       "      <th>Sector</th>\n",
       "      <th>Location</th>\n",
       "      <th>VP Name</th>\n",
       "      <th>Manager Name</th>\n",
       "      <th>Deal_Cost</th>\n",
       "      <th>Deal_Status</th>\n",
       "    </tr>\n",
       "  </thead>\n",
       "  <tbody>\n",
       "    <tr>\n",
       "      <th>0</th>\n",
       "      <td>29</td>\n",
       "      <td>35</td>\n",
       "      <td>Sector 24</td>\n",
       "      <td>L5</td>\n",
       "      <td>550</td>\n",
       "      <td>86</td>\n",
       "      <td>150000.00</td>\n",
       "      <td>1</td>\n",
       "    </tr>\n",
       "    <tr>\n",
       "      <th>1</th>\n",
       "      <td>29</td>\n",
       "      <td>35</td>\n",
       "      <td>Sector 24</td>\n",
       "      <td>L5</td>\n",
       "      <td>550</td>\n",
       "      <td>86</td>\n",
       "      <td>744705.88</td>\n",
       "      <td>1</td>\n",
       "    </tr>\n",
       "    <tr>\n",
       "      <th>2</th>\n",
       "      <td>39</td>\n",
       "      <td>31</td>\n",
       "      <td>Sector 20</td>\n",
       "      <td>Others</td>\n",
       "      <td>550</td>\n",
       "      <td>143</td>\n",
       "      <td>60000.00</td>\n",
       "      <td>0</td>\n",
       "    </tr>\n",
       "    <tr>\n",
       "      <th>3</th>\n",
       "      <td>39</td>\n",
       "      <td>31</td>\n",
       "      <td>Sector 20</td>\n",
       "      <td>Others</td>\n",
       "      <td>550</td>\n",
       "      <td>143</td>\n",
       "      <td>60000.00</td>\n",
       "      <td>0</td>\n",
       "    </tr>\n",
       "    <tr>\n",
       "      <th>4</th>\n",
       "      <td>39</td>\n",
       "      <td>53</td>\n",
       "      <td>Sector 20</td>\n",
       "      <td>Others</td>\n",
       "      <td>550</td>\n",
       "      <td>143</td>\n",
       "      <td>80882.35</td>\n",
       "      <td>0</td>\n",
       "    </tr>\n",
       "  </tbody>\n",
       "</table>\n",
       "</div>"
      ],
      "text/plain": [
       "   Client Category  Solution Type     Sector Location  VP Name  Manager Name  \\\n",
       "0               29             35  Sector 24       L5      550            86   \n",
       "1               29             35  Sector 24       L5      550            86   \n",
       "2               39             31  Sector 20   Others      550           143   \n",
       "3               39             31  Sector 20   Others      550           143   \n",
       "4               39             53  Sector 20   Others      550           143   \n",
       "\n",
       "   Deal_Cost  Deal_Status  \n",
       "0  150000.00            1  \n",
       "1  744705.88            1  \n",
       "2   60000.00            0  \n",
       "3   60000.00            0  \n",
       "4   80882.35            0  "
      ]
     },
     "execution_count": 28,
     "metadata": {},
     "output_type": "execute_result"
    }
   ],
   "source": [
    "df['Solution Type']=df['Solution Type'].map(ordinal_labels3)\n",
    "df.head()"
   ]
  },
  {
   "cell_type": "code",
   "execution_count": 29,
   "metadata": {},
   "outputs": [
    {
     "data": {
      "text/plain": [
       "array(['Sector 24', 'Sector 20', 'Sector 2', 'Sector 13', 'Sector 12',\n",
       "       'Sector 15', 'Sector 17', 'Sector 23', 'Sector 14', 'Sector 22',\n",
       "       'Sector 9', 'Sector 16', 'Sector 25', 'Sector 1', 'Sector 4',\n",
       "       'Sector 18', 'Sector 3', 'Sector 6', 'Sector 21', 'Sector 8',\n",
       "       'Sector 11', 'Sector 19', 'Sector 5', 'Sector 7', 'Sector 10'],\n",
       "      dtype=object)"
      ]
     },
     "execution_count": 29,
     "metadata": {},
     "output_type": "execute_result"
    }
   ],
   "source": [
    "df[\"Sector\"].unique()"
   ]
  },
  {
   "cell_type": "code",
   "execution_count": 30,
   "metadata": {},
   "outputs": [
    {
     "data": {
      "text/plain": [
       "Sector\n",
       "Sector 1     0.316017\n",
       "Sector 10    0.333333\n",
       "Sector 11    0.245614\n",
       "Sector 12    0.331137\n",
       "Sector 13    0.200000\n",
       "Sector 14    0.247706\n",
       "Sector 15    0.395349\n",
       "Sector 16    0.333333\n",
       "Sector 17    0.421941\n",
       "Sector 18    0.314741\n",
       "Sector 19    0.408451\n",
       "Sector 2     0.340961\n",
       "Sector 20    0.503234\n",
       "Sector 21    0.666667\n",
       "Sector 22    0.375000\n",
       "Sector 23    0.391014\n",
       "Sector 24    0.377163\n",
       "Sector 25    0.347985\n",
       "Sector 3     0.333333\n",
       "Sector 4     0.312500\n",
       "Sector 5     0.187500\n",
       "Sector 6     0.354167\n",
       "Sector 7     0.571429\n",
       "Sector 8     0.230769\n",
       "Sector 9     0.452575\n",
       "Name: Deal_Status, dtype: float64"
      ]
     },
     "execution_count": 30,
     "metadata": {},
     "output_type": "execute_result"
    }
   ],
   "source": [
    "df.groupby(['Sector'])['Deal_Status'].mean()"
   ]
  },
  {
   "cell_type": "code",
   "execution_count": 31,
   "metadata": {},
   "outputs": [
    {
     "data": {
      "text/plain": [
       "Sector\n",
       "Sector 5     0.187500\n",
       "Sector 13    0.200000\n",
       "Sector 8     0.230769\n",
       "Sector 11    0.245614\n",
       "Sector 14    0.247706\n",
       "Sector 4     0.312500\n",
       "Sector 18    0.314741\n",
       "Sector 1     0.316017\n",
       "Sector 12    0.331137\n",
       "Sector 10    0.333333\n",
       "Sector 3     0.333333\n",
       "Sector 16    0.333333\n",
       "Sector 2     0.340961\n",
       "Sector 25    0.347985\n",
       "Sector 6     0.354167\n",
       "Sector 22    0.375000\n",
       "Sector 24    0.377163\n",
       "Sector 23    0.391014\n",
       "Sector 15    0.395349\n",
       "Sector 19    0.408451\n",
       "Sector 17    0.421941\n",
       "Sector 9     0.452575\n",
       "Sector 20    0.503234\n",
       "Sector 7     0.571429\n",
       "Sector 21    0.666667\n",
       "Name: Deal_Status, dtype: float64"
      ]
     },
     "execution_count": 31,
     "metadata": {},
     "output_type": "execute_result"
    }
   ],
   "source": [
    "df.groupby(['Sector'])['Deal_Status'].mean().sort_values()"
   ]
  },
  {
   "cell_type": "code",
   "execution_count": 32,
   "metadata": {},
   "outputs": [],
   "source": [
    "ordinal_labels4 = df.groupby(['Sector'])['Deal_Status'].mean().sort_values().index"
   ]
  },
  {
   "cell_type": "code",
   "execution_count": 33,
   "metadata": {},
   "outputs": [
    {
     "data": {
      "text/plain": [
       "{'Sector 5': 0,\n",
       " 'Sector 13': 1,\n",
       " 'Sector 8': 2,\n",
       " 'Sector 11': 3,\n",
       " 'Sector 14': 4,\n",
       " 'Sector 4': 5,\n",
       " 'Sector 18': 6,\n",
       " 'Sector 1': 7,\n",
       " 'Sector 12': 8,\n",
       " 'Sector 10': 9,\n",
       " 'Sector 3': 10,\n",
       " 'Sector 16': 11,\n",
       " 'Sector 2': 12,\n",
       " 'Sector 25': 13,\n",
       " 'Sector 6': 14,\n",
       " 'Sector 22': 15,\n",
       " 'Sector 24': 16,\n",
       " 'Sector 23': 17,\n",
       " 'Sector 15': 18,\n",
       " 'Sector 19': 19,\n",
       " 'Sector 17': 20,\n",
       " 'Sector 9': 21,\n",
       " 'Sector 20': 22,\n",
       " 'Sector 7': 23,\n",
       " 'Sector 21': 24}"
      ]
     },
     "execution_count": 33,
     "metadata": {},
     "output_type": "execute_result"
    }
   ],
   "source": [
    "ordinal_labels5={k:i for i,k in enumerate(ordinal_labels4,0)}\n",
    "ordinal_labels5"
   ]
  },
  {
   "cell_type": "code",
   "execution_count": 34,
   "metadata": {},
   "outputs": [
    {
     "data": {
      "text/html": [
       "<div>\n",
       "<style scoped>\n",
       "    .dataframe tbody tr th:only-of-type {\n",
       "        vertical-align: middle;\n",
       "    }\n",
       "\n",
       "    .dataframe tbody tr th {\n",
       "        vertical-align: top;\n",
       "    }\n",
       "\n",
       "    .dataframe thead th {\n",
       "        text-align: right;\n",
       "    }\n",
       "</style>\n",
       "<table border=\"1\" class=\"dataframe\">\n",
       "  <thead>\n",
       "    <tr style=\"text-align: right;\">\n",
       "      <th></th>\n",
       "      <th>Client Category</th>\n",
       "      <th>Solution Type</th>\n",
       "      <th>Sector</th>\n",
       "      <th>Location</th>\n",
       "      <th>VP Name</th>\n",
       "      <th>Manager Name</th>\n",
       "      <th>Deal_Cost</th>\n",
       "      <th>Deal_Status</th>\n",
       "    </tr>\n",
       "  </thead>\n",
       "  <tbody>\n",
       "    <tr>\n",
       "      <th>0</th>\n",
       "      <td>29</td>\n",
       "      <td>35</td>\n",
       "      <td>16</td>\n",
       "      <td>L5</td>\n",
       "      <td>550</td>\n",
       "      <td>86</td>\n",
       "      <td>150000.00</td>\n",
       "      <td>1</td>\n",
       "    </tr>\n",
       "    <tr>\n",
       "      <th>1</th>\n",
       "      <td>29</td>\n",
       "      <td>35</td>\n",
       "      <td>16</td>\n",
       "      <td>L5</td>\n",
       "      <td>550</td>\n",
       "      <td>86</td>\n",
       "      <td>744705.88</td>\n",
       "      <td>1</td>\n",
       "    </tr>\n",
       "    <tr>\n",
       "      <th>2</th>\n",
       "      <td>39</td>\n",
       "      <td>31</td>\n",
       "      <td>22</td>\n",
       "      <td>Others</td>\n",
       "      <td>550</td>\n",
       "      <td>143</td>\n",
       "      <td>60000.00</td>\n",
       "      <td>0</td>\n",
       "    </tr>\n",
       "    <tr>\n",
       "      <th>3</th>\n",
       "      <td>39</td>\n",
       "      <td>31</td>\n",
       "      <td>22</td>\n",
       "      <td>Others</td>\n",
       "      <td>550</td>\n",
       "      <td>143</td>\n",
       "      <td>60000.00</td>\n",
       "      <td>0</td>\n",
       "    </tr>\n",
       "    <tr>\n",
       "      <th>4</th>\n",
       "      <td>39</td>\n",
       "      <td>53</td>\n",
       "      <td>22</td>\n",
       "      <td>Others</td>\n",
       "      <td>550</td>\n",
       "      <td>143</td>\n",
       "      <td>80882.35</td>\n",
       "      <td>0</td>\n",
       "    </tr>\n",
       "  </tbody>\n",
       "</table>\n",
       "</div>"
      ],
      "text/plain": [
       "   Client Category  Solution Type  Sector Location  VP Name  Manager Name  \\\n",
       "0               29             35      16       L5      550            86   \n",
       "1               29             35      16       L5      550            86   \n",
       "2               39             31      22   Others      550           143   \n",
       "3               39             31      22   Others      550           143   \n",
       "4               39             53      22   Others      550           143   \n",
       "\n",
       "   Deal_Cost  Deal_Status  \n",
       "0  150000.00            1  \n",
       "1  744705.88            1  \n",
       "2   60000.00            0  \n",
       "3   60000.00            0  \n",
       "4   80882.35            0  "
      ]
     },
     "execution_count": 34,
     "metadata": {},
     "output_type": "execute_result"
    }
   ],
   "source": [
    "df['Sector']=df['Sector'].map(ordinal_labels5)\n",
    "df.head()"
   ]
  },
  {
   "cell_type": "code",
   "execution_count": 35,
   "metadata": {},
   "outputs": [
    {
     "data": {
      "text/html": [
       "<div>\n",
       "<style scoped>\n",
       "    .dataframe tbody tr th:only-of-type {\n",
       "        vertical-align: middle;\n",
       "    }\n",
       "\n",
       "    .dataframe tbody tr th {\n",
       "        vertical-align: top;\n",
       "    }\n",
       "\n",
       "    .dataframe thead th {\n",
       "        text-align: right;\n",
       "    }\n",
       "</style>\n",
       "<table border=\"1\" class=\"dataframe\">\n",
       "  <thead>\n",
       "    <tr style=\"text-align: right;\">\n",
       "      <th></th>\n",
       "      <th>Client Category</th>\n",
       "      <th>Solution Type</th>\n",
       "      <th>Sector</th>\n",
       "      <th>VP Name</th>\n",
       "      <th>Manager Name</th>\n",
       "      <th>Deal_Cost</th>\n",
       "      <th>Deal_Status</th>\n",
       "    </tr>\n",
       "  </thead>\n",
       "  <tbody>\n",
       "    <tr>\n",
       "      <th>Client Category</th>\n",
       "      <td>1.000000</td>\n",
       "      <td>0.110241</td>\n",
       "      <td>0.256219</td>\n",
       "      <td>-0.082905</td>\n",
       "      <td>0.002276</td>\n",
       "      <td>0.062593</td>\n",
       "      <td>0.179211</td>\n",
       "    </tr>\n",
       "    <tr>\n",
       "      <th>Solution Type</th>\n",
       "      <td>0.110241</td>\n",
       "      <td>1.000000</td>\n",
       "      <td>0.120845</td>\n",
       "      <td>-0.103736</td>\n",
       "      <td>0.055208</td>\n",
       "      <td>0.011598</td>\n",
       "      <td>0.246134</td>\n",
       "    </tr>\n",
       "    <tr>\n",
       "      <th>Sector</th>\n",
       "      <td>0.256219</td>\n",
       "      <td>0.120845</td>\n",
       "      <td>1.000000</td>\n",
       "      <td>-0.032043</td>\n",
       "      <td>0.029404</td>\n",
       "      <td>0.011637</td>\n",
       "      <td>0.120514</td>\n",
       "    </tr>\n",
       "    <tr>\n",
       "      <th>VP Name</th>\n",
       "      <td>-0.082905</td>\n",
       "      <td>-0.103736</td>\n",
       "      <td>-0.032043</td>\n",
       "      <td>1.000000</td>\n",
       "      <td>0.153367</td>\n",
       "      <td>-0.049389</td>\n",
       "      <td>-0.057553</td>\n",
       "    </tr>\n",
       "    <tr>\n",
       "      <th>Manager Name</th>\n",
       "      <td>0.002276</td>\n",
       "      <td>0.055208</td>\n",
       "      <td>0.029404</td>\n",
       "      <td>0.153367</td>\n",
       "      <td>1.000000</td>\n",
       "      <td>-0.068816</td>\n",
       "      <td>-0.034997</td>\n",
       "    </tr>\n",
       "    <tr>\n",
       "      <th>Deal_Cost</th>\n",
       "      <td>0.062593</td>\n",
       "      <td>0.011598</td>\n",
       "      <td>0.011637</td>\n",
       "      <td>-0.049389</td>\n",
       "      <td>-0.068816</td>\n",
       "      <td>1.000000</td>\n",
       "      <td>0.004737</td>\n",
       "    </tr>\n",
       "    <tr>\n",
       "      <th>Deal_Status</th>\n",
       "      <td>0.179211</td>\n",
       "      <td>0.246134</td>\n",
       "      <td>0.120514</td>\n",
       "      <td>-0.057553</td>\n",
       "      <td>-0.034997</td>\n",
       "      <td>0.004737</td>\n",
       "      <td>1.000000</td>\n",
       "    </tr>\n",
       "  </tbody>\n",
       "</table>\n",
       "</div>"
      ],
      "text/plain": [
       "                 Client Category  Solution Type    Sector   VP Name  \\\n",
       "Client Category         1.000000       0.110241  0.256219 -0.082905   \n",
       "Solution Type           0.110241       1.000000  0.120845 -0.103736   \n",
       "Sector                  0.256219       0.120845  1.000000 -0.032043   \n",
       "VP Name                -0.082905      -0.103736 -0.032043  1.000000   \n",
       "Manager Name            0.002276       0.055208  0.029404  0.153367   \n",
       "Deal_Cost               0.062593       0.011598  0.011637 -0.049389   \n",
       "Deal_Status             0.179211       0.246134  0.120514 -0.057553   \n",
       "\n",
       "                 Manager Name  Deal_Cost  Deal_Status  \n",
       "Client Category      0.002276   0.062593     0.179211  \n",
       "Solution Type        0.055208   0.011598     0.246134  \n",
       "Sector               0.029404   0.011637     0.120514  \n",
       "VP Name              0.153367  -0.049389    -0.057553  \n",
       "Manager Name         1.000000  -0.068816    -0.034997  \n",
       "Deal_Cost           -0.068816   1.000000     0.004737  \n",
       "Deal_Status         -0.034997   0.004737     1.000000  "
      ]
     },
     "execution_count": 35,
     "metadata": {},
     "output_type": "execute_result"
    }
   ],
   "source": [
    "df.corr()"
   ]
  },
  {
   "cell_type": "code",
   "execution_count": 36,
   "metadata": {},
   "outputs": [],
   "source": [
    "df1 = pd.get_dummies(df,drop_first = True) #only location feature is going through dummy creation"
   ]
  },
  {
   "cell_type": "code",
   "execution_count": 38,
   "metadata": {},
   "outputs": [],
   "source": [
    "#Final Data Set\n",
    "\n",
    "df1\n",
    "\n",
    "#Saving Data set\n",
    "\n",
    "df1.to_csv(\"win_19.csv\", index = False)"
   ]
  },
  {
   "cell_type": "code",
   "execution_count": 84,
   "metadata": {},
   "outputs": [
    {
     "data": {
      "text/plain": [
       "[                 Client Category  Solution Type  Sector  VP Name  \\\n",
       " Client Category             True          False   False    False   \n",
       " Solution Type              False           True   False    False   \n",
       " Sector                     False          False    True    False   \n",
       " VP Name                    False          False   False     True   \n",
       " Manager Name               False          False   False    False   \n",
       " Deal_Cost                  False          False   False    False   \n",
       " Deal_Status                False          False   False    False   \n",
       " Location_L10               False          False   False    False   \n",
       " Location_L11               False          False   False    False   \n",
       " Location_L12               False          False   False    False   \n",
       " Location_L2                False          False   False    False   \n",
       " Location_L3                False          False   False    False   \n",
       " Location_L4                False          False   False    False   \n",
       " Location_L5                False          False   False    False   \n",
       " Location_L6                False          False   False    False   \n",
       " Location_L7                False          False   False    False   \n",
       " Location_L8                False          False   False    False   \n",
       " Location_L9                False          False   False    False   \n",
       " Location_Others            False          False   False    False   \n",
       " \n",
       "                  Manager Name  Deal_Cost  Deal_Status  Location_L10  \\\n",
       " Client Category         False      False        False         False   \n",
       " Solution Type           False      False        False         False   \n",
       " Sector                  False      False        False         False   \n",
       " VP Name                 False      False        False         False   \n",
       " Manager Name             True      False        False         False   \n",
       " Deal_Cost               False       True        False         False   \n",
       " Deal_Status             False      False         True         False   \n",
       " Location_L10            False      False        False          True   \n",
       " Location_L11            False      False        False         False   \n",
       " Location_L12            False      False        False         False   \n",
       " Location_L2             False      False        False         False   \n",
       " Location_L3             False      False        False         False   \n",
       " Location_L4             False      False        False         False   \n",
       " Location_L5             False      False        False         False   \n",
       " Location_L6             False      False        False         False   \n",
       " Location_L7             False      False        False         False   \n",
       " Location_L8             False      False        False         False   \n",
       " Location_L9             False      False        False         False   \n",
       " Location_Others         False      False        False         False   \n",
       " \n",
       "                  Location_L11  Location_L12  Location_L2  Location_L3  \\\n",
       " Client Category         False         False        False        False   \n",
       " Solution Type           False         False        False        False   \n",
       " Sector                  False         False        False        False   \n",
       " VP Name                 False         False        False        False   \n",
       " Manager Name            False         False        False        False   \n",
       " Deal_Cost               False         False        False        False   \n",
       " Deal_Status             False         False        False        False   \n",
       " Location_L10            False         False        False        False   \n",
       " Location_L11             True         False        False        False   \n",
       " Location_L12            False          True        False        False   \n",
       " Location_L2             False         False         True        False   \n",
       " Location_L3             False         False        False         True   \n",
       " Location_L4             False         False        False        False   \n",
       " Location_L5             False         False        False        False   \n",
       " Location_L6             False         False        False        False   \n",
       " Location_L7             False         False        False        False   \n",
       " Location_L8             False         False        False        False   \n",
       " Location_L9             False         False        False        False   \n",
       " Location_Others         False         False        False        False   \n",
       " \n",
       "                  Location_L4  Location_L5  Location_L6  Location_L7  \\\n",
       " Client Category        False        False        False        False   \n",
       " Solution Type          False        False        False        False   \n",
       " Sector                 False        False        False        False   \n",
       " VP Name                False        False        False        False   \n",
       " Manager Name           False        False        False        False   \n",
       " Deal_Cost              False        False        False        False   \n",
       " Deal_Status            False        False        False        False   \n",
       " Location_L10           False        False        False        False   \n",
       " Location_L11           False        False        False        False   \n",
       " Location_L12           False        False        False        False   \n",
       " Location_L2            False        False        False        False   \n",
       " Location_L3            False        False        False        False   \n",
       " Location_L4             True        False        False        False   \n",
       " Location_L5            False         True        False        False   \n",
       " Location_L6            False        False         True        False   \n",
       " Location_L7            False        False        False         True   \n",
       " Location_L8            False        False        False        False   \n",
       " Location_L9            False        False        False        False   \n",
       " Location_Others        False        False        False        False   \n",
       " \n",
       "                  Location_L8  Location_L9  Location_Others  \n",
       " Client Category        False        False            False  \n",
       " Solution Type          False        False            False  \n",
       " Sector                 False        False            False  \n",
       " VP Name                False        False            False  \n",
       " Manager Name           False        False            False  \n",
       " Deal_Cost              False        False            False  \n",
       " Deal_Status            False        False            False  \n",
       " Location_L10           False        False            False  \n",
       " Location_L11           False        False            False  \n",
       " Location_L12           False        False            False  \n",
       " Location_L2            False        False            False  \n",
       " Location_L3            False        False            False  \n",
       " Location_L4            False        False            False  \n",
       " Location_L5            False        False            False  \n",
       " Location_L6            False        False            False  \n",
       " Location_L7            False        False            False  \n",
       " Location_L8             True        False            False  \n",
       " Location_L9            False         True            False  \n",
       " Location_Others        False        False             True  ]"
      ]
     },
     "execution_count": 84,
     "metadata": {},
     "output_type": "execute_result"
    }
   ],
   "source": [
    "[df1.corr()>0.5]"
   ]
  },
  {
   "cell_type": "markdown",
   "metadata": {},
   "source": [
    "# Independent and Dependent Features"
   ]
  },
  {
   "cell_type": "code",
   "execution_count": 85,
   "metadata": {},
   "outputs": [],
   "source": [
    "X = df1.drop(\"Deal_Status\", axis = 1)"
   ]
  },
  {
   "cell_type": "code",
   "execution_count": 86,
   "metadata": {},
   "outputs": [],
   "source": [
    "y = df1[\"Deal_Status\"]"
   ]
  },
  {
   "cell_type": "markdown",
   "metadata": {},
   "source": [
    "# Splitting Data Set"
   ]
  },
  {
   "cell_type": "code",
   "execution_count": 87,
   "metadata": {},
   "outputs": [],
   "source": [
    "from sklearn.model_selection import train_test_split"
   ]
  },
  {
   "cell_type": "code",
   "execution_count": 88,
   "metadata": {},
   "outputs": [],
   "source": [
    "X_train, X_test, y_train, y_test = train_test_split(X, y, test_size=0.33, random_state=42)"
   ]
  },
  {
   "cell_type": "code",
   "execution_count": 89,
   "metadata": {},
   "outputs": [
    {
     "data": {
      "text/plain": [
       "0    4249\n",
       "1    2491\n",
       "Name: Deal_Status, dtype: int64"
      ]
     },
     "execution_count": 89,
     "metadata": {},
     "output_type": "execute_result"
    }
   ],
   "source": [
    "y_train.value_counts()"
   ]
  },
  {
   "cell_type": "markdown",
   "metadata": {},
   "source": [
    "## Feature Selection"
   ]
  },
  {
   "cell_type": "code",
   "execution_count": 91,
   "metadata": {},
   "outputs": [
    {
     "data": {
      "text/plain": [
       "array([0.02058155, 0.02836039, 0.00609012, 0.01604248, 0.03443757,\n",
       "       0.08636135, 0.00321953, 0.        , 0.00396914, 0.        ,\n",
       "       0.        , 0.0034136 , 0.00382098, 0.00435154, 0.00221577,\n",
       "       0.        , 0.00857148, 0.00737079])"
      ]
     },
     "execution_count": 91,
     "metadata": {},
     "output_type": "execute_result"
    }
   ],
   "source": [
    "from sklearn.feature_selection import mutual_info_classif\n",
    "# determine the mutual information\n",
    "mutual_info = mutual_info_classif(X_train, y_train)\n",
    "mutual_info"
   ]
  },
  {
   "cell_type": "code",
   "execution_count": 92,
   "metadata": {},
   "outputs": [
    {
     "data": {
      "text/plain": [
       "Deal_Cost          0.086361\n",
       "Manager Name       0.034438\n",
       "Solution Type      0.028360\n",
       "Client Category    0.020582\n",
       "VP Name            0.016042\n",
       "Location_L9        0.008571\n",
       "Location_Others    0.007371\n",
       "Sector             0.006090\n",
       "Location_L6        0.004352\n",
       "Location_L12       0.003969\n",
       "Location_L5        0.003821\n",
       "Location_L4        0.003414\n",
       "Location_L10       0.003220\n",
       "Location_L7        0.002216\n",
       "Location_L11       0.000000\n",
       "Location_L3        0.000000\n",
       "Location_L8        0.000000\n",
       "Location_L2        0.000000\n",
       "dtype: float64"
      ]
     },
     "execution_count": 92,
     "metadata": {},
     "output_type": "execute_result"
    }
   ],
   "source": [
    "mutual_info = pd.Series(mutual_info)\n",
    "mutual_info.index = X_train.columns\n",
    "mutual_info.sort_values(ascending=False)"
   ]
  },
  {
   "cell_type": "code",
   "execution_count": 93,
   "metadata": {},
   "outputs": [
    {
     "data": {
      "text/plain": [
       "<AxesSubplot:>"
      ]
     },
     "execution_count": 93,
     "metadata": {},
     "output_type": "execute_result"
    },
    {
     "data": {
      "image/png": "[encoded data removed]",
      "text/plain": [
       "<Figure size 1440x576 with 1 Axes>"
      ]
     },
     "metadata": {
      "needs_background": "light"
     },
     "output_type": "display_data"
    }
   ],
   "source": [
    "#let's plot the ordered mutual_info values per feature\n",
    "mutual_info.sort_values(ascending=False).plot.bar(figsize=(20, 8))"
   ]
  },
  {
   "cell_type": "markdown",
   "metadata": {},
   "source": [
    "### Selecting Top 10 Features"
   ]
  },
  {
   "cell_type": "code",
   "execution_count": 94,
   "metadata": {},
   "outputs": [],
   "source": [
    "from sklearn.feature_selection import SelectKBest"
   ]
  },
  {
   "cell_type": "code",
   "execution_count": 95,
   "metadata": {},
   "outputs": [
    {
     "data": {
      "text/plain": [
       "Index(['Client Category', 'Solution Type', 'VP Name', 'Manager Name',\n",
       "       'Deal_Cost', 'Location_L12', 'Location_L4', 'Location_L5',\n",
       "       'Location_L6', 'Location_Others'],\n",
       "      dtype='object')"
      ]
     },
     "execution_count": 95,
     "metadata": {},
     "output_type": "execute_result"
    }
   ],
   "source": [
    "#No we Will select the  top 5 important features\n",
    "sel_five_cols = SelectKBest(mutual_info_classif, k=10)\n",
    "sel_five_cols.fit(X_train, y_train)\n",
    "X_train.columns[sel_five_cols.get_support()]"
   ]
  },
  {
   "cell_type": "markdown",
   "metadata": {},
   "source": [
    "## Model Creation with selected features"
   ]
  },
  {
   "cell_type": "code",
   "execution_count": 96,
   "metadata": {},
   "outputs": [],
   "source": [
    "top_10 = df1[['Client Category', 'Solution Type', 'VP Name', 'Manager Name',\n",
    "       'Deal_Cost', 'Location_L12', 'Location_L4', 'Location_L5',\n",
    "       'Location_L6', 'Location_Others']]"
   ]
  },
  {
   "cell_type": "code",
   "execution_count": 97,
   "metadata": {},
   "outputs": [
    {
     "data": {
      "text/html": [
       "<div>\n",
       "<style scoped>\n",
       "    .dataframe tbody tr th:only-of-type {\n",
       "        vertical-align: middle;\n",
       "    }\n",
       "\n",
       "    .dataframe tbody tr th {\n",
       "        vertical-align: top;\n",
       "    }\n",
       "\n",
       "    .dataframe thead th {\n",
       "        text-align: right;\n",
       "    }\n",
       "</style>\n",
       "<table border=\"1\" class=\"dataframe\">\n",
       "  <thead>\n",
       "    <tr style=\"text-align: right;\">\n",
       "      <th></th>\n",
       "      <th>Client Category</th>\n",
       "      <th>Solution Type</th>\n",
       "      <th>VP Name</th>\n",
       "      <th>Manager Name</th>\n",
       "      <th>Deal_Cost</th>\n",
       "      <th>Location_L12</th>\n",
       "      <th>Location_L4</th>\n",
       "      <th>Location_L5</th>\n",
       "      <th>Location_L6</th>\n",
       "      <th>Location_Others</th>\n",
       "    </tr>\n",
       "  </thead>\n",
       "  <tbody>\n",
       "    <tr>\n",
       "      <th>0</th>\n",
       "      <td>29</td>\n",
       "      <td>35</td>\n",
       "      <td>550</td>\n",
       "      <td>86</td>\n",
       "      <td>150000.00</td>\n",
       "      <td>0</td>\n",
       "      <td>0</td>\n",
       "      <td>1</td>\n",
       "      <td>0</td>\n",
       "      <td>0</td>\n",
       "    </tr>\n",
       "    <tr>\n",
       "      <th>1</th>\n",
       "      <td>29</td>\n",
       "      <td>35</td>\n",
       "      <td>550</td>\n",
       "      <td>86</td>\n",
       "      <td>744705.88</td>\n",
       "      <td>0</td>\n",
       "      <td>0</td>\n",
       "      <td>1</td>\n",
       "      <td>0</td>\n",
       "      <td>0</td>\n",
       "    </tr>\n",
       "    <tr>\n",
       "      <th>2</th>\n",
       "      <td>39</td>\n",
       "      <td>31</td>\n",
       "      <td>550</td>\n",
       "      <td>143</td>\n",
       "      <td>60000.00</td>\n",
       "      <td>0</td>\n",
       "      <td>0</td>\n",
       "      <td>0</td>\n",
       "      <td>0</td>\n",
       "      <td>1</td>\n",
       "    </tr>\n",
       "    <tr>\n",
       "      <th>3</th>\n",
       "      <td>39</td>\n",
       "      <td>31</td>\n",
       "      <td>550</td>\n",
       "      <td>143</td>\n",
       "      <td>60000.00</td>\n",
       "      <td>0</td>\n",
       "      <td>0</td>\n",
       "      <td>0</td>\n",
       "      <td>0</td>\n",
       "      <td>1</td>\n",
       "    </tr>\n",
       "    <tr>\n",
       "      <th>4</th>\n",
       "      <td>39</td>\n",
       "      <td>53</td>\n",
       "      <td>550</td>\n",
       "      <td>143</td>\n",
       "      <td>80882.35</td>\n",
       "      <td>0</td>\n",
       "      <td>0</td>\n",
       "      <td>0</td>\n",
       "      <td>0</td>\n",
       "      <td>1</td>\n",
       "    </tr>\n",
       "    <tr>\n",
       "      <th>...</th>\n",
       "      <td>...</td>\n",
       "      <td>...</td>\n",
       "      <td>...</td>\n",
       "      <td>...</td>\n",
       "      <td>...</td>\n",
       "      <td>...</td>\n",
       "      <td>...</td>\n",
       "      <td>...</td>\n",
       "      <td>...</td>\n",
       "      <td>...</td>\n",
       "    </tr>\n",
       "    <tr>\n",
       "      <th>10056</th>\n",
       "      <td>32</td>\n",
       "      <td>23</td>\n",
       "      <td>147</td>\n",
       "      <td>270</td>\n",
       "      <td>588235.29</td>\n",
       "      <td>0</td>\n",
       "      <td>0</td>\n",
       "      <td>1</td>\n",
       "      <td>0</td>\n",
       "      <td>0</td>\n",
       "    </tr>\n",
       "    <tr>\n",
       "      <th>10057</th>\n",
       "      <td>39</td>\n",
       "      <td>27</td>\n",
       "      <td>147</td>\n",
       "      <td>15</td>\n",
       "      <td>777058.82</td>\n",
       "      <td>0</td>\n",
       "      <td>0</td>\n",
       "      <td>0</td>\n",
       "      <td>0</td>\n",
       "      <td>1</td>\n",
       "    </tr>\n",
       "    <tr>\n",
       "      <th>10058</th>\n",
       "      <td>32</td>\n",
       "      <td>23</td>\n",
       "      <td>147</td>\n",
       "      <td>270</td>\n",
       "      <td>588235.29</td>\n",
       "      <td>0</td>\n",
       "      <td>0</td>\n",
       "      <td>1</td>\n",
       "      <td>0</td>\n",
       "      <td>0</td>\n",
       "    </tr>\n",
       "    <tr>\n",
       "      <th>10059</th>\n",
       "      <td>32</td>\n",
       "      <td>46</td>\n",
       "      <td>29</td>\n",
       "      <td>1</td>\n",
       "      <td>3042058.82</td>\n",
       "      <td>0</td>\n",
       "      <td>0</td>\n",
       "      <td>1</td>\n",
       "      <td>0</td>\n",
       "      <td>0</td>\n",
       "    </tr>\n",
       "    <tr>\n",
       "      <th>10060</th>\n",
       "      <td>25</td>\n",
       "      <td>23</td>\n",
       "      <td>232</td>\n",
       "      <td>71</td>\n",
       "      <td>147058.82</td>\n",
       "      <td>0</td>\n",
       "      <td>0</td>\n",
       "      <td>0</td>\n",
       "      <td>0</td>\n",
       "      <td>0</td>\n",
       "    </tr>\n",
       "  </tbody>\n",
       "</table>\n",
       "<p>10061 rows × 10 columns</p>\n",
       "</div>"
      ],
      "text/plain": [
       "       Client Category  Solution Type  VP Name  Manager Name   Deal_Cost  \\\n",
       "0                   29             35      550            86   150000.00   \n",
       "1                   29             35      550            86   744705.88   \n",
       "2                   39             31      550           143    60000.00   \n",
       "3                   39             31      550           143    60000.00   \n",
       "4                   39             53      550           143    80882.35   \n",
       "...                ...            ...      ...           ...         ...   \n",
       "10056               32             23      147           270   588235.29   \n",
       "10057               39             27      147            15   777058.82   \n",
       "10058               32             23      147           270   588235.29   \n",
       "10059               32             46       29             1  3042058.82   \n",
       "10060               25             23      232            71   147058.82   \n",
       "\n",
       "       Location_L12  Location_L4  Location_L5  Location_L6  Location_Others  \n",
       "0                 0            0            1            0                0  \n",
       "1                 0            0            1            0                0  \n",
       "2                 0            0            0            0                1  \n",
       "3                 0            0            0            0                1  \n",
       "4                 0            0            0            0                1  \n",
       "...             ...          ...          ...          ...              ...  \n",
       "10056             0            0            1            0                0  \n",
       "10057             0            0            0            0                1  \n",
       "10058             0            0            1            0                0  \n",
       "10059             0            0            1            0                0  \n",
       "10060             0            0            0            0                0  \n",
       "\n",
       "[10061 rows x 10 columns]"
      ]
     },
     "execution_count": 97,
     "metadata": {},
     "output_type": "execute_result"
    }
   ],
   "source": [
    "top_10"
   ]
  },
  {
   "cell_type": "code",
   "execution_count": 99,
   "metadata": {},
   "outputs": [],
   "source": [
    "X_train, X_test, y_train, y_test = train_test_split(top_10, y, test_size=0.33, random_state=100)"
   ]
  },
  {
   "cell_type": "markdown",
   "metadata": {},
   "source": [
    "# Xgboost Classifier"
   ]
  },
  {
   "cell_type": "code",
   "execution_count": 101,
   "metadata": {},
   "outputs": [],
   "source": [
    "from sklearn.model_selection import RandomizedSearchCV\n",
    "import xgboost"
   ]
  },
  {
   "cell_type": "code",
   "execution_count": 102,
   "metadata": {},
   "outputs": [],
   "source": [
    "classifier=xgboost.XGBClassifier()"
   ]
  },
  {
   "cell_type": "markdown",
   "metadata": {},
   "source": [
    "### Hyperparameter optimization using RandomizedSearchCV"
   ]
  },
  {
   "cell_type": "code",
   "execution_count": 103,
   "metadata": {},
   "outputs": [],
   "source": [
    "params={\n",
    " \"learning_rate\"    : [0.05, 0.10, 0.15, 0.20, 0.25, 0.30 ] ,\n",
    " \"max_depth\"        : [ 3, 4, 5, 6, 8, 10, 12, 15],\n",
    " \"min_child_weight\" : [ 1, 3, 5, 7 ],\n",
    " \"gamma\"            : [ 0.0, 0.1, 0.2 , 0.3, 0.4 ],\n",
    " \"colsample_bytree\" : [ 0.3, 0.4, 0.5 , 0.7 ]\n",
    "    \n",
    "}"
   ]
  },
  {
   "cell_type": "code",
   "execution_count": 104,
   "metadata": {},
   "outputs": [],
   "source": [
    "xg_randomcv = RandomizedSearchCV(classifier,param_distributions=params,n_iter=5,scoring='roc_auc',n_jobs=-1,cv=5,verbose=3)"
   ]
  },
  {
   "cell_type": "code",
   "execution_count": 105,
   "metadata": {},
   "outputs": [
    {
     "name": "stdout",
     "output_type": "stream",
     "text": [
      "Fitting 5 folds for each of 5 candidates, totalling 25 fits\n"
     ]
    },
    {
     "name": "stderr",
     "output_type": "stream",
     "text": [
      "[Parallel(n_jobs=-1)]: Using backend LokyBackend with 4 concurrent workers.\n",
      "[Parallel(n_jobs=-1)]: Done  25 out of  25 | elapsed:   27.0s finished\n",
      "C:\\Users\\USER\\Anaconda3\\envs\\DeepLearning\\lib\\site-packages\\xgboost\\sklearn.py:892: UserWarning: The use of label encoder in XGBClassifier is deprecated and will be removed in a future release. To remove this warning, do the following: 1) Pass option use_label_encoder=False when constructing XGBClassifier object; and 2) Encode your labels (y) as integers starting with 0, i.e. 0, 1, 2, ..., [num_class - 1].\n",
      "  warnings.warn(label_encoder_deprecation_msg, UserWarning)\n"
     ]
    },
    {
     "name": "stdout",
     "output_type": "stream",
     "text": [
      "[13:43:52] WARNING: C:/Users/Administrator/workspace/xgboost-win64_release_1.3.0/src/learner.cc:1061: Starting in XGBoost 1.3.0, the default evaluation metric used with the objective 'binary:logistic' was changed from 'error' to 'logloss'. Explicitly set eval_metric if you'd like to restore the old behavior.\n"
     ]
    },
    {
     "data": {
      "text/plain": [
       "RandomizedSearchCV(cv=5,\n",
       "                   estimator=XGBClassifier(base_score=None, booster=None,\n",
       "                                           colsample_bylevel=None,\n",
       "                                           colsample_bynode=None,\n",
       "                                           colsample_bytree=None, gamma=None,\n",
       "                                           gpu_id=None, importance_type='gain',\n",
       "                                           interaction_constraints=None,\n",
       "                                           learning_rate=None,\n",
       "                                           max_delta_step=None, max_depth=None,\n",
       "                                           min_child_weight=None, missing=nan,\n",
       "                                           monotone_constraints=None,\n",
       "                                           n_estimators=100,...\n",
       "                                           reg_lambda=None,\n",
       "                                           scale_pos_weight=None,\n",
       "                                           subsample=None, tree_method=None,\n",
       "                                           validate_parameters=None,\n",
       "                                           verbosity=None),\n",
       "                   n_iter=5, n_jobs=-1,\n",
       "                   param_distributions={'colsample_bytree': [0.3, 0.4, 0.5,\n",
       "                                                             0.7],\n",
       "                                        'gamma': [0.0, 0.1, 0.2, 0.3, 0.4],\n",
       "                                        'learning_rate': [0.05, 0.1, 0.15, 0.2,\n",
       "                                                          0.25, 0.3],\n",
       "                                        'max_depth': [3, 4, 5, 6, 8, 10, 12,\n",
       "                                                      15],\n",
       "                                        'min_child_weight': [1, 3, 5, 7]},\n",
       "                   scoring='roc_auc', verbose=3)"
      ]
     },
     "execution_count": 105,
     "metadata": {},
     "output_type": "execute_result"
    }
   ],
   "source": [
    "xg_randomcv.fit(X_train,y_train)"
   ]
  },
  {
   "cell_type": "code",
   "execution_count": 106,
   "metadata": {},
   "outputs": [
    {
     "data": {
      "text/plain": [
       "{'min_child_weight': 1,\n",
       " 'max_depth': 15,\n",
       " 'learning_rate': 0.25,\n",
       " 'gamma': 0.0,\n",
       " 'colsample_bytree': 0.7}"
      ]
     },
     "execution_count": 106,
     "metadata": {},
     "output_type": "execute_result"
    }
   ],
   "source": [
    "#best parameters\n",
    "xg_randomcv.best_params_"
   ]
  },
  {
   "cell_type": "code",
   "execution_count": 107,
   "metadata": {},
   "outputs": [
    {
     "data": {
      "text/plain": [
       "XGBClassifier(base_score=0.5, booster='gbtree', colsample_bylevel=1,\n",
       "              colsample_bynode=1, colsample_bytree=0.7, gamma=0.0, gpu_id=-1,\n",
       "              importance_type='gain', interaction_constraints='',\n",
       "              learning_rate=0.25, max_delta_step=0, max_depth=15,\n",
       "              min_child_weight=1, missing=nan, monotone_constraints='()',\n",
       "              n_estimators=100, n_jobs=4, num_parallel_tree=1, random_state=0,\n",
       "              reg_alpha=0, reg_lambda=1, scale_pos_weight=1, subsample=1,\n",
       "              tree_method='exact', validate_parameters=1, verbosity=None)"
      ]
     },
     "execution_count": 107,
     "metadata": {},
     "output_type": "execute_result"
    }
   ],
   "source": [
    "#best estimator\n",
    "xg_randomcv.best_estimator_"
   ]
  },
  {
   "cell_type": "code",
   "execution_count": 108,
   "metadata": {},
   "outputs": [],
   "source": [
    "#best model from random search cv\n",
    "xg_model = xg_randomcv.best_estimator_"
   ]
  },
  {
   "cell_type": "code",
   "execution_count": 109,
   "metadata": {},
   "outputs": [],
   "source": [
    "#making prediction using validation data set\n",
    "xg_predictions = xg_model.predict(X_test)"
   ]
  },
  {
   "cell_type": "markdown",
   "metadata": {},
   "source": [
    "### Evaluation Metrics"
   ]
  },
  {
   "cell_type": "code",
   "execution_count": 110,
   "metadata": {},
   "outputs": [
    {
     "data": {
      "text/plain": [
       "0.9964391691394658"
      ]
     },
     "execution_count": 110,
     "metadata": {},
     "output_type": "execute_result"
    }
   ],
   "source": [
    "xg_model.score(X_train,y_train)"
   ]
  },
  {
   "cell_type": "code",
   "execution_count": 111,
   "metadata": {},
   "outputs": [
    {
     "data": {
      "text/plain": [
       "0.8024691358024691"
      ]
     },
     "execution_count": 111,
     "metadata": {},
     "output_type": "execute_result"
    }
   ],
   "source": [
    "xg_model.score(X_test,y_test)"
   ]
  },
  {
   "cell_type": "code",
   "execution_count": 112,
   "metadata": {},
   "outputs": [
    {
     "name": "stdout",
     "output_type": "stream",
     "text": [
      "[[1893  485]\n",
      " [ 171  772]]\n",
      "0.8024691358024691\n",
      "              precision    recall  f1-score   support\n",
      "\n",
      "           0       0.92      0.80      0.85      2378\n",
      "           1       0.61      0.82      0.70       943\n",
      "\n",
      "    accuracy                           0.80      3321\n",
      "   macro avg       0.77      0.81      0.78      3321\n",
      "weighted avg       0.83      0.80      0.81      3321\n",
      "\n"
     ]
    }
   ],
   "source": [
    "print(confusion_matrix(xg_predictions,y_test))\n",
    "print(accuracy_score(xg_predictions,y_test))\n",
    "print(classification_report(xg_predictions,y_test))"
   ]
  },
  {
   "cell_type": "markdown",
   "metadata": {},
   "source": [
    "# Handling Imbalanced Dataset\n",
    "\n",
    "### 1 SMOTETomek"
   ]
  },
  {
   "cell_type": "code",
   "execution_count": 116,
   "metadata": {},
   "outputs": [],
   "source": [
    "from imblearn.combine import SMOTETomek"
   ]
  },
  {
   "cell_type": "code",
   "execution_count": 117,
   "metadata": {},
   "outputs": [
    {
     "data": {
      "text/plain": [
       "Counter({1: 2498, 0: 4242})"
      ]
     },
     "execution_count": 117,
     "metadata": {},
     "output_type": "execute_result"
    }
   ],
   "source": [
    "from collections import Counter\n",
    "Counter(y_train)"
   ]
  },
  {
   "cell_type": "code",
   "execution_count": 120,
   "metadata": {},
   "outputs": [
    {
     "name": "stderr",
     "output_type": "stream",
     "text": [
      "C:\\Users\\USER\\Anaconda3\\envs\\DeepLearning\\lib\\site-packages\\imblearn\\utils\\_validation.py:638: FutureWarning: Pass sampling_strategy=0.75 as keyword args. From version 0.9 passing these as positional arguments will result in an error\n",
      "  FutureWarning)\n"
     ]
    },
    {
     "name": "stdout",
     "output_type": "stream",
     "text": [
      "The number of classes before fit Counter({0: 4242, 1: 2498})\n",
      "The number of classes after fit Counter({0: 3965, 1: 2904})\n"
     ]
    }
   ],
   "source": [
    "os=SMOTETomek(0.75)\n",
    "X_train_ns,y_train_ns=os.fit_sample(X_train,y_train)\n",
    "print(\"The number of classes before fit {}\".format(Counter(y_train)))\n",
    "print(\"The number of classes after fit {}\".format(Counter(y_train_ns)))"
   ]
  },
  {
   "cell_type": "code",
   "execution_count": 123,
   "metadata": {},
   "outputs": [],
   "source": [
    "#Model Creation\n",
    "\n",
    "from sklearn.model_selection import RandomizedSearchCV\n",
    "import xgboost"
   ]
  },
  {
   "cell_type": "code",
   "execution_count": 124,
   "metadata": {},
   "outputs": [],
   "source": [
    "classifier=xgboost.XGBClassifier()"
   ]
  },
  {
   "cell_type": "markdown",
   "metadata": {},
   "source": [
    "### Hyperparameter optimization using RandomizedSearchCV"
   ]
  },
  {
   "cell_type": "code",
   "execution_count": 125,
   "metadata": {},
   "outputs": [],
   "source": [
    "params={\n",
    " \"learning_rate\"    : [0.05, 0.10, 0.15, 0.20, 0.25, 0.30 ] ,\n",
    " \"max_depth\"        : [ 3, 4, 5, 6, 8, 10, 12, 15],\n",
    " \"min_child_weight\" : [ 1, 3, 5, 7 ],\n",
    " \"gamma\"            : [ 0.0, 0.1, 0.2 , 0.3, 0.4 ],\n",
    " \"colsample_bytree\" : [ 0.3, 0.4, 0.5 , 0.7 ]\n",
    "    \n",
    "}"
   ]
  },
  {
   "cell_type": "code",
   "execution_count": 126,
   "metadata": {},
   "outputs": [],
   "source": [
    "xg_randomcv = RandomizedSearchCV(classifier,param_distributions=params,n_iter=5,scoring='roc_auc',n_jobs=-1,cv=5,verbose=3)"
   ]
  },
  {
   "cell_type": "code",
   "execution_count": 151,
   "metadata": {},
   "outputs": [
    {
     "name": "stdout",
     "output_type": "stream",
     "text": [
      "Fitting 5 folds for each of 5 candidates, totalling 25 fits\n"
     ]
    },
    {
     "name": "stderr",
     "output_type": "stream",
     "text": [
      "[Parallel(n_jobs=-1)]: Using backend LokyBackend with 4 concurrent workers.\n",
      "[Parallel(n_jobs=-1)]: Done  25 out of  25 | elapsed:   10.7s finished\n",
      "C:\\Users\\USER\\Anaconda3\\envs\\DeepLearning\\lib\\site-packages\\xgboost\\sklearn.py:892: UserWarning: The use of label encoder in XGBClassifier is deprecated and will be removed in a future release. To remove this warning, do the following: 1) Pass option use_label_encoder=False when constructing XGBClassifier object; and 2) Encode your labels (y) as integers starting with 0, i.e. 0, 1, 2, ..., [num_class - 1].\n",
      "  warnings.warn(label_encoder_deprecation_msg, UserWarning)\n"
     ]
    },
    {
     "name": "stdout",
     "output_type": "stream",
     "text": [
      "[16:12:04] WARNING: C:/Users/Administrator/workspace/xgboost-win64_release_1.3.0/src/learner.cc:1061: Starting in XGBoost 1.3.0, the default evaluation metric used with the objective 'binary:logistic' was changed from 'error' to 'logloss'. Explicitly set eval_metric if you'd like to restore the old behavior.\n"
     ]
    },
    {
     "data": {
      "text/plain": [
       "RandomizedSearchCV(cv=5,\n",
       "                   estimator=XGBClassifier(base_score=None, booster=None,\n",
       "                                           colsample_bylevel=None,\n",
       "                                           colsample_bynode=None,\n",
       "                                           colsample_bytree=None, gamma=None,\n",
       "                                           gpu_id=None, importance_type='gain',\n",
       "                                           interaction_constraints=None,\n",
       "                                           learning_rate=None,\n",
       "                                           max_delta_step=None, max_depth=None,\n",
       "                                           min_child_weight=None, missing=nan,\n",
       "                                           monotone_constraints=None,\n",
       "                                           n_estimators=100,...\n",
       "                                           reg_lambda=None,\n",
       "                                           scale_pos_weight=None,\n",
       "                                           subsample=None, tree_method=None,\n",
       "                                           validate_parameters=None,\n",
       "                                           verbosity=None),\n",
       "                   n_iter=5, n_jobs=-1,\n",
       "                   param_distributions={'colsample_bytree': [0.3, 0.4, 0.5,\n",
       "                                                             0.7],\n",
       "                                        'gamma': [0.0, 0.1, 0.2, 0.3, 0.4],\n",
       "                                        'learning_rate': [0.05, 0.1, 0.15, 0.2,\n",
       "                                                          0.25, 0.3],\n",
       "                                        'max_depth': [3, 4, 5, 6, 8, 10, 12,\n",
       "                                                      15],\n",
       "                                        'min_child_weight': [1, 3, 5, 7]},\n",
       "                   scoring='roc_auc', verbose=3)"
      ]
     },
     "execution_count": 151,
     "metadata": {},
     "output_type": "execute_result"
    }
   ],
   "source": [
    "xg_randomcv.fit(X_train_ns,y_train_ns)"
   ]
  },
  {
   "cell_type": "code",
   "execution_count": 152,
   "metadata": {},
   "outputs": [
    {
     "data": {
      "text/plain": [
       "{'min_child_weight': 3,\n",
       " 'max_depth': 12,\n",
       " 'learning_rate': 0.3,\n",
       " 'gamma': 0.3,\n",
       " 'colsample_bytree': 0.5}"
      ]
     },
     "execution_count": 152,
     "metadata": {},
     "output_type": "execute_result"
    }
   ],
   "source": [
    "#best parameters\n",
    "xg_randomcv.best_params_"
   ]
  },
  {
   "cell_type": "code",
   "execution_count": 153,
   "metadata": {},
   "outputs": [
    {
     "data": {
      "text/plain": [
       "XGBClassifier(base_score=0.5, booster='gbtree', colsample_bylevel=1,\n",
       "              colsample_bynode=1, colsample_bytree=0.5, gamma=0.3, gpu_id=-1,\n",
       "              importance_type='gain', interaction_constraints='',\n",
       "              learning_rate=0.3, max_delta_step=0, max_depth=12,\n",
       "              min_child_weight=3, missing=nan, monotone_constraints='()',\n",
       "              n_estimators=100, n_jobs=4, num_parallel_tree=1, random_state=0,\n",
       "              reg_alpha=0, reg_lambda=1, scale_pos_weight=1, subsample=1,\n",
       "              tree_method='exact', validate_parameters=1, verbosity=None)"
      ]
     },
     "execution_count": 153,
     "metadata": {},
     "output_type": "execute_result"
    }
   ],
   "source": [
    "#best estimator\n",
    "xg_randomcv.best_estimator_"
   ]
  },
  {
   "cell_type": "code",
   "execution_count": 154,
   "metadata": {},
   "outputs": [],
   "source": [
    "#best model from random search cv\n",
    "xg_model = xg_randomcv.best_estimator_"
   ]
  },
  {
   "cell_type": "code",
   "execution_count": 155,
   "metadata": {},
   "outputs": [],
   "source": [
    "#making prediction using validation data set\n",
    "xg_predictions = xg_model.predict(X_test)"
   ]
  },
  {
   "cell_type": "markdown",
   "metadata": {},
   "source": [
    "### Evaluation Metrics "
   ]
  },
  {
   "cell_type": "code",
   "execution_count": 156,
   "metadata": {},
   "outputs": [
    {
     "data": {
      "text/plain": [
       "0.9693516699410609"
      ]
     },
     "execution_count": 156,
     "metadata": {},
     "output_type": "execute_result"
    }
   ],
   "source": [
    "xg_model.score(X_train_ns,y_train_ns)"
   ]
  },
  {
   "cell_type": "code",
   "execution_count": 157,
   "metadata": {},
   "outputs": [
    {
     "data": {
      "text/plain": [
       "0.7853056308340861"
      ]
     },
     "execution_count": 157,
     "metadata": {},
     "output_type": "execute_result"
    }
   ],
   "source": [
    "xg_model.score(X_test,y_test)"
   ]
  },
  {
   "cell_type": "code",
   "execution_count": 158,
   "metadata": {},
   "outputs": [
    {
     "name": "stdout",
     "output_type": "stream",
     "text": [
      "[[1808  457]\n",
      " [ 256  800]]\n",
      "0.7853056308340861\n",
      "              precision    recall  f1-score   support\n",
      "\n",
      "           0       0.88      0.80      0.84      2265\n",
      "           1       0.64      0.76      0.69      1056\n",
      "\n",
      "    accuracy                           0.79      3321\n",
      "   macro avg       0.76      0.78      0.76      3321\n",
      "weighted avg       0.80      0.79      0.79      3321\n",
      "\n"
     ]
    }
   ],
   "source": [
    "print(confusion_matrix(xg_predictions,y_test))\n",
    "print(accuracy_score(xg_predictions,y_test))\n",
    "print(classification_report(xg_predictions,y_test))"
   ]
  },
  {
   "cell_type": "markdown",
   "metadata": {},
   "source": [
    "### 2 Over Sampling"
   ]
  },
  {
   "cell_type": "code",
   "execution_count": 159,
   "metadata": {},
   "outputs": [],
   "source": [
    "from imblearn.over_sampling import RandomOverSampler"
   ]
  },
  {
   "cell_type": "code",
   "execution_count": 160,
   "metadata": {},
   "outputs": [
    {
     "name": "stdout",
     "output_type": "stream",
     "text": [
      "The number of classes before fit Counter({0: 4242, 1: 2498})\n",
      "The number of classes after fit Counter({0: 4242, 1: 3393})\n"
     ]
    },
    {
     "name": "stderr",
     "output_type": "stream",
     "text": [
      "C:\\Users\\USER\\Anaconda3\\envs\\DeepLearning\\lib\\site-packages\\imblearn\\utils\\_validation.py:638: FutureWarning: Pass sampling_strategy=0.8 as keyword args. From version 0.9 passing these as positional arguments will result in an error\n",
      "  FutureWarning)\n"
     ]
    }
   ],
   "source": [
    "os=RandomOverSampler(0.8)\n",
    "X_train_ns,y_train_ns=os.fit_sample(X_train,y_train)\n",
    "print(\"The number of classes before fit {}\".format(Counter(y_train)))\n",
    "print(\"The number of classes after fit {}\".format(Counter(y_train_ns)))"
   ]
  },
  {
   "cell_type": "code",
   "execution_count": 161,
   "metadata": {},
   "outputs": [],
   "source": [
    "from sklearn.linear_model import LogisticRegression\n",
    "from sklearn.metrics import accuracy_score,confusion_matrix,classification_report\n",
    "from sklearn.model_selection import KFold\n",
    "from sklearn.model_selection import GridSearchCV"
   ]
  },
  {
   "cell_type": "code",
   "execution_count": 162,
   "metadata": {},
   "outputs": [],
   "source": [
    "log_class=LogisticRegression()\n",
    "grid={'C':10.0 **np.arange(-2,3),'penalty':['l1','l2']}\n",
    "cv=KFold(n_splits=5,random_state=None,shuffle=False)"
   ]
  },
  {
   "cell_type": "code",
   "execution_count": 163,
   "metadata": {},
   "outputs": [
    {
     "data": {
      "text/plain": [
       "GridSearchCV(cv=KFold(n_splits=5, random_state=None, shuffle=False),\n",
       "             estimator=LogisticRegression(), n_jobs=-1,\n",
       "             param_grid={'C': array([1.e-02, 1.e-01, 1.e+00, 1.e+01, 1.e+02]),\n",
       "                         'penalty': ['l1', 'l2']},\n",
       "             scoring='f1_macro')"
      ]
     },
     "execution_count": 163,
     "metadata": {},
     "output_type": "execute_result"
    }
   ],
   "source": [
    "clf=GridSearchCV(log_class,grid,cv=cv,n_jobs=-1,scoring='f1_macro')\n",
    "clf.fit(X_train_ns,y_train_ns)"
   ]
  },
  {
   "cell_type": "code",
   "execution_count": 164,
   "metadata": {},
   "outputs": [
    {
     "name": "stdout",
     "output_type": "stream",
     "text": [
      "[[1595  469]\n",
      " [ 833  424]]\n",
      "0.6079494128274616\n",
      "              precision    recall  f1-score   support\n",
      "\n",
      "           0       0.66      0.77      0.71      2064\n",
      "           1       0.47      0.34      0.39      1257\n",
      "\n",
      "    accuracy                           0.61      3321\n",
      "   macro avg       0.57      0.56      0.55      3321\n",
      "weighted avg       0.59      0.61      0.59      3321\n",
      "\n"
     ]
    }
   ],
   "source": [
    "y_pred=clf.predict(X_test)\n",
    "print(confusion_matrix(y_test,y_pred))\n",
    "print(accuracy_score(y_test,y_pred))\n",
    "print(classification_report(y_test,y_pred))"
   ]
  },
  {
   "cell_type": "markdown",
   "metadata": {},
   "source": [
    "# Model Creation With Complete 19 Features of 2nd Approach"
   ]
  },
  {
   "cell_type": "markdown",
   "metadata": {},
   "source": [
    "## Logistic Regression"
   ]
  },
  {
   "cell_type": "code",
   "execution_count": 93,
   "metadata": {},
   "outputs": [],
   "source": [
    "from sklearn.linear_model import LogisticRegression"
   ]
  },
  {
   "cell_type": "code",
   "execution_count": 101,
   "metadata": {},
   "outputs": [
    {
     "data": {
      "text/plain": [
       "LogisticRegression()"
      ]
     },
     "execution_count": 101,
     "metadata": {},
     "output_type": "execute_result"
    }
   ],
   "source": [
    "#intializing LogisticRegression to object logmodel\n",
    "\n",
    "logmodel = LogisticRegression()\n",
    "logmodel.fit(X_train,y_train)"
   ]
  },
  {
   "cell_type": "code",
   "execution_count": 103,
   "metadata": {},
   "outputs": [],
   "source": [
    "#making prediction using validation data set\n",
    "predictions = logmodel.predict(X_test)"
   ]
  },
  {
   "cell_type": "markdown",
   "metadata": {},
   "source": [
    "### Evaluation Metrics"
   ]
  },
  {
   "cell_type": "code",
   "execution_count": 104,
   "metadata": {},
   "outputs": [],
   "source": [
    "from sklearn.metrics import confusion_matrix\n",
    "from sklearn.metrics import accuracy_score\n",
    "from sklearn.metrics import classification_report"
   ]
  },
  {
   "cell_type": "code",
   "execution_count": 105,
   "metadata": {},
   "outputs": [
    {
     "name": "stdout",
     "output_type": "stream",
     "text": [
      "[[2057 1264]\n",
      " [   0    0]]\n",
      "0.6193917494730503\n",
      "              precision    recall  f1-score   support\n",
      "\n",
      "           0       1.00      0.62      0.76      3321\n",
      "           1       0.00      0.00      0.00         0\n",
      "\n",
      "    accuracy                           0.62      3321\n",
      "   macro avg       0.50      0.31      0.38      3321\n",
      "weighted avg       1.00      0.62      0.76      3321\n",
      "\n"
     ]
    },
    {
     "name": "stderr",
     "output_type": "stream",
     "text": [
      "C:\\Users\\USER\\Anaconda3\\envs\\DeepLearning\\lib\\site-packages\\sklearn\\metrics\\_classification.py:1221: UndefinedMetricWarning: Recall and F-score are ill-defined and being set to 0.0 in labels with no true samples. Use `zero_division` parameter to control this behavior.\n",
      "  _warn_prf(average, modifier, msg_start, len(result))\n"
     ]
    }
   ],
   "source": [
    "print(confusion_matrix(predictions,y_test))\n",
    "print(accuracy_score(predictions,y_test))\n",
    "print(classification_report(predictions,y_test))"
   ]
  },
  {
   "cell_type": "markdown",
   "metadata": {},
   "source": [
    "## Random Forest"
   ]
  },
  {
   "cell_type": "code",
   "execution_count": 106,
   "metadata": {},
   "outputs": [],
   "source": [
    "from sklearn.ensemble import RandomForestClassifier\n",
    "from sklearn.model_selection import RandomizedSearchCV\n",
    "rf=RandomForestClassifier()"
   ]
  },
  {
   "cell_type": "markdown",
   "metadata": {},
   "source": [
    "### Hyperparameter optimization using RandomizedSearchCV"
   ]
  },
  {
   "cell_type": "code",
   "execution_count": 107,
   "metadata": {},
   "outputs": [
    {
     "name": "stdout",
     "output_type": "stream",
     "text": [
      "{'n_estimators': [200, 400, 600, 800, 1000, 1200, 1400, 1600, 1800, 2000], 'max_features': ['auto', 'sqrt', 'log2'], 'max_depth': [10, 120, 230, 340, 450, 560, 670, 780, 890, 1000], 'min_samples_split': [1, 2, 3, 4, 5, 7, 9], 'min_samples_leaf': [1, 2, 4, 6, 8], 'criterion': ['entropy', 'gini']}\n"
     ]
    }
   ],
   "source": [
    "# Number of trees in random forest\n",
    "n_estimators = [int(x) for x in np.linspace(start = 200, stop = 2000, num = 10)]\n",
    "\n",
    "# Number of features to consider at every split\n",
    "max_features = ['auto', 'sqrt','log2']\n",
    "\n",
    "# Maximum number of levels in tree\n",
    "max_depth = [int(x) for x in np.linspace(10, 1000,10)]\n",
    "\n",
    "# Minimum number of samples required to split a node\n",
    "min_samples_split = [1, 2, 3, 4, 5, 7, 9]\n",
    "\n",
    "# Minimum number of samples required at each leaf node\n",
    "min_samples_leaf = [1, 2, 4, 6, 8]\n",
    "\n",
    "# Create the random grid\n",
    "random_grid = {'n_estimators': n_estimators,\n",
    "               'max_features': max_features,\n",
    "               'max_depth': max_depth,\n",
    "               'min_samples_split': min_samples_split,\n",
    "               'min_samples_leaf': min_samples_leaf,\n",
    "              'criterion':['entropy','gini']}\n",
    "\n",
    "print(random_grid)"
   ]
  },
  {
   "cell_type": "code",
   "execution_count": 108,
   "metadata": {},
   "outputs": [],
   "source": [
    "rf_randomcv=RandomizedSearchCV(estimator=rf,param_distributions=random_grid,n_iter=100,cv=3,verbose=2,\n",
    "                               random_state=100,n_jobs=-1)"
   ]
  },
  {
   "cell_type": "code",
   "execution_count": null,
   "metadata": {},
   "outputs": [],
   "source": [
    "### fit the randomized model\n",
    "rf_randomcv.fit(X_train,y_train)"
   ]
  },
  {
   "cell_type": "code",
   "execution_count": null,
   "metadata": {},
   "outputs": [],
   "source": [
    "#best parameter\n",
    "rf_randomcv.best_params_"
   ]
  },
  {
   "cell_type": "code",
   "execution_count": null,
   "metadata": {},
   "outputs": [],
   "source": [
    "#best estimator\n",
    "rf_randomcv.best_estimator_"
   ]
  },
  {
   "cell_type": "code",
   "execution_count": null,
   "metadata": {},
   "outputs": [],
   "source": [
    "#best model from random search cv\n",
    "rf_model = rf_randomcv.best_estimator_"
   ]
  },
  {
   "cell_type": "code",
   "execution_count": null,
   "metadata": {},
   "outputs": [],
   "source": [
    "#making prediction using validation data set\n",
    "rf_predictions = rf_model.predict(X_test)"
   ]
  },
  {
   "cell_type": "markdown",
   "metadata": {},
   "source": [
    "### Evaluation Metrics"
   ]
  },
  {
   "cell_type": "code",
   "execution_count": null,
   "metadata": {},
   "outputs": [],
   "source": [
    "print(confusion_matrix(rf_predictions,y_valid))\n",
    "print(accuracy_score(rf_predictions,y_valid))\n",
    "print(classification_report(rf_predictions,y_valid))"
   ]
  },
  {
   "cell_type": "markdown",
   "metadata": {},
   "source": [
    "## Xgboost Classifier"
   ]
  },
  {
   "cell_type": "code",
   "execution_count": 109,
   "metadata": {},
   "outputs": [],
   "source": [
    "from sklearn.model_selection import RandomizedSearchCV\n",
    "import xgboost"
   ]
  },
  {
   "cell_type": "code",
   "execution_count": 110,
   "metadata": {},
   "outputs": [],
   "source": [
    "classifier=xgboost.XGBClassifier()"
   ]
  },
  {
   "cell_type": "markdown",
   "metadata": {},
   "source": [
    "### Hyperparameter optimization using RandomizedSearchCV"
   ]
  },
  {
   "cell_type": "code",
   "execution_count": 111,
   "metadata": {},
   "outputs": [],
   "source": [
    "params={\n",
    " \"learning_rate\"    : [0.05, 0.10, 0.15, 0.20, 0.25, 0.30 ] ,\n",
    " \"max_depth\"        : [ 3, 4, 5, 6, 8, 10, 12, 15],\n",
    " \"min_child_weight\" : [ 1, 3, 5, 7 ],\n",
    " \"gamma\"            : [ 0.0, 0.1, 0.2 , 0.3, 0.4 ],\n",
    " \"colsample_bytree\" : [ 0.3, 0.4, 0.5 , 0.7 ]\n",
    "    \n",
    "}"
   ]
  },
  {
   "cell_type": "code",
   "execution_count": 112,
   "metadata": {},
   "outputs": [],
   "source": [
    "xg_randomcv = RandomizedSearchCV(classifier,param_distributions=params,n_iter=5,scoring='roc_auc',n_jobs=-1,cv=5,verbose=3)"
   ]
  },
  {
   "cell_type": "code",
   "execution_count": 113,
   "metadata": {},
   "outputs": [
    {
     "name": "stdout",
     "output_type": "stream",
     "text": [
      "Fitting 5 folds for each of 5 candidates, totalling 25 fits\n"
     ]
    },
    {
     "name": "stderr",
     "output_type": "stream",
     "text": [
      "[Parallel(n_jobs=-1)]: Using backend LokyBackend with 4 concurrent workers.\n",
      "[Parallel(n_jobs=-1)]: Done  25 out of  25 | elapsed:   30.0s finished\n",
      "C:\\Users\\USER\\Anaconda3\\envs\\DeepLearning\\lib\\site-packages\\xgboost\\sklearn.py:892: UserWarning: The use of label encoder in XGBClassifier is deprecated and will be removed in a future release. To remove this warning, do the following: 1) Pass option use_label_encoder=False when constructing XGBClassifier object; and 2) Encode your labels (y) as integers starting with 0, i.e. 0, 1, 2, ..., [num_class - 1].\n",
      "  warnings.warn(label_encoder_deprecation_msg, UserWarning)\n"
     ]
    },
    {
     "name": "stdout",
     "output_type": "stream",
     "text": [
      "[13:59:32] WARNING: C:/Users/Administrator/workspace/xgboost-win64_release_1.3.0/src/learner.cc:1061: Starting in XGBoost 1.3.0, the default evaluation metric used with the objective 'binary:logistic' was changed from 'error' to 'logloss'. Explicitly set eval_metric if you'd like to restore the old behavior.\n"
     ]
    },
    {
     "data": {
      "text/plain": [
       "RandomizedSearchCV(cv=5,\n",
       "                   estimator=XGBClassifier(base_score=None, booster=None,\n",
       "                                           colsample_bylevel=None,\n",
       "                                           colsample_bynode=None,\n",
       "                                           colsample_bytree=None, gamma=None,\n",
       "                                           gpu_id=None, importance_type='gain',\n",
       "                                           interaction_constraints=None,\n",
       "                                           learning_rate=None,\n",
       "                                           max_delta_step=None, max_depth=None,\n",
       "                                           min_child_weight=None, missing=nan,\n",
       "                                           monotone_constraints=None,\n",
       "                                           n_estimators=100,...\n",
       "                                           reg_lambda=None,\n",
       "                                           scale_pos_weight=None,\n",
       "                                           subsample=None, tree_method=None,\n",
       "                                           validate_parameters=None,\n",
       "                                           verbosity=None),\n",
       "                   n_iter=5, n_jobs=-1,\n",
       "                   param_distributions={'colsample_bytree': [0.3, 0.4, 0.5,\n",
       "                                                             0.7],\n",
       "                                        'gamma': [0.0, 0.1, 0.2, 0.3, 0.4],\n",
       "                                        'learning_rate': [0.05, 0.1, 0.15, 0.2,\n",
       "                                                          0.25, 0.3],\n",
       "                                        'max_depth': [3, 4, 5, 6, 8, 10, 12,\n",
       "                                                      15],\n",
       "                                        'min_child_weight': [1, 3, 5, 7]},\n",
       "                   scoring='roc_auc', verbose=3)"
      ]
     },
     "execution_count": 113,
     "metadata": {},
     "output_type": "execute_result"
    }
   ],
   "source": [
    "xg_randomcv.fit(X_train,y_train)"
   ]
  },
  {
   "cell_type": "code",
   "execution_count": 114,
   "metadata": {},
   "outputs": [
    {
     "data": {
      "text/plain": [
       "{'min_child_weight': 5,\n",
       " 'max_depth': 15,\n",
       " 'learning_rate': 0.3,\n",
       " 'gamma': 0.2,\n",
       " 'colsample_bytree': 0.5}"
      ]
     },
     "execution_count": 114,
     "metadata": {},
     "output_type": "execute_result"
    }
   ],
   "source": [
    "#best parameters\n",
    "xg_randomcv.best_params_"
   ]
  },
  {
   "cell_type": "code",
   "execution_count": 115,
   "metadata": {},
   "outputs": [
    {
     "data": {
      "text/plain": [
       "XGBClassifier(base_score=0.5, booster='gbtree', colsample_bylevel=1,\n",
       "              colsample_bynode=1, colsample_bytree=0.5, gamma=0.2, gpu_id=-1,\n",
       "              importance_type='gain', interaction_constraints='',\n",
       "              learning_rate=0.3, max_delta_step=0, max_depth=15,\n",
       "              min_child_weight=5, missing=nan, monotone_constraints='()',\n",
       "              n_estimators=100, n_jobs=4, num_parallel_tree=1, random_state=0,\n",
       "              reg_alpha=0, reg_lambda=1, scale_pos_weight=1, subsample=1,\n",
       "              tree_method='exact', validate_parameters=1, verbosity=None)"
      ]
     },
     "execution_count": 115,
     "metadata": {},
     "output_type": "execute_result"
    }
   ],
   "source": [
    "#best estimator\n",
    "xg_randomcv.best_estimator_"
   ]
  },
  {
   "cell_type": "code",
   "execution_count": 116,
   "metadata": {},
   "outputs": [],
   "source": [
    "#best model from random search cv\n",
    "xg_model = xg_randomcv.best_estimator_"
   ]
  },
  {
   "cell_type": "code",
   "execution_count": 118,
   "metadata": {},
   "outputs": [],
   "source": [
    "#mking prediction using validation data set\n",
    "xg_predictions = xg_model.predict(X_test)"
   ]
  },
  {
   "cell_type": "markdown",
   "metadata": {},
   "source": [
    "### Evaluation Metrics"
   ]
  },
  {
   "cell_type": "code",
   "execution_count": 119,
   "metadata": {},
   "outputs": [
    {
     "name": "stdout",
     "output_type": "stream",
     "text": [
      "[[1858  479]\n",
      " [ 199  785]]\n",
      "0.7958446251129178\n",
      "              precision    recall  f1-score   support\n",
      "\n",
      "           0       0.90      0.80      0.85      2337\n",
      "           1       0.62      0.80      0.70       984\n",
      "\n",
      "    accuracy                           0.80      3321\n",
      "   macro avg       0.76      0.80      0.77      3321\n",
      "weighted avg       0.82      0.80      0.80      3321\n",
      "\n"
     ]
    }
   ],
   "source": [
    "print(confusion_matrix(xg_predictions,y_test))\n",
    "print(accuracy_score(xg_predictions,y_test))\n",
    "print(classification_report(xg_predictions,y_test))"
   ]
  },
  {
   "cell_type": "markdown",
   "metadata": {},
   "source": [
    "# Third Approach "
   ]
  },
  {
   "cell_type": "code",
   "execution_count": 9,
   "metadata": {},
   "outputs": [
    {
     "data": {
      "text/html": [
       "<div>\n",
       "<style scoped>\n",
       "    .dataframe tbody tr th:only-of-type {\n",
       "        vertical-align: middle;\n",
       "    }\n",
       "\n",
       "    .dataframe tbody tr th {\n",
       "        vertical-align: top;\n",
       "    }\n",
       "\n",
       "    .dataframe thead th {\n",
       "        text-align: right;\n",
       "    }\n",
       "</style>\n",
       "<table border=\"1\" class=\"dataframe\">\n",
       "  <thead>\n",
       "    <tr style=\"text-align: right;\">\n",
       "      <th></th>\n",
       "      <th>Client Category</th>\n",
       "      <th>Solution Type</th>\n",
       "      <th>Sector</th>\n",
       "      <th>Location</th>\n",
       "      <th>VP Name</th>\n",
       "      <th>Manager Name</th>\n",
       "      <th>Deal_Cost</th>\n",
       "      <th>Deal_Status</th>\n",
       "    </tr>\n",
       "  </thead>\n",
       "  <tbody>\n",
       "    <tr>\n",
       "      <th>0</th>\n",
       "      <td>Telecom</td>\n",
       "      <td>Solution 7</td>\n",
       "      <td>Sector 24</td>\n",
       "      <td>L5</td>\n",
       "      <td>Ekta Zutshi</td>\n",
       "      <td>Gopa Trilochana</td>\n",
       "      <td>150000.00</td>\n",
       "      <td>1</td>\n",
       "    </tr>\n",
       "    <tr>\n",
       "      <th>1</th>\n",
       "      <td>Telecom</td>\n",
       "      <td>Solution 7</td>\n",
       "      <td>Sector 24</td>\n",
       "      <td>L5</td>\n",
       "      <td>Ekta Zutshi</td>\n",
       "      <td>Gopa Trilochana</td>\n",
       "      <td>744705.88</td>\n",
       "      <td>1</td>\n",
       "    </tr>\n",
       "    <tr>\n",
       "      <th>2</th>\n",
       "      <td>Internal</td>\n",
       "      <td>Solution 59</td>\n",
       "      <td>Sector 20</td>\n",
       "      <td>Others</td>\n",
       "      <td>Ekta Zutshi</td>\n",
       "      <td>Russell Dahlen</td>\n",
       "      <td>60000.00</td>\n",
       "      <td>0</td>\n",
       "    </tr>\n",
       "    <tr>\n",
       "      <th>3</th>\n",
       "      <td>Internal</td>\n",
       "      <td>Solution 59</td>\n",
       "      <td>Sector 20</td>\n",
       "      <td>Others</td>\n",
       "      <td>Ekta Zutshi</td>\n",
       "      <td>Russell Dahlen</td>\n",
       "      <td>60000.00</td>\n",
       "      <td>0</td>\n",
       "    </tr>\n",
       "    <tr>\n",
       "      <th>4</th>\n",
       "      <td>Internal</td>\n",
       "      <td>Solution 32</td>\n",
       "      <td>Sector 20</td>\n",
       "      <td>Others</td>\n",
       "      <td>Ekta Zutshi</td>\n",
       "      <td>Russell Dahlen</td>\n",
       "      <td>80882.35</td>\n",
       "      <td>0</td>\n",
       "    </tr>\n",
       "  </tbody>\n",
       "</table>\n",
       "</div>"
      ],
      "text/plain": [
       "  Client Category Solution Type     Sector Location      VP Name  \\\n",
       "0         Telecom    Solution 7  Sector 24       L5  Ekta Zutshi   \n",
       "1         Telecom    Solution 7  Sector 24       L5  Ekta Zutshi   \n",
       "2        Internal   Solution 59  Sector 20   Others  Ekta Zutshi   \n",
       "3        Internal   Solution 59  Sector 20   Others  Ekta Zutshi   \n",
       "4        Internal   Solution 32  Sector 20   Others  Ekta Zutshi   \n",
       "\n",
       "      Manager Name  Deal_Cost  Deal_Status  \n",
       "0  Gopa Trilochana  150000.00            1  \n",
       "1  Gopa Trilochana  744705.88            1  \n",
       "2   Russell Dahlen   60000.00            0  \n",
       "3   Russell Dahlen   60000.00            0  \n",
       "4   Russell Dahlen   80882.35            0  "
      ]
     },
     "execution_count": 9,
     "metadata": {},
     "output_type": "execute_result"
    }
   ],
   "source": [
    "data.head()"
   ]
  },
  {
   "cell_type": "code",
   "execution_count": 10,
   "metadata": {},
   "outputs": [],
   "source": [
    "win_data = data.copy()"
   ]
  },
  {
   "cell_type": "code",
   "execution_count": 11,
   "metadata": {},
   "outputs": [],
   "source": [
    "#Dropping Manager Name\n",
    "\n",
    "win_data = win_data.drop(\"Manager Name\", axis = 1)"
   ]
  },
  {
   "cell_type": "code",
   "execution_count": 12,
   "metadata": {},
   "outputs": [
    {
     "data": {
      "text/html": [
       "<div>\n",
       "<style scoped>\n",
       "    .dataframe tbody tr th:only-of-type {\n",
       "        vertical-align: middle;\n",
       "    }\n",
       "\n",
       "    .dataframe tbody tr th {\n",
       "        vertical-align: top;\n",
       "    }\n",
       "\n",
       "    .dataframe thead th {\n",
       "        text-align: right;\n",
       "    }\n",
       "</style>\n",
       "<table border=\"1\" class=\"dataframe\">\n",
       "  <thead>\n",
       "    <tr style=\"text-align: right;\">\n",
       "      <th></th>\n",
       "      <th>Client Category</th>\n",
       "      <th>Solution Type</th>\n",
       "      <th>Sector</th>\n",
       "      <th>Location</th>\n",
       "      <th>VP Name</th>\n",
       "      <th>Deal_Cost</th>\n",
       "      <th>Deal_Status</th>\n",
       "    </tr>\n",
       "  </thead>\n",
       "  <tbody>\n",
       "    <tr>\n",
       "      <th>0</th>\n",
       "      <td>Telecom</td>\n",
       "      <td>Solution 7</td>\n",
       "      <td>Sector 24</td>\n",
       "      <td>L5</td>\n",
       "      <td>Ekta Zutshi</td>\n",
       "      <td>150000.00</td>\n",
       "      <td>1</td>\n",
       "    </tr>\n",
       "    <tr>\n",
       "      <th>1</th>\n",
       "      <td>Telecom</td>\n",
       "      <td>Solution 7</td>\n",
       "      <td>Sector 24</td>\n",
       "      <td>L5</td>\n",
       "      <td>Ekta Zutshi</td>\n",
       "      <td>744705.88</td>\n",
       "      <td>1</td>\n",
       "    </tr>\n",
       "    <tr>\n",
       "      <th>2</th>\n",
       "      <td>Internal</td>\n",
       "      <td>Solution 59</td>\n",
       "      <td>Sector 20</td>\n",
       "      <td>Others</td>\n",
       "      <td>Ekta Zutshi</td>\n",
       "      <td>60000.00</td>\n",
       "      <td>0</td>\n",
       "    </tr>\n",
       "    <tr>\n",
       "      <th>3</th>\n",
       "      <td>Internal</td>\n",
       "      <td>Solution 59</td>\n",
       "      <td>Sector 20</td>\n",
       "      <td>Others</td>\n",
       "      <td>Ekta Zutshi</td>\n",
       "      <td>60000.00</td>\n",
       "      <td>0</td>\n",
       "    </tr>\n",
       "    <tr>\n",
       "      <th>4</th>\n",
       "      <td>Internal</td>\n",
       "      <td>Solution 32</td>\n",
       "      <td>Sector 20</td>\n",
       "      <td>Others</td>\n",
       "      <td>Ekta Zutshi</td>\n",
       "      <td>80882.35</td>\n",
       "      <td>0</td>\n",
       "    </tr>\n",
       "  </tbody>\n",
       "</table>\n",
       "</div>"
      ],
      "text/plain": [
       "  Client Category Solution Type     Sector Location      VP Name  Deal_Cost  \\\n",
       "0         Telecom    Solution 7  Sector 24       L5  Ekta Zutshi  150000.00   \n",
       "1         Telecom    Solution 7  Sector 24       L5  Ekta Zutshi  744705.88   \n",
       "2        Internal   Solution 59  Sector 20   Others  Ekta Zutshi   60000.00   \n",
       "3        Internal   Solution 59  Sector 20   Others  Ekta Zutshi   60000.00   \n",
       "4        Internal   Solution 32  Sector 20   Others  Ekta Zutshi   80882.35   \n",
       "\n",
       "   Deal_Status  \n",
       "0            1  \n",
       "1            1  \n",
       "2            0  \n",
       "3            0  \n",
       "4            0  "
      ]
     },
     "execution_count": 12,
     "metadata": {},
     "output_type": "execute_result"
    }
   ],
   "source": [
    "win_data.head()"
   ]
  },
  {
   "cell_type": "markdown",
   "metadata": {},
   "source": [
    "## Target Guided Ordinal Encoding To VP Name"
   ]
  },
  {
   "cell_type": "code",
   "execution_count": 13,
   "metadata": {},
   "outputs": [
    {
     "data": {
      "text/plain": [
       "array(['Ekta Zutshi', 'Mervin\\xa0Harwood', 'Sargar Deep Rao',\n",
       "       'Lilli\\xa0Storrs', 'Long\\xa0Bergstrom', 'Rosanna\\xa0Maynez',\n",
       "       'Mangesh K. Singh', 'Brendon\\xa0Wycoff', 'neeraj kumar',\n",
       "       'Rahul Bajpai', 'Son\\xa0Mcconnaughy', 'Saurabh Singh',\n",
       "       'Rudraksh Sharma', 'Hardeep Suksma', 'Varsha Arora', 'som dutt',\n",
       "       'Ankita Aggarwal', 'Clinton\\xa0Mani', 'Marcella\\xa0Mo',\n",
       "       'Dennis\\xa0Faux', 'Earline\\xa0Langton', 'Russell\\xa0Dahlen',\n",
       "       'Gopa Trilochana', 'Kamelesh Srinivasan', 'Gaurav Sameria',\n",
       "       'Manpreet Singh', 'Man\\xa0Suddeth', 'Molly\\xa0Eakes',\n",
       "       'Vidur Hukle', 'Gayle\\xa0Molter', 'Alam Syed', 'Rahul Kocher',\n",
       "       'Vikram Rawat', 'Jewell\\xa0Tunstall', 'Jitendra Choudhary',\n",
       "       'Mayank Mewar', 'Kirk\\xa0Hofmeister', 'P. Somya', 'Prashant Rawat',\n",
       "       'Visvajeet Das', 'Waylon\\xa0Mulder', 'Sarthak Batra', 'md. afsar'],\n",
       "      dtype=object)"
      ]
     },
     "execution_count": 13,
     "metadata": {},
     "output_type": "execute_result"
    }
   ],
   "source": [
    "win_data[\"VP Name\"].unique()"
   ]
  },
  {
   "cell_type": "code",
   "execution_count": 14,
   "metadata": {},
   "outputs": [
    {
     "data": {
      "text/plain": [
       "VP Name\n",
       "Alam Syed              0.507937\n",
       "Ankita Aggarwal        0.242345\n",
       "Brendon Wycoff         0.301587\n",
       "Clinton Mani           0.326087\n",
       "Dennis Faux            0.076923\n",
       "Earline Langton        0.365854\n",
       "Ekta Zutshi            0.625455\n",
       "Gaurav Sameria         0.421053\n",
       "Gayle Molter           0.288462\n",
       "Gopa Trilochana        0.382353\n",
       "Hardeep Suksma         0.413462\n",
       "Jewell Tunstall        0.358974\n",
       "Jitendra Choudhary     0.428571\n",
       "Kamelesh Srinivasan    0.200000\n",
       "Kirk Hofmeister        0.000000\n",
       "Lilli Storrs           0.461538\n",
       "Long Bergstrom         0.511401\n",
       "Mangesh K. Singh       0.337438\n",
       "Manpreet Singh         0.347826\n",
       "Man Suddeth            0.448276\n",
       "Marcella Mo            0.375000\n",
       "Mayank Mewar           0.414634\n",
       "Mervin Harwood         0.319039\n",
       "Molly Eakes            0.476190\n",
       "P. Somya               0.000000\n",
       "Prashant Rawat         0.555556\n",
       "Rahul Bajpai           0.388145\n",
       "Rahul Kocher           0.187500\n",
       "Rosanna Maynez         0.268882\n",
       "Rudraksh Sharma        0.387755\n",
       "Russell Dahlen         0.413534\n",
       "Sargar Deep Rao        0.361925\n",
       "Sarthak Batra          0.000000\n",
       "Saurabh Singh          0.363636\n",
       "Son Mcconnaughy        0.293103\n",
       "Varsha Arora           0.423077\n",
       "Vidur Hukle            0.420000\n",
       "Vikram Rawat           0.529412\n",
       "Visvajeet Das          0.333333\n",
       "Waylon Mulder          0.333333\n",
       "md. afsar              0.000000\n",
       "neeraj kumar           0.460722\n",
       "som dutt               0.372727\n",
       "Name: Deal_Status, dtype: float64"
      ]
     },
     "execution_count": 14,
     "metadata": {},
     "output_type": "execute_result"
    }
   ],
   "source": [
    "win_data.groupby(['VP Name'])['Deal_Status'].mean()"
   ]
  },
  {
   "cell_type": "code",
   "execution_count": 15,
   "metadata": {},
   "outputs": [
    {
     "data": {
      "text/plain": [
       "Index(['Kirk Hofmeister', 'P. Somya', 'Sarthak Batra', 'md. afsar',\n",
       "       'Dennis Faux', 'Rahul Kocher', 'Kamelesh Srinivasan', 'Ankita Aggarwal',\n",
       "       'Rosanna Maynez', 'Gayle Molter', 'Son Mcconnaughy', 'Brendon Wycoff',\n",
       "       'Mervin Harwood', 'Clinton Mani', 'Visvajeet Das', 'Waylon Mulder',\n",
       "       'Mangesh K. Singh', 'Manpreet Singh', 'Jewell Tunstall',\n",
       "       'Sargar Deep Rao', 'Saurabh Singh', 'Earline Langton', 'som dutt',\n",
       "       'Marcella Mo', 'Gopa Trilochana', 'Rudraksh Sharma', 'Rahul Bajpai',\n",
       "       'Hardeep Suksma', 'Russell Dahlen', 'Mayank Mewar', 'Vidur Hukle',\n",
       "       'Gaurav Sameria', 'Varsha Arora', 'Jitendra Choudhary', 'Man Suddeth',\n",
       "       'neeraj kumar', 'Lilli Storrs', 'Molly Eakes', 'Alam Syed',\n",
       "       'Long Bergstrom', 'Vikram Rawat', 'Prashant Rawat', 'Ekta Zutshi'],\n",
       "      dtype='object', name='VP Name')"
      ]
     },
     "execution_count": 15,
     "metadata": {},
     "output_type": "execute_result"
    }
   ],
   "source": [
    "win_data.groupby(['VP Name'])['Deal_Status'].mean().sort_values().index"
   ]
  },
  {
   "cell_type": "code",
   "execution_count": 16,
   "metadata": {},
   "outputs": [],
   "source": [
    "ordinal_labels = win_data.groupby(['VP Name'])['Deal_Status'].mean().sort_values().index"
   ]
  },
  {
   "cell_type": "code",
   "execution_count": 17,
   "metadata": {},
   "outputs": [
    {
     "data": {
      "text/plain": [
       "{'Kirk\\xa0Hofmeister': 0,\n",
       " 'P. Somya': 1,\n",
       " 'Sarthak Batra': 2,\n",
       " 'md. afsar': 3,\n",
       " 'Dennis\\xa0Faux': 4,\n",
       " 'Rahul Kocher': 5,\n",
       " 'Kamelesh Srinivasan': 6,\n",
       " 'Ankita Aggarwal': 7,\n",
       " 'Rosanna\\xa0Maynez': 8,\n",
       " 'Gayle\\xa0Molter': 9,\n",
       " 'Son\\xa0Mcconnaughy': 10,\n",
       " 'Brendon\\xa0Wycoff': 11,\n",
       " 'Mervin\\xa0Harwood': 12,\n",
       " 'Clinton\\xa0Mani': 13,\n",
       " 'Visvajeet Das': 14,\n",
       " 'Waylon\\xa0Mulder': 15,\n",
       " 'Mangesh K. Singh': 16,\n",
       " 'Manpreet Singh': 17,\n",
       " 'Jewell\\xa0Tunstall': 18,\n",
       " 'Sargar Deep Rao': 19,\n",
       " 'Saurabh Singh': 20,\n",
       " 'Earline\\xa0Langton': 21,\n",
       " 'som dutt': 22,\n",
       " 'Marcella\\xa0Mo': 23,\n",
       " 'Gopa Trilochana': 24,\n",
       " 'Rudraksh Sharma': 25,\n",
       " 'Rahul Bajpai': 26,\n",
       " 'Hardeep Suksma': 27,\n",
       " 'Russell\\xa0Dahlen': 28,\n",
       " 'Mayank Mewar': 29,\n",
       " 'Vidur Hukle': 30,\n",
       " 'Gaurav Sameria': 31,\n",
       " 'Varsha Arora': 32,\n",
       " 'Jitendra Choudhary': 33,\n",
       " 'Man\\xa0Suddeth': 34,\n",
       " 'neeraj kumar': 35,\n",
       " 'Lilli\\xa0Storrs': 36,\n",
       " 'Molly\\xa0Eakes': 37,\n",
       " 'Alam Syed': 38,\n",
       " 'Long\\xa0Bergstrom': 39,\n",
       " 'Vikram Rawat': 40,\n",
       " 'Prashant Rawat': 41,\n",
       " 'Ekta Zutshi': 42}"
      ]
     },
     "execution_count": 17,
     "metadata": {},
     "output_type": "execute_result"
    }
   ],
   "source": [
    "ordinal_labels2={k:i for i,k in enumerate(ordinal_labels,0)}\n",
    "ordinal_labels2"
   ]
  },
  {
   "cell_type": "code",
   "execution_count": 18,
   "metadata": {},
   "outputs": [],
   "source": [
    "win_data['VP Name']=win_data['VP Name'].map(ordinal_labels2)"
   ]
  },
  {
   "cell_type": "code",
   "execution_count": 19,
   "metadata": {},
   "outputs": [
    {
     "data": {
      "text/html": [
       "<div>\n",
       "<style scoped>\n",
       "    .dataframe tbody tr th:only-of-type {\n",
       "        vertical-align: middle;\n",
       "    }\n",
       "\n",
       "    .dataframe tbody tr th {\n",
       "        vertical-align: top;\n",
       "    }\n",
       "\n",
       "    .dataframe thead th {\n",
       "        text-align: right;\n",
       "    }\n",
       "</style>\n",
       "<table border=\"1\" class=\"dataframe\">\n",
       "  <thead>\n",
       "    <tr style=\"text-align: right;\">\n",
       "      <th></th>\n",
       "      <th>Client Category</th>\n",
       "      <th>Solution Type</th>\n",
       "      <th>Sector</th>\n",
       "      <th>Location</th>\n",
       "      <th>VP Name</th>\n",
       "      <th>Deal_Cost</th>\n",
       "      <th>Deal_Status</th>\n",
       "    </tr>\n",
       "  </thead>\n",
       "  <tbody>\n",
       "    <tr>\n",
       "      <th>0</th>\n",
       "      <td>Telecom</td>\n",
       "      <td>Solution 7</td>\n",
       "      <td>Sector 24</td>\n",
       "      <td>L5</td>\n",
       "      <td>42</td>\n",
       "      <td>150000.00</td>\n",
       "      <td>1</td>\n",
       "    </tr>\n",
       "    <tr>\n",
       "      <th>1</th>\n",
       "      <td>Telecom</td>\n",
       "      <td>Solution 7</td>\n",
       "      <td>Sector 24</td>\n",
       "      <td>L5</td>\n",
       "      <td>42</td>\n",
       "      <td>744705.88</td>\n",
       "      <td>1</td>\n",
       "    </tr>\n",
       "    <tr>\n",
       "      <th>2</th>\n",
       "      <td>Internal</td>\n",
       "      <td>Solution 59</td>\n",
       "      <td>Sector 20</td>\n",
       "      <td>Others</td>\n",
       "      <td>42</td>\n",
       "      <td>60000.00</td>\n",
       "      <td>0</td>\n",
       "    </tr>\n",
       "    <tr>\n",
       "      <th>3</th>\n",
       "      <td>Internal</td>\n",
       "      <td>Solution 59</td>\n",
       "      <td>Sector 20</td>\n",
       "      <td>Others</td>\n",
       "      <td>42</td>\n",
       "      <td>60000.00</td>\n",
       "      <td>0</td>\n",
       "    </tr>\n",
       "    <tr>\n",
       "      <th>4</th>\n",
       "      <td>Internal</td>\n",
       "      <td>Solution 32</td>\n",
       "      <td>Sector 20</td>\n",
       "      <td>Others</td>\n",
       "      <td>42</td>\n",
       "      <td>80882.35</td>\n",
       "      <td>0</td>\n",
       "    </tr>\n",
       "  </tbody>\n",
       "</table>\n",
       "</div>"
      ],
      "text/plain": [
       "  Client Category Solution Type     Sector Location  VP Name  Deal_Cost  \\\n",
       "0         Telecom    Solution 7  Sector 24       L5       42  150000.00   \n",
       "1         Telecom    Solution 7  Sector 24       L5       42  744705.88   \n",
       "2        Internal   Solution 59  Sector 20   Others       42   60000.00   \n",
       "3        Internal   Solution 59  Sector 20   Others       42   60000.00   \n",
       "4        Internal   Solution 32  Sector 20   Others       42   80882.35   \n",
       "\n",
       "   Deal_Status  \n",
       "0            1  \n",
       "1            1  \n",
       "2            0  \n",
       "3            0  \n",
       "4            0  "
      ]
     },
     "execution_count": 19,
     "metadata": {},
     "output_type": "execute_result"
    }
   ],
   "source": [
    "win_data.head()"
   ]
  },
  {
   "cell_type": "code",
   "execution_count": 20,
   "metadata": {},
   "outputs": [],
   "source": [
    "X = win_data.drop(\"Deal_Status\", axis = 1)\n",
    "y = win_data[\"Deal_Status\"]"
   ]
  },
  {
   "cell_type": "markdown",
   "metadata": {},
   "source": [
    "## One Hot Encoding to Rest of Categorical Features"
   ]
  },
  {
   "cell_type": "code",
   "execution_count": 21,
   "metadata": {},
   "outputs": [],
   "source": [
    "win_dummy = pd.get_dummies(X,drop_first = True)"
   ]
  },
  {
   "cell_type": "code",
   "execution_count": 22,
   "metadata": {},
   "outputs": [
    {
     "data": {
      "text/html": [
       "<div>\n",
       "<style scoped>\n",
       "    .dataframe tbody tr th:only-of-type {\n",
       "        vertical-align: middle;\n",
       "    }\n",
       "\n",
       "    .dataframe tbody tr th {\n",
       "        vertical-align: top;\n",
       "    }\n",
       "\n",
       "    .dataframe thead th {\n",
       "        text-align: right;\n",
       "    }\n",
       "</style>\n",
       "<table border=\"1\" class=\"dataframe\">\n",
       "  <thead>\n",
       "    <tr style=\"text-align: right;\">\n",
       "      <th></th>\n",
       "      <th>VP Name</th>\n",
       "      <th>Deal_Cost</th>\n",
       "      <th>Client Category_Automobiles</th>\n",
       "      <th>Client Category_Consulting</th>\n",
       "      <th>Client Category_Consumer Good</th>\n",
       "      <th>Client Category_Domestic Bank</th>\n",
       "      <th>Client Category_Domestic Private Bank</th>\n",
       "      <th>Client Category_Domestic Public Bank</th>\n",
       "      <th>Client Category_Electronics</th>\n",
       "      <th>Client Category_Energy</th>\n",
       "      <th>...</th>\n",
       "      <th>Location_L12</th>\n",
       "      <th>Location_L2</th>\n",
       "      <th>Location_L3</th>\n",
       "      <th>Location_L4</th>\n",
       "      <th>Location_L5</th>\n",
       "      <th>Location_L6</th>\n",
       "      <th>Location_L7</th>\n",
       "      <th>Location_L8</th>\n",
       "      <th>Location_L9</th>\n",
       "      <th>Location_Others</th>\n",
       "    </tr>\n",
       "  </thead>\n",
       "  <tbody>\n",
       "    <tr>\n",
       "      <th>0</th>\n",
       "      <td>42</td>\n",
       "      <td>150000.00</td>\n",
       "      <td>0</td>\n",
       "      <td>0</td>\n",
       "      <td>0</td>\n",
       "      <td>0</td>\n",
       "      <td>0</td>\n",
       "      <td>0</td>\n",
       "      <td>0</td>\n",
       "      <td>0</td>\n",
       "      <td>...</td>\n",
       "      <td>0</td>\n",
       "      <td>0</td>\n",
       "      <td>0</td>\n",
       "      <td>0</td>\n",
       "      <td>1</td>\n",
       "      <td>0</td>\n",
       "      <td>0</td>\n",
       "      <td>0</td>\n",
       "      <td>0</td>\n",
       "      <td>0</td>\n",
       "    </tr>\n",
       "    <tr>\n",
       "      <th>1</th>\n",
       "      <td>42</td>\n",
       "      <td>744705.88</td>\n",
       "      <td>0</td>\n",
       "      <td>0</td>\n",
       "      <td>0</td>\n",
       "      <td>0</td>\n",
       "      <td>0</td>\n",
       "      <td>0</td>\n",
       "      <td>0</td>\n",
       "      <td>0</td>\n",
       "      <td>...</td>\n",
       "      <td>0</td>\n",
       "      <td>0</td>\n",
       "      <td>0</td>\n",
       "      <td>0</td>\n",
       "      <td>1</td>\n",
       "      <td>0</td>\n",
       "      <td>0</td>\n",
       "      <td>0</td>\n",
       "      <td>0</td>\n",
       "      <td>0</td>\n",
       "    </tr>\n",
       "    <tr>\n",
       "      <th>2</th>\n",
       "      <td>42</td>\n",
       "      <td>60000.00</td>\n",
       "      <td>0</td>\n",
       "      <td>0</td>\n",
       "      <td>0</td>\n",
       "      <td>0</td>\n",
       "      <td>0</td>\n",
       "      <td>0</td>\n",
       "      <td>0</td>\n",
       "      <td>0</td>\n",
       "      <td>...</td>\n",
       "      <td>0</td>\n",
       "      <td>0</td>\n",
       "      <td>0</td>\n",
       "      <td>0</td>\n",
       "      <td>0</td>\n",
       "      <td>0</td>\n",
       "      <td>0</td>\n",
       "      <td>0</td>\n",
       "      <td>0</td>\n",
       "      <td>1</td>\n",
       "    </tr>\n",
       "    <tr>\n",
       "      <th>3</th>\n",
       "      <td>42</td>\n",
       "      <td>60000.00</td>\n",
       "      <td>0</td>\n",
       "      <td>0</td>\n",
       "      <td>0</td>\n",
       "      <td>0</td>\n",
       "      <td>0</td>\n",
       "      <td>0</td>\n",
       "      <td>0</td>\n",
       "      <td>0</td>\n",
       "      <td>...</td>\n",
       "      <td>0</td>\n",
       "      <td>0</td>\n",
       "      <td>0</td>\n",
       "      <td>0</td>\n",
       "      <td>0</td>\n",
       "      <td>0</td>\n",
       "      <td>0</td>\n",
       "      <td>0</td>\n",
       "      <td>0</td>\n",
       "      <td>1</td>\n",
       "    </tr>\n",
       "    <tr>\n",
       "      <th>4</th>\n",
       "      <td>42</td>\n",
       "      <td>80882.35</td>\n",
       "      <td>0</td>\n",
       "      <td>0</td>\n",
       "      <td>0</td>\n",
       "      <td>0</td>\n",
       "      <td>0</td>\n",
       "      <td>0</td>\n",
       "      <td>0</td>\n",
       "      <td>0</td>\n",
       "      <td>...</td>\n",
       "      <td>0</td>\n",
       "      <td>0</td>\n",
       "      <td>0</td>\n",
       "      <td>0</td>\n",
       "      <td>0</td>\n",
       "      <td>0</td>\n",
       "      <td>0</td>\n",
       "      <td>0</td>\n",
       "      <td>0</td>\n",
       "      <td>1</td>\n",
       "    </tr>\n",
       "    <tr>\n",
       "      <th>...</th>\n",
       "      <td>...</td>\n",
       "      <td>...</td>\n",
       "      <td>...</td>\n",
       "      <td>...</td>\n",
       "      <td>...</td>\n",
       "      <td>...</td>\n",
       "      <td>...</td>\n",
       "      <td>...</td>\n",
       "      <td>...</td>\n",
       "      <td>...</td>\n",
       "      <td>...</td>\n",
       "      <td>...</td>\n",
       "      <td>...</td>\n",
       "      <td>...</td>\n",
       "      <td>...</td>\n",
       "      <td>...</td>\n",
       "      <td>...</td>\n",
       "      <td>...</td>\n",
       "      <td>...</td>\n",
       "      <td>...</td>\n",
       "      <td>...</td>\n",
       "    </tr>\n",
       "    <tr>\n",
       "      <th>10056</th>\n",
       "      <td>25</td>\n",
       "      <td>588235.29</td>\n",
       "      <td>0</td>\n",
       "      <td>0</td>\n",
       "      <td>0</td>\n",
       "      <td>0</td>\n",
       "      <td>0</td>\n",
       "      <td>0</td>\n",
       "      <td>0</td>\n",
       "      <td>0</td>\n",
       "      <td>...</td>\n",
       "      <td>0</td>\n",
       "      <td>0</td>\n",
       "      <td>0</td>\n",
       "      <td>0</td>\n",
       "      <td>1</td>\n",
       "      <td>0</td>\n",
       "      <td>0</td>\n",
       "      <td>0</td>\n",
       "      <td>0</td>\n",
       "      <td>0</td>\n",
       "    </tr>\n",
       "    <tr>\n",
       "      <th>10057</th>\n",
       "      <td>25</td>\n",
       "      <td>777058.82</td>\n",
       "      <td>0</td>\n",
       "      <td>0</td>\n",
       "      <td>0</td>\n",
       "      <td>0</td>\n",
       "      <td>0</td>\n",
       "      <td>0</td>\n",
       "      <td>0</td>\n",
       "      <td>0</td>\n",
       "      <td>...</td>\n",
       "      <td>0</td>\n",
       "      <td>0</td>\n",
       "      <td>0</td>\n",
       "      <td>0</td>\n",
       "      <td>0</td>\n",
       "      <td>0</td>\n",
       "      <td>0</td>\n",
       "      <td>0</td>\n",
       "      <td>0</td>\n",
       "      <td>1</td>\n",
       "    </tr>\n",
       "    <tr>\n",
       "      <th>10058</th>\n",
       "      <td>25</td>\n",
       "      <td>588235.29</td>\n",
       "      <td>0</td>\n",
       "      <td>0</td>\n",
       "      <td>0</td>\n",
       "      <td>0</td>\n",
       "      <td>0</td>\n",
       "      <td>0</td>\n",
       "      <td>0</td>\n",
       "      <td>0</td>\n",
       "      <td>...</td>\n",
       "      <td>0</td>\n",
       "      <td>0</td>\n",
       "      <td>0</td>\n",
       "      <td>0</td>\n",
       "      <td>1</td>\n",
       "      <td>0</td>\n",
       "      <td>0</td>\n",
       "      <td>0</td>\n",
       "      <td>0</td>\n",
       "      <td>0</td>\n",
       "    </tr>\n",
       "    <tr>\n",
       "      <th>10059</th>\n",
       "      <td>34</td>\n",
       "      <td>3042058.82</td>\n",
       "      <td>0</td>\n",
       "      <td>0</td>\n",
       "      <td>0</td>\n",
       "      <td>0</td>\n",
       "      <td>0</td>\n",
       "      <td>0</td>\n",
       "      <td>0</td>\n",
       "      <td>0</td>\n",
       "      <td>...</td>\n",
       "      <td>0</td>\n",
       "      <td>0</td>\n",
       "      <td>0</td>\n",
       "      <td>0</td>\n",
       "      <td>1</td>\n",
       "      <td>0</td>\n",
       "      <td>0</td>\n",
       "      <td>0</td>\n",
       "      <td>0</td>\n",
       "      <td>0</td>\n",
       "    </tr>\n",
       "    <tr>\n",
       "      <th>10060</th>\n",
       "      <td>10</td>\n",
       "      <td>147058.82</td>\n",
       "      <td>0</td>\n",
       "      <td>0</td>\n",
       "      <td>0</td>\n",
       "      <td>0</td>\n",
       "      <td>0</td>\n",
       "      <td>0</td>\n",
       "      <td>0</td>\n",
       "      <td>0</td>\n",
       "      <td>...</td>\n",
       "      <td>0</td>\n",
       "      <td>0</td>\n",
       "      <td>0</td>\n",
       "      <td>0</td>\n",
       "      <td>0</td>\n",
       "      <td>0</td>\n",
       "      <td>0</td>\n",
       "      <td>0</td>\n",
       "      <td>0</td>\n",
       "      <td>0</td>\n",
       "    </tr>\n",
       "  </tbody>\n",
       "</table>\n",
       "<p>10061 rows × 144 columns</p>\n",
       "</div>"
      ],
      "text/plain": [
       "       VP Name   Deal_Cost  Client Category_Automobiles  \\\n",
       "0           42   150000.00                            0   \n",
       "1           42   744705.88                            0   \n",
       "2           42    60000.00                            0   \n",
       "3           42    60000.00                            0   \n",
       "4           42    80882.35                            0   \n",
       "...        ...         ...                          ...   \n",
       "10056       25   588235.29                            0   \n",
       "10057       25   777058.82                            0   \n",
       "10058       25   588235.29                            0   \n",
       "10059       34  3042058.82                            0   \n",
       "10060       10   147058.82                            0   \n",
       "\n",
       "       Client Category_Consulting  Client Category_Consumer Good  \\\n",
       "0                               0                              0   \n",
       "1                               0                              0   \n",
       "2                               0                              0   \n",
       "3                               0                              0   \n",
       "4                               0                              0   \n",
       "...                           ...                            ...   \n",
       "10056                           0                              0   \n",
       "10057                           0                              0   \n",
       "10058                           0                              0   \n",
       "10059                           0                              0   \n",
       "10060                           0                              0   \n",
       "\n",
       "       Client Category_Domestic Bank  Client Category_Domestic Private Bank  \\\n",
       "0                                  0                                      0   \n",
       "1                                  0                                      0   \n",
       "2                                  0                                      0   \n",
       "3                                  0                                      0   \n",
       "4                                  0                                      0   \n",
       "...                              ...                                    ...   \n",
       "10056                              0                                      0   \n",
       "10057                              0                                      0   \n",
       "10058                              0                                      0   \n",
       "10059                              0                                      0   \n",
       "10060                              0                                      0   \n",
       "\n",
       "       Client Category_Domestic Public Bank  Client Category_Electronics  \\\n",
       "0                                         0                            0   \n",
       "1                                         0                            0   \n",
       "2                                         0                            0   \n",
       "3                                         0                            0   \n",
       "4                                         0                            0   \n",
       "...                                     ...                          ...   \n",
       "10056                                     0                            0   \n",
       "10057                                     0                            0   \n",
       "10058                                     0                            0   \n",
       "10059                                     0                            0   \n",
       "10060                                     0                            0   \n",
       "\n",
       "       Client Category_Energy  ...  Location_L12  Location_L2  Location_L3  \\\n",
       "0                           0  ...             0            0            0   \n",
       "1                           0  ...             0            0            0   \n",
       "2                           0  ...             0            0            0   \n",
       "3                           0  ...             0            0            0   \n",
       "4                           0  ...             0            0            0   \n",
       "...                       ...  ...           ...          ...          ...   \n",
       "10056                       0  ...             0            0            0   \n",
       "10057                       0  ...             0            0            0   \n",
       "10058                       0  ...             0            0            0   \n",
       "10059                       0  ...             0            0            0   \n",
       "10060                       0  ...             0            0            0   \n",
       "\n",
       "       Location_L4  Location_L5  Location_L6  Location_L7  Location_L8  \\\n",
       "0                0            1            0            0            0   \n",
       "1                0            1            0            0            0   \n",
       "2                0            0            0            0            0   \n",
       "3                0            0            0            0            0   \n",
       "4                0            0            0            0            0   \n",
       "...            ...          ...          ...          ...          ...   \n",
       "10056            0            1            0            0            0   \n",
       "10057            0            0            0            0            0   \n",
       "10058            0            1            0            0            0   \n",
       "10059            0            1            0            0            0   \n",
       "10060            0            0            0            0            0   \n",
       "\n",
       "       Location_L9  Location_Others  \n",
       "0                0                0  \n",
       "1                0                0  \n",
       "2                0                1  \n",
       "3                0                1  \n",
       "4                0                1  \n",
       "...            ...              ...  \n",
       "10056            0                0  \n",
       "10057            0                1  \n",
       "10058            0                0  \n",
       "10059            0                0  \n",
       "10060            0                0  \n",
       "\n",
       "[10061 rows x 144 columns]"
      ]
     },
     "execution_count": 22,
     "metadata": {},
     "output_type": "execute_result"
    }
   ],
   "source": [
    "win_dummy"
   ]
  },
  {
   "cell_type": "code",
   "execution_count": 25,
   "metadata": {},
   "outputs": [],
   "source": [
    "#Splitting the dataset\n",
    "\n",
    "X_train, X_test, y_train, y_test = train_test_split(win_dummy, y, test_size=0.33, random_state=100)"
   ]
  },
  {
   "cell_type": "markdown",
   "metadata": {},
   "source": [
    "## Feature Selection \n",
    "\n",
    "### Mutual Information Gain"
   ]
  },
  {
   "cell_type": "code",
   "execution_count": 28,
   "metadata": {},
   "outputs": [
    {
     "data": {
      "text/plain": [
       "array([2.68328147e-02, 8.46529303e-02, 9.26158466e-03, 0.00000000e+00,\n",
       "       6.65814974e-04, 7.13461510e-03, 8.24975433e-03, 0.00000000e+00,\n",
       "       1.01342253e-02, 0.00000000e+00, 4.06895297e-03, 0.00000000e+00,\n",
       "       4.34632479e-03, 7.43393878e-03, 0.00000000e+00, 5.01227353e-04,\n",
       "       0.00000000e+00, 0.00000000e+00, 1.06157224e-03, 0.00000000e+00,\n",
       "       1.30766227e-02, 0.00000000e+00, 1.05063041e-03, 3.69544224e-03,\n",
       "       0.00000000e+00, 0.00000000e+00, 0.00000000e+00, 0.00000000e+00,\n",
       "       0.00000000e+00, 3.98357989e-03, 0.00000000e+00, 4.41804582e-03,\n",
       "       0.00000000e+00, 0.00000000e+00, 0.00000000e+00, 8.61720121e-03,\n",
       "       2.81234283e-03, 2.80783157e-03, 0.00000000e+00, 0.00000000e+00,\n",
       "       2.76597502e-04, 1.68943233e-03, 0.00000000e+00, 1.80073710e-03,\n",
       "       0.00000000e+00, 0.00000000e+00, 6.25680233e-03, 0.00000000e+00,\n",
       "       9.17187768e-04, 1.18453423e-02, 0.00000000e+00, 6.42093668e-03,\n",
       "       8.45840960e-03, 0.00000000e+00, 0.00000000e+00, 3.02543432e-03,\n",
       "       0.00000000e+00, 1.49926634e-03, 0.00000000e+00, 1.58594382e-03,\n",
       "       0.00000000e+00, 1.87409303e-03, 0.00000000e+00, 0.00000000e+00,\n",
       "       7.76148733e-03, 0.00000000e+00, 5.87052349e-03, 5.35179052e-03,\n",
       "       0.00000000e+00, 0.00000000e+00, 0.00000000e+00, 0.00000000e+00,\n",
       "       4.45035472e-03, 0.00000000e+00, 1.79900477e-03, 3.28279270e-03,\n",
       "       1.69202563e-03, 0.00000000e+00, 0.00000000e+00, 0.00000000e+00,\n",
       "       7.22765652e-03, 5.20968059e-03, 0.00000000e+00, 5.59217588e-03,\n",
       "       0.00000000e+00, 0.00000000e+00, 3.25184955e-03, 0.00000000e+00,\n",
       "       0.00000000e+00, 0.00000000e+00, 7.39357935e-03, 0.00000000e+00,\n",
       "       3.26802385e-03, 2.25453919e-03, 4.44509107e-03, 0.00000000e+00,\n",
       "       0.00000000e+00, 0.00000000e+00, 7.34432215e-03, 1.53304107e-03,\n",
       "       4.79813337e-03, 0.00000000e+00, 0.00000000e+00, 0.00000000e+00,\n",
       "       0.00000000e+00, 0.00000000e+00, 0.00000000e+00, 0.00000000e+00,\n",
       "       1.15168374e-02, 0.00000000e+00, 0.00000000e+00, 0.00000000e+00,\n",
       "       0.00000000e+00, 0.00000000e+00, 8.27917527e-03, 0.00000000e+00,\n",
       "       0.00000000e+00, 0.00000000e+00, 0.00000000e+00, 1.86953853e-02,\n",
       "       1.39489155e-03, 0.00000000e+00, 0.00000000e+00, 7.14045153e-03,\n",
       "       6.85876746e-03, 8.16913432e-05, 3.75045309e-03, 0.00000000e+00,\n",
       "       0.00000000e+00, 0.00000000e+00, 1.12738603e-02, 0.00000000e+00,\n",
       "       0.00000000e+00, 3.70289919e-03, 0.00000000e+00, 0.00000000e+00,\n",
       "       8.44125324e-04, 0.00000000e+00, 1.27380268e-04, 0.00000000e+00,\n",
       "       1.76952158e-03, 6.45022116e-03, 9.87118488e-03, 1.88482979e-03])"
      ]
     },
     "execution_count": 28,
     "metadata": {},
     "output_type": "execute_result"
    }
   ],
   "source": [
    "from sklearn.feature_selection import mutual_info_classif\n",
    "# determine the mutual information\n",
    "mutual_info = mutual_info_classif(X_train, y_train)\n",
    "mutual_info"
   ]
  },
  {
   "cell_type": "code",
   "execution_count": 29,
   "metadata": {},
   "outputs": [
    {
     "data": {
      "text/plain": [
       "Deal_Cost                             0.084653\n",
       "VP Name                               0.026833\n",
       "Sector_Sector 20                      0.018695\n",
       "Client Category_Internal              0.013077\n",
       "Solution Type_Solution 17             0.011845\n",
       "                                        ...   \n",
       "Client Category_International Bank    0.000000\n",
       "Solution Type_Solution 44             0.000000\n",
       "Solution Type_Solution 43             0.000000\n",
       "Solution Type_Solution 42             0.000000\n",
       "Solution Type_Solution 51             0.000000\n",
       "Length: 144, dtype: float64"
      ]
     },
     "execution_count": 29,
     "metadata": {},
     "output_type": "execute_result"
    }
   ],
   "source": [
    "mutual_info = pd.Series(mutual_info)\n",
    "mutual_info.index = X_train.columns\n",
    "mutual_info.sort_values(ascending=False)"
   ]
  },
  {
   "cell_type": "markdown",
   "metadata": {},
   "source": [
    "## Selecting Top 20 features"
   ]
  },
  {
   "cell_type": "code",
   "execution_count": 30,
   "metadata": {},
   "outputs": [],
   "source": [
    "from sklearn.feature_selection import SelectKBest"
   ]
  },
  {
   "cell_type": "code",
   "execution_count": 31,
   "metadata": {},
   "outputs": [
    {
     "data": {
      "text/plain": [
       "Index(['VP Name', 'Deal_Cost', 'Client Category_Energy',\n",
       "       'Client Category_Internal', 'Client Category_Media_Journal',\n",
       "       'Client Category_Pharma', 'Client Category_Tax_audit',\n",
       "       'Client Category_Telecom', 'Solution Type_Solution 12',\n",
       "       'Solution Type_Solution 2', 'Solution Type_Solution 30',\n",
       "       'Solution Type_Solution 32', 'Solution Type_Solution 33',\n",
       "       'Solution Type_Solution 35', 'Solution Type_Solution 49',\n",
       "       'Solution Type_Solution 63', 'Solution Type_Solution 8',\n",
       "       'Sector_Sector 10', 'Sector_Sector 2', 'Location_L8'],\n",
       "      dtype='object')"
      ]
     },
     "execution_count": 31,
     "metadata": {},
     "output_type": "execute_result"
    }
   ],
   "source": [
    "#Now we Will select the  top 5 important features\n",
    "sel_five_cols = SelectKBest(mutual_info_classif, k=20)\n",
    "sel_five_cols.fit(X_train, y_train)\n",
    "X_train.columns[sel_five_cols.get_support()]"
   ]
  },
  {
   "cell_type": "code",
   "execution_count": 38,
   "metadata": {},
   "outputs": [],
   "source": [
    "top_20 = win_dummy[['VP Name', 'Deal_Cost', 'Client Category_Energy',\n",
    "       'Client Category_Internal', 'Client Category_Media_Journal',\n",
    "       'Client Category_Pharma', 'Client Category_Tax_audit',\n",
    "       'Client Category_Telecom', 'Solution Type_Solution 12',\n",
    "       'Solution Type_Solution 2', 'Solution Type_Solution 30',\n",
    "       'Solution Type_Solution 32', 'Solution Type_Solution 33',\n",
    "       'Solution Type_Solution 35', 'Solution Type_Solution 49',\n",
    "       'Solution Type_Solution 63', 'Solution Type_Solution 8',\n",
    "       'Sector_Sector 10', 'Sector_Sector 2', 'Location_L8']]"
   ]
  },
  {
   "cell_type": "code",
   "execution_count": 39,
   "metadata": {},
   "outputs": [
    {
     "data": {
      "text/html": [
       "<div>\n",
       "<style scoped>\n",
       "    .dataframe tbody tr th:only-of-type {\n",
       "        vertical-align: middle;\n",
       "    }\n",
       "\n",
       "    .dataframe tbody tr th {\n",
       "        vertical-align: top;\n",
       "    }\n",
       "\n",
       "    .dataframe thead th {\n",
       "        text-align: right;\n",
       "    }\n",
       "</style>\n",
       "<table border=\"1\" class=\"dataframe\">\n",
       "  <thead>\n",
       "    <tr style=\"text-align: right;\">\n",
       "      <th></th>\n",
       "      <th>VP Name</th>\n",
       "      <th>Deal_Cost</th>\n",
       "      <th>Client Category_Energy</th>\n",
       "      <th>Client Category_Internal</th>\n",
       "      <th>Client Category_Media_Journal</th>\n",
       "      <th>Client Category_Pharma</th>\n",
       "      <th>Client Category_Tax_audit</th>\n",
       "      <th>Client Category_Telecom</th>\n",
       "      <th>Solution Type_Solution 12</th>\n",
       "      <th>Solution Type_Solution 2</th>\n",
       "      <th>Solution Type_Solution 30</th>\n",
       "      <th>Solution Type_Solution 32</th>\n",
       "      <th>Solution Type_Solution 33</th>\n",
       "      <th>Solution Type_Solution 35</th>\n",
       "      <th>Solution Type_Solution 49</th>\n",
       "      <th>Solution Type_Solution 63</th>\n",
       "      <th>Solution Type_Solution 8</th>\n",
       "      <th>Sector_Sector 10</th>\n",
       "      <th>Sector_Sector 2</th>\n",
       "      <th>Location_L8</th>\n",
       "    </tr>\n",
       "  </thead>\n",
       "  <tbody>\n",
       "    <tr>\n",
       "      <th>0</th>\n",
       "      <td>42</td>\n",
       "      <td>150000.00</td>\n",
       "      <td>0</td>\n",
       "      <td>0</td>\n",
       "      <td>0</td>\n",
       "      <td>0</td>\n",
       "      <td>0</td>\n",
       "      <td>1</td>\n",
       "      <td>0</td>\n",
       "      <td>0</td>\n",
       "      <td>0</td>\n",
       "      <td>0</td>\n",
       "      <td>0</td>\n",
       "      <td>0</td>\n",
       "      <td>0</td>\n",
       "      <td>0</td>\n",
       "      <td>0</td>\n",
       "      <td>0</td>\n",
       "      <td>0</td>\n",
       "      <td>0</td>\n",
       "    </tr>\n",
       "    <tr>\n",
       "      <th>1</th>\n",
       "      <td>42</td>\n",
       "      <td>744705.88</td>\n",
       "      <td>0</td>\n",
       "      <td>0</td>\n",
       "      <td>0</td>\n",
       "      <td>0</td>\n",
       "      <td>0</td>\n",
       "      <td>1</td>\n",
       "      <td>0</td>\n",
       "      <td>0</td>\n",
       "      <td>0</td>\n",
       "      <td>0</td>\n",
       "      <td>0</td>\n",
       "      <td>0</td>\n",
       "      <td>0</td>\n",
       "      <td>0</td>\n",
       "      <td>0</td>\n",
       "      <td>0</td>\n",
       "      <td>0</td>\n",
       "      <td>0</td>\n",
       "    </tr>\n",
       "    <tr>\n",
       "      <th>2</th>\n",
       "      <td>42</td>\n",
       "      <td>60000.00</td>\n",
       "      <td>0</td>\n",
       "      <td>1</td>\n",
       "      <td>0</td>\n",
       "      <td>0</td>\n",
       "      <td>0</td>\n",
       "      <td>0</td>\n",
       "      <td>0</td>\n",
       "      <td>0</td>\n",
       "      <td>0</td>\n",
       "      <td>0</td>\n",
       "      <td>0</td>\n",
       "      <td>0</td>\n",
       "      <td>0</td>\n",
       "      <td>0</td>\n",
       "      <td>0</td>\n",
       "      <td>0</td>\n",
       "      <td>0</td>\n",
       "      <td>0</td>\n",
       "    </tr>\n",
       "    <tr>\n",
       "      <th>3</th>\n",
       "      <td>42</td>\n",
       "      <td>60000.00</td>\n",
       "      <td>0</td>\n",
       "      <td>1</td>\n",
       "      <td>0</td>\n",
       "      <td>0</td>\n",
       "      <td>0</td>\n",
       "      <td>0</td>\n",
       "      <td>0</td>\n",
       "      <td>0</td>\n",
       "      <td>0</td>\n",
       "      <td>0</td>\n",
       "      <td>0</td>\n",
       "      <td>0</td>\n",
       "      <td>0</td>\n",
       "      <td>0</td>\n",
       "      <td>0</td>\n",
       "      <td>0</td>\n",
       "      <td>0</td>\n",
       "      <td>0</td>\n",
       "    </tr>\n",
       "    <tr>\n",
       "      <th>4</th>\n",
       "      <td>42</td>\n",
       "      <td>80882.35</td>\n",
       "      <td>0</td>\n",
       "      <td>1</td>\n",
       "      <td>0</td>\n",
       "      <td>0</td>\n",
       "      <td>0</td>\n",
       "      <td>0</td>\n",
       "      <td>0</td>\n",
       "      <td>0</td>\n",
       "      <td>0</td>\n",
       "      <td>1</td>\n",
       "      <td>0</td>\n",
       "      <td>0</td>\n",
       "      <td>0</td>\n",
       "      <td>0</td>\n",
       "      <td>0</td>\n",
       "      <td>0</td>\n",
       "      <td>0</td>\n",
       "      <td>0</td>\n",
       "    </tr>\n",
       "    <tr>\n",
       "      <th>...</th>\n",
       "      <td>...</td>\n",
       "      <td>...</td>\n",
       "      <td>...</td>\n",
       "      <td>...</td>\n",
       "      <td>...</td>\n",
       "      <td>...</td>\n",
       "      <td>...</td>\n",
       "      <td>...</td>\n",
       "      <td>...</td>\n",
       "      <td>...</td>\n",
       "      <td>...</td>\n",
       "      <td>...</td>\n",
       "      <td>...</td>\n",
       "      <td>...</td>\n",
       "      <td>...</td>\n",
       "      <td>...</td>\n",
       "      <td>...</td>\n",
       "      <td>...</td>\n",
       "      <td>...</td>\n",
       "      <td>...</td>\n",
       "    </tr>\n",
       "    <tr>\n",
       "      <th>10056</th>\n",
       "      <td>25</td>\n",
       "      <td>588235.29</td>\n",
       "      <td>0</td>\n",
       "      <td>0</td>\n",
       "      <td>0</td>\n",
       "      <td>0</td>\n",
       "      <td>0</td>\n",
       "      <td>0</td>\n",
       "      <td>0</td>\n",
       "      <td>0</td>\n",
       "      <td>0</td>\n",
       "      <td>0</td>\n",
       "      <td>0</td>\n",
       "      <td>0</td>\n",
       "      <td>0</td>\n",
       "      <td>0</td>\n",
       "      <td>0</td>\n",
       "      <td>0</td>\n",
       "      <td>0</td>\n",
       "      <td>0</td>\n",
       "    </tr>\n",
       "    <tr>\n",
       "      <th>10057</th>\n",
       "      <td>25</td>\n",
       "      <td>777058.82</td>\n",
       "      <td>0</td>\n",
       "      <td>1</td>\n",
       "      <td>0</td>\n",
       "      <td>0</td>\n",
       "      <td>0</td>\n",
       "      <td>0</td>\n",
       "      <td>0</td>\n",
       "      <td>0</td>\n",
       "      <td>0</td>\n",
       "      <td>0</td>\n",
       "      <td>0</td>\n",
       "      <td>0</td>\n",
       "      <td>0</td>\n",
       "      <td>0</td>\n",
       "      <td>0</td>\n",
       "      <td>0</td>\n",
       "      <td>0</td>\n",
       "      <td>0</td>\n",
       "    </tr>\n",
       "    <tr>\n",
       "      <th>10058</th>\n",
       "      <td>25</td>\n",
       "      <td>588235.29</td>\n",
       "      <td>0</td>\n",
       "      <td>0</td>\n",
       "      <td>0</td>\n",
       "      <td>0</td>\n",
       "      <td>0</td>\n",
       "      <td>0</td>\n",
       "      <td>0</td>\n",
       "      <td>0</td>\n",
       "      <td>0</td>\n",
       "      <td>0</td>\n",
       "      <td>0</td>\n",
       "      <td>0</td>\n",
       "      <td>0</td>\n",
       "      <td>0</td>\n",
       "      <td>0</td>\n",
       "      <td>0</td>\n",
       "      <td>0</td>\n",
       "      <td>0</td>\n",
       "    </tr>\n",
       "    <tr>\n",
       "      <th>10059</th>\n",
       "      <td>34</td>\n",
       "      <td>3042058.82</td>\n",
       "      <td>0</td>\n",
       "      <td>0</td>\n",
       "      <td>0</td>\n",
       "      <td>0</td>\n",
       "      <td>0</td>\n",
       "      <td>0</td>\n",
       "      <td>0</td>\n",
       "      <td>0</td>\n",
       "      <td>0</td>\n",
       "      <td>0</td>\n",
       "      <td>0</td>\n",
       "      <td>0</td>\n",
       "      <td>0</td>\n",
       "      <td>0</td>\n",
       "      <td>0</td>\n",
       "      <td>0</td>\n",
       "      <td>0</td>\n",
       "      <td>0</td>\n",
       "    </tr>\n",
       "    <tr>\n",
       "      <th>10060</th>\n",
       "      <td>10</td>\n",
       "      <td>147058.82</td>\n",
       "      <td>0</td>\n",
       "      <td>0</td>\n",
       "      <td>0</td>\n",
       "      <td>0</td>\n",
       "      <td>0</td>\n",
       "      <td>0</td>\n",
       "      <td>0</td>\n",
       "      <td>0</td>\n",
       "      <td>0</td>\n",
       "      <td>0</td>\n",
       "      <td>0</td>\n",
       "      <td>0</td>\n",
       "      <td>0</td>\n",
       "      <td>0</td>\n",
       "      <td>0</td>\n",
       "      <td>0</td>\n",
       "      <td>0</td>\n",
       "      <td>0</td>\n",
       "    </tr>\n",
       "  </tbody>\n",
       "</table>\n",
       "<p>10061 rows × 20 columns</p>\n",
       "</div>"
      ],
      "text/plain": [
       "       VP Name   Deal_Cost  Client Category_Energy  Client Category_Internal  \\\n",
       "0           42   150000.00                       0                         0   \n",
       "1           42   744705.88                       0                         0   \n",
       "2           42    60000.00                       0                         1   \n",
       "3           42    60000.00                       0                         1   \n",
       "4           42    80882.35                       0                         1   \n",
       "...        ...         ...                     ...                       ...   \n",
       "10056       25   588235.29                       0                         0   \n",
       "10057       25   777058.82                       0                         1   \n",
       "10058       25   588235.29                       0                         0   \n",
       "10059       34  3042058.82                       0                         0   \n",
       "10060       10   147058.82                       0                         0   \n",
       "\n",
       "       Client Category_Media_Journal  Client Category_Pharma  \\\n",
       "0                                  0                       0   \n",
       "1                                  0                       0   \n",
       "2                                  0                       0   \n",
       "3                                  0                       0   \n",
       "4                                  0                       0   \n",
       "...                              ...                     ...   \n",
       "10056                              0                       0   \n",
       "10057                              0                       0   \n",
       "10058                              0                       0   \n",
       "10059                              0                       0   \n",
       "10060                              0                       0   \n",
       "\n",
       "       Client Category_Tax_audit  Client Category_Telecom  \\\n",
       "0                              0                        1   \n",
       "1                              0                        1   \n",
       "2                              0                        0   \n",
       "3                              0                        0   \n",
       "4                              0                        0   \n",
       "...                          ...                      ...   \n",
       "10056                          0                        0   \n",
       "10057                          0                        0   \n",
       "10058                          0                        0   \n",
       "10059                          0                        0   \n",
       "10060                          0                        0   \n",
       "\n",
       "       Solution Type_Solution 12  Solution Type_Solution 2  \\\n",
       "0                              0                         0   \n",
       "1                              0                         0   \n",
       "2                              0                         0   \n",
       "3                              0                         0   \n",
       "4                              0                         0   \n",
       "...                          ...                       ...   \n",
       "10056                          0                         0   \n",
       "10057                          0                         0   \n",
       "10058                          0                         0   \n",
       "10059                          0                         0   \n",
       "10060                          0                         0   \n",
       "\n",
       "       Solution Type_Solution 30  Solution Type_Solution 32  \\\n",
       "0                              0                          0   \n",
       "1                              0                          0   \n",
       "2                              0                          0   \n",
       "3                              0                          0   \n",
       "4                              0                          1   \n",
       "...                          ...                        ...   \n",
       "10056                          0                          0   \n",
       "10057                          0                          0   \n",
       "10058                          0                          0   \n",
       "10059                          0                          0   \n",
       "10060                          0                          0   \n",
       "\n",
       "       Solution Type_Solution 33  Solution Type_Solution 35  \\\n",
       "0                              0                          0   \n",
       "1                              0                          0   \n",
       "2                              0                          0   \n",
       "3                              0                          0   \n",
       "4                              0                          0   \n",
       "...                          ...                        ...   \n",
       "10056                          0                          0   \n",
       "10057                          0                          0   \n",
       "10058                          0                          0   \n",
       "10059                          0                          0   \n",
       "10060                          0                          0   \n",
       "\n",
       "       Solution Type_Solution 49  Solution Type_Solution 63  \\\n",
       "0                              0                          0   \n",
       "1                              0                          0   \n",
       "2                              0                          0   \n",
       "3                              0                          0   \n",
       "4                              0                          0   \n",
       "...                          ...                        ...   \n",
       "10056                          0                          0   \n",
       "10057                          0                          0   \n",
       "10058                          0                          0   \n",
       "10059                          0                          0   \n",
       "10060                          0                          0   \n",
       "\n",
       "       Solution Type_Solution 8  Sector_Sector 10  Sector_Sector 2  \\\n",
       "0                             0                 0                0   \n",
       "1                             0                 0                0   \n",
       "2                             0                 0                0   \n",
       "3                             0                 0                0   \n",
       "4                             0                 0                0   \n",
       "...                         ...               ...              ...   \n",
       "10056                         0                 0                0   \n",
       "10057                         0                 0                0   \n",
       "10058                         0                 0                0   \n",
       "10059                         0                 0                0   \n",
       "10060                         0                 0                0   \n",
       "\n",
       "       Location_L8  \n",
       "0                0  \n",
       "1                0  \n",
       "2                0  \n",
       "3                0  \n",
       "4                0  \n",
       "...            ...  \n",
       "10056            0  \n",
       "10057            0  \n",
       "10058            0  \n",
       "10059            0  \n",
       "10060            0  \n",
       "\n",
       "[10061 rows x 20 columns]"
      ]
     },
     "execution_count": 39,
     "metadata": {},
     "output_type": "execute_result"
    }
   ],
   "source": [
    "top_20"
   ]
  },
  {
   "cell_type": "code",
   "execution_count": 40,
   "metadata": {},
   "outputs": [],
   "source": [
    "X_train, X_test, y_train, y_test = train_test_split(top_20, y, test_size=0.33, random_state=100)"
   ]
  },
  {
   "cell_type": "code",
   "execution_count": 42,
   "metadata": {},
   "outputs": [
    {
     "data": {
      "text/html": [
       "<div>\n",
       "<style scoped>\n",
       "    .dataframe tbody tr th:only-of-type {\n",
       "        vertical-align: middle;\n",
       "    }\n",
       "\n",
       "    .dataframe tbody tr th {\n",
       "        vertical-align: top;\n",
       "    }\n",
       "\n",
       "    .dataframe thead th {\n",
       "        text-align: right;\n",
       "    }\n",
       "</style>\n",
       "<table border=\"1\" class=\"dataframe\">\n",
       "  <thead>\n",
       "    <tr style=\"text-align: right;\">\n",
       "      <th></th>\n",
       "      <th>VP Name</th>\n",
       "      <th>Deal_Cost</th>\n",
       "      <th>Client Category_Energy</th>\n",
       "      <th>Client Category_Internal</th>\n",
       "      <th>Client Category_Media_Journal</th>\n",
       "      <th>Client Category_Pharma</th>\n",
       "      <th>Client Category_Tax_audit</th>\n",
       "      <th>Client Category_Telecom</th>\n",
       "      <th>Solution Type_Solution 12</th>\n",
       "      <th>Solution Type_Solution 2</th>\n",
       "      <th>Solution Type_Solution 30</th>\n",
       "      <th>Solution Type_Solution 32</th>\n",
       "      <th>Solution Type_Solution 33</th>\n",
       "      <th>Solution Type_Solution 35</th>\n",
       "      <th>Solution Type_Solution 49</th>\n",
       "      <th>Solution Type_Solution 63</th>\n",
       "      <th>Solution Type_Solution 8</th>\n",
       "      <th>Sector_Sector 10</th>\n",
       "      <th>Sector_Sector 2</th>\n",
       "      <th>Location_L8</th>\n",
       "    </tr>\n",
       "  </thead>\n",
       "  <tbody>\n",
       "    <tr>\n",
       "      <th>6273</th>\n",
       "      <td>35</td>\n",
       "      <td>1705882.35</td>\n",
       "      <td>0</td>\n",
       "      <td>0</td>\n",
       "      <td>0</td>\n",
       "      <td>0</td>\n",
       "      <td>0</td>\n",
       "      <td>0</td>\n",
       "      <td>0</td>\n",
       "      <td>0</td>\n",
       "      <td>0</td>\n",
       "      <td>1</td>\n",
       "      <td>0</td>\n",
       "      <td>0</td>\n",
       "      <td>0</td>\n",
       "      <td>0</td>\n",
       "      <td>0</td>\n",
       "      <td>0</td>\n",
       "      <td>0</td>\n",
       "      <td>0</td>\n",
       "    </tr>\n",
       "    <tr>\n",
       "      <th>5315</th>\n",
       "      <td>16</td>\n",
       "      <td>176470.59</td>\n",
       "      <td>0</td>\n",
       "      <td>1</td>\n",
       "      <td>0</td>\n",
       "      <td>0</td>\n",
       "      <td>0</td>\n",
       "      <td>0</td>\n",
       "      <td>0</td>\n",
       "      <td>0</td>\n",
       "      <td>0</td>\n",
       "      <td>0</td>\n",
       "      <td>0</td>\n",
       "      <td>0</td>\n",
       "      <td>0</td>\n",
       "      <td>0</td>\n",
       "      <td>0</td>\n",
       "      <td>0</td>\n",
       "      <td>0</td>\n",
       "      <td>0</td>\n",
       "    </tr>\n",
       "    <tr>\n",
       "      <th>585</th>\n",
       "      <td>42</td>\n",
       "      <td>235294.12</td>\n",
       "      <td>0</td>\n",
       "      <td>0</td>\n",
       "      <td>0</td>\n",
       "      <td>0</td>\n",
       "      <td>0</td>\n",
       "      <td>0</td>\n",
       "      <td>0</td>\n",
       "      <td>0</td>\n",
       "      <td>0</td>\n",
       "      <td>1</td>\n",
       "      <td>0</td>\n",
       "      <td>0</td>\n",
       "      <td>0</td>\n",
       "      <td>0</td>\n",
       "      <td>0</td>\n",
       "      <td>0</td>\n",
       "      <td>0</td>\n",
       "      <td>0</td>\n",
       "    </tr>\n",
       "    <tr>\n",
       "      <th>322</th>\n",
       "      <td>12</td>\n",
       "      <td>264705.88</td>\n",
       "      <td>0</td>\n",
       "      <td>0</td>\n",
       "      <td>0</td>\n",
       "      <td>0</td>\n",
       "      <td>0</td>\n",
       "      <td>0</td>\n",
       "      <td>0</td>\n",
       "      <td>0</td>\n",
       "      <td>0</td>\n",
       "      <td>0</td>\n",
       "      <td>0</td>\n",
       "      <td>0</td>\n",
       "      <td>0</td>\n",
       "      <td>0</td>\n",
       "      <td>0</td>\n",
       "      <td>0</td>\n",
       "      <td>1</td>\n",
       "      <td>0</td>\n",
       "    </tr>\n",
       "    <tr>\n",
       "      <th>2716</th>\n",
       "      <td>12</td>\n",
       "      <td>735294.12</td>\n",
       "      <td>0</td>\n",
       "      <td>0</td>\n",
       "      <td>0</td>\n",
       "      <td>0</td>\n",
       "      <td>0</td>\n",
       "      <td>0</td>\n",
       "      <td>0</td>\n",
       "      <td>0</td>\n",
       "      <td>0</td>\n",
       "      <td>0</td>\n",
       "      <td>0</td>\n",
       "      <td>0</td>\n",
       "      <td>0</td>\n",
       "      <td>0</td>\n",
       "      <td>0</td>\n",
       "      <td>0</td>\n",
       "      <td>1</td>\n",
       "      <td>0</td>\n",
       "    </tr>\n",
       "    <tr>\n",
       "      <th>...</th>\n",
       "      <td>...</td>\n",
       "      <td>...</td>\n",
       "      <td>...</td>\n",
       "      <td>...</td>\n",
       "      <td>...</td>\n",
       "      <td>...</td>\n",
       "      <td>...</td>\n",
       "      <td>...</td>\n",
       "      <td>...</td>\n",
       "      <td>...</td>\n",
       "      <td>...</td>\n",
       "      <td>...</td>\n",
       "      <td>...</td>\n",
       "      <td>...</td>\n",
       "      <td>...</td>\n",
       "      <td>...</td>\n",
       "      <td>...</td>\n",
       "      <td>...</td>\n",
       "      <td>...</td>\n",
       "      <td>...</td>\n",
       "    </tr>\n",
       "    <tr>\n",
       "      <th>5809</th>\n",
       "      <td>13</td>\n",
       "      <td>1411764.71</td>\n",
       "      <td>0</td>\n",
       "      <td>0</td>\n",
       "      <td>0</td>\n",
       "      <td>0</td>\n",
       "      <td>0</td>\n",
       "      <td>0</td>\n",
       "      <td>0</td>\n",
       "      <td>0</td>\n",
       "      <td>0</td>\n",
       "      <td>0</td>\n",
       "      <td>0</td>\n",
       "      <td>0</td>\n",
       "      <td>0</td>\n",
       "      <td>0</td>\n",
       "      <td>0</td>\n",
       "      <td>0</td>\n",
       "      <td>0</td>\n",
       "      <td>0</td>\n",
       "    </tr>\n",
       "    <tr>\n",
       "      <th>8163</th>\n",
       "      <td>24</td>\n",
       "      <td>257352.94</td>\n",
       "      <td>0</td>\n",
       "      <td>0</td>\n",
       "      <td>0</td>\n",
       "      <td>0</td>\n",
       "      <td>0</td>\n",
       "      <td>0</td>\n",
       "      <td>0</td>\n",
       "      <td>0</td>\n",
       "      <td>0</td>\n",
       "      <td>0</td>\n",
       "      <td>0</td>\n",
       "      <td>0</td>\n",
       "      <td>0</td>\n",
       "      <td>0</td>\n",
       "      <td>0</td>\n",
       "      <td>0</td>\n",
       "      <td>0</td>\n",
       "      <td>0</td>\n",
       "    </tr>\n",
       "    <tr>\n",
       "      <th>1806</th>\n",
       "      <td>19</td>\n",
       "      <td>147058.82</td>\n",
       "      <td>0</td>\n",
       "      <td>0</td>\n",
       "      <td>0</td>\n",
       "      <td>0</td>\n",
       "      <td>0</td>\n",
       "      <td>0</td>\n",
       "      <td>0</td>\n",
       "      <td>0</td>\n",
       "      <td>0</td>\n",
       "      <td>0</td>\n",
       "      <td>0</td>\n",
       "      <td>0</td>\n",
       "      <td>0</td>\n",
       "      <td>0</td>\n",
       "      <td>0</td>\n",
       "      <td>0</td>\n",
       "      <td>0</td>\n",
       "      <td>0</td>\n",
       "    </tr>\n",
       "    <tr>\n",
       "      <th>7878</th>\n",
       "      <td>31</td>\n",
       "      <td>1547058.82</td>\n",
       "      <td>0</td>\n",
       "      <td>0</td>\n",
       "      <td>0</td>\n",
       "      <td>0</td>\n",
       "      <td>0</td>\n",
       "      <td>0</td>\n",
       "      <td>0</td>\n",
       "      <td>0</td>\n",
       "      <td>0</td>\n",
       "      <td>0</td>\n",
       "      <td>0</td>\n",
       "      <td>0</td>\n",
       "      <td>0</td>\n",
       "      <td>0</td>\n",
       "      <td>0</td>\n",
       "      <td>0</td>\n",
       "      <td>0</td>\n",
       "      <td>0</td>\n",
       "    </tr>\n",
       "    <tr>\n",
       "      <th>1781</th>\n",
       "      <td>26</td>\n",
       "      <td>558823.53</td>\n",
       "      <td>0</td>\n",
       "      <td>0</td>\n",
       "      <td>0</td>\n",
       "      <td>0</td>\n",
       "      <td>0</td>\n",
       "      <td>0</td>\n",
       "      <td>0</td>\n",
       "      <td>0</td>\n",
       "      <td>0</td>\n",
       "      <td>0</td>\n",
       "      <td>0</td>\n",
       "      <td>0</td>\n",
       "      <td>0</td>\n",
       "      <td>0</td>\n",
       "      <td>0</td>\n",
       "      <td>0</td>\n",
       "      <td>0</td>\n",
       "      <td>0</td>\n",
       "    </tr>\n",
       "  </tbody>\n",
       "</table>\n",
       "<p>3321 rows × 20 columns</p>\n",
       "</div>"
      ],
      "text/plain": [
       "      VP Name   Deal_Cost  Client Category_Energy  Client Category_Internal  \\\n",
       "6273       35  1705882.35                       0                         0   \n",
       "5315       16   176470.59                       0                         1   \n",
       "585        42   235294.12                       0                         0   \n",
       "322        12   264705.88                       0                         0   \n",
       "2716       12   735294.12                       0                         0   \n",
       "...       ...         ...                     ...                       ...   \n",
       "5809       13  1411764.71                       0                         0   \n",
       "8163       24   257352.94                       0                         0   \n",
       "1806       19   147058.82                       0                         0   \n",
       "7878       31  1547058.82                       0                         0   \n",
       "1781       26   558823.53                       0                         0   \n",
       "\n",
       "      Client Category_Media_Journal  Client Category_Pharma  \\\n",
       "6273                              0                       0   \n",
       "5315                              0                       0   \n",
       "585                               0                       0   \n",
       "322                               0                       0   \n",
       "2716                              0                       0   \n",
       "...                             ...                     ...   \n",
       "5809                              0                       0   \n",
       "8163                              0                       0   \n",
       "1806                              0                       0   \n",
       "7878                              0                       0   \n",
       "1781                              0                       0   \n",
       "\n",
       "      Client Category_Tax_audit  Client Category_Telecom  \\\n",
       "6273                          0                        0   \n",
       "5315                          0                        0   \n",
       "585                           0                        0   \n",
       "322                           0                        0   \n",
       "2716                          0                        0   \n",
       "...                         ...                      ...   \n",
       "5809                          0                        0   \n",
       "8163                          0                        0   \n",
       "1806                          0                        0   \n",
       "7878                          0                        0   \n",
       "1781                          0                        0   \n",
       "\n",
       "      Solution Type_Solution 12  Solution Type_Solution 2  \\\n",
       "6273                          0                         0   \n",
       "5315                          0                         0   \n",
       "585                           0                         0   \n",
       "322                           0                         0   \n",
       "2716                          0                         0   \n",
       "...                         ...                       ...   \n",
       "5809                          0                         0   \n",
       "8163                          0                         0   \n",
       "1806                          0                         0   \n",
       "7878                          0                         0   \n",
       "1781                          0                         0   \n",
       "\n",
       "      Solution Type_Solution 30  Solution Type_Solution 32  \\\n",
       "6273                          0                          1   \n",
       "5315                          0                          0   \n",
       "585                           0                          1   \n",
       "322                           0                          0   \n",
       "2716                          0                          0   \n",
       "...                         ...                        ...   \n",
       "5809                          0                          0   \n",
       "8163                          0                          0   \n",
       "1806                          0                          0   \n",
       "7878                          0                          0   \n",
       "1781                          0                          0   \n",
       "\n",
       "      Solution Type_Solution 33  Solution Type_Solution 35  \\\n",
       "6273                          0                          0   \n",
       "5315                          0                          0   \n",
       "585                           0                          0   \n",
       "322                           0                          0   \n",
       "2716                          0                          0   \n",
       "...                         ...                        ...   \n",
       "5809                          0                          0   \n",
       "8163                          0                          0   \n",
       "1806                          0                          0   \n",
       "7878                          0                          0   \n",
       "1781                          0                          0   \n",
       "\n",
       "      Solution Type_Solution 49  Solution Type_Solution 63  \\\n",
       "6273                          0                          0   \n",
       "5315                          0                          0   \n",
       "585                           0                          0   \n",
       "322                           0                          0   \n",
       "2716                          0                          0   \n",
       "...                         ...                        ...   \n",
       "5809                          0                          0   \n",
       "8163                          0                          0   \n",
       "1806                          0                          0   \n",
       "7878                          0                          0   \n",
       "1781                          0                          0   \n",
       "\n",
       "      Solution Type_Solution 8  Sector_Sector 10  Sector_Sector 2  Location_L8  \n",
       "6273                         0                 0                0            0  \n",
       "5315                         0                 0                0            0  \n",
       "585                          0                 0                0            0  \n",
       "322                          0                 0                1            0  \n",
       "2716                         0                 0                1            0  \n",
       "...                        ...               ...              ...          ...  \n",
       "5809                         0                 0                0            0  \n",
       "8163                         0                 0                0            0  \n",
       "1806                         0                 0                0            0  \n",
       "7878                         0                 0                0            0  \n",
       "1781                         0                 0                0            0  \n",
       "\n",
       "[3321 rows x 20 columns]"
      ]
     },
     "execution_count": 42,
     "metadata": {},
     "output_type": "execute_result"
    }
   ],
   "source": [
    "X_test"
   ]
  },
  {
   "cell_type": "markdown",
   "metadata": {},
   "source": [
    "# Model Creation With Top 20 Features"
   ]
  },
  {
   "cell_type": "markdown",
   "metadata": {},
   "source": [
    "## Xgboost Classifier"
   ]
  },
  {
   "cell_type": "code",
   "execution_count": 34,
   "metadata": {},
   "outputs": [],
   "source": [
    "from sklearn.model_selection import RandomizedSearchCV\n",
    "import xgboost"
   ]
  },
  {
   "cell_type": "code",
   "execution_count": 35,
   "metadata": {},
   "outputs": [],
   "source": [
    "classifier=xgboost.XGBClassifier()"
   ]
  },
  {
   "cell_type": "markdown",
   "metadata": {},
   "source": [
    "### Hyperparameter optimization using RandomizedSearchCV"
   ]
  },
  {
   "cell_type": "code",
   "execution_count": 36,
   "metadata": {},
   "outputs": [],
   "source": [
    "params={\n",
    " \"learning_rate\"    : [0.05, 0.10, 0.15, 0.20, 0.25, 0.30 ] ,\n",
    " \"max_depth\"        : [ 3, 4, 5, 6, 8, 10, 12, 15],\n",
    " \"min_child_weight\" : [ 1, 3, 5, 7 ],\n",
    " \"gamma\"            : [ 0.0, 0.1, 0.2 , 0.3, 0.4 ],\n",
    " \"colsample_bytree\" : [ 0.3, 0.4, 0.5 , 0.7 ]\n",
    "    \n",
    "}"
   ]
  },
  {
   "cell_type": "code",
   "execution_count": 37,
   "metadata": {},
   "outputs": [],
   "source": [
    "xg_randomcv = RandomizedSearchCV(classifier,param_distributions=params,n_iter=5,scoring='roc_auc',n_jobs=-1,cv=5,verbose=3)"
   ]
  },
  {
   "cell_type": "code",
   "execution_count": 43,
   "metadata": {},
   "outputs": [
    {
     "name": "stdout",
     "output_type": "stream",
     "text": [
      "Fitting 5 folds for each of 5 candidates, totalling 25 fits\n"
     ]
    },
    {
     "name": "stderr",
     "output_type": "stream",
     "text": [
      "[Parallel(n_jobs=-1)]: Using backend LokyBackend with 4 concurrent workers.\n",
      "[Parallel(n_jobs=-1)]: Done  25 out of  25 | elapsed:   27.5s finished\n",
      "C:\\Users\\USER\\Anaconda3\\envs\\DeepLearning\\lib\\site-packages\\xgboost\\sklearn.py:892: UserWarning: The use of label encoder in XGBClassifier is deprecated and will be removed in a future release. To remove this warning, do the following: 1) Pass option use_label_encoder=False when constructing XGBClassifier object; and 2) Encode your labels (y) as integers starting with 0, i.e. 0, 1, 2, ..., [num_class - 1].\n",
      "  warnings.warn(label_encoder_deprecation_msg, UserWarning)\n"
     ]
    },
    {
     "name": "stdout",
     "output_type": "stream",
     "text": [
      "[13:04:28] WARNING: C:/Users/Administrator/workspace/xgboost-win64_release_1.3.0/src/learner.cc:1061: Starting in XGBoost 1.3.0, the default evaluation metric used with the objective 'binary:logistic' was changed from 'error' to 'logloss'. Explicitly set eval_metric if you'd like to restore the old behavior.\n"
     ]
    },
    {
     "data": {
      "text/plain": [
       "RandomizedSearchCV(cv=5,\n",
       "                   estimator=XGBClassifier(base_score=None, booster=None,\n",
       "                                           colsample_bylevel=None,\n",
       "                                           colsample_bynode=None,\n",
       "                                           colsample_bytree=None, gamma=None,\n",
       "                                           gpu_id=None, importance_type='gain',\n",
       "                                           interaction_constraints=None,\n",
       "                                           learning_rate=None,\n",
       "                                           max_delta_step=None, max_depth=None,\n",
       "                                           min_child_weight=None, missing=nan,\n",
       "                                           monotone_constraints=None,\n",
       "                                           n_estimators=100,...\n",
       "                                           reg_lambda=None,\n",
       "                                           scale_pos_weight=None,\n",
       "                                           subsample=None, tree_method=None,\n",
       "                                           validate_parameters=None,\n",
       "                                           verbosity=None),\n",
       "                   n_iter=5, n_jobs=-1,\n",
       "                   param_distributions={'colsample_bytree': [0.3, 0.4, 0.5,\n",
       "                                                             0.7],\n",
       "                                        'gamma': [0.0, 0.1, 0.2, 0.3, 0.4],\n",
       "                                        'learning_rate': [0.05, 0.1, 0.15, 0.2,\n",
       "                                                          0.25, 0.3],\n",
       "                                        'max_depth': [3, 4, 5, 6, 8, 10, 12,\n",
       "                                                      15],\n",
       "                                        'min_child_weight': [1, 3, 5, 7]},\n",
       "                   scoring='roc_auc', verbose=3)"
      ]
     },
     "execution_count": 43,
     "metadata": {},
     "output_type": "execute_result"
    }
   ],
   "source": [
    "xg_randomcv.fit(X_train,y_train)"
   ]
  },
  {
   "cell_type": "code",
   "execution_count": 44,
   "metadata": {},
   "outputs": [
    {
     "data": {
      "text/plain": [
       "{'min_child_weight': 1,\n",
       " 'max_depth': 12,\n",
       " 'learning_rate': 0.25,\n",
       " 'gamma': 0.4,\n",
       " 'colsample_bytree': 0.3}"
      ]
     },
     "execution_count": 44,
     "metadata": {},
     "output_type": "execute_result"
    }
   ],
   "source": [
    "#best parameters\n",
    "xg_randomcv.best_params_"
   ]
  },
  {
   "cell_type": "code",
   "execution_count": 45,
   "metadata": {},
   "outputs": [
    {
     "data": {
      "text/plain": [
       "XGBClassifier(base_score=0.5, booster='gbtree', colsample_bylevel=1,\n",
       "              colsample_bynode=1, colsample_bytree=0.3, gamma=0.4, gpu_id=-1,\n",
       "              importance_type='gain', interaction_constraints='',\n",
       "              learning_rate=0.25, max_delta_step=0, max_depth=12,\n",
       "              min_child_weight=1, missing=nan, monotone_constraints='()',\n",
       "              n_estimators=100, n_jobs=4, num_parallel_tree=1, random_state=0,\n",
       "              reg_alpha=0, reg_lambda=1, scale_pos_weight=1, subsample=1,\n",
       "              tree_method='exact', validate_parameters=1, verbosity=None)"
      ]
     },
     "execution_count": 45,
     "metadata": {},
     "output_type": "execute_result"
    }
   ],
   "source": [
    "#best estimator\n",
    "xg_randomcv.best_estimator_"
   ]
  },
  {
   "cell_type": "code",
   "execution_count": 46,
   "metadata": {},
   "outputs": [],
   "source": [
    "#best model from random search cv\n",
    "xg_model = xg_randomcv.best_estimator_"
   ]
  },
  {
   "cell_type": "code",
   "execution_count": 47,
   "metadata": {},
   "outputs": [],
   "source": [
    "#making prediction using validation data set\n",
    "xg_predictions = xg_model.predict(X_test)"
   ]
  },
  {
   "cell_type": "markdown",
   "metadata": {},
   "source": [
    "### Evaluation Metrics"
   ]
  },
  {
   "cell_type": "code",
   "execution_count": 51,
   "metadata": {},
   "outputs": [
    {
     "data": {
      "text/plain": [
       "0.8449554896142433"
      ]
     },
     "execution_count": 51,
     "metadata": {},
     "output_type": "execute_result"
    }
   ],
   "source": [
    "xg_model.score(X_train,y_train)"
   ]
  },
  {
   "cell_type": "code",
   "execution_count": 52,
   "metadata": {},
   "outputs": [
    {
     "data": {
      "text/plain": [
       "0.7353206865401988"
      ]
     },
     "execution_count": 52,
     "metadata": {},
     "output_type": "execute_result"
    }
   ],
   "source": [
    "xg_model.score(X_test,y_test)"
   ]
  },
  {
   "cell_type": "code",
   "execution_count": 49,
   "metadata": {},
   "outputs": [],
   "source": [
    "from sklearn.metrics import confusion_matrix\n",
    "from sklearn.metrics import accuracy_score\n",
    "from sklearn.metrics import classification_report"
   ]
  },
  {
   "cell_type": "code",
   "execution_count": 50,
   "metadata": {},
   "outputs": [
    {
     "name": "stdout",
     "output_type": "stream",
     "text": [
      "[[1798  613]\n",
      " [ 266  644]]\n",
      "0.7353206865401988\n",
      "              precision    recall  f1-score   support\n",
      "\n",
      "           0       0.87      0.75      0.80      2411\n",
      "           1       0.51      0.71      0.59       910\n",
      "\n",
      "    accuracy                           0.74      3321\n",
      "   macro avg       0.69      0.73      0.70      3321\n",
      "weighted avg       0.77      0.74      0.75      3321\n",
      "\n"
     ]
    }
   ],
   "source": [
    "print(confusion_matrix(xg_predictions,y_test))\n",
    "print(accuracy_score(xg_predictions,y_test))\n",
    "print(classification_report(xg_predictions,y_test))"
   ]
  },
  {
   "cell_type": "code",
   "execution_count": null,
   "metadata": {},
   "outputs": [],
   "source": []
  },
  {
   "cell_type": "markdown",
   "metadata": {},
   "source": [
    "## Model with Complete Features of 3rd Approach"
   ]
  },
  {
   "cell_type": "markdown",
   "metadata": {},
   "source": [
    "# Xgboost Classifier"
   ]
  },
  {
   "cell_type": "code",
   "execution_count": 171,
   "metadata": {},
   "outputs": [],
   "source": [
    "from sklearn.model_selection import RandomizedSearchCV\n",
    "import xgboost"
   ]
  },
  {
   "cell_type": "code",
   "execution_count": 172,
   "metadata": {},
   "outputs": [],
   "source": [
    "classifier=xgboost.XGBClassifier()"
   ]
  },
  {
   "cell_type": "markdown",
   "metadata": {},
   "source": [
    "## Hyperparameter optimization using RandomizedSearchCV"
   ]
  },
  {
   "cell_type": "code",
   "execution_count": 173,
   "metadata": {},
   "outputs": [],
   "source": [
    "params={\n",
    " \"learning_rate\"    : [0.05, 0.10, 0.15, 0.20, 0.25, 0.30 ] ,\n",
    " \"max_depth\"        : [ 3, 4, 5, 6, 8, 10, 12, 15],\n",
    " \"min_child_weight\" : [ 1, 3, 5, 7 ],\n",
    " \"gamma\"            : [ 0.0, 0.1, 0.2 , 0.3, 0.4 ],\n",
    " \"colsample_bytree\" : [ 0.3, 0.4, 0.5 , 0.7 ]\n",
    "    \n",
    "}"
   ]
  },
  {
   "cell_type": "code",
   "execution_count": 174,
   "metadata": {},
   "outputs": [],
   "source": [
    "xg_randomcv = RandomizedSearchCV(classifier,param_distributions=params,n_iter=5,scoring='roc_auc',n_jobs=-1,cv=5,verbose=3)"
   ]
  },
  {
   "cell_type": "code",
   "execution_count": 176,
   "metadata": {},
   "outputs": [
    {
     "name": "stdout",
     "output_type": "stream",
     "text": [
      "Fitting 5 folds for each of 5 candidates, totalling 25 fits\n"
     ]
    },
    {
     "name": "stderr",
     "output_type": "stream",
     "text": [
      "[Parallel(n_jobs=-1)]: Using backend LokyBackend with 4 concurrent workers.\n",
      "[Parallel(n_jobs=-1)]: Done  25 out of  25 | elapsed:  1.3min finished\n",
      "C:\\Users\\USER\\Anaconda3\\envs\\DeepLearning\\lib\\site-packages\\xgboost\\sklearn.py:892: UserWarning: The use of label encoder in XGBClassifier is deprecated and will be removed in a future release. To remove this warning, do the following: 1) Pass option use_label_encoder=False when constructing XGBClassifier object; and 2) Encode your labels (y) as integers starting with 0, i.e. 0, 1, 2, ..., [num_class - 1].\n",
      "  warnings.warn(label_encoder_deprecation_msg, UserWarning)\n"
     ]
    },
    {
     "name": "stdout",
     "output_type": "stream",
     "text": [
      "[15:11:42] WARNING: C:/Users/Administrator/workspace/xgboost-win64_release_1.3.0/src/learner.cc:1061: Starting in XGBoost 1.3.0, the default evaluation metric used with the objective 'binary:logistic' was changed from 'error' to 'logloss'. Explicitly set eval_metric if you'd like to restore the old behavior.\n"
     ]
    },
    {
     "data": {
      "text/plain": [
       "RandomizedSearchCV(cv=5,\n",
       "                   estimator=XGBClassifier(base_score=None, booster=None,\n",
       "                                           colsample_bylevel=None,\n",
       "                                           colsample_bynode=None,\n",
       "                                           colsample_bytree=None, gamma=None,\n",
       "                                           gpu_id=None, importance_type='gain',\n",
       "                                           interaction_constraints=None,\n",
       "                                           learning_rate=None,\n",
       "                                           max_delta_step=None, max_depth=None,\n",
       "                                           min_child_weight=None, missing=nan,\n",
       "                                           monotone_constraints=None,\n",
       "                                           n_estimators=100,...\n",
       "                                           reg_lambda=None,\n",
       "                                           scale_pos_weight=None,\n",
       "                                           subsample=None, tree_method=None,\n",
       "                                           validate_parameters=None,\n",
       "                                           verbosity=None),\n",
       "                   n_iter=5, n_jobs=-1,\n",
       "                   param_distributions={'colsample_bytree': [0.3, 0.4, 0.5,\n",
       "                                                             0.7],\n",
       "                                        'gamma': [0.0, 0.1, 0.2, 0.3, 0.4],\n",
       "                                        'learning_rate': [0.05, 0.1, 0.15, 0.2,\n",
       "                                                          0.25, 0.3],\n",
       "                                        'max_depth': [3, 4, 5, 6, 8, 10, 12,\n",
       "                                                      15],\n",
       "                                        'min_child_weight': [1, 3, 5, 7]},\n",
       "                   scoring='roc_auc', verbose=3)"
      ]
     },
     "execution_count": 176,
     "metadata": {},
     "output_type": "execute_result"
    }
   ],
   "source": [
    "xg_randomcv.fit(X_train,y_train)"
   ]
  },
  {
   "cell_type": "code",
   "execution_count": 177,
   "metadata": {},
   "outputs": [
    {
     "data": {
      "text/plain": [
       "{'min_child_weight': 1,\n",
       " 'max_depth': 15,\n",
       " 'learning_rate': 0.25,\n",
       " 'gamma': 0.1,\n",
       " 'colsample_bytree': 0.7}"
      ]
     },
     "execution_count": 177,
     "metadata": {},
     "output_type": "execute_result"
    }
   ],
   "source": [
    "#best parameters\n",
    "xg_randomcv.best_params_"
   ]
  },
  {
   "cell_type": "code",
   "execution_count": 178,
   "metadata": {},
   "outputs": [
    {
     "data": {
      "text/plain": [
       "XGBClassifier(base_score=0.5, booster='gbtree', colsample_bylevel=1,\n",
       "              colsample_bynode=1, colsample_bytree=0.7, gamma=0.1, gpu_id=-1,\n",
       "              importance_type='gain', interaction_constraints='',\n",
       "              learning_rate=0.25, max_delta_step=0, max_depth=15,\n",
       "              min_child_weight=1, missing=nan, monotone_constraints='()',\n",
       "              n_estimators=100, n_jobs=4, num_parallel_tree=1, random_state=0,\n",
       "              reg_alpha=0, reg_lambda=1, scale_pos_weight=1, subsample=1,\n",
       "              tree_method='exact', validate_parameters=1, verbosity=None)"
      ]
     },
     "execution_count": 178,
     "metadata": {},
     "output_type": "execute_result"
    }
   ],
   "source": [
    "#best estimator\n",
    "xg_randomcv.best_estimator_"
   ]
  },
  {
   "cell_type": "code",
   "execution_count": 179,
   "metadata": {},
   "outputs": [],
   "source": [
    "#best model from random search cv\n",
    "xg_model = xg_randomcv.best_estimator_"
   ]
  },
  {
   "cell_type": "code",
   "execution_count": 180,
   "metadata": {},
   "outputs": [],
   "source": [
    "#making prediction using validation data set\n",
    "xg_predictions = xg_model.predict(X_test)"
   ]
  },
  {
   "cell_type": "markdown",
   "metadata": {},
   "source": [
    "### Evaluation Metrics"
   ]
  },
  {
   "cell_type": "code",
   "execution_count": 181,
   "metadata": {},
   "outputs": [
    {
     "name": "stdout",
     "output_type": "stream",
     "text": [
      "[[1889  497]\n",
      " [ 175  760]]\n",
      "0.7976513098464318\n",
      "              precision    recall  f1-score   support\n",
      "\n",
      "           0       0.92      0.79      0.85      2386\n",
      "           1       0.60      0.81      0.69       935\n",
      "\n",
      "    accuracy                           0.80      3321\n",
      "   macro avg       0.76      0.80      0.77      3321\n",
      "weighted avg       0.83      0.80      0.81      3321\n",
      "\n"
     ]
    }
   ],
   "source": [
    "print(confusion_matrix(xg_predictions,y_test))\n",
    "print(accuracy_score(xg_predictions,y_test))\n",
    "print(classification_report(xg_predictions,y_test))"
   ]
  },
  {
   "cell_type": "markdown",
   "metadata": {},
   "source": [
    "## AdaBoost Classifier"
   ]
  },
  {
   "cell_type": "code",
   "execution_count": 204,
   "metadata": {},
   "outputs": [],
   "source": [
    "from sklearn.ensemble import AdaBoostClassifier\n",
    "clf = AdaBoostClassifier( base_estimator=None, n_estimators=1000,learning_rate=0.25,algorithm='SAMME.R',random_state=42)"
   ]
  },
  {
   "cell_type": "code",
   "execution_count": 205,
   "metadata": {},
   "outputs": [
    {
     "data": {
      "text/plain": [
       "AdaBoostClassifier(learning_rate=0.25, n_estimators=1000, random_state=42)"
      ]
     },
     "execution_count": 205,
     "metadata": {},
     "output_type": "execute_result"
    }
   ],
   "source": [
    "clf.fit(X_train,y_train)"
   ]
  },
  {
   "cell_type": "code",
   "execution_count": 206,
   "metadata": {},
   "outputs": [],
   "source": [
    "#mking prediction using validation data set\n",
    "ada_predictions = clf.predict(X_test)"
   ]
  },
  {
   "cell_type": "markdown",
   "metadata": {},
   "source": [
    "### Evaluation Metrics"
   ]
  },
  {
   "cell_type": "code",
   "execution_count": 207,
   "metadata": {},
   "outputs": [
    {
     "name": "stdout",
     "output_type": "stream",
     "text": [
      "[[1783  698]\n",
      " [ 281  559]]\n",
      "0.7052092743149654\n",
      "              precision    recall  f1-score   support\n",
      "\n",
      "           0       0.86      0.72      0.78      2481\n",
      "           1       0.44      0.67      0.53       840\n",
      "\n",
      "    accuracy                           0.71      3321\n",
      "   macro avg       0.65      0.69      0.66      3321\n",
      "weighted avg       0.76      0.71      0.72      3321\n",
      "\n"
     ]
    }
   ],
   "source": [
    "print(confusion_matrix(ada_predictions,y_test))\n",
    "print(accuracy_score(ada_predictions,y_test))\n",
    "print(classification_report(ada_predictions,y_test))"
   ]
  },
  {
   "cell_type": "markdown",
   "metadata": {},
   "source": [
    "##### These reults which i get from these 3 approaches are not satisfactory, in each model i have large number of False Negative cases.\n",
    "\n",
    "##### In further approach i will try to imporove the performance of models by applying different encoding techniques, I have to keep False Negative as low as possible."
   ]
  },
  {
   "cell_type": "code",
   "execution_count": null,
   "metadata": {},
   "outputs": [],
   "source": []
  }
 ],
 "metadata": {
  "kernelspec": {
   "display_name": "Python 3",
   "language": "python",
   "name": "python3"
  },
  "language_info": {
   "codemirror_mode": {
    "name": "ipython",
    "version": 3
   },
   "file_extension": ".py",
   "mimetype": "text/x-python",
   "name": "python",
   "nbconvert_exporter": "python",
   "pygments_lexer": "ipython3",
   "version": "3.7.9"
  }
 },
 "nbformat": 4,
 "nbformat_minor": 4
}
