{
 "cells": [
  {
   "cell_type": "markdown",
   "metadata": {},
   "source": [
    "# Loading Required Libraries"
   ]
  },
  {
   "cell_type": "code",
   "execution_count": 1,
   "metadata": {},
   "outputs": [],
   "source": [
    "import pandas as pd\n",
    "import numpy as np\n",
    "import seaborn as sns\n",
    "import matplotlib.pyplot as plt\n",
    "%matplotlib inline\n",
    "\n",
    "import warnings\n",
    "warnings.filterwarnings(\"ignore\")"
   ]
  },
  {
   "cell_type": "markdown",
   "metadata": {},
   "source": [
    "# Let's Check out the data set"
   ]
  },
  {
   "cell_type": "code",
   "execution_count": 61,
   "metadata": {},
   "outputs": [],
   "source": [
    "df = pd.read_csv(\"Win_Prediction_Data.csv\")"
   ]
  },
  {
   "cell_type": "code",
   "execution_count": 62,
   "metadata": {},
   "outputs": [
    {
     "data": {
      "text/html": [
       "<div>\n",
       "<style scoped>\n",
       "    .dataframe tbody tr th:only-of-type {\n",
       "        vertical-align: middle;\n",
       "    }\n",
       "\n",
       "    .dataframe tbody tr th {\n",
       "        vertical-align: top;\n",
       "    }\n",
       "\n",
       "    .dataframe thead th {\n",
       "        text-align: right;\n",
       "    }\n",
       "</style>\n",
       "<table border=\"1\" class=\"dataframe\">\n",
       "  <thead>\n",
       "    <tr style=\"text-align: right;\">\n",
       "      <th></th>\n",
       "      <th>Client_Category</th>\n",
       "      <th>Solution_Type</th>\n",
       "      <th>Deal_Date</th>\n",
       "      <th>Sector</th>\n",
       "      <th>Location</th>\n",
       "      <th>VP_Name</th>\n",
       "      <th>Manager_Name</th>\n",
       "      <th>Deal_Cost</th>\n",
       "      <th>Deal_Status</th>\n",
       "    </tr>\n",
       "  </thead>\n",
       "  <tbody>\n",
       "    <tr>\n",
       "      <th>0</th>\n",
       "      <td>Telecom</td>\n",
       "      <td>Solution 7</td>\n",
       "      <td>2012-03-27</td>\n",
       "      <td>Sector 24</td>\n",
       "      <td>L5</td>\n",
       "      <td>Ekta Zutshi</td>\n",
       "      <td>Gopa Trilochana</td>\n",
       "      <td>150000.00</td>\n",
       "      <td>Won</td>\n",
       "    </tr>\n",
       "    <tr>\n",
       "      <th>1</th>\n",
       "      <td>Telecom</td>\n",
       "      <td>Solution 7</td>\n",
       "      <td>2012-09-25</td>\n",
       "      <td>Sector 24</td>\n",
       "      <td>L5</td>\n",
       "      <td>Ekta Zutshi</td>\n",
       "      <td>Gopa Trilochana</td>\n",
       "      <td>744705.88</td>\n",
       "      <td>Won</td>\n",
       "    </tr>\n",
       "    <tr>\n",
       "      <th>2</th>\n",
       "      <td>Internal</td>\n",
       "      <td>Solution 59</td>\n",
       "      <td>2011-08-01</td>\n",
       "      <td>Sector 20</td>\n",
       "      <td>Others</td>\n",
       "      <td>Ekta Zutshi</td>\n",
       "      <td>Russell Dahlen</td>\n",
       "      <td>60000.00</td>\n",
       "      <td>Lost</td>\n",
       "    </tr>\n",
       "    <tr>\n",
       "      <th>3</th>\n",
       "      <td>Internal</td>\n",
       "      <td>Solution 59</td>\n",
       "      <td>2011-04-28</td>\n",
       "      <td>Sector 20</td>\n",
       "      <td>Others</td>\n",
       "      <td>Ekta Zutshi</td>\n",
       "      <td>Russell Dahlen</td>\n",
       "      <td>60000.00</td>\n",
       "      <td>Lost</td>\n",
       "    </tr>\n",
       "    <tr>\n",
       "      <th>4</th>\n",
       "      <td>Internal</td>\n",
       "      <td>Solution 32</td>\n",
       "      <td>2011-06-03</td>\n",
       "      <td>Sector 20</td>\n",
       "      <td>Others</td>\n",
       "      <td>Ekta Zutshi</td>\n",
       "      <td>Russell Dahlen</td>\n",
       "      <td>80882.35</td>\n",
       "      <td>Lost</td>\n",
       "    </tr>\n",
       "  </tbody>\n",
       "</table>\n",
       "</div>"
      ],
      "text/plain": [
       "  Client_Category Solution_Type   Deal_Date     Sector Location      VP_Name  \\\n",
       "0         Telecom    Solution 7  2012-03-27  Sector 24       L5  Ekta Zutshi   \n",
       "1         Telecom    Solution 7  2012-09-25  Sector 24       L5  Ekta Zutshi   \n",
       "2        Internal   Solution 59  2011-08-01  Sector 20   Others  Ekta Zutshi   \n",
       "3        Internal   Solution 59  2011-04-28  Sector 20   Others  Ekta Zutshi   \n",
       "4        Internal   Solution 32  2011-06-03  Sector 20   Others  Ekta Zutshi   \n",
       "\n",
       "      Manager_Name  Deal_Cost Deal_Status  \n",
       "0  Gopa Trilochana  150000.00         Won  \n",
       "1  Gopa Trilochana  744705.88         Won  \n",
       "2   Russell Dahlen   60000.00        Lost  \n",
       "3   Russell Dahlen   60000.00        Lost  \n",
       "4   Russell Dahlen   80882.35        Lost  "
      ]
     },
     "execution_count": 62,
     "metadata": {},
     "output_type": "execute_result"
    }
   ],
   "source": [
    "df.head()"
   ]
  },
  {
   "cell_type": "code",
   "execution_count": 63,
   "metadata": {},
   "outputs": [
    {
     "data": {
      "text/plain": [
       "(10061, 9)"
      ]
     },
     "execution_count": 63,
     "metadata": {},
     "output_type": "execute_result"
    }
   ],
   "source": [
    "#Dimension of dataset\n",
    "\n",
    "df.shape"
   ]
  },
  {
   "cell_type": "code",
   "execution_count": 64,
   "metadata": {},
   "outputs": [
    {
     "data": {
      "text/plain": [
       "Client_Category    79\n",
       "Solution_Type       0\n",
       "Deal_Date           0\n",
       "Sector              0\n",
       "Location            0\n",
       "VP_Name             0\n",
       "Manager_Name        0\n",
       "Deal_Cost           0\n",
       "Deal_Status         0\n",
       "dtype: int64"
      ]
     },
     "execution_count": 64,
     "metadata": {},
     "output_type": "execute_result"
    }
   ],
   "source": [
    "#checking null values\n",
    "\n",
    "df.isnull().sum()"
   ]
  },
  {
   "cell_type": "code",
   "execution_count": 65,
   "metadata": {},
   "outputs": [],
   "source": [
    "#Removing Duplicates Values \n",
    "\n",
    "df.drop_duplicates(subset=None, keep='first', inplace=True)"
   ]
  },
  {
   "cell_type": "code",
   "execution_count": 66,
   "metadata": {},
   "outputs": [
    {
     "data": {
      "text/plain": [
       "(10047, 9)"
      ]
     },
     "execution_count": 66,
     "metadata": {},
     "output_type": "execute_result"
    }
   ],
   "source": [
    "df.shape"
   ]
  },
  {
   "cell_type": "code",
   "execution_count": 67,
   "metadata": {},
   "outputs": [],
   "source": [
    "#Filling null values of client category with Others\n",
    "\n",
    "df[\"Client_Category\"].fillna(\"Others\",inplace = True)"
   ]
  },
  {
   "cell_type": "code",
   "execution_count": 68,
   "metadata": {},
   "outputs": [
    {
     "data": {
      "text/plain": [
       "Client_Category    0\n",
       "Solution_Type      0\n",
       "Deal_Date          0\n",
       "Sector             0\n",
       "Location           0\n",
       "VP_Name            0\n",
       "Manager_Name       0\n",
       "Deal_Cost          0\n",
       "Deal_Status        0\n",
       "dtype: int64"
      ]
     },
     "execution_count": 68,
     "metadata": {},
     "output_type": "execute_result"
    }
   ],
   "source": [
    "df.isnull().sum()"
   ]
  },
  {
   "cell_type": "code",
   "execution_count": 69,
   "metadata": {},
   "outputs": [
    {
     "data": {
      "text/plain": [
       "count    1.004700e+04\n",
       "mean     7.672963e+05\n",
       "std      1.620881e+06\n",
       "min      0.000000e+00\n",
       "25%      1.891176e+05\n",
       "50%      3.823529e+05\n",
       "75%      7.647059e+05\n",
       "max      3.676471e+07\n",
       "Name: Deal_Cost, dtype: float64"
      ]
     },
     "execution_count": 69,
     "metadata": {},
     "output_type": "execute_result"
    }
   ],
   "source": [
    "df[\"Deal_Cost\"].describe()"
   ]
  },
  {
   "cell_type": "code",
   "execution_count": 70,
   "metadata": {},
   "outputs": [],
   "source": [
    "#Replacing 0 value of deal cost with nan\n",
    "\n",
    "#df = df.replace(0,np.nan)"
   ]
  },
  {
   "cell_type": "code",
   "execution_count": 71,
   "metadata": {},
   "outputs": [],
   "source": [
    "#filling zero deal cost values with median deal cost of all lost deals\n",
    "\n",
    "def Deal_Cost_Median(Deal_Cost):\n",
    "    if Deal_Cost == 0:\n",
    "        return 441176.47\n",
    "    else:\n",
    "        return Deal_Cost"
   ]
  },
  {
   "cell_type": "code",
   "execution_count": 72,
   "metadata": {},
   "outputs": [],
   "source": [
    "df[\"Deal_Cost\"] = df[\"Deal_Cost\"].apply(Deal_Cost_Median)"
   ]
  },
  {
   "cell_type": "code",
   "execution_count": 73,
   "metadata": {},
   "outputs": [
    {
     "data": {
      "text/plain": [
       "count    1.004700e+04\n",
       "mean     7.780546e+05\n",
       "std      1.617212e+06\n",
       "min      2.941200e+02\n",
       "25%      2.058824e+05\n",
       "50%      4.117647e+05\n",
       "75%      7.647059e+05\n",
       "max      3.676471e+07\n",
       "Name: Deal_Cost, dtype: float64"
      ]
     },
     "execution_count": 73,
     "metadata": {},
     "output_type": "execute_result"
    }
   ],
   "source": [
    "df[\"Deal_Cost\"].describe()"
   ]
  },
  {
   "cell_type": "code",
   "execution_count": 74,
   "metadata": {},
   "outputs": [
    {
     "data": {
      "text/html": [
       "<div>\n",
       "<style scoped>\n",
       "    .dataframe tbody tr th:only-of-type {\n",
       "        vertical-align: middle;\n",
       "    }\n",
       "\n",
       "    .dataframe tbody tr th {\n",
       "        vertical-align: top;\n",
       "    }\n",
       "\n",
       "    .dataframe thead th {\n",
       "        text-align: right;\n",
       "    }\n",
       "</style>\n",
       "<table border=\"1\" class=\"dataframe\">\n",
       "  <thead>\n",
       "    <tr style=\"text-align: right;\">\n",
       "      <th></th>\n",
       "      <th>Client_Category</th>\n",
       "      <th>Solution_Type</th>\n",
       "      <th>Deal_Date</th>\n",
       "      <th>Sector</th>\n",
       "      <th>Location</th>\n",
       "      <th>VP_Name</th>\n",
       "      <th>Manager_Name</th>\n",
       "      <th>Deal_Cost</th>\n",
       "      <th>Deal_Status</th>\n",
       "    </tr>\n",
       "  </thead>\n",
       "  <tbody>\n",
       "    <tr>\n",
       "      <th>0</th>\n",
       "      <td>Telecom</td>\n",
       "      <td>Solution 7</td>\n",
       "      <td>2012-03-27</td>\n",
       "      <td>Sector 24</td>\n",
       "      <td>L5</td>\n",
       "      <td>Ekta Zutshi</td>\n",
       "      <td>Gopa Trilochana</td>\n",
       "      <td>150000.00</td>\n",
       "      <td>Won</td>\n",
       "    </tr>\n",
       "    <tr>\n",
       "      <th>1</th>\n",
       "      <td>Telecom</td>\n",
       "      <td>Solution 7</td>\n",
       "      <td>2012-09-25</td>\n",
       "      <td>Sector 24</td>\n",
       "      <td>L5</td>\n",
       "      <td>Ekta Zutshi</td>\n",
       "      <td>Gopa Trilochana</td>\n",
       "      <td>744705.88</td>\n",
       "      <td>Won</td>\n",
       "    </tr>\n",
       "    <tr>\n",
       "      <th>2</th>\n",
       "      <td>Internal</td>\n",
       "      <td>Solution 59</td>\n",
       "      <td>2011-08-01</td>\n",
       "      <td>Sector 20</td>\n",
       "      <td>Others</td>\n",
       "      <td>Ekta Zutshi</td>\n",
       "      <td>Russell Dahlen</td>\n",
       "      <td>60000.00</td>\n",
       "      <td>Lost</td>\n",
       "    </tr>\n",
       "    <tr>\n",
       "      <th>3</th>\n",
       "      <td>Internal</td>\n",
       "      <td>Solution 59</td>\n",
       "      <td>2011-04-28</td>\n",
       "      <td>Sector 20</td>\n",
       "      <td>Others</td>\n",
       "      <td>Ekta Zutshi</td>\n",
       "      <td>Russell Dahlen</td>\n",
       "      <td>60000.00</td>\n",
       "      <td>Lost</td>\n",
       "    </tr>\n",
       "    <tr>\n",
       "      <th>4</th>\n",
       "      <td>Internal</td>\n",
       "      <td>Solution 32</td>\n",
       "      <td>2011-06-03</td>\n",
       "      <td>Sector 20</td>\n",
       "      <td>Others</td>\n",
       "      <td>Ekta Zutshi</td>\n",
       "      <td>Russell Dahlen</td>\n",
       "      <td>80882.35</td>\n",
       "      <td>Lost</td>\n",
       "    </tr>\n",
       "  </tbody>\n",
       "</table>\n",
       "</div>"
      ],
      "text/plain": [
       "  Client_Category Solution_Type   Deal_Date     Sector Location      VP_Name  \\\n",
       "0         Telecom    Solution 7  2012-03-27  Sector 24       L5  Ekta Zutshi   \n",
       "1         Telecom    Solution 7  2012-09-25  Sector 24       L5  Ekta Zutshi   \n",
       "2        Internal   Solution 59  2011-08-01  Sector 20   Others  Ekta Zutshi   \n",
       "3        Internal   Solution 59  2011-04-28  Sector 20   Others  Ekta Zutshi   \n",
       "4        Internal   Solution 32  2011-06-03  Sector 20   Others  Ekta Zutshi   \n",
       "\n",
       "      Manager_Name  Deal_Cost Deal_Status  \n",
       "0  Gopa Trilochana  150000.00         Won  \n",
       "1  Gopa Trilochana  744705.88         Won  \n",
       "2   Russell Dahlen   60000.00        Lost  \n",
       "3   Russell Dahlen   60000.00        Lost  \n",
       "4   Russell Dahlen   80882.35        Lost  "
      ]
     },
     "execution_count": 74,
     "metadata": {},
     "output_type": "execute_result"
    }
   ],
   "source": [
    "#Final data set\n",
    "\n",
    "df.head()"
   ]
  },
  {
   "cell_type": "code",
   "execution_count": 75,
   "metadata": {},
   "outputs": [],
   "source": [
    "def Deal_status_Code(Deal_Status):\n",
    "    if Deal_Status == \"Won\":\n",
    "        return 1\n",
    "    else:\n",
    "        return 0"
   ]
  },
  {
   "cell_type": "code",
   "execution_count": 76,
   "metadata": {},
   "outputs": [],
   "source": [
    "df[\"Deal_Status\"] = df[\"Deal_Status\"].apply(Deal_status_Code)"
   ]
  },
  {
   "cell_type": "code",
   "execution_count": 77,
   "metadata": {},
   "outputs": [
    {
     "data": {
      "text/html": [
       "<div>\n",
       "<style scoped>\n",
       "    .dataframe tbody tr th:only-of-type {\n",
       "        vertical-align: middle;\n",
       "    }\n",
       "\n",
       "    .dataframe tbody tr th {\n",
       "        vertical-align: top;\n",
       "    }\n",
       "\n",
       "    .dataframe thead th {\n",
       "        text-align: right;\n",
       "    }\n",
       "</style>\n",
       "<table border=\"1\" class=\"dataframe\">\n",
       "  <thead>\n",
       "    <tr style=\"text-align: right;\">\n",
       "      <th></th>\n",
       "      <th>Client_Category</th>\n",
       "      <th>Solution_Type</th>\n",
       "      <th>Deal_Date</th>\n",
       "      <th>Sector</th>\n",
       "      <th>Location</th>\n",
       "      <th>VP_Name</th>\n",
       "      <th>Manager_Name</th>\n",
       "      <th>Deal_Cost</th>\n",
       "      <th>Deal_Status</th>\n",
       "    </tr>\n",
       "  </thead>\n",
       "  <tbody>\n",
       "    <tr>\n",
       "      <th>0</th>\n",
       "      <td>Telecom</td>\n",
       "      <td>Solution 7</td>\n",
       "      <td>2012-03-27</td>\n",
       "      <td>Sector 24</td>\n",
       "      <td>L5</td>\n",
       "      <td>Ekta Zutshi</td>\n",
       "      <td>Gopa Trilochana</td>\n",
       "      <td>150000.00</td>\n",
       "      <td>1</td>\n",
       "    </tr>\n",
       "    <tr>\n",
       "      <th>1</th>\n",
       "      <td>Telecom</td>\n",
       "      <td>Solution 7</td>\n",
       "      <td>2012-09-25</td>\n",
       "      <td>Sector 24</td>\n",
       "      <td>L5</td>\n",
       "      <td>Ekta Zutshi</td>\n",
       "      <td>Gopa Trilochana</td>\n",
       "      <td>744705.88</td>\n",
       "      <td>1</td>\n",
       "    </tr>\n",
       "    <tr>\n",
       "      <th>2</th>\n",
       "      <td>Internal</td>\n",
       "      <td>Solution 59</td>\n",
       "      <td>2011-08-01</td>\n",
       "      <td>Sector 20</td>\n",
       "      <td>Others</td>\n",
       "      <td>Ekta Zutshi</td>\n",
       "      <td>Russell Dahlen</td>\n",
       "      <td>60000.00</td>\n",
       "      <td>0</td>\n",
       "    </tr>\n",
       "    <tr>\n",
       "      <th>3</th>\n",
       "      <td>Internal</td>\n",
       "      <td>Solution 59</td>\n",
       "      <td>2011-04-28</td>\n",
       "      <td>Sector 20</td>\n",
       "      <td>Others</td>\n",
       "      <td>Ekta Zutshi</td>\n",
       "      <td>Russell Dahlen</td>\n",
       "      <td>60000.00</td>\n",
       "      <td>0</td>\n",
       "    </tr>\n",
       "    <tr>\n",
       "      <th>4</th>\n",
       "      <td>Internal</td>\n",
       "      <td>Solution 32</td>\n",
       "      <td>2011-06-03</td>\n",
       "      <td>Sector 20</td>\n",
       "      <td>Others</td>\n",
       "      <td>Ekta Zutshi</td>\n",
       "      <td>Russell Dahlen</td>\n",
       "      <td>80882.35</td>\n",
       "      <td>0</td>\n",
       "    </tr>\n",
       "  </tbody>\n",
       "</table>\n",
       "</div>"
      ],
      "text/plain": [
       "  Client_Category Solution_Type   Deal_Date     Sector Location      VP_Name  \\\n",
       "0         Telecom    Solution 7  2012-03-27  Sector 24       L5  Ekta Zutshi   \n",
       "1         Telecom    Solution 7  2012-09-25  Sector 24       L5  Ekta Zutshi   \n",
       "2        Internal   Solution 59  2011-08-01  Sector 20   Others  Ekta Zutshi   \n",
       "3        Internal   Solution 59  2011-04-28  Sector 20   Others  Ekta Zutshi   \n",
       "4        Internal   Solution 32  2011-06-03  Sector 20   Others  Ekta Zutshi   \n",
       "\n",
       "      Manager_Name  Deal_Cost  Deal_Status  \n",
       "0  Gopa Trilochana  150000.00            1  \n",
       "1  Gopa Trilochana  744705.88            1  \n",
       "2   Russell Dahlen   60000.00            0  \n",
       "3   Russell Dahlen   60000.00            0  \n",
       "4   Russell Dahlen   80882.35            0  "
      ]
     },
     "execution_count": 77,
     "metadata": {},
     "output_type": "execute_result"
    }
   ],
   "source": [
    "df.head()"
   ]
  },
  {
   "cell_type": "code",
   "execution_count": 78,
   "metadata": {},
   "outputs": [],
   "source": [
    "#Removing Internal Client Category from dataset\n",
    "\n",
    "df = df[df[\"Client_Category\"]!=\"Internal\"]"
   ]
  },
  {
   "cell_type": "code",
   "execution_count": 79,
   "metadata": {},
   "outputs": [
    {
     "data": {
      "text/html": [
       "<div>\n",
       "<style scoped>\n",
       "    .dataframe tbody tr th:only-of-type {\n",
       "        vertical-align: middle;\n",
       "    }\n",
       "\n",
       "    .dataframe tbody tr th {\n",
       "        vertical-align: top;\n",
       "    }\n",
       "\n",
       "    .dataframe thead th {\n",
       "        text-align: right;\n",
       "    }\n",
       "</style>\n",
       "<table border=\"1\" class=\"dataframe\">\n",
       "  <thead>\n",
       "    <tr style=\"text-align: right;\">\n",
       "      <th></th>\n",
       "      <th>Client_Category</th>\n",
       "      <th>Solution_Type</th>\n",
       "      <th>Deal_Date</th>\n",
       "      <th>Sector</th>\n",
       "      <th>Location</th>\n",
       "      <th>VP_Name</th>\n",
       "      <th>Manager_Name</th>\n",
       "      <th>Deal_Cost</th>\n",
       "      <th>Deal_Status</th>\n",
       "    </tr>\n",
       "  </thead>\n",
       "  <tbody>\n",
       "    <tr>\n",
       "      <th>0</th>\n",
       "      <td>Telecom</td>\n",
       "      <td>Solution 7</td>\n",
       "      <td>2012-03-27</td>\n",
       "      <td>Sector 24</td>\n",
       "      <td>L5</td>\n",
       "      <td>Ekta Zutshi</td>\n",
       "      <td>Gopa Trilochana</td>\n",
       "      <td>150000.00</td>\n",
       "      <td>1</td>\n",
       "    </tr>\n",
       "    <tr>\n",
       "      <th>1</th>\n",
       "      <td>Telecom</td>\n",
       "      <td>Solution 7</td>\n",
       "      <td>2012-09-25</td>\n",
       "      <td>Sector 24</td>\n",
       "      <td>L5</td>\n",
       "      <td>Ekta Zutshi</td>\n",
       "      <td>Gopa Trilochana</td>\n",
       "      <td>744705.88</td>\n",
       "      <td>1</td>\n",
       "    </tr>\n",
       "    <tr>\n",
       "      <th>7</th>\n",
       "      <td>Govt</td>\n",
       "      <td>Solution 7</td>\n",
       "      <td>2012-09-17</td>\n",
       "      <td>Sector 13</td>\n",
       "      <td>L5</td>\n",
       "      <td>Sargar Deep Rao</td>\n",
       "      <td>Vidur Hukle</td>\n",
       "      <td>409705.88</td>\n",
       "      <td>0</td>\n",
       "    </tr>\n",
       "    <tr>\n",
       "      <th>8</th>\n",
       "      <td>Consumer Good</td>\n",
       "      <td>Solution 42</td>\n",
       "      <td>2012-04-11</td>\n",
       "      <td>Sector 12</td>\n",
       "      <td>L10</td>\n",
       "      <td>Lilli Storrs</td>\n",
       "      <td>Md. Daud</td>\n",
       "      <td>1032352.94</td>\n",
       "      <td>1</td>\n",
       "    </tr>\n",
       "    <tr>\n",
       "      <th>10</th>\n",
       "      <td>International Bank</td>\n",
       "      <td>Solution 6</td>\n",
       "      <td>2012-02-11</td>\n",
       "      <td>Sector 2</td>\n",
       "      <td>L10</td>\n",
       "      <td>Long Bergstrom</td>\n",
       "      <td>Luv Malhotra</td>\n",
       "      <td>316176.47</td>\n",
       "      <td>1</td>\n",
       "    </tr>\n",
       "    <tr>\n",
       "      <th>...</th>\n",
       "      <td>...</td>\n",
       "      <td>...</td>\n",
       "      <td>...</td>\n",
       "      <td>...</td>\n",
       "      <td>...</td>\n",
       "      <td>...</td>\n",
       "      <td>...</td>\n",
       "      <td>...</td>\n",
       "      <td>...</td>\n",
       "    </tr>\n",
       "    <tr>\n",
       "      <th>10055</th>\n",
       "      <td>Telecom</td>\n",
       "      <td>Solution 9</td>\n",
       "      <td>2019-05-23</td>\n",
       "      <td>Sector 24</td>\n",
       "      <td>L10</td>\n",
       "      <td>Gopa Trilochana</td>\n",
       "      <td>Darla Dickinson</td>\n",
       "      <td>823529.41</td>\n",
       "      <td>0</td>\n",
       "    </tr>\n",
       "    <tr>\n",
       "      <th>10056</th>\n",
       "      <td>Power ind</td>\n",
       "      <td>Solution 9</td>\n",
       "      <td>2019-03-18</td>\n",
       "      <td>Sector 9</td>\n",
       "      <td>L5</td>\n",
       "      <td>Rudraksh Sharma</td>\n",
       "      <td>Rudraksh Sharma</td>\n",
       "      <td>588235.29</td>\n",
       "      <td>0</td>\n",
       "    </tr>\n",
       "    <tr>\n",
       "      <th>10058</th>\n",
       "      <td>Power ind</td>\n",
       "      <td>Solution 9</td>\n",
       "      <td>2019-02-28</td>\n",
       "      <td>Sector 9</td>\n",
       "      <td>L5</td>\n",
       "      <td>Rudraksh Sharma</td>\n",
       "      <td>Rudraksh Sharma</td>\n",
       "      <td>588235.29</td>\n",
       "      <td>0</td>\n",
       "    </tr>\n",
       "    <tr>\n",
       "      <th>10059</th>\n",
       "      <td>Power ind</td>\n",
       "      <td>Solution 62</td>\n",
       "      <td>2019-01-27</td>\n",
       "      <td>Sector 9</td>\n",
       "      <td>L5</td>\n",
       "      <td>Man Suddeth</td>\n",
       "      <td>Cleotilde Biron</td>\n",
       "      <td>3042058.82</td>\n",
       "      <td>1</td>\n",
       "    </tr>\n",
       "    <tr>\n",
       "      <th>10060</th>\n",
       "      <td>Others</td>\n",
       "      <td>Solution 9</td>\n",
       "      <td>2019-05-30</td>\n",
       "      <td>Sector 12</td>\n",
       "      <td>L10</td>\n",
       "      <td>Son Mcconnaughy</td>\n",
       "      <td>Tarun Garg</td>\n",
       "      <td>147058.82</td>\n",
       "      <td>0</td>\n",
       "    </tr>\n",
       "  </tbody>\n",
       "</table>\n",
       "<p>8596 rows × 9 columns</p>\n",
       "</div>"
      ],
      "text/plain": [
       "          Client_Category Solution_Type   Deal_Date     Sector Location  \\\n",
       "0                 Telecom    Solution 7  2012-03-27  Sector 24       L5   \n",
       "1                 Telecom    Solution 7  2012-09-25  Sector 24       L5   \n",
       "7                    Govt    Solution 7  2012-09-17  Sector 13       L5   \n",
       "8           Consumer Good   Solution 42  2012-04-11  Sector 12      L10   \n",
       "10     International Bank    Solution 6  2012-02-11   Sector 2      L10   \n",
       "...                   ...           ...         ...        ...      ...   \n",
       "10055             Telecom    Solution 9  2019-05-23  Sector 24      L10   \n",
       "10056           Power ind    Solution 9  2019-03-18   Sector 9       L5   \n",
       "10058           Power ind    Solution 9  2019-02-28   Sector 9       L5   \n",
       "10059           Power ind   Solution 62  2019-01-27   Sector 9       L5   \n",
       "10060              Others    Solution 9  2019-05-30  Sector 12      L10   \n",
       "\n",
       "               VP_Name     Manager_Name   Deal_Cost  Deal_Status  \n",
       "0          Ekta Zutshi  Gopa Trilochana   150000.00            1  \n",
       "1          Ekta Zutshi  Gopa Trilochana   744705.88            1  \n",
       "7      Sargar Deep Rao      Vidur Hukle   409705.88            0  \n",
       "8         Lilli Storrs         Md. Daud  1032352.94            1  \n",
       "10      Long Bergstrom     Luv Malhotra   316176.47            1  \n",
       "...                ...              ...         ...          ...  \n",
       "10055  Gopa Trilochana  Darla Dickinson   823529.41            0  \n",
       "10056  Rudraksh Sharma  Rudraksh Sharma   588235.29            0  \n",
       "10058  Rudraksh Sharma  Rudraksh Sharma   588235.29            0  \n",
       "10059      Man Suddeth  Cleotilde Biron  3042058.82            1  \n",
       "10060  Son Mcconnaughy       Tarun Garg   147058.82            0  \n",
       "\n",
       "[8596 rows x 9 columns]"
      ]
     },
     "execution_count": 79,
     "metadata": {},
     "output_type": "execute_result"
    }
   ],
   "source": [
    "df"
   ]
  },
  {
   "cell_type": "code",
   "execution_count": 80,
   "metadata": {},
   "outputs": [],
   "source": [
    "df.to_csv('win_final.csv', index = False)"
   ]
  },
  {
   "cell_type": "markdown",
   "metadata": {},
   "source": [
    "# Encoding\n",
    "\n",
    "### Performing Target Guided Ordinal Encoding"
   ]
  },
  {
   "cell_type": "code",
   "execution_count": 81,
   "metadata": {},
   "outputs": [],
   "source": [
    "col = ['Client_Category', 'Solution_Type', 'Sector', 'Location',\n",
    "       'VP_Name', 'Manager_Name']"
   ]
  },
  {
   "cell_type": "code",
   "execution_count": 82,
   "metadata": {},
   "outputs": [
    {
     "data": {
      "text/html": [
       "<div>\n",
       "<style scoped>\n",
       "    .dataframe tbody tr th:only-of-type {\n",
       "        vertical-align: middle;\n",
       "    }\n",
       "\n",
       "    .dataframe tbody tr th {\n",
       "        vertical-align: top;\n",
       "    }\n",
       "\n",
       "    .dataframe thead th {\n",
       "        text-align: right;\n",
       "    }\n",
       "</style>\n",
       "<table border=\"1\" class=\"dataframe\">\n",
       "  <thead>\n",
       "    <tr style=\"text-align: right;\">\n",
       "      <th></th>\n",
       "      <th>Client_Category</th>\n",
       "      <th>Solution_Type</th>\n",
       "      <th>Deal_Date</th>\n",
       "      <th>Sector</th>\n",
       "      <th>Location</th>\n",
       "      <th>VP_Name</th>\n",
       "      <th>Manager_Name</th>\n",
       "      <th>Deal_Cost</th>\n",
       "      <th>Deal_Status</th>\n",
       "    </tr>\n",
       "  </thead>\n",
       "  <tbody>\n",
       "    <tr>\n",
       "      <th>0</th>\n",
       "      <td>29</td>\n",
       "      <td>31</td>\n",
       "      <td>2012-03-27</td>\n",
       "      <td>17</td>\n",
       "      <td>11</td>\n",
       "      <td>41</td>\n",
       "      <td>159</td>\n",
       "      <td>150000.00</td>\n",
       "      <td>1</td>\n",
       "    </tr>\n",
       "    <tr>\n",
       "      <th>1</th>\n",
       "      <td>29</td>\n",
       "      <td>31</td>\n",
       "      <td>2012-09-25</td>\n",
       "      <td>17</td>\n",
       "      <td>11</td>\n",
       "      <td>41</td>\n",
       "      <td>159</td>\n",
       "      <td>744705.88</td>\n",
       "      <td>1</td>\n",
       "    </tr>\n",
       "    <tr>\n",
       "      <th>7</th>\n",
       "      <td>16</td>\n",
       "      <td>31</td>\n",
       "      <td>2012-09-17</td>\n",
       "      <td>1</td>\n",
       "      <td>11</td>\n",
       "      <td>23</td>\n",
       "      <td>110</td>\n",
       "      <td>409705.88</td>\n",
       "      <td>0</td>\n",
       "    </tr>\n",
       "    <tr>\n",
       "      <th>8</th>\n",
       "      <td>36</td>\n",
       "      <td>41</td>\n",
       "      <td>2012-04-11</td>\n",
       "      <td>7</td>\n",
       "      <td>6</td>\n",
       "      <td>35</td>\n",
       "      <td>175</td>\n",
       "      <td>1032352.94</td>\n",
       "      <td>1</td>\n",
       "    </tr>\n",
       "    <tr>\n",
       "      <th>10</th>\n",
       "      <td>33</td>\n",
       "      <td>23</td>\n",
       "      <td>2012-02-11</td>\n",
       "      <td>11</td>\n",
       "      <td>6</td>\n",
       "      <td>36</td>\n",
       "      <td>116</td>\n",
       "      <td>316176.47</td>\n",
       "      <td>1</td>\n",
       "    </tr>\n",
       "    <tr>\n",
       "      <th>11</th>\n",
       "      <td>8</td>\n",
       "      <td>27</td>\n",
       "      <td>2012-03-30</td>\n",
       "      <td>11</td>\n",
       "      <td>10</td>\n",
       "      <td>17</td>\n",
       "      <td>71</td>\n",
       "      <td>929411.77</td>\n",
       "      <td>1</td>\n",
       "    </tr>\n",
       "    <tr>\n",
       "      <th>12</th>\n",
       "      <td>20</td>\n",
       "      <td>27</td>\n",
       "      <td>2012-04-26</td>\n",
       "      <td>11</td>\n",
       "      <td>11</td>\n",
       "      <td>17</td>\n",
       "      <td>121</td>\n",
       "      <td>2367647.06</td>\n",
       "      <td>1</td>\n",
       "    </tr>\n",
       "    <tr>\n",
       "      <th>13</th>\n",
       "      <td>19</td>\n",
       "      <td>27</td>\n",
       "      <td>2011-12-20</td>\n",
       "      <td>19</td>\n",
       "      <td>11</td>\n",
       "      <td>41</td>\n",
       "      <td>38</td>\n",
       "      <td>8823529.41</td>\n",
       "      <td>0</td>\n",
       "    </tr>\n",
       "    <tr>\n",
       "      <th>14</th>\n",
       "      <td>20</td>\n",
       "      <td>51</td>\n",
       "      <td>2011-12-22</td>\n",
       "      <td>21</td>\n",
       "      <td>11</td>\n",
       "      <td>36</td>\n",
       "      <td>166</td>\n",
       "      <td>122058.82</td>\n",
       "      <td>0</td>\n",
       "    </tr>\n",
       "    <tr>\n",
       "      <th>15</th>\n",
       "      <td>23</td>\n",
       "      <td>49</td>\n",
       "      <td>2012-01-23</td>\n",
       "      <td>18</td>\n",
       "      <td>12</td>\n",
       "      <td>41</td>\n",
       "      <td>91</td>\n",
       "      <td>529411.77</td>\n",
       "      <td>0</td>\n",
       "    </tr>\n",
       "  </tbody>\n",
       "</table>\n",
       "</div>"
      ],
      "text/plain": [
       "    Client_Category  Solution_Type   Deal_Date  Sector  Location  VP_Name  \\\n",
       "0                29             31  2012-03-27      17        11       41   \n",
       "1                29             31  2012-09-25      17        11       41   \n",
       "7                16             31  2012-09-17       1        11       23   \n",
       "8                36             41  2012-04-11       7         6       35   \n",
       "10               33             23  2012-02-11      11         6       36   \n",
       "11                8             27  2012-03-30      11        10       17   \n",
       "12               20             27  2012-04-26      11        11       17   \n",
       "13               19             27  2011-12-20      19        11       41   \n",
       "14               20             51  2011-12-22      21        11       36   \n",
       "15               23             49  2012-01-23      18        12       41   \n",
       "\n",
       "    Manager_Name   Deal_Cost  Deal_Status  \n",
       "0            159   150000.00            1  \n",
       "1            159   744705.88            1  \n",
       "7            110   409705.88            0  \n",
       "8            175  1032352.94            1  \n",
       "10           116   316176.47            1  \n",
       "11            71   929411.77            1  \n",
       "12           121  2367647.06            1  \n",
       "13            38  8823529.41            0  \n",
       "14           166   122058.82            0  \n",
       "15            91   529411.77            0  "
      ]
     },
     "execution_count": 82,
     "metadata": {},
     "output_type": "execute_result"
    }
   ],
   "source": [
    "for feature in col:\n",
    "    ordinal_labels_1 = df.groupby(feature)['Deal_Status'].mean().sort_values().index\n",
    "    ordinal_labels_2={k:i for i,k in enumerate(ordinal_labels_1,0)}\n",
    "    df[feature]=df[feature].map(ordinal_labels_2)\n",
    "\n",
    "df.head(10)    "
   ]
  },
  {
   "cell_type": "code",
   "execution_count": 83,
   "metadata": {},
   "outputs": [
    {
     "data": {
      "text/html": [
       "<div>\n",
       "<style scoped>\n",
       "    .dataframe tbody tr th:only-of-type {\n",
       "        vertical-align: middle;\n",
       "    }\n",
       "\n",
       "    .dataframe tbody tr th {\n",
       "        vertical-align: top;\n",
       "    }\n",
       "\n",
       "    .dataframe thead th {\n",
       "        text-align: right;\n",
       "    }\n",
       "</style>\n",
       "<table border=\"1\" class=\"dataframe\">\n",
       "  <thead>\n",
       "    <tr style=\"text-align: right;\">\n",
       "      <th></th>\n",
       "      <th>Client_Category</th>\n",
       "      <th>Solution_Type</th>\n",
       "      <th>Sector</th>\n",
       "      <th>Location</th>\n",
       "      <th>VP_Name</th>\n",
       "      <th>Manager_Name</th>\n",
       "      <th>Deal_Cost</th>\n",
       "      <th>Deal_Status</th>\n",
       "      <th>Deal_Year</th>\n",
       "      <th>Deal_Month</th>\n",
       "    </tr>\n",
       "  </thead>\n",
       "  <tbody>\n",
       "    <tr>\n",
       "      <th>0</th>\n",
       "      <td>29</td>\n",
       "      <td>31</td>\n",
       "      <td>17</td>\n",
       "      <td>11</td>\n",
       "      <td>41</td>\n",
       "      <td>159</td>\n",
       "      <td>150000.00</td>\n",
       "      <td>1</td>\n",
       "      <td>2012</td>\n",
       "      <td>3</td>\n",
       "    </tr>\n",
       "    <tr>\n",
       "      <th>1</th>\n",
       "      <td>29</td>\n",
       "      <td>31</td>\n",
       "      <td>17</td>\n",
       "      <td>11</td>\n",
       "      <td>41</td>\n",
       "      <td>159</td>\n",
       "      <td>744705.88</td>\n",
       "      <td>1</td>\n",
       "      <td>2012</td>\n",
       "      <td>9</td>\n",
       "    </tr>\n",
       "    <tr>\n",
       "      <th>7</th>\n",
       "      <td>16</td>\n",
       "      <td>31</td>\n",
       "      <td>1</td>\n",
       "      <td>11</td>\n",
       "      <td>23</td>\n",
       "      <td>110</td>\n",
       "      <td>409705.88</td>\n",
       "      <td>0</td>\n",
       "      <td>2012</td>\n",
       "      <td>9</td>\n",
       "    </tr>\n",
       "    <tr>\n",
       "      <th>8</th>\n",
       "      <td>36</td>\n",
       "      <td>41</td>\n",
       "      <td>7</td>\n",
       "      <td>6</td>\n",
       "      <td>35</td>\n",
       "      <td>175</td>\n",
       "      <td>1032352.94</td>\n",
       "      <td>1</td>\n",
       "      <td>2012</td>\n",
       "      <td>4</td>\n",
       "    </tr>\n",
       "    <tr>\n",
       "      <th>10</th>\n",
       "      <td>33</td>\n",
       "      <td>23</td>\n",
       "      <td>11</td>\n",
       "      <td>6</td>\n",
       "      <td>36</td>\n",
       "      <td>116</td>\n",
       "      <td>316176.47</td>\n",
       "      <td>1</td>\n",
       "      <td>2012</td>\n",
       "      <td>2</td>\n",
       "    </tr>\n",
       "  </tbody>\n",
       "</table>\n",
       "</div>"
      ],
      "text/plain": [
       "    Client_Category  Solution_Type  Sector  Location  VP_Name  Manager_Name  \\\n",
       "0                29             31      17        11       41           159   \n",
       "1                29             31      17        11       41           159   \n",
       "7                16             31       1        11       23           110   \n",
       "8                36             41       7         6       35           175   \n",
       "10               33             23      11         6       36           116   \n",
       "\n",
       "     Deal_Cost  Deal_Status  Deal_Year  Deal_Month  \n",
       "0    150000.00            1       2012           3  \n",
       "1    744705.88            1       2012           9  \n",
       "7    409705.88            0       2012           9  \n",
       "8   1032352.94            1       2012           4  \n",
       "10   316176.47            1       2012           2  "
      ]
     },
     "execution_count": 83,
     "metadata": {},
     "output_type": "execute_result"
    }
   ],
   "source": [
    "#Adding Deal Year Column to data set\n",
    "df['Deal_Year'] = pd.DatetimeIndex(df['Deal_Date']).year\n",
    "\n",
    "#Adding Deal Month Column to data set\n",
    "df['Deal_Month'] = pd.DatetimeIndex(df['Deal_Date']).month\n",
    "\n",
    "#Dropping Deal_Date Column\n",
    "df.drop(\"Deal_Date\", axis = 1, inplace = True);df.head()"
   ]
  },
  {
   "cell_type": "code",
   "execution_count": 84,
   "metadata": {},
   "outputs": [],
   "source": [
    "data = df.copy()\n",
    "\n",
    "data.drop(\"Deal_Year\", axis = 1, inplace = True)\n",
    "data.drop(\"Deal_Month\", axis = 1, inplace = True)"
   ]
  },
  {
   "cell_type": "code",
   "execution_count": 85,
   "metadata": {},
   "outputs": [
    {
     "data": {
      "text/html": [
       "<div>\n",
       "<style scoped>\n",
       "    .dataframe tbody tr th:only-of-type {\n",
       "        vertical-align: middle;\n",
       "    }\n",
       "\n",
       "    .dataframe tbody tr th {\n",
       "        vertical-align: top;\n",
       "    }\n",
       "\n",
       "    .dataframe thead th {\n",
       "        text-align: right;\n",
       "    }\n",
       "</style>\n",
       "<table border=\"1\" class=\"dataframe\">\n",
       "  <thead>\n",
       "    <tr style=\"text-align: right;\">\n",
       "      <th></th>\n",
       "      <th>Client_Category</th>\n",
       "      <th>Solution_Type</th>\n",
       "      <th>Sector</th>\n",
       "      <th>Location</th>\n",
       "      <th>VP_Name</th>\n",
       "      <th>Manager_Name</th>\n",
       "      <th>Deal_Cost</th>\n",
       "      <th>Deal_Status</th>\n",
       "    </tr>\n",
       "  </thead>\n",
       "  <tbody>\n",
       "    <tr>\n",
       "      <th>0</th>\n",
       "      <td>29</td>\n",
       "      <td>31</td>\n",
       "      <td>17</td>\n",
       "      <td>11</td>\n",
       "      <td>41</td>\n",
       "      <td>159</td>\n",
       "      <td>150000.00</td>\n",
       "      <td>1</td>\n",
       "    </tr>\n",
       "    <tr>\n",
       "      <th>1</th>\n",
       "      <td>29</td>\n",
       "      <td>31</td>\n",
       "      <td>17</td>\n",
       "      <td>11</td>\n",
       "      <td>41</td>\n",
       "      <td>159</td>\n",
       "      <td>744705.88</td>\n",
       "      <td>1</td>\n",
       "    </tr>\n",
       "    <tr>\n",
       "      <th>7</th>\n",
       "      <td>16</td>\n",
       "      <td>31</td>\n",
       "      <td>1</td>\n",
       "      <td>11</td>\n",
       "      <td>23</td>\n",
       "      <td>110</td>\n",
       "      <td>409705.88</td>\n",
       "      <td>0</td>\n",
       "    </tr>\n",
       "    <tr>\n",
       "      <th>8</th>\n",
       "      <td>36</td>\n",
       "      <td>41</td>\n",
       "      <td>7</td>\n",
       "      <td>6</td>\n",
       "      <td>35</td>\n",
       "      <td>175</td>\n",
       "      <td>1032352.94</td>\n",
       "      <td>1</td>\n",
       "    </tr>\n",
       "    <tr>\n",
       "      <th>10</th>\n",
       "      <td>33</td>\n",
       "      <td>23</td>\n",
       "      <td>11</td>\n",
       "      <td>6</td>\n",
       "      <td>36</td>\n",
       "      <td>116</td>\n",
       "      <td>316176.47</td>\n",
       "      <td>1</td>\n",
       "    </tr>\n",
       "  </tbody>\n",
       "</table>\n",
       "</div>"
      ],
      "text/plain": [
       "    Client_Category  Solution_Type  Sector  Location  VP_Name  Manager_Name  \\\n",
       "0                29             31      17        11       41           159   \n",
       "1                29             31      17        11       41           159   \n",
       "7                16             31       1        11       23           110   \n",
       "8                36             41       7         6       35           175   \n",
       "10               33             23      11         6       36           116   \n",
       "\n",
       "     Deal_Cost  Deal_Status  \n",
       "0    150000.00            1  \n",
       "1    744705.88            1  \n",
       "7    409705.88            0  \n",
       "8   1032352.94            1  \n",
       "10   316176.47            1  "
      ]
     },
     "execution_count": 85,
     "metadata": {},
     "output_type": "execute_result"
    }
   ],
   "source": [
    "data.head()"
   ]
  },
  {
   "cell_type": "code",
   "execution_count": 86,
   "metadata": {},
   "outputs": [],
   "source": [
    "#Independent and Dependent Feature\n",
    "\n",
    "X = data.drop(\"Deal_Status\", axis = 1)\n",
    "Y = data[\"Deal_Status\"]"
   ]
  },
  {
   "cell_type": "code",
   "execution_count": 87,
   "metadata": {},
   "outputs": [],
   "source": [
    "# Train Test Split\n",
    "\n",
    "from sklearn.model_selection import train_test_split"
   ]
  },
  {
   "cell_type": "code",
   "execution_count": 88,
   "metadata": {},
   "outputs": [],
   "source": [
    "X_train, X_test, y_train, y_test = train_test_split(X, Y, test_size=0.20, random_state=102)"
   ]
  },
  {
   "cell_type": "markdown",
   "metadata": {},
   "source": [
    "# Models\n",
    "\n",
    "## Logistic Regression"
   ]
  },
  {
   "cell_type": "code",
   "execution_count": 89,
   "metadata": {},
   "outputs": [],
   "source": [
    "from sklearn.linear_model import LogisticRegression"
   ]
  },
  {
   "cell_type": "code",
   "execution_count": 90,
   "metadata": {},
   "outputs": [],
   "source": [
    "#intializing LogisticRegression to object logmodel\n",
    "\n",
    "logmodel = LogisticRegression()"
   ]
  },
  {
   "cell_type": "code",
   "execution_count": 91,
   "metadata": {},
   "outputs": [],
   "source": [
    "##Hyperparameter Optimization\n",
    "\n",
    "from sklearn.model_selection import RandomizedSearchCV\n",
    "\n",
    "# Create params\n",
    "\n",
    "params = {'penalty' : ['l1', 'l2'], \n",
    "              'C' : np.logspace(-4, 4, 20),\n",
    "              'solver' : ['liblinear','sag','saga']}"
   ]
  },
  {
   "cell_type": "code",
   "execution_count": 92,
   "metadata": {},
   "outputs": [],
   "source": [
    "log_randomcv = RandomizedSearchCV(logmodel,param_distributions=params,n_iter=5,scoring='roc_auc',n_jobs=-1,cv=5,verbose=3)"
   ]
  },
  {
   "cell_type": "code",
   "execution_count": 93,
   "metadata": {},
   "outputs": [
    {
     "name": "stdout",
     "output_type": "stream",
     "text": [
      "Fitting 5 folds for each of 5 candidates, totalling 25 fits\n"
     ]
    },
    {
     "name": "stderr",
     "output_type": "stream",
     "text": [
      "[Parallel(n_jobs=-1)]: Using backend LokyBackend with 4 concurrent workers.\n",
      "[Parallel(n_jobs=-1)]: Done  25 out of  25 | elapsed:   34.7s finished\n"
     ]
    },
    {
     "data": {
      "text/plain": [
       "RandomizedSearchCV(cv=5, estimator=LogisticRegression(), n_iter=5, n_jobs=-1,\n",
       "                   param_distributions={'C': array([1.00000000e-04, 2.63665090e-04, 6.95192796e-04, 1.83298071e-03,\n",
       "       4.83293024e-03, 1.27427499e-02, 3.35981829e-02, 8.85866790e-02,\n",
       "       2.33572147e-01, 6.15848211e-01, 1.62377674e+00, 4.28133240e+00,\n",
       "       1.12883789e+01, 2.97635144e+01, 7.84759970e+01, 2.06913808e+02,\n",
       "       5.45559478e+02, 1.43844989e+03, 3.79269019e+03, 1.00000000e+04]),\n",
       "                                        'penalty': ['l1', 'l2'],\n",
       "                                        'solver': ['liblinear', 'sag', 'saga']},\n",
       "                   scoring='roc_auc', verbose=3)"
      ]
     },
     "execution_count": 93,
     "metadata": {},
     "output_type": "execute_result"
    }
   ],
   "source": [
    "log_randomcv.fit(X_train,y_train)"
   ]
  },
  {
   "cell_type": "code",
   "execution_count": 94,
   "metadata": {},
   "outputs": [],
   "source": [
    "lg_model = log_randomcv.best_estimator_"
   ]
  },
  {
   "cell_type": "code",
   "execution_count": 95,
   "metadata": {},
   "outputs": [],
   "source": [
    "#prediction\n",
    "lg_prediction = lg_model.predict(X_test)"
   ]
  },
  {
   "cell_type": "markdown",
   "metadata": {},
   "source": [
    "### Evaluation Metrics"
   ]
  },
  {
   "cell_type": "code",
   "execution_count": 96,
   "metadata": {},
   "outputs": [],
   "source": [
    "from sklearn.metrics import confusion_matrix\n",
    "from sklearn.metrics import classification_report\n",
    "from sklearn.metrics import accuracy_score"
   ]
  },
  {
   "cell_type": "code",
   "execution_count": 97,
   "metadata": {},
   "outputs": [
    {
     "name": "stdout",
     "output_type": "stream",
     "text": [
      "[[969 151]\n",
      " [359 241]]\n",
      "0.7034883720930233\n",
      "              precision    recall  f1-score   support\n",
      "\n",
      "           0       0.73      0.87      0.79      1120\n",
      "           1       0.61      0.40      0.49       600\n",
      "\n",
      "    accuracy                           0.70      1720\n",
      "   macro avg       0.67      0.63      0.64      1720\n",
      "weighted avg       0.69      0.70      0.68      1720\n",
      "\n"
     ]
    }
   ],
   "source": [
    "print(confusion_matrix(y_test,lg_prediction))\n",
    "print(accuracy_score(y_test,lg_prediction))\n",
    "print(classification_report(y_test,lg_prediction))"
   ]
  },
  {
   "cell_type": "code",
   "execution_count": 98,
   "metadata": {},
   "outputs": [
    {
     "data": {
      "text/plain": [
       "0.7108784176847004"
      ]
     },
     "execution_count": 98,
     "metadata": {},
     "output_type": "execute_result"
    }
   ],
   "source": [
    "lg_model.score(X_train,y_train)"
   ]
  },
  {
   "cell_type": "markdown",
   "metadata": {},
   "source": [
    "## Xgboost"
   ]
  },
  {
   "cell_type": "code",
   "execution_count": 99,
   "metadata": {},
   "outputs": [],
   "source": [
    "import xgboost\n",
    "classifier=xgboost.XGBClassifier()"
   ]
  },
  {
   "cell_type": "code",
   "execution_count": 100,
   "metadata": {},
   "outputs": [],
   "source": [
    "params={\n",
    " \"learning_rate\"    : [0.05, 0.10, 0.15, 0.20, 0.25, 0.30 ] ,\n",
    " \"max_depth\"        : [ 3, 4, 5, 6, 8, 10, 12, 15],\n",
    " \"min_child_weight\" : [ 1, 3, 5, 7 ],\n",
    " \"gamma\"            : [ 0.0, 0.1, 0.2 , 0.3, 0.4 ],\n",
    " \"colsample_bytree\" : [ 0.3, 0.4, 0.5 , 0.7 ]\n",
    "    \n",
    "}"
   ]
  },
  {
   "cell_type": "code",
   "execution_count": 101,
   "metadata": {},
   "outputs": [],
   "source": [
    "xg_randomcv = RandomizedSearchCV(classifier,param_distributions=params,n_iter=5,scoring='roc_auc',n_jobs=-1,cv=5,verbose=3)"
   ]
  },
  {
   "cell_type": "code",
   "execution_count": 102,
   "metadata": {},
   "outputs": [
    {
     "name": "stdout",
     "output_type": "stream",
     "text": [
      "Fitting 5 folds for each of 5 candidates, totalling 25 fits\n"
     ]
    },
    {
     "name": "stderr",
     "output_type": "stream",
     "text": [
      "[Parallel(n_jobs=-1)]: Using backend LokyBackend with 4 concurrent workers.\n",
      "[Parallel(n_jobs=-1)]: Done  25 out of  25 | elapsed:   11.3s finished\n"
     ]
    },
    {
     "name": "stdout",
     "output_type": "stream",
     "text": [
      "[10:44:15] WARNING: C:/Users/Administrator/workspace/xgboost-win64_release_1.3.0/src/learner.cc:1061: Starting in XGBoost 1.3.0, the default evaluation metric used with the objective 'binary:logistic' was changed from 'error' to 'logloss'. Explicitly set eval_metric if you'd like to restore the old behavior.\n"
     ]
    },
    {
     "data": {
      "text/plain": [
       "RandomizedSearchCV(cv=5,\n",
       "                   estimator=XGBClassifier(base_score=None, booster=None,\n",
       "                                           colsample_bylevel=None,\n",
       "                                           colsample_bynode=None,\n",
       "                                           colsample_bytree=None, gamma=None,\n",
       "                                           gpu_id=None, importance_type='gain',\n",
       "                                           interaction_constraints=None,\n",
       "                                           learning_rate=None,\n",
       "                                           max_delta_step=None, max_depth=None,\n",
       "                                           min_child_weight=None, missing=nan,\n",
       "                                           monotone_constraints=None,\n",
       "                                           n_estimators=100,...\n",
       "                                           reg_lambda=None,\n",
       "                                           scale_pos_weight=None,\n",
       "                                           subsample=None, tree_method=None,\n",
       "                                           validate_parameters=None,\n",
       "                                           verbosity=None),\n",
       "                   n_iter=5, n_jobs=-1,\n",
       "                   param_distributions={'colsample_bytree': [0.3, 0.4, 0.5,\n",
       "                                                             0.7],\n",
       "                                        'gamma': [0.0, 0.1, 0.2, 0.3, 0.4],\n",
       "                                        'learning_rate': [0.05, 0.1, 0.15, 0.2,\n",
       "                                                          0.25, 0.3],\n",
       "                                        'max_depth': [3, 4, 5, 6, 8, 10, 12,\n",
       "                                                      15],\n",
       "                                        'min_child_weight': [1, 3, 5, 7]},\n",
       "                   scoring='roc_auc', verbose=3)"
      ]
     },
     "execution_count": 102,
     "metadata": {},
     "output_type": "execute_result"
    }
   ],
   "source": [
    "xg_randomcv.fit(X_train,y_train)"
   ]
  },
  {
   "cell_type": "code",
   "execution_count": 103,
   "metadata": {},
   "outputs": [],
   "source": [
    "#best model from random search cv\n",
    "xg_model = xg_randomcv.best_estimator_"
   ]
  },
  {
   "cell_type": "code",
   "execution_count": 104,
   "metadata": {},
   "outputs": [],
   "source": [
    "#making prediction\n",
    "xg_predictions = xg_model.predict(X_test)"
   ]
  },
  {
   "cell_type": "code",
   "execution_count": 105,
   "metadata": {},
   "outputs": [
    {
     "data": {
      "text/plain": [
       "array([0, 0, 1, ..., 0, 0, 0], dtype=int64)"
      ]
     },
     "execution_count": 105,
     "metadata": {},
     "output_type": "execute_result"
    }
   ],
   "source": [
    "xg_predictions"
   ]
  },
  {
   "cell_type": "markdown",
   "metadata": {},
   "source": [
    "### Evaluation Metrics"
   ]
  },
  {
   "cell_type": "code",
   "execution_count": 106,
   "metadata": {},
   "outputs": [
    {
     "name": "stdout",
     "output_type": "stream",
     "text": [
      "[[1013  107]\n",
      " [ 260  340]]\n",
      "0.7866279069767442\n",
      "              precision    recall  f1-score   support\n",
      "\n",
      "           0       0.80      0.90      0.85      1120\n",
      "           1       0.76      0.57      0.65       600\n",
      "\n",
      "    accuracy                           0.79      1720\n",
      "   macro avg       0.78      0.74      0.75      1720\n",
      "weighted avg       0.78      0.79      0.78      1720\n",
      "\n"
     ]
    }
   ],
   "source": [
    "print(confusion_matrix(y_test,xg_predictions))\n",
    "print(accuracy_score(y_test,xg_predictions))\n",
    "print(classification_report(y_test,xg_predictions))"
   ]
  },
  {
   "cell_type": "code",
   "execution_count": 107,
   "metadata": {},
   "outputs": [
    {
     "data": {
      "text/plain": [
       "0.8888888888888888"
      ]
     },
     "execution_count": 107,
     "metadata": {},
     "output_type": "execute_result"
    }
   ],
   "source": [
    "xg_model.score(X_train,y_train)"
   ]
  },
  {
   "cell_type": "code",
   "execution_count": 70,
   "metadata": {},
   "outputs": [],
   "source": [
    "report = pd.DataFrame(y_test)"
   ]
  },
  {
   "cell_type": "code",
   "execution_count": 77,
   "metadata": {},
   "outputs": [],
   "source": [
    "report[\"Prediction\"]= xg_predictions"
   ]
  },
  {
   "cell_type": "code",
   "execution_count": 82,
   "metadata": {},
   "outputs": [],
   "source": [
    "report[\"Deal Cost\"] = X_test[\"Deal_Cost\"]"
   ]
  },
  {
   "cell_type": "code",
   "execution_count": 84,
   "metadata": {},
   "outputs": [],
   "source": [
    "report.to_csv(\"report1.csv\")"
   ]
  },
  {
   "cell_type": "code",
   "execution_count": null,
   "metadata": {},
   "outputs": [],
   "source": []
  }
 ],
 "metadata": {
  "kernelspec": {
   "display_name": "Python 3",
   "language": "python",
   "name": "python3"
  },
  "language_info": {
   "codemirror_mode": {
    "name": "ipython",
    "version": 3
   },
   "file_extension": ".py",
   "mimetype": "text/x-python",
   "name": "python",
   "nbconvert_exporter": "python",
   "pygments_lexer": "ipython3",
   "version": "3.7.9"
  }
 },
 "nbformat": 4,
 "nbformat_minor": 4
}
